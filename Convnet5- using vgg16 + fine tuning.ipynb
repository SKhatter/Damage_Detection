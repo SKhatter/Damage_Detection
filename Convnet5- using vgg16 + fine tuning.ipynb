{
 "cells": [
  {
   "cell_type": "code",
   "execution_count": 1,
   "metadata": {
    "collapsed": true
   },
   "outputs": [],
   "source": [
    "import os, shutil"
   ]
  },
  {
   "cell_type": "code",
   "execution_count": 2,
   "metadata": {
    "collapsed": true
   },
   "outputs": [],
   "source": [
    "base_dir = '/home/skhatter/Damage Detection'\n",
    "train_dir = '/home/skhatter/Damage Detection/train'\n",
    "valid_dir = '/home/skhatter/Damage Detection/validation'\n",
    "test_dir = '/home/skhatter/Damage Detection/test'\n",
    "\n",
    "train_dam_dir = '/home/skhatter/Damage Detection/train/damaged'\n",
    "train_undam_dir = '/home/skhatter/Damage Detection/train/undamaged'\n",
    "\n",
    "valid_dam_dir = '/home/skhatter/Damage Detection/validation/damaged'\n",
    "valid_undam_dir = '/home/skhatter/Damage Detection/validation/undamaged'\n",
    "\n",
    "test_dir = '/home/skhatter/Damage Detection/test'"
   ]
  },
  {
   "cell_type": "code",
   "execution_count": 3,
   "metadata": {},
   "outputs": [
    {
     "name": "stdout",
     "output_type": "stream",
     "text": [
      "Total training damaged images 102\n",
      "Total training undamaged images 141\n",
      "Total validation damaged images 10\n",
      "Total validation undamaged images 21\n",
      "Total test damaged images 2\n"
     ]
    }
   ],
   "source": [
    "print('Total training damaged images', len(os.listdir(train_dam_dir)))\n",
    "print('Total training undamaged images', len(os.listdir(train_undam_dir)))\n",
    "\n",
    "print('Total validation damaged images', len(os.listdir(valid_dam_dir)))\n",
    "print('Total validation undamaged images', len(os.listdir(valid_undam_dir)))\n",
    "\n",
    "print('Total test damaged images', len(os.listdir(test_dir)))"
   ]
  },
  {
   "cell_type": "code",
   "execution_count": 4,
   "metadata": {},
   "outputs": [
    {
     "name": "stderr",
     "output_type": "stream",
     "text": [
      "Using TensorFlow backend.\n"
     ]
    }
   ],
   "source": [
    "from keras.applications import VGG16"
   ]
  },
  {
   "cell_type": "code",
   "execution_count": 5,
   "metadata": {
    "collapsed": true,
    "scrolled": false
   },
   "outputs": [],
   "source": [
    "conv_base = VGG16(weights='imagenet', include_top=False, \n",
    "                  input_shape=(512,512,3))"
   ]
  },
  {
   "cell_type": "code",
   "execution_count": 6,
   "metadata": {},
   "outputs": [
    {
     "name": "stdout",
     "output_type": "stream",
     "text": [
      "_________________________________________________________________\n",
      "Layer (type)                 Output Shape              Param #   \n",
      "=================================================================\n",
      "input_1 (InputLayer)         (None, 512, 512, 3)       0         \n",
      "_________________________________________________________________\n",
      "block1_conv1 (Conv2D)        (None, 512, 512, 64)      1792      \n",
      "_________________________________________________________________\n",
      "block1_conv2 (Conv2D)        (None, 512, 512, 64)      36928     \n",
      "_________________________________________________________________\n",
      "block1_pool (MaxPooling2D)   (None, 256, 256, 64)      0         \n",
      "_________________________________________________________________\n",
      "block2_conv1 (Conv2D)        (None, 256, 256, 128)     73856     \n",
      "_________________________________________________________________\n",
      "block2_conv2 (Conv2D)        (None, 256, 256, 128)     147584    \n",
      "_________________________________________________________________\n",
      "block2_pool (MaxPooling2D)   (None, 128, 128, 128)     0         \n",
      "_________________________________________________________________\n",
      "block3_conv1 (Conv2D)        (None, 128, 128, 256)     295168    \n",
      "_________________________________________________________________\n",
      "block3_conv2 (Conv2D)        (None, 128, 128, 256)     590080    \n",
      "_________________________________________________________________\n",
      "block3_conv3 (Conv2D)        (None, 128, 128, 256)     590080    \n",
      "_________________________________________________________________\n",
      "block3_pool (MaxPooling2D)   (None, 64, 64, 256)       0         \n",
      "_________________________________________________________________\n",
      "block4_conv1 (Conv2D)        (None, 64, 64, 512)       1180160   \n",
      "_________________________________________________________________\n",
      "block4_conv2 (Conv2D)        (None, 64, 64, 512)       2359808   \n",
      "_________________________________________________________________\n",
      "block4_conv3 (Conv2D)        (None, 64, 64, 512)       2359808   \n",
      "_________________________________________________________________\n",
      "block4_pool (MaxPooling2D)   (None, 32, 32, 512)       0         \n",
      "_________________________________________________________________\n",
      "block5_conv1 (Conv2D)        (None, 32, 32, 512)       2359808   \n",
      "_________________________________________________________________\n",
      "block5_conv2 (Conv2D)        (None, 32, 32, 512)       2359808   \n",
      "_________________________________________________________________\n",
      "block5_conv3 (Conv2D)        (None, 32, 32, 512)       2359808   \n",
      "_________________________________________________________________\n",
      "block5_pool (MaxPooling2D)   (None, 16, 16, 512)       0         \n",
      "=================================================================\n",
      "Total params: 14,714,688\n",
      "Trainable params: 14,714,688\n",
      "Non-trainable params: 0\n",
      "_________________________________________________________________\n"
     ]
    }
   ],
   "source": [
    "conv_base.summary()"
   ]
  },
  {
   "cell_type": "code",
   "execution_count": 7,
   "metadata": {},
   "outputs": [
    {
     "name": "stdout",
     "output_type": "stream",
     "text": [
      "_________________________________________________________________\n",
      "Layer (type)                 Output Shape              Param #   \n",
      "=================================================================\n",
      "vgg16 (Model)                (None, 16, 16, 512)       14714688  \n",
      "_________________________________________________________________\n",
      "flatten_1 (Flatten)          (None, 131072)            0         \n",
      "_________________________________________________________________\n",
      "dense_1 (Dense)              (None, 256)               33554688  \n",
      "_________________________________________________________________\n",
      "dropout_1 (Dropout)          (None, 256)               0         \n",
      "_________________________________________________________________\n",
      "dense_2 (Dense)              (None, 1)                 257       \n",
      "=================================================================\n",
      "Total params: 48,269,633\n",
      "Trainable params: 48,269,633\n",
      "Non-trainable params: 0\n",
      "_________________________________________________________________\n"
     ]
    }
   ],
   "source": [
    "from keras import models\n",
    "from keras import layers\n",
    "from keras import optimizers\n",
    "\n",
    "model = models.Sequential()\n",
    "model.add(conv_base)\n",
    "model.add(layers.Flatten())\n",
    "model.add(layers.Dense(256, activation='relu'))\n",
    "model.add(layers.Dropout(0.5))\n",
    "model.add(layers.Dense(1, activation='sigmoid'))\n",
    "model.summary()\n"
   ]
  },
  {
   "cell_type": "code",
   "execution_count": 8,
   "metadata": {},
   "outputs": [
    {
     "name": "stdout",
     "output_type": "stream",
     "text": [
      "this is the number of trainable weightsbefore freezing the conv base 30\n",
      "this is the number of trainable weights afterfreezing the conv base 30\n"
     ]
    }
   ],
   "source": [
    "print('this is the number of trainable weights'\n",
    "     'before freezing the conv base', len(model.trainable_weights))\n",
    "#conv_base.trainable = False\n",
    "\n",
    "#Fine tune the last 3 convolutional layers\n",
    "#therefore all layers up until block4_pool are frozen\n",
    "\n",
    "conv_base.trainable = True\n",
    "\n",
    "set_trainable = False\n",
    "for layer in conv_base.layers:\n",
    "    if layer.name == 'block5_conv1':\n",
    "        set_trainable = True\n",
    "        \n",
    "        if set_trainable:\n",
    "            layer.trainable = True\n",
    "        else:\n",
    "            layer.trainable = False\n",
    "                \n",
    "\n",
    "\n",
    "print('this is the number of trainable weights after'\n",
    "      'freezing the conv base', len(model.trainable_weights))"
   ]
  },
  {
   "cell_type": "code",
   "execution_count": 9,
   "metadata": {},
   "outputs": [
    {
     "name": "stdout",
     "output_type": "stream",
     "text": [
      "Found 243 images belonging to 2 classes.\n",
      "Found 31 images belonging to 2 classes.\n"
     ]
    }
   ],
   "source": [
    "from keras.preprocessing.image import ImageDataGenerator\n",
    "\n",
    "train_datagen = ImageDataGenerator(rotation_range=40, \n",
    "                                  width_shift_range=0.2,\n",
    "                                  height_shift_range=0.2,\n",
    "                                  shear_range=0.2,\n",
    "                                  zoom_range=0.2,\n",
    "                                  horizontal_flip=True,\n",
    "                                  fill_mode='nearest')\n",
    "\n",
    "test_datagen = ImageDataGenerator(rescale=1./255)\n",
    "\n",
    "train_generator = train_datagen.flow_from_directory(train_dir,\n",
    "                                                   target_size=(512,512),\n",
    "                                                   batch_size=5,\n",
    "                                                   class_mode='binary')\n",
    "\n",
    "validation_generator = test_datagen.flow_from_directory(valid_dir,\n",
    "                                                       target_size=(512,512),\n",
    "                                                       batch_size=5,\n",
    "                                                       class_mode='binary')"
   ]
  },
  {
   "cell_type": "code",
   "execution_count": 10,
   "metadata": {
    "scrolled": false
   },
   "outputs": [
    {
     "name": "stdout",
     "output_type": "stream",
     "text": [
      "Epoch 1/50\n",
      "50/50 [==============================] - 33s - loss: 6.6010 - acc: 0.5747 - val_loss: 1.5582 - val_acc: 0.6726\n",
      "Epoch 2/50\n",
      "50/50 [==============================] - 28s - loss: 6.9078 - acc: 0.5667 - val_loss: 1.5701 - val_acc: 0.6726\n",
      "Epoch 3/50\n",
      "50/50 [==============================] - 29s - loss: 6.5668 - acc: 0.5881 - val_loss: 1.4790 - val_acc: 0.6903\n",
      "Epoch 4/50\n",
      "50/50 [==============================] - 29s - loss: 6.6969 - acc: 0.5799 - val_loss: 1.5239 - val_acc: 0.6814\n",
      "Epoch 5/50\n",
      "50/50 [==============================] - 29s - loss: 6.7385 - acc: 0.5773 - val_loss: 1.5175 - val_acc: 0.6814\n",
      "Epoch 6/50\n",
      "50/50 [==============================] - 30s - loss: 6.7164 - acc: 0.5787 - val_loss: 1.4793 - val_acc: 0.6903\n",
      "Epoch 7/50\n",
      "50/50 [==============================] - 30s - loss: 6.5693 - acc: 0.5879 - val_loss: 1.5226 - val_acc: 0.6814\n",
      "Epoch 8/50\n",
      "50/50 [==============================] - 30s - loss: 6.9078 - acc: 0.5667 - val_loss: 1.4786 - val_acc: 0.6903\n",
      "Epoch 9/50\n",
      "50/50 [==============================] - 30s - loss: 6.5693 - acc: 0.5879 - val_loss: 1.6032 - val_acc: 0.6637\n",
      "Epoch 10/50\n",
      "50/50 [==============================] - 30s - loss: 6.6110 - acc: 0.5853 - val_loss: 1.5169 - val_acc: 0.6814\n",
      "Epoch 11/50\n",
      "50/50 [==============================] - 30s - loss: 6.8023 - acc: 0.5733 - val_loss: 1.4725 - val_acc: 0.6903\n",
      "Epoch 12/50\n",
      "50/50 [==============================] - 30s - loss: 6.3338 - acc: 0.6027 - val_loss: 1.5232 - val_acc: 0.6814\n",
      "Epoch 13/50\n",
      "50/50 [==============================] - 30s - loss: 6.9937 - acc: 0.5613 - val_loss: 1.6099 - val_acc: 0.6637\n",
      "Epoch 14/50\n",
      "50/50 [==============================] - 30s - loss: 6.9716 - acc: 0.5627 - val_loss: 1.5715 - val_acc: 0.6726\n",
      "Epoch 15/50\n",
      "50/50 [==============================] - 30s - loss: 6.4196 - acc: 0.5973 - val_loss: 1.6024 - val_acc: 0.6637\n",
      "Epoch 16/50\n",
      "50/50 [==============================] - 30s - loss: 6.9716 - acc: 0.5627 - val_loss: 1.5229 - val_acc: 0.6814\n",
      "Epoch 17/50\n",
      "50/50 [==============================] - 30s - loss: 6.5889 - acc: 0.5867 - val_loss: 1.5593 - val_acc: 0.6726\n",
      "Epoch 18/50\n",
      "50/50 [==============================] - 30s - loss: 6.8023 - acc: 0.5733 - val_loss: 1.5164 - val_acc: 0.6814\n",
      "Epoch 19/50\n",
      "50/50 [==============================] - 30s - loss: 6.1337 - acc: 0.6041 - val_loss: 0.9558 - val_acc: 0.6903\n",
      "Epoch 20/50\n",
      "50/50 [==============================] - 30s - loss: 6.9299 - acc: 0.5653 - val_loss: 0.9780 - val_acc: 0.6814\n",
      "Epoch 21/50\n",
      "50/50 [==============================] - 30s - loss: 6.5251 - acc: 0.5907 - val_loss: 1.0338 - val_acc: 0.6637\n",
      "Epoch 22/50\n",
      "50/50 [==============================] - 30s - loss: 7.0158 - acc: 0.5599 - val_loss: 0.8998 - val_acc: 0.7080\n",
      "Epoch 23/50\n",
      "50/50 [==============================] - 30s - loss: 6.6110 - acc: 0.5853 - val_loss: 0.9815 - val_acc: 0.6814\n",
      "Epoch 24/50\n",
      "50/50 [==============================] - 30s - loss: 6.6527 - acc: 0.5827 - val_loss: 1.0073 - val_acc: 0.6726\n",
      "Epoch 25/50\n",
      "50/50 [==============================] - 30s - loss: 6.4834 - acc: 0.5933 - val_loss: 0.9786 - val_acc: 0.6814\n",
      "Epoch 26/50\n",
      "50/50 [==============================] - 30s - loss: 6.4196 - acc: 0.5973 - val_loss: 1.0049 - val_acc: 0.6726\n",
      "Epoch 27/50\n",
      "50/50 [==============================] - 30s - loss: 7.5456 - acc: 0.5267 - val_loss: 0.9820 - val_acc: 0.6814\n",
      "Epoch 28/50\n",
      "50/50 [==============================] - 30s - loss: 6.3142 - acc: 0.6039 - val_loss: 1.0316 - val_acc: 0.6637\n",
      "Epoch 29/50\n",
      "50/50 [==============================] - 30s - loss: 6.2504 - acc: 0.6079 - val_loss: 1.0082 - val_acc: 0.6726\n",
      "Epoch 30/50\n",
      "50/50 [==============================] - 30s - loss: 7.3959 - acc: 0.5361 - val_loss: 1.0082 - val_acc: 0.6726\n",
      "Epoch 31/50\n",
      "50/50 [==============================] - 30s - loss: 5.9928 - acc: 0.6241 - val_loss: 0.9527 - val_acc: 0.6903\n",
      "Epoch 32/50\n",
      "50/50 [==============================] - 30s - loss: 6.5995 - acc: 0.5719 - val_loss: 1.7550 - val_acc: 0.6903\n",
      "Epoch 33/50\n",
      "50/50 [==============================] - 30s - loss: 7.0574 - acc: 0.5573 - val_loss: 1.8055 - val_acc: 0.6814\n",
      "Epoch 34/50\n",
      "50/50 [==============================] - 30s - loss: 6.2921 - acc: 0.6053 - val_loss: 1.8558 - val_acc: 0.6726\n",
      "Epoch 35/50\n",
      "50/50 [==============================] - 30s - loss: 7.0132 - acc: 0.5601 - val_loss: 1.8055 - val_acc: 0.6814\n",
      "Epoch 36/50\n",
      "50/50 [==============================] - 30s - loss: 6.5889 - acc: 0.5867 - val_loss: 1.8556 - val_acc: 0.6726\n",
      "Epoch 37/50\n",
      "50/50 [==============================] - 30s - loss: 6.9299 - acc: 0.5653 - val_loss: 1.8555 - val_acc: 0.6726\n",
      "Epoch 38/50\n",
      "50/50 [==============================] - 30s - loss: 6.5472 - acc: 0.5893 - val_loss: 1.7542 - val_acc: 0.6903\n",
      "Epoch 39/50\n",
      "50/50 [==============================] - 30s - loss: 6.6221 - acc: 0.5773 - val_loss: 0.9827 - val_acc: 0.6726\n",
      "Epoch 40/50\n",
      "50/50 [==============================] - 30s - loss: 0.7838 - acc: 0.5267 - val_loss: 1.4378 - val_acc: 0.6726\n",
      "Epoch 41/50\n",
      "50/50 [==============================] - 30s - loss: 0.7070 - acc: 0.5267 - val_loss: 1.1650 - val_acc: 0.6903\n",
      "Epoch 42/50\n",
      "50/50 [==============================] - 30s - loss: 2.2900 - acc: 0.5773 - val_loss: 1.6818 - val_acc: 0.6903\n",
      "Epoch 43/50\n",
      "50/50 [==============================] - 30s - loss: 6.3338 - acc: 0.6027 - val_loss: 1.8276 - val_acc: 0.6637\n",
      "Epoch 44/50\n",
      "50/50 [==============================] - 30s - loss: 6.8440 - acc: 0.5707 - val_loss: 1.6494 - val_acc: 0.6991\n",
      "Epoch 45/50\n",
      "50/50 [==============================] - 30s - loss: 6.7164 - acc: 0.5787 - val_loss: 1.7806 - val_acc: 0.6726\n",
      "Epoch 46/50\n",
      "50/50 [==============================] - 30s - loss: 6.7385 - acc: 0.5773 - val_loss: 1.8826 - val_acc: 0.6549\n",
      "Epoch 47/50\n",
      "50/50 [==============================] - 30s - loss: 6.6527 - acc: 0.5827 - val_loss: 1.7378 - val_acc: 0.6814\n",
      "Epoch 48/50\n",
      "50/50 [==============================] - 30s - loss: 6.8023 - acc: 0.5733 - val_loss: 1.8363 - val_acc: 0.6637\n",
      "Epoch 49/50\n",
      "50/50 [==============================] - 30s - loss: 6.6954 - acc: 0.5800 - val_loss: 1.6404 - val_acc: 0.6991\n",
      "Epoch 50/50\n",
      "50/50 [==============================] - 30s - loss: 6.6110 - acc: 0.5853 - val_loss: 1.8272 - val_acc: 0.6637\n"
     ]
    }
   ],
   "source": [
    "model.compile(optimizer=optimizers.RMSprop(lr=1e-4),\n",
    "             loss='binary_crossentropy',\n",
    "             metrics=['acc'])\n",
    "\n",
    "\n",
    "history = model.fit_generator(train_generator, \n",
    "                              steps_per_epoch=50,\n",
    "                              epochs=50,  \n",
    "                    validation_data=validation_generator,\n",
    "                              validation_steps=25)"
   ]
  },
  {
   "cell_type": "code",
   "execution_count": 14,
   "metadata": {
    "scrolled": false
   },
   "outputs": [
    {
     "name": "stdout",
     "output_type": "stream",
     "text": [
      "dict_keys(['val_loss', 'val_acc', 'loss', 'acc'])\n"
     ]
    }
   ],
   "source": [
    "history_dict = history.history\n",
    "print(history_dict.keys())\n",
    "\n",
    "model.save('damage_undamaged_conv5_vgg.h5')"
   ]
  },
  {
   "cell_type": "code",
   "execution_count": 12,
   "metadata": {
    "collapsed": true
   },
   "outputs": [],
   "source": [
    "def smooth_curve(points, factor=0.8):\n",
    "    smoothed_points = []\n",
    "    for point in points:\n",
    "        if smoothed_points:\n",
    "            previous = smoothed_points[-1]\n",
    "            smoothed_points.append(previous * factor + point * (1 - factor))\n",
    "        else:\n",
    "            smoothed_points.append(point)\n",
    "    return smoothed_points"
   ]
  },
  {
   "cell_type": "code",
   "execution_count": 13,
   "metadata": {},
   "outputs": [
    {
     "data": {
      "image/png": "[encoded data removed]",
      "text/plain": [
       "<matplotlib.figure.Figure at 0x7fb881dad2b0>"
      ]
     },
     "metadata": {},
     "output_type": "display_data"
    },
    {
     "data": {
      "image/png": "[encoded data removed]",
      "text/plain": [
       "<matplotlib.figure.Figure at 0x7fb87c04f160>"
      ]
     },
     "metadata": {},
     "output_type": "display_data"
    }
   ],
   "source": [
    "#Displaying curves of loss and accuracy during training \n",
    "\n",
    "import matplotlib.pyplot as plt\n",
    "acc = history.history['acc']\n",
    "val_acc = history.history['val_acc']\n",
    "loss = history.history['loss']\n",
    "val_loss = history.history['val_loss']\n",
    "\n",
    "epochs = range(len(acc))\n",
    "\n",
    "plt.plot(epochs, smooth_curve(acc), 'bo')#dots\n",
    "plt.plot(epochs, smooth_curve(val_acc), 'b')#line segments\n",
    "plt.title('Training and validation accuracy')\n",
    "plt.figure()\n",
    "\n",
    "plt.plot(epochs, smooth_curve(loss), 'bo')\n",
    "plt.plot(epochs, smooth_curve(val_loss), 'b')\n",
    "plt.title('Training and validation loss')\n",
    "plt.show()"
   ]
  },
  {
   "cell_type": "code",
   "execution_count": 15,
   "metadata": {},
   "outputs": [
    {
     "name": "stdout",
     "output_type": "stream",
     "text": [
      "Epoch 1/50\n",
      "30/30 [==============================] - 18s - loss: 6.1644 - acc: 0.6133 - val_loss: 1.8363 - val_acc: 0.6637\n",
      "Epoch 2/50\n",
      "30/30 [==============================] - 17s - loss: 6.5546 - acc: 0.5889 - val_loss: 1.7899 - val_acc: 0.6726\n",
      "Epoch 3/50\n",
      "30/30 [==============================] - 18s - loss: 6.7295 - acc: 0.5779 - val_loss: 1.7892 - val_acc: 0.6726\n",
      "Epoch 4/50\n",
      "30/30 [==============================] - 18s - loss: 6.5895 - acc: 0.5867 - val_loss: 1.7901 - val_acc: 0.6726\n",
      "Epoch 5/50\n",
      "30/30 [==============================] - 19s - loss: 6.6232 - acc: 0.5846 - val_loss: 1.5972 - val_acc: 0.7080\n",
      "Epoch 6/50\n",
      "30/30 [==============================] - 19s - loss: 6.5895 - acc: 0.5867 - val_loss: 1.7812 - val_acc: 0.6726\n",
      "Epoch 7/50\n",
      "30/30 [==============================] - 19s - loss: 7.0108 - acc: 0.5602 - val_loss: 1.8276 - val_acc: 0.6637\n",
      "Epoch 8/50\n",
      "30/30 [==============================] - 19s - loss: 6.4861 - acc: 0.5932 - val_loss: 1.7897 - val_acc: 0.6726\n",
      "Epoch 9/50\n",
      "30/30 [==============================] - 19s - loss: 6.3770 - acc: 0.6000 - val_loss: 1.7896 - val_acc: 0.6726\n",
      "Epoch 10/50\n",
      "30/30 [==============================] - 19s - loss: 7.4361 - acc: 0.5336 - val_loss: 1.7898 - val_acc: 0.6726\n",
      "Epoch 11/50\n",
      "30/30 [==============================] - 19s - loss: 6.8021 - acc: 0.5733 - val_loss: 1.6960 - val_acc: 0.6903\n",
      "Epoch 12/50\n",
      "30/30 [==============================] - 19s - loss: 6.6610 - acc: 0.5822 - val_loss: 1.7813 - val_acc: 0.6726\n",
      "Epoch 13/50\n",
      "30/30 [==============================] - 19s - loss: 6.3042 - acc: 0.6046 - val_loss: 1.7891 - val_acc: 0.6726\n",
      "Epoch 14/50\n",
      "30/30 [==============================] - 19s - loss: 7.5461 - acc: 0.5267 - val_loss: 1.7844 - val_acc: 0.6726\n",
      "Epoch 15/50\n",
      "30/30 [==============================] - 19s - loss: 5.8411 - acc: 0.6336 - val_loss: 1.7286 - val_acc: 0.6814\n",
      "Epoch 16/50\n",
      "30/30 [==============================] - 19s - loss: 7.1926 - acc: 0.5488 - val_loss: 1.6496 - val_acc: 0.6991\n",
      "Epoch 17/50\n",
      "30/30 [==============================] - 19s - loss: 6.8021 - acc: 0.5733 - val_loss: 1.8360 - val_acc: 0.6637\n",
      "Epoch 18/50\n",
      "30/30 [==============================] - 19s - loss: 6.6987 - acc: 0.5798 - val_loss: 1.7892 - val_acc: 0.6726\n",
      "Epoch 19/50\n",
      "30/30 [==============================] - 19s - loss: 6.4832 - acc: 0.5933 - val_loss: 1.8366 - val_acc: 0.6637\n",
      "Epoch 20/50\n",
      "30/30 [==============================] - 19s - loss: 6.6610 - acc: 0.5822 - val_loss: 1.7338 - val_acc: 0.6814\n",
      "Epoch 21/50\n",
      "30/30 [==============================] - 19s - loss: 6.7673 - acc: 0.5755 - val_loss: 1.7894 - val_acc: 0.6726\n",
      "Epoch 22/50\n",
      "30/30 [==============================] - 19s - loss: 6.9084 - acc: 0.5667 - val_loss: 1.7340 - val_acc: 0.6814\n",
      "Epoch 23/50\n",
      "30/30 [==============================] - 19s - loss: 6.0230 - acc: 0.6222 - val_loss: 1.5886 - val_acc: 0.7080\n",
      "Epoch 24/50\n",
      "30/30 [==============================] - 19s - loss: 6.9084 - acc: 0.5667 - val_loss: 1.7335 - val_acc: 0.6814\n",
      "Epoch 25/50\n",
      "30/30 [==============================] - 19s - loss: 6.8736 - acc: 0.5688 - val_loss: 1.8367 - val_acc: 0.6637\n",
      "Epoch 26/50\n",
      "30/30 [==============================] - 19s - loss: 6.4105 - acc: 0.5979 - val_loss: 1.6879 - val_acc: 0.6903\n",
      "Epoch 27/50\n",
      "30/30 [==============================] - 19s - loss: 7.2272 - acc: 0.5467 - val_loss: 1.8270 - val_acc: 0.6637\n",
      "Epoch 28/50\n",
      "30/30 [==============================] - 19s - loss: 6.8359 - acc: 0.5712 - val_loss: 1.7806 - val_acc: 0.6726\n",
      "Epoch 29/50\n",
      "30/30 [==============================] - 19s - loss: 6.4832 - acc: 0.5933 - val_loss: 1.7899 - val_acc: 0.6726\n",
      "Epoch 30/50\n",
      "30/30 [==============================] - 19s - loss: 6.8050 - acc: 0.5731 - val_loss: 1.7430 - val_acc: 0.6814\n",
      "Epoch 31/50\n",
      "30/30 [==============================] - 19s - loss: 6.3420 - acc: 0.6022 - val_loss: 1.8359 - val_acc: 0.6637\n",
      "Epoch 32/50\n",
      "30/30 [==============================] - 19s - loss: 6.9084 - acc: 0.5667 - val_loss: 1.7431 - val_acc: 0.6814\n",
      "Epoch 33/50\n",
      "30/30 [==============================] - 19s - loss: 6.3420 - acc: 0.6022 - val_loss: 1.7369 - val_acc: 0.6814\n",
      "Epoch 34/50\n",
      "30/30 [==============================] - 19s - loss: 7.0177 - acc: 0.5598 - val_loss: 1.8367 - val_acc: 0.6637\n",
      "Epoch 35/50\n",
      "30/30 [==============================] - 19s - loss: 6.0581 - acc: 0.6200 - val_loss: 1.7894 - val_acc: 0.6726\n",
      "Epoch 36/50\n",
      "30/30 [==============================] - 19s - loss: 6.4105 - acc: 0.5979 - val_loss: 1.8307 - val_acc: 0.6637\n",
      "Epoch 37/50\n",
      "30/30 [==============================] - 19s - loss: 7.2272 - acc: 0.5467 - val_loss: 1.6355 - val_acc: 0.6991\n",
      "Epoch 38/50\n",
      "30/30 [==============================] - 19s - loss: 6.4105 - acc: 0.5979 - val_loss: 1.7433 - val_acc: 0.6814\n",
      "Epoch 39/50\n",
      "30/30 [==============================] - 19s - loss: 7.1548 - acc: 0.5512 - val_loss: 1.7427 - val_acc: 0.6814\n",
      "Epoch 40/50\n",
      "30/30 [==============================] - 19s - loss: 6.9084 - acc: 0.5667 - val_loss: 1.7894 - val_acc: 0.6726\n",
      "Epoch 41/50\n",
      "30/30 [==============================] - 19s - loss: 6.3420 - acc: 0.6022 - val_loss: 1.6962 - val_acc: 0.6903\n",
      "Epoch 42/50\n",
      "30/30 [==============================] - 19s - loss: 6.8021 - acc: 0.5733 - val_loss: 1.7375 - val_acc: 0.6814\n",
      "Epoch 43/50\n",
      "30/30 [==============================] - 19s - loss: 6.8359 - acc: 0.5712 - val_loss: 1.8305 - val_acc: 0.6637\n",
      "Epoch 44/50\n",
      "30/30 [==============================] - 19s - loss: 6.2665 - acc: 0.6069 - val_loss: 1.7423 - val_acc: 0.6814\n",
      "Epoch 45/50\n",
      "30/30 [==============================] - 19s - loss: 7.6523 - acc: 0.5200 - val_loss: 1.8830 - val_acc: 0.6549\n",
      "Epoch 46/50\n",
      "30/30 [==============================] - 19s - loss: 6.3042 - acc: 0.6046 - val_loss: 1.7426 - val_acc: 0.6814\n",
      "Epoch 47/50\n",
      "30/30 [==============================] - 19s - loss: 6.7295 - acc: 0.5779 - val_loss: 1.7337 - val_acc: 0.6814\n",
      "Epoch 48/50\n",
      "30/30 [==============================] - 19s - loss: 6.5895 - acc: 0.5867 - val_loss: 1.6905 - val_acc: 0.6903\n",
      "Epoch 49/50\n",
      "30/30 [==============================] - 19s - loss: 7.7928 - acc: 0.5112 - val_loss: 1.8830 - val_acc: 0.6549\n",
      "Epoch 50/50\n",
      "30/30 [==============================] - 19s - loss: 6.2707 - acc: 0.6067 - val_loss: 1.7812 - val_acc: 0.6726\n",
      "dict_keys(['val_loss', 'val_acc', 'loss', 'acc'])\n"
     ]
    }
   ],
   "source": [
    "history = model.fit_generator(train_generator, \n",
    "                              steps_per_epoch=30,\n",
    "                              epochs=50,  \n",
    "                    validation_data=validation_generator,\n",
    "                              validation_steps=25)\n",
    "\n",
    "history_dict = history.history\n",
    "print(history_dict.keys())\n",
    "\n",
    "model.save('damage_undamaged_conv5_2_vgg.h5')"
   ]
  },
  {
   "cell_type": "code",
   "execution_count": 16,
   "metadata": {},
   "outputs": [
    {
     "data": {
      "image/png": "[encoded data removed]",
      "text/plain": [
       "<matplotlib.figure.Figure at 0x7fb868041588>"
      ]
     },
     "metadata": {},
     "output_type": "display_data"
    },
    {
     "data": {
      "image/png": "[encoded data removed]",
      "text/plain": [
       "<matplotlib.figure.Figure at 0x7fb858adb080>"
      ]
     },
     "metadata": {},
     "output_type": "display_data"
    }
   ],
   "source": [
    "#Displaying curves of loss and accuracy during training \n",
    "\n",
    "import matplotlib.pyplot as plt\n",
    "acc = history.history['acc']\n",
    "val_acc = history.history['val_acc']\n",
    "loss = history.history['loss']\n",
    "val_loss = history.history['val_loss']\n",
    "\n",
    "epochs = range(len(acc))\n",
    "\n",
    "plt.plot(epochs, smooth_curve(acc), 'bo')#dots\n",
    "plt.plot(epochs, smooth_curve(val_acc), 'b')#line segments\n",
    "plt.title('Training and validation accuracy')\n",
    "plt.figure()\n",
    "\n",
    "plt.plot(epochs, smooth_curve(loss), 'bo')\n",
    "plt.plot(epochs, smooth_curve(val_loss), 'b')\n",
    "plt.title('Training and validation loss')\n",
    "plt.show()"
   ]
  },
  {
   "cell_type": "code",
   "execution_count": null,
   "metadata": {
    "collapsed": true
   },
   "outputs": [],
   "source": []
  }
 ],
 "metadata": {
  "kernelspec": {
   "display_name": "Python 3",
   "language": "python",
   "name": "python3"
  },
  "language_info": {
   "codemirror_mode": {
    "name": "ipython",
    "version": 3
   },
   "file_extension": ".py",
   "mimetype": "text/x-python",
   "name": "python",
   "nbconvert_exporter": "python",
   "pygments_lexer": "ipython3",
   "version": "3.6.1"
  }
 },
 "nbformat": 4,
 "nbformat_minor": 2
}
