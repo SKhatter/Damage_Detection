{
 "cells": [
  {
   "cell_type": "code",
   "execution_count": 1,
   "metadata": {
    "collapsed": true
   },
   "outputs": [],
   "source": [
    "import os, shutil"
   ]
  },
  {
   "cell_type": "code",
   "execution_count": 2,
   "metadata": {
    "collapsed": true
   },
   "outputs": [],
   "source": [
    "base_dir = '/home/skhatter/Damage Detection'\n",
    "train_dir = '/home/skhatter/Damage Detection/train'\n",
    "valid_dir = '/home/skhatter/Damage Detection/validation'\n",
    "test_dir = '/home/skhatter/Damage Detection/test'\n",
    "\n",
    "train_dam_dir = '/home/skhatter/Damage Detection/train/damaged'\n",
    "train_undam_dir = '/home/skhatter/Damage Detection/train/undamaged'\n",
    "\n",
    "valid_dam_dir = '/home/skhatter/Damage Detection/validation/damaged'\n",
    "valid_undam_dir = '/home/skhatter/Damage Detection/validation/undamaged'\n",
    "\n",
    "test_dir = '/home/skhatter/Damage Detection/test'"
   ]
  },
  {
   "cell_type": "code",
   "execution_count": 3,
   "metadata": {},
   "outputs": [
    {
     "name": "stdout",
     "output_type": "stream",
     "text": [
      "Total training damaged images 102\n",
      "Total training undamaged images 141\n",
      "Total validation damaged images 10\n",
      "Total validation undamaged images 21\n",
      "Total test damaged images 2\n"
     ]
    }
   ],
   "source": [
    "print('Total training damaged images', len(os.listdir(train_dam_dir)))\n",
    "print('Total training undamaged images', len(os.listdir(train_undam_dir)))\n",
    "\n",
    "print('Total validation damaged images', len(os.listdir(valid_dam_dir)))\n",
    "print('Total validation undamaged images', len(os.listdir(valid_undam_dir)))\n",
    "\n",
    "print('Total test damaged images', len(os.listdir(test_dir)))"
   ]
  },
  {
   "cell_type": "code",
   "execution_count": 4,
   "metadata": {},
   "outputs": [
    {
     "name": "stderr",
     "output_type": "stream",
     "text": [
      "Using TensorFlow backend.\n"
     ]
    }
   ],
   "source": [
    "from keras import layers\n",
    "from keras import models\n",
    "from keras.applications import VGG16"
   ]
  },
  {
   "cell_type": "code",
   "execution_count": 5,
   "metadata": {},
   "outputs": [
    {
     "name": "stdout",
     "output_type": "stream",
     "text": [
      "_________________________________________________________________\n",
      "Layer (type)                 Output Shape              Param #   \n",
      "=================================================================\n",
      "input_1 (InputLayer)         (None, 512, 512, 3)       0         \n",
      "_________________________________________________________________\n",
      "block1_conv1 (Conv2D)        (None, 512, 512, 64)      1792      \n",
      "_________________________________________________________________\n",
      "block1_conv2 (Conv2D)        (None, 512, 512, 64)      36928     \n",
      "_________________________________________________________________\n",
      "block1_pool (MaxPooling2D)   (None, 256, 256, 64)      0         \n",
      "_________________________________________________________________\n",
      "block2_conv1 (Conv2D)        (None, 256, 256, 128)     73856     \n",
      "_________________________________________________________________\n",
      "block2_conv2 (Conv2D)        (None, 256, 256, 128)     147584    \n",
      "_________________________________________________________________\n",
      "block2_pool (MaxPooling2D)   (None, 128, 128, 128)     0         \n",
      "_________________________________________________________________\n",
      "block3_conv1 (Conv2D)        (None, 128, 128, 256)     295168    \n",
      "_________________________________________________________________\n",
      "block3_conv2 (Conv2D)        (None, 128, 128, 256)     590080    \n",
      "_________________________________________________________________\n",
      "block3_conv3 (Conv2D)        (None, 128, 128, 256)     590080    \n",
      "_________________________________________________________________\n",
      "block3_pool (MaxPooling2D)   (None, 64, 64, 256)       0         \n",
      "_________________________________________________________________\n",
      "block4_conv1 (Conv2D)        (None, 64, 64, 512)       1180160   \n",
      "_________________________________________________________________\n",
      "block4_conv2 (Conv2D)        (None, 64, 64, 512)       2359808   \n",
      "_________________________________________________________________\n",
      "block4_conv3 (Conv2D)        (None, 64, 64, 512)       2359808   \n",
      "_________________________________________________________________\n",
      "block4_pool (MaxPooling2D)   (None, 32, 32, 512)       0         \n",
      "_________________________________________________________________\n",
      "block5_conv1 (Conv2D)        (None, 32, 32, 512)       2359808   \n",
      "_________________________________________________________________\n",
      "block5_conv2 (Conv2D)        (None, 32, 32, 512)       2359808   \n",
      "_________________________________________________________________\n",
      "block5_conv3 (Conv2D)        (None, 32, 32, 512)       2359808   \n",
      "_________________________________________________________________\n",
      "block5_pool (MaxPooling2D)   (None, 16, 16, 512)       0         \n",
      "=================================================================\n",
      "Total params: 14,714,688\n",
      "Trainable params: 14,714,688\n",
      "Non-trainable params: 0\n",
      "_________________________________________________________________\n"
     ]
    }
   ],
   "source": [
    "conv_base = VGG16(weights = 'imagenet', include_top = False, input_shape=(512,512,3))\n",
    "conv_base.summary()"
   ]
  },
  {
   "cell_type": "code",
   "execution_count": 6,
   "metadata": {},
   "outputs": [
    {
     "name": "stdout",
     "output_type": "stream",
     "text": [
      "Found 243 images belonging to 2 classes.\n",
      "Found 31 images belonging to 2 classes.\n"
     ]
    }
   ],
   "source": [
    "from keras.preprocessing.image import ImageDataGenerator\n",
    "import numpy as np\n",
    "\n",
    "datagen = ImageDataGenerator(rescale = 1./255)\n",
    "batch_size = 5\n",
    "\n",
    "def extract_features(directory, sample_count):\n",
    "    features = np.zeros(shape=(sample_count,16,16,512 ))\n",
    "    labels = np.zeros(shape=(sample_count))\n",
    "    generator = datagen.flow_from_directory(directory, target_size=(512,512),\n",
    "                                           batch_size=batch_size, class_mode='binary')\n",
    "    i =0\n",
    "    for inputs_batch, labels_batch in generator:\n",
    "        features_batch = conv_base.predict(inputs_batch)\n",
    "        features[i * batch_size : (i + 1) * batch_size] = features_batch\n",
    "        labels[i * batch_size : (i + 1) * batch_size] = labels_batch\n",
    "        i += 1\n",
    "        if i * batch_size >= sample_count:\n",
    "            break\n",
    "    return features, labels\n",
    "\n",
    "train_features, train_labels = extract_features(train_dir, 243)\n",
    "validation_features, validation_labels = extract_features(valid_dir, 31)\n",
    "#test_features, test_labels = extract_features(test_dir, 2)        "
   ]
  },
  {
   "cell_type": "code",
   "execution_count": 7,
   "metadata": {
    "collapsed": true
   },
   "outputs": [],
   "source": [
    "train_features = np.reshape(train_features, (243, 16*16*512))\n",
    "validation_features = np.reshape(validation_features, (31, 16*16*512))"
   ]
  },
  {
   "cell_type": "code",
   "execution_count": 8,
   "metadata": {
    "collapsed": true
   },
   "outputs": [],
   "source": [
    "from keras import models\n",
    "from keras import layers\n",
    "from keras import optimizers\n",
    "\n",
    "model = models.Sequential()\n",
    "model.add(layers.Dense(256, activation='relu', input_dim=16*16*512))\n",
    "model.add(layers.Dropout(0.5))\n",
    "model.add(layers.Dense(1, activation='sigmoid'))\n",
    "\n",
    "model.compile(optimizer=optimizers.RMSprop(lr=1e-4),\n",
    "             loss='binary_crossentropy',\n",
    "             metrics=['acc'])"
   ]
  },
  {
   "cell_type": "code",
   "execution_count": 9,
   "metadata": {
    "scrolled": false
   },
   "outputs": [
    {
     "name": "stdout",
     "output_type": "stream",
     "text": [
      "Train on 243 samples, validate on 31 samples\n",
      "Epoch 1/100\n",
      "243/243 [==============================] - 1s - loss: 1.9985 - acc: 0.5432 - val_loss: 0.6501 - val_acc: 0.6774\n",
      "Epoch 2/100\n",
      "243/243 [==============================] - 1s - loss: 0.8211 - acc: 0.5597 - val_loss: 0.6096 - val_acc: 0.7742\n",
      "Epoch 3/100\n",
      "243/243 [==============================] - 0s - loss: 0.7092 - acc: 0.6049 - val_loss: 0.6243 - val_acc: 0.6452\n",
      "Epoch 4/100\n",
      "243/243 [==============================] - 1s - loss: 0.6434 - acc: 0.6173 - val_loss: 0.5696 - val_acc: 0.6452\n",
      "Epoch 5/100\n",
      "243/243 [==============================] - 0s - loss: 0.6656 - acc: 0.6543 - val_loss: 0.5754 - val_acc: 0.6452\n",
      "Epoch 6/100\n",
      "243/243 [==============================] - 1s - loss: 0.5676 - acc: 0.7078 - val_loss: 0.8064 - val_acc: 0.5484\n",
      "Epoch 7/100\n",
      "243/243 [==============================] - 1s - loss: 0.5597 - acc: 0.7202 - val_loss: 0.7972 - val_acc: 0.4516\n",
      "Epoch 8/100\n",
      "243/243 [==============================] - 1s - loss: 0.5038 - acc: 0.7531 - val_loss: 0.6900 - val_acc: 0.7097\n",
      "Epoch 9/100\n",
      "243/243 [==============================] - 0s - loss: 0.5374 - acc: 0.7243 - val_loss: 0.6095 - val_acc: 0.6452\n",
      "Epoch 10/100\n",
      "243/243 [==============================] - 1s - loss: 0.4488 - acc: 0.7984 - val_loss: 0.5831 - val_acc: 0.7742\n",
      "Epoch 11/100\n",
      "243/243 [==============================] - 1s - loss: 0.4091 - acc: 0.8025 - val_loss: 0.7003 - val_acc: 0.6129\n",
      "Epoch 12/100\n",
      "243/243 [==============================] - 1s - loss: 0.3976 - acc: 0.8436 - val_loss: 0.6492 - val_acc: 0.6452\n",
      "Epoch 13/100\n",
      "243/243 [==============================] - 0s - loss: 0.3979 - acc: 0.8025 - val_loss: 0.7840 - val_acc: 0.6129\n",
      "Epoch 14/100\n",
      "243/243 [==============================] - 0s - loss: 0.3591 - acc: 0.8683 - val_loss: 0.6514 - val_acc: 0.7419\n",
      "Epoch 15/100\n",
      "243/243 [==============================] - 0s - loss: 0.3521 - acc: 0.8313 - val_loss: 0.7912 - val_acc: 0.6129\n",
      "Epoch 16/100\n",
      "243/243 [==============================] - 1s - loss: 0.3284 - acc: 0.8683 - val_loss: 0.6910 - val_acc: 0.7419\n",
      "Epoch 17/100\n",
      "243/243 [==============================] - 1s - loss: 0.2901 - acc: 0.9053 - val_loss: 0.7614 - val_acc: 0.7419\n",
      "Epoch 18/100\n",
      "243/243 [==============================] - 0s - loss: 0.2870 - acc: 0.8971 - val_loss: 0.6615 - val_acc: 0.7419\n",
      "Epoch 19/100\n",
      "243/243 [==============================] - 1s - loss: 0.3205 - acc: 0.8642 - val_loss: 0.8212 - val_acc: 0.5806\n",
      "Epoch 20/100\n",
      "243/243 [==============================] - 0s - loss: 0.2386 - acc: 0.9218 - val_loss: 0.8758 - val_acc: 0.6129\n",
      "Epoch 21/100\n",
      "243/243 [==============================] - 1s - loss: 0.2567 - acc: 0.8848 - val_loss: 1.0250 - val_acc: 0.5806\n",
      "Epoch 22/100\n",
      "243/243 [==============================] - 1s - loss: 0.2266 - acc: 0.9383 - val_loss: 0.6977 - val_acc: 0.7097\n",
      "Epoch 23/100\n",
      "243/243 [==============================] - 0s - loss: 0.2168 - acc: 0.9218 - val_loss: 0.7054 - val_acc: 0.7097\n",
      "Epoch 24/100\n",
      "243/243 [==============================] - 1s - loss: 0.1891 - acc: 0.9177 - val_loss: 0.8180 - val_acc: 0.5484\n",
      "Epoch 25/100\n",
      "243/243 [==============================] - 0s - loss: 0.1848 - acc: 0.9383 - val_loss: 0.7846 - val_acc: 0.5806\n",
      "Epoch 26/100\n",
      "243/243 [==============================] - 0s - loss: 0.1880 - acc: 0.9465 - val_loss: 0.8100 - val_acc: 0.5484\n",
      "Epoch 27/100\n",
      "243/243 [==============================] - 0s - loss: 0.1606 - acc: 0.9547 - val_loss: 0.9584 - val_acc: 0.5484\n",
      "Epoch 28/100\n",
      "243/243 [==============================] - 0s - loss: 0.1653 - acc: 0.9588 - val_loss: 0.9261 - val_acc: 0.5806\n",
      "Epoch 29/100\n",
      "243/243 [==============================] - 0s - loss: 0.1558 - acc: 0.9547 - val_loss: 0.8618 - val_acc: 0.6452\n",
      "Epoch 30/100\n",
      "243/243 [==============================] - 0s - loss: 0.1460 - acc: 0.9465 - val_loss: 0.8352 - val_acc: 0.6452\n",
      "Epoch 31/100\n",
      "243/243 [==============================] - 0s - loss: 0.1377 - acc: 0.9671 - val_loss: 0.8966 - val_acc: 0.6774\n",
      "Epoch 32/100\n",
      "243/243 [==============================] - 0s - loss: 0.1228 - acc: 0.9588 - val_loss: 0.9143 - val_acc: 0.6774\n",
      "Epoch 33/100\n",
      "243/243 [==============================] - 0s - loss: 0.1329 - acc: 0.9506 - val_loss: 1.2807 - val_acc: 0.5806\n",
      "Epoch 34/100\n",
      "243/243 [==============================] - 0s - loss: 0.1184 - acc: 0.9630 - val_loss: 0.9223 - val_acc: 0.6774\n",
      "Epoch 35/100\n",
      "243/243 [==============================] - 0s - loss: 0.1251 - acc: 0.9630 - val_loss: 0.8957 - val_acc: 0.6452\n",
      "Epoch 36/100\n",
      "243/243 [==============================] - 0s - loss: 0.0905 - acc: 0.9794 - val_loss: 1.1868 - val_acc: 0.5806\n",
      "Epoch 37/100\n",
      "243/243 [==============================] - 0s - loss: 0.0756 - acc: 0.9753 - val_loss: 1.2416 - val_acc: 0.5484\n",
      "Epoch 38/100\n",
      "243/243 [==============================] - 1s - loss: 0.1148 - acc: 0.9506 - val_loss: 0.9116 - val_acc: 0.6452\n",
      "Epoch 39/100\n",
      "243/243 [==============================] - 0s - loss: 0.1233 - acc: 0.9630 - val_loss: 1.0524 - val_acc: 0.5484\n",
      "Epoch 40/100\n",
      "243/243 [==============================] - 0s - loss: 0.0845 - acc: 0.9877 - val_loss: 1.4307 - val_acc: 0.5161\n",
      "Epoch 41/100\n",
      "243/243 [==============================] - 0s - loss: 0.0930 - acc: 0.9712 - val_loss: 1.0937 - val_acc: 0.6452\n",
      "Epoch 42/100\n",
      "243/243 [==============================] - 0s - loss: 0.0894 - acc: 0.9794 - val_loss: 1.0916 - val_acc: 0.5806\n",
      "Epoch 43/100\n",
      "243/243 [==============================] - 0s - loss: 0.0841 - acc: 0.9712 - val_loss: 1.0653 - val_acc: 0.7097\n",
      "Epoch 44/100\n",
      "243/243 [==============================] - 0s - loss: 0.0926 - acc: 0.9753 - val_loss: 1.0638 - val_acc: 0.6774\n",
      "Epoch 45/100\n",
      "243/243 [==============================] - 0s - loss: 0.0910 - acc: 0.9794 - val_loss: 1.0480 - val_acc: 0.7742\n",
      "Epoch 46/100\n",
      "243/243 [==============================] - 0s - loss: 0.0959 - acc: 0.9588 - val_loss: 1.2268 - val_acc: 0.6129\n",
      "Epoch 47/100\n",
      "243/243 [==============================] - 0s - loss: 0.0717 - acc: 0.9835 - val_loss: 1.2213 - val_acc: 0.5484\n",
      "Epoch 48/100\n",
      "243/243 [==============================] - 0s - loss: 0.0698 - acc: 0.9794 - val_loss: 1.1727 - val_acc: 0.7097\n",
      "Epoch 49/100\n",
      "243/243 [==============================] - 0s - loss: 0.0922 - acc: 0.9753 - val_loss: 1.3088 - val_acc: 0.5484\n",
      "Epoch 50/100\n",
      "243/243 [==============================] - 0s - loss: 0.0536 - acc: 0.9835 - val_loss: 1.4647 - val_acc: 0.5806\n",
      "Epoch 51/100\n",
      "243/243 [==============================] - 0s - loss: 0.0753 - acc: 0.9794 - val_loss: 1.2291 - val_acc: 0.6774\n",
      "Epoch 52/100\n",
      "243/243 [==============================] - 0s - loss: 0.0552 - acc: 0.9918 - val_loss: 1.2105 - val_acc: 0.7742\n",
      "Epoch 53/100\n",
      "243/243 [==============================] - 0s - loss: 0.0712 - acc: 0.9712 - val_loss: 1.3004 - val_acc: 0.6129\n",
      "Epoch 54/100\n",
      "243/243 [==============================] - 0s - loss: 0.0501 - acc: 0.9794 - val_loss: 1.4999 - val_acc: 0.5484\n",
      "Epoch 55/100\n",
      "243/243 [==============================] - 0s - loss: 0.0436 - acc: 0.9877 - val_loss: 1.2389 - val_acc: 0.6774\n",
      "Epoch 56/100\n",
      "243/243 [==============================] - 0s - loss: 0.0550 - acc: 0.9794 - val_loss: 1.4887 - val_acc: 0.5484\n",
      "Epoch 57/100\n",
      "243/243 [==============================] - 0s - loss: 0.0767 - acc: 0.9835 - val_loss: 1.4589 - val_acc: 0.5806\n",
      "Epoch 58/100\n",
      "243/243 [==============================] - 0s - loss: 0.0545 - acc: 0.9918 - val_loss: 1.4722 - val_acc: 0.6129\n",
      "Epoch 59/100\n",
      "243/243 [==============================] - 0s - loss: 0.0576 - acc: 0.9753 - val_loss: 1.3546 - val_acc: 0.6774\n",
      "Epoch 60/100\n",
      "243/243 [==============================] - 0s - loss: 0.0525 - acc: 0.9835 - val_loss: 1.2810 - val_acc: 0.6774\n",
      "Epoch 61/100\n",
      "243/243 [==============================] - 0s - loss: 0.0546 - acc: 0.9794 - val_loss: 1.4070 - val_acc: 0.5806\n",
      "Epoch 62/100\n",
      "243/243 [==============================] - 0s - loss: 0.0419 - acc: 0.9877 - val_loss: 1.5155 - val_acc: 0.6774\n",
      "Epoch 63/100\n",
      "243/243 [==============================] - 0s - loss: 0.0577 - acc: 0.9835 - val_loss: 1.5269 - val_acc: 0.6129\n",
      "Epoch 64/100\n",
      "243/243 [==============================] - 0s - loss: 0.0510 - acc: 0.9835 - val_loss: 1.8227 - val_acc: 0.5806\n",
      "Epoch 65/100\n",
      "243/243 [==============================] - 0s - loss: 0.0416 - acc: 0.9877 - val_loss: 1.6097 - val_acc: 0.6452\n",
      "Epoch 66/100\n"
     ]
    },
    {
     "name": "stdout",
     "output_type": "stream",
     "text": [
      "243/243 [==============================] - 1s - loss: 0.0429 - acc: 0.9918 - val_loss: 1.6707 - val_acc: 0.6129\n",
      "Epoch 67/100\n",
      "243/243 [==============================] - 1s - loss: 0.0353 - acc: 0.9918 - val_loss: 1.6146 - val_acc: 0.6129\n",
      "Epoch 68/100\n",
      "243/243 [==============================] - 0s - loss: 0.0459 - acc: 0.9835 - val_loss: 1.4598 - val_acc: 0.7097\n",
      "Epoch 69/100\n",
      "243/243 [==============================] - 0s - loss: 0.0278 - acc: 0.9918 - val_loss: 1.5915 - val_acc: 0.7097\n",
      "Epoch 70/100\n",
      "243/243 [==============================] - 0s - loss: 0.0583 - acc: 0.9877 - val_loss: 1.4574 - val_acc: 0.6774\n",
      "Epoch 71/100\n",
      "243/243 [==============================] - 0s - loss: 0.0504 - acc: 0.9877 - val_loss: 1.6274 - val_acc: 0.5806\n",
      "Epoch 72/100\n",
      "243/243 [==============================] - 0s - loss: 0.0522 - acc: 0.9835 - val_loss: 1.7399 - val_acc: 0.5484\n",
      "Epoch 73/100\n",
      "243/243 [==============================] - 0s - loss: 0.0495 - acc: 0.9794 - val_loss: 1.5986 - val_acc: 0.6774\n",
      "Epoch 74/100\n",
      "243/243 [==============================] - 0s - loss: 0.0350 - acc: 0.9835 - val_loss: 1.5522 - val_acc: 0.6774\n",
      "Epoch 75/100\n",
      "243/243 [==============================] - 0s - loss: 0.0278 - acc: 0.9959 - val_loss: 1.8390 - val_acc: 0.5806\n",
      "Epoch 76/100\n",
      "243/243 [==============================] - 0s - loss: 0.0551 - acc: 0.9877 - val_loss: 1.5987 - val_acc: 0.6774\n",
      "Epoch 77/100\n",
      "243/243 [==============================] - 0s - loss: 0.0555 - acc: 0.9918 - val_loss: 1.5888 - val_acc: 0.6774\n",
      "Epoch 78/100\n",
      "243/243 [==============================] - 0s - loss: 0.0377 - acc: 0.9918 - val_loss: 1.8402 - val_acc: 0.6452\n",
      "Epoch 79/100\n",
      "243/243 [==============================] - 0s - loss: 0.0414 - acc: 0.9835 - val_loss: 1.7091 - val_acc: 0.6129\n",
      "Epoch 80/100\n",
      "243/243 [==============================] - 0s - loss: 0.0423 - acc: 0.9877 - val_loss: 1.9841 - val_acc: 0.5806\n",
      "Epoch 81/100\n",
      "243/243 [==============================] - 0s - loss: 0.0320 - acc: 0.9918 - val_loss: 1.6770 - val_acc: 0.7097\n",
      "Epoch 82/100\n",
      "243/243 [==============================] - 0s - loss: 0.0251 - acc: 0.9918 - val_loss: 1.7698 - val_acc: 0.7097\n",
      "Epoch 83/100\n",
      "243/243 [==============================] - 0s - loss: 0.0477 - acc: 0.9794 - val_loss: 1.6863 - val_acc: 0.7742\n",
      "Epoch 84/100\n",
      "243/243 [==============================] - 0s - loss: 0.0302 - acc: 0.9877 - val_loss: 1.8123 - val_acc: 0.7097\n",
      "Epoch 85/100\n",
      "243/243 [==============================] - 1s - loss: 0.0410 - acc: 0.9877 - val_loss: 1.6606 - val_acc: 0.7097\n",
      "Epoch 86/100\n",
      "243/243 [==============================] - 1s - loss: 0.0354 - acc: 0.9835 - val_loss: 1.7428 - val_acc: 0.7097\n",
      "Epoch 87/100\n",
      "243/243 [==============================] - 0s - loss: 0.0293 - acc: 0.9918 - val_loss: 1.8216 - val_acc: 0.7097\n",
      "Epoch 88/100\n",
      "243/243 [==============================] - 0s - loss: 0.0408 - acc: 0.9835 - val_loss: 1.8537 - val_acc: 0.6452\n",
      "Epoch 89/100\n",
      "243/243 [==============================] - 0s - loss: 0.0192 - acc: 0.9959 - val_loss: 2.0427 - val_acc: 0.7097\n",
      "Epoch 90/100\n",
      "243/243 [==============================] - 0s - loss: 0.0262 - acc: 0.9918 - val_loss: 1.9375 - val_acc: 0.6774\n",
      "Epoch 91/100\n",
      "243/243 [==============================] - 0s - loss: 0.0249 - acc: 0.9918 - val_loss: 1.9323 - val_acc: 0.6452\n",
      "Epoch 92/100\n",
      "243/243 [==============================] - 0s - loss: 0.0285 - acc: 0.9835 - val_loss: 2.2887 - val_acc: 0.5484\n",
      "Epoch 93/100\n",
      "243/243 [==============================] - 0s - loss: 0.0208 - acc: 0.9959 - val_loss: 2.1987 - val_acc: 0.5806\n",
      "Epoch 94/100\n",
      "243/243 [==============================] - 0s - loss: 0.0275 - acc: 0.9959 - val_loss: 2.0842 - val_acc: 0.6774\n",
      "Epoch 95/100\n",
      "243/243 [==============================] - 0s - loss: 0.0347 - acc: 0.9835 - val_loss: 2.7272 - val_acc: 0.5484\n",
      "Epoch 96/100\n",
      "243/243 [==============================] - 0s - loss: 0.0288 - acc: 0.9918 - val_loss: 2.2224 - val_acc: 0.6129\n",
      "Epoch 97/100\n",
      "243/243 [==============================] - 0s - loss: 0.0279 - acc: 0.9918 - val_loss: 2.1231 - val_acc: 0.7097\n",
      "Epoch 98/100\n",
      "243/243 [==============================] - 0s - loss: 0.0331 - acc: 0.9918 - val_loss: 1.8409 - val_acc: 0.6774\n",
      "Epoch 99/100\n",
      "243/243 [==============================] - 0s - loss: 0.0161 - acc: 0.9918 - val_loss: 2.5622 - val_acc: 0.5484\n",
      "Epoch 100/100\n",
      "243/243 [==============================] - 0s - loss: 0.0500 - acc: 0.9877 - val_loss: 2.1436 - val_acc: 0.6452\n"
     ]
    }
   ],
   "source": [
    "history = model.fit(train_features, train_labels, epochs=100, \n",
    "                    batch_size =5, \n",
    "                    validation_data=(validation_features, validation_labels))"
   ]
  },
  {
   "cell_type": "code",
   "execution_count": 11,
   "metadata": {
    "scrolled": false
   },
   "outputs": [
    {
     "name": "stdout",
     "output_type": "stream",
     "text": [
      "dict_keys(['val_loss', 'val_acc', 'loss', 'acc'])\n"
     ]
    }
   ],
   "source": [
    "history_dict = history.history\n",
    "print(history_dict.keys())\n",
    "\n",
    "model.save('damage_undamaged_conv3_vgg.h5')"
   ]
  },
  {
   "cell_type": "code",
   "execution_count": 12,
   "metadata": {},
   "outputs": [
    {
     "data": {
      "image/png": "[encoded data removed]",
      "text/plain": [
       "<matplotlib.figure.Figure at 0x7fdf38242c50>"
      ]
     },
     "metadata": {},
     "output_type": "display_data"
    },
    {
     "data": {
      "image/png": "[encoded data removed]",
      "text/plain": [
       "<matplotlib.figure.Figure at 0x7fdf350653c8>"
      ]
     },
     "metadata": {},
     "output_type": "display_data"
    }
   ],
   "source": [
    "#Displaying curves of loss and accuracy during training \n",
    "\n",
    "import matplotlib.pyplot as plt\n",
    "acc = history.history['acc']\n",
    "val_acc = history.history['val_acc']\n",
    "loss = history.history['loss']\n",
    "val_loss = history.history['val_loss']\n",
    "\n",
    "epochs = range(len(acc))\n",
    "\n",
    "plt.plot(epochs, acc, 'bo')#dots\n",
    "plt.plot(epochs, val_acc, 'b')#line segments\n",
    "plt.title('Training and validation accuracy')\n",
    "plt.figure()\n",
    "\n",
    "plt.plot(epochs, loss, 'bo')\n",
    "plt.plot(epochs, val_loss, 'b')\n",
    "plt.title('Training and validation loss')\n",
    "plt.show()"
   ]
  },
  {
   "cell_type": "code",
   "execution_count": 13,
   "metadata": {},
   "outputs": [
    {
     "name": "stdout",
     "output_type": "stream",
     "text": [
      "Train on 243 samples, validate on 31 samples\n",
      "Epoch 1/50\n",
      "243/243 [==============================] - ETA: 0s - loss: 0.0177 - acc: 0.991 - 1s - loss: 0.0168 - acc: 0.9918 - val_loss: 2.2547 - val_acc: 0.6452\n",
      "Epoch 2/50\n",
      "243/243 [==============================] - 0s - loss: 0.0212 - acc: 0.9959 - val_loss: 2.1979 - val_acc: 0.6774\n",
      "Epoch 3/50\n",
      "243/243 [==============================] - 0s - loss: 0.0288 - acc: 0.9959 - val_loss: 2.1389 - val_acc: 0.6774\n",
      "Epoch 4/50\n",
      "243/243 [==============================] - 0s - loss: 0.0278 - acc: 0.9835 - val_loss: 1.9963 - val_acc: 0.6774\n",
      "Epoch 5/50\n",
      "243/243 [==============================] - 0s - loss: 0.0357 - acc: 0.9918 - val_loss: 2.5288 - val_acc: 0.5484\n",
      "Epoch 6/50\n",
      "243/243 [==============================] - 0s - loss: 0.0266 - acc: 0.9918 - val_loss: 2.5947 - val_acc: 0.5806\n",
      "Epoch 7/50\n",
      "243/243 [==============================] - 0s - loss: 0.0465 - acc: 0.9877 - val_loss: 2.2165 - val_acc: 0.6774\n",
      "Epoch 8/50\n",
      "243/243 [==============================] - 0s - loss: 0.0226 - acc: 0.9959 - val_loss: 2.5244 - val_acc: 0.5484\n",
      "Epoch 9/50\n",
      "243/243 [==============================] - 0s - loss: 0.0221 - acc: 0.9959 - val_loss: 2.4694 - val_acc: 0.5484\n",
      "Epoch 10/50\n",
      "243/243 [==============================] - 0s - loss: 0.0443 - acc: 0.9877 - val_loss: 2.3284 - val_acc: 0.5484\n",
      "Epoch 11/50\n",
      "243/243 [==============================] - 0s - loss: 0.0284 - acc: 0.9877 - val_loss: 2.3660 - val_acc: 0.6452\n",
      "Epoch 12/50\n",
      "243/243 [==============================] - 0s - loss: 0.0276 - acc: 0.9877 - val_loss: 2.5704 - val_acc: 0.5484\n",
      "Epoch 13/50\n",
      "243/243 [==============================] - 0s - loss: 0.0187 - acc: 0.9959 - val_loss: 2.7829 - val_acc: 0.5484\n",
      "Epoch 14/50\n",
      "243/243 [==============================] - 0s - loss: 0.0217 - acc: 0.9959 - val_loss: 2.8116 - val_acc: 0.5484\n",
      "Epoch 15/50\n",
      "243/243 [==============================] - 0s - loss: 0.0171 - acc: 0.9918 - val_loss: 2.4785 - val_acc: 0.5806\n",
      "Epoch 16/50\n",
      "243/243 [==============================] - 0s - loss: 0.0224 - acc: 0.9877 - val_loss: 2.6261 - val_acc: 0.5484\n",
      "Epoch 17/50\n",
      "243/243 [==============================] - 0s - loss: 0.0157 - acc: 0.9959 - val_loss: 2.4046 - val_acc: 0.6452\n",
      "Epoch 18/50\n",
      "243/243 [==============================] - 0s - loss: 0.0344 - acc: 0.9918 - val_loss: 2.2300 - val_acc: 0.6774\n",
      "Epoch 19/50\n",
      "243/243 [==============================] - 1s - loss: 0.0284 - acc: 0.9877 - val_loss: 2.4584 - val_acc: 0.6129\n",
      "Epoch 20/50\n",
      "243/243 [==============================] - 0s - loss: 0.0332 - acc: 0.9877 - val_loss: 2.8896 - val_acc: 0.5484\n",
      "Epoch 21/50\n",
      "243/243 [==============================] - 0s - loss: 0.0273 - acc: 0.9877 - val_loss: 2.3190 - val_acc: 0.6774\n",
      "Epoch 22/50\n",
      "243/243 [==============================] - 0s - loss: 0.0185 - acc: 0.9918 - val_loss: 2.2990 - val_acc: 0.6774\n",
      "Epoch 23/50\n",
      "243/243 [==============================] - 1s - loss: 0.0216 - acc: 0.9877 - val_loss: 2.3656 - val_acc: 0.7097\n",
      "Epoch 24/50\n",
      "243/243 [==============================] - 0s - loss: 0.0220 - acc: 0.9959 - val_loss: 2.4302 - val_acc: 0.6452\n",
      "Epoch 25/50\n",
      "243/243 [==============================] - 0s - loss: 0.0185 - acc: 0.9918 - val_loss: 2.3811 - val_acc: 0.6774\n",
      "Epoch 26/50\n",
      "243/243 [==============================] - 0s - loss: 0.0171 - acc: 0.9918 - val_loss: 2.3356 - val_acc: 0.6774\n",
      "Epoch 27/50\n",
      "243/243 [==============================] - 0s - loss: 0.0279 - acc: 0.9877 - val_loss: 2.2982 - val_acc: 0.6774\n",
      "Epoch 28/50\n",
      "243/243 [==============================] - 0s - loss: 0.0223 - acc: 0.9918 - val_loss: 2.1698 - val_acc: 0.7097\n",
      "Epoch 29/50\n",
      "243/243 [==============================] - 0s - loss: 0.0122 - acc: 0.9959 - val_loss: 2.4039 - val_acc: 0.6774\n",
      "Epoch 30/50\n",
      "243/243 [==============================] - 0s - loss: 0.0226 - acc: 0.9918 - val_loss: 2.3472 - val_acc: 0.7097\n",
      "Epoch 31/50\n",
      "243/243 [==============================] - 0s - loss: 0.0352 - acc: 0.9918 - val_loss: 2.4683 - val_acc: 0.6774\n",
      "Epoch 32/50\n",
      "243/243 [==============================] - 0s - loss: 0.0145 - acc: 0.9959 - val_loss: 2.3696 - val_acc: 0.7097\n",
      "Epoch 33/50\n",
      "243/243 [==============================] - 0s - loss: 0.0188 - acc: 0.9918 - val_loss: 2.9485 - val_acc: 0.5484\n",
      "Epoch 34/50\n",
      "243/243 [==============================] - 0s - loss: 0.0199 - acc: 0.9918 - val_loss: 2.7893 - val_acc: 0.5484\n",
      "Epoch 35/50\n",
      "243/243 [==============================] - 0s - loss: 0.0147 - acc: 0.9918 - val_loss: 2.5121 - val_acc: 0.6774\n",
      "Epoch 36/50\n",
      "243/243 [==============================] - 0s - loss: 0.0215 - acc: 0.9959 - val_loss: 2.4266 - val_acc: 0.6774\n",
      "Epoch 37/50\n",
      "243/243 [==============================] - 0s - loss: 0.0492 - acc: 0.9835 - val_loss: 2.4091 - val_acc: 0.6774\n",
      "Epoch 38/50\n",
      "243/243 [==============================] - 0s - loss: 0.0142 - acc: 0.9877 - val_loss: 2.4693 - val_acc: 0.6452\n",
      "Epoch 39/50\n",
      "243/243 [==============================] - 0s - loss: 0.0210 - acc: 0.9918 - val_loss: 2.3605 - val_acc: 0.6774\n",
      "Epoch 40/50\n",
      "243/243 [==============================] - 0s - loss: 0.0155 - acc: 0.9959 - val_loss: 2.5520 - val_acc: 0.6774\n",
      "Epoch 41/50\n",
      "243/243 [==============================] - 0s - loss: 0.0105 - acc: 0.9959 - val_loss: 2.7160 - val_acc: 0.6774\n",
      "Epoch 42/50\n",
      "243/243 [==============================] - 0s - loss: 0.0116 - acc: 0.9959 - val_loss: 2.6408 - val_acc: 0.7097\n",
      "Epoch 43/50\n",
      "243/243 [==============================] - 0s - loss: 0.0447 - acc: 0.9753 - val_loss: 2.5832 - val_acc: 0.7097\n",
      "Epoch 44/50\n",
      "243/243 [==============================] - 0s - loss: 0.0209 - acc: 0.9918 - val_loss: 2.6255 - val_acc: 0.6774\n",
      "Epoch 45/50\n",
      "243/243 [==============================] - 0s - loss: 0.0330 - acc: 0.9918 - val_loss: 2.8296 - val_acc: 0.6129\n",
      "Epoch 46/50\n",
      "243/243 [==============================] - 0s - loss: 0.0482 - acc: 0.9877 - val_loss: 2.5991 - val_acc: 0.6774\n",
      "Epoch 47/50\n",
      "243/243 [==============================] - 0s - loss: 0.0345 - acc: 0.9959 - val_loss: 2.6495 - val_acc: 0.6774\n",
      "Epoch 48/50\n",
      "243/243 [==============================] - 0s - loss: 0.0123 - acc: 0.9959 - val_loss: 2.9295 - val_acc: 0.6129\n",
      "Epoch 49/50\n",
      "243/243 [==============================] - 0s - loss: 0.0419 - acc: 0.9794 - val_loss: 2.6402 - val_acc: 0.6774\n",
      "Epoch 50/50\n",
      "243/243 [==============================] - 0s - loss: 0.0277 - acc: 0.9918 - val_loss: 2.3836 - val_acc: 0.7097\n",
      "dict_keys(['val_loss', 'val_acc', 'loss', 'acc'])\n"
     ]
    }
   ],
   "source": [
    "history = model.fit(train_features, train_labels, epochs=50, \n",
    "                    batch_size =5, \n",
    "                    validation_data=(validation_features, validation_labels))\n",
    "history_dict = history.history\n",
    "print(history_dict.keys())\n",
    "\n",
    "model.save('damage_undamaged_conv3_2_vgg.h5')"
   ]
  },
  {
   "cell_type": "code",
   "execution_count": 14,
   "metadata": {},
   "outputs": [
    {
     "data": {
      "image/png": "[encoded data removed]",
      "text/plain": [
       "<matplotlib.figure.Figure at 0x7fdf35092940>"
      ]
     },
     "metadata": {},
     "output_type": "display_data"
    },
    {
     "data": {
      "image/png": "[encoded data removed]",
      "text/plain": [
       "<matplotlib.figure.Figure at 0x7fdef877cef0>"
      ]
     },
     "metadata": {},
     "output_type": "display_data"
    }
   ],
   "source": [
    "#Displaying curves of loss and accuracy during training \n",
    "\n",
    "import matplotlib.pyplot as plt\n",
    "acc = history.history['acc']\n",
    "val_acc = history.history['val_acc']\n",
    "loss = history.history['loss']\n",
    "val_loss = history.history['val_loss']\n",
    "\n",
    "epochs = range(len(acc))\n",
    "\n",
    "plt.plot(epochs, acc, 'bo')#dots\n",
    "plt.plot(epochs, val_acc, 'b')#line segments\n",
    "plt.title('Training and validation accuracy')\n",
    "plt.figure()\n",
    "\n",
    "plt.plot(epochs, loss, 'bo')\n",
    "plt.plot(epochs, val_loss, 'b')\n",
    "plt.title('Training and validation loss')\n",
    "plt.show()"
   ]
  },
  {
   "cell_type": "code",
   "execution_count": null,
   "metadata": {
    "collapsed": true
   },
   "outputs": [],
   "source": []
  }
 ],
 "metadata": {
  "kernelspec": {
   "display_name": "Python 3",
   "language": "python",
   "name": "python3"
  },
  "language_info": {
   "codemirror_mode": {
    "name": "ipython",
    "version": 3
   },
   "file_extension": ".py",
   "mimetype": "text/x-python",
   "name": "python",
   "nbconvert_exporter": "python",
   "pygments_lexer": "ipython3",
   "version": "3.6.1"
  }
 },
 "nbformat": 4,
 "nbformat_minor": 2
}
