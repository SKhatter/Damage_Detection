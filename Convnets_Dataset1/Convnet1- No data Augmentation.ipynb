{
 "cells": [
  {
   "cell_type": "code",
   "execution_count": 1,
   "metadata": {
    "collapsed": true
   },
   "outputs": [],
   "source": [
    "import os, shutil"
   ]
  },
  {
   "cell_type": "code",
   "execution_count": 2,
   "metadata": {
    "collapsed": true
   },
   "outputs": [],
   "source": [
    "base_dir = '/home/skhatter/Damage Detection'\n",
    "train_dir = '/home/skhatter/Damage Detection/train'\n",
    "valid_dir = '/home/skhatter/Damage Detection/validation'\n",
    "test_dir = '/home/skhatter/Damage Detection/test'\n",
    "\n",
    "train_dam_dir = '/home/skhatter/Damage Detection/train/damaged'\n",
    "train_undam_dir = '/home/skhatter/Damage Detection/train/undamaged'\n",
    "\n",
    "valid_dam_dir = '/home/skhatter/Damage Detection/validation/damaged'\n",
    "valid_undam_dir = '/home/skhatter/Damage Detection/validation/undamaged'\n",
    "\n",
    "test_dir = '/home/skhatter/Damage Detection/test'"
   ]
  },
  {
   "cell_type": "code",
   "execution_count": 3,
   "metadata": {},
   "outputs": [
    {
     "name": "stdout",
     "output_type": "stream",
     "text": [
      "Total training damaged images 102\n",
      "Total training undamaged images 141\n",
      "Total validation damaged images 10\n",
      "Total validation undamaged images 21\n",
      "Total test damaged images 2\n"
     ]
    }
   ],
   "source": [
    "print('Total training damaged images', len(os.listdir(train_dam_dir)))\n",
    "print('Total training undamaged images', len(os.listdir(train_undam_dir)))\n",
    "\n",
    "print('Total validation damaged images', len(os.listdir(valid_dam_dir)))\n",
    "print('Total validation undamaged images', len(os.listdir(valid_undam_dir)))\n",
    "\n",
    "print('Total test damaged images', len(os.listdir(test_dir)))"
   ]
  },
  {
   "cell_type": "code",
   "execution_count": 4,
   "metadata": {},
   "outputs": [
    {
     "name": "stderr",
     "output_type": "stream",
     "text": [
      "Using TensorFlow backend.\n"
     ]
    }
   ],
   "source": [
    "from keras import layers\n",
    "from keras import models"
   ]
  },
  {
   "cell_type": "code",
   "execution_count": 5,
   "metadata": {},
   "outputs": [
    {
     "name": "stdout",
     "output_type": "stream",
     "text": [
      "_________________________________________________________________\n",
      "Layer (type)                 Output Shape              Param #   \n",
      "=================================================================\n",
      "conv2d_1 (Conv2D)            (None, 510, 510, 100)     2800      \n",
      "_________________________________________________________________\n",
      "max_pooling2d_1 (MaxPooling2 (None, 255, 255, 100)     0         \n",
      "_________________________________________________________________\n",
      "conv2d_2 (Conv2D)            (None, 253, 253, 200)     180200    \n",
      "_________________________________________________________________\n",
      "max_pooling2d_2 (MaxPooling2 (None, 126, 126, 200)     0         \n",
      "_________________________________________________________________\n",
      "conv2d_3 (Conv2D)            (None, 124, 124, 200)     360200    \n",
      "_________________________________________________________________\n",
      "max_pooling2d_3 (MaxPooling2 (None, 62, 62, 200)       0         \n",
      "_________________________________________________________________\n",
      "flatten_1 (Flatten)          (None, 768800)            0         \n",
      "_________________________________________________________________\n",
      "dense_1 (Dense)              (None, 512)               393626112 \n",
      "_________________________________________________________________\n",
      "dense_2 (Dense)              (None, 1)                 513       \n",
      "=================================================================\n",
      "Total params: 394,169,825\n",
      "Trainable params: 394,169,825\n",
      "Non-trainable params: 0\n",
      "_________________________________________________________________\n"
     ]
    }
   ],
   "source": [
    "model = models.Sequential()\n",
    "model.add(layers.Conv2D(100, (3,3), activation ='relu', input_shape = (512, 512, 3)))\n",
    "model.add(layers.MaxPooling2D((2,2)))\n",
    "model.add(layers.Conv2D(200, (3,3), activation ='relu'))\n",
    "model.add(layers.MaxPooling2D((2,2)))\n",
    "model.add(layers.Conv2D(200, (3,3), activation='relu'))\n",
    "model.add(layers.MaxPooling2D((2,2)))\n",
    "model.add(layers.Flatten())\n",
    "model.add(layers.Dense(512, activation = 'relu'))\n",
    "model.add(layers.Dense(1, activation = 'sigmoid'))\n",
    "model.summary()"
   ]
  },
  {
   "cell_type": "code",
   "execution_count": 6,
   "metadata": {
    "collapsed": true
   },
   "outputs": [],
   "source": [
    "from keras import optimizers"
   ]
  },
  {
   "cell_type": "code",
   "execution_count": 7,
   "metadata": {
    "collapsed": true
   },
   "outputs": [],
   "source": [
    "model.compile(loss = 'binary_crossentropy', optimizer = optimizers.RMSprop(lr=1e-4), metrics=['acc'])"
   ]
  },
  {
   "cell_type": "code",
   "execution_count": 8,
   "metadata": {},
   "outputs": [
    {
     "name": "stdout",
     "output_type": "stream",
     "text": [
      "Found 243 images belonging to 2 classes.\n",
      "Found 31 images belonging to 2 classes.\n",
      "train data batch:  (5, 512, 512, 3)\n",
      "train label batch:  (5,)\n",
      "validation data batch:  (5, 512, 512, 3)\n",
      "validation label batch (5,)\n"
     ]
    }
   ],
   "source": [
    "from keras.preprocessing.image import ImageDataGenerator\n",
    "\n",
    "train_datagen = ImageDataGenerator(rescale = 1./255)\n",
    "test_datagen= ImageDataGenerator(rescale = 1./255)\n",
    "\n",
    "train_generator = train_datagen.flow_from_directory(train_dir, target_size=(512, 512), batch_size =5,\n",
    "                                                    class_mode='binary')\n",
    "validation_generator = test_datagen.flow_from_directory(valid_dir, target_size = (512, 512),\n",
    "                                                        batch_size = 5, class_mode='binary')\n",
    "\n",
    "\n",
    "#displaying the shapes of batch of data and labels\n",
    "for data_batch, labels_batch in train_generator:\n",
    "    print('train data batch: ', data_batch.shape)\n",
    "    print('train label batch: ', labels_batch.shape)\n",
    "    break\n",
    "    \n",
    "for data_batch, labels_batch in validation_generator:\n",
    "    print('validation data batch: ', data_batch.shape)\n",
    "    print('validation label batch', labels_batch.shape)\n",
    "    break"
   ]
  },
  {
   "cell_type": "code",
   "execution_count": 9,
   "metadata": {
    "scrolled": false
   },
   "outputs": [
    {
     "name": "stdout",
     "output_type": "stream",
     "text": [
      "Epoch 1/30\n",
      "50/50 [==============================] - 24s - loss: 6.6248 - acc: 0.5773 - val_loss: 4.8990 - val_acc: 0.6903\n",
      "Epoch 2/30\n",
      "50/50 [==============================] - 21s - loss: 6.6748 - acc: 0.5813 - val_loss: 4.9087 - val_acc: 0.6903\n",
      "Epoch 3/30\n",
      "50/50 [==============================] - 21s - loss: 6.6110 - acc: 0.5853 - val_loss: 5.1909 - val_acc: 0.6726\n",
      "Epoch 4/30\n",
      "50/50 [==============================] - 21s - loss: 6.9299 - acc: 0.5653 - val_loss: 4.7579 - val_acc: 0.6991\n",
      "Epoch 5/30\n",
      "50/50 [==============================] - 21s - loss: 6.6527 - acc: 0.5827 - val_loss: 5.0498 - val_acc: 0.6814\n",
      "Epoch 6/30\n",
      "50/50 [==============================] - 21s - loss: 6.6306 - acc: 0.5841 - val_loss: 5.0401 - val_acc: 0.6814\n",
      "Epoch 7/30\n",
      "50/50 [==============================] - 21s - loss: 7.0353 - acc: 0.5587 - val_loss: 5.1812 - val_acc: 0.6726\n",
      "Epoch 8/30\n",
      "50/50 [==============================] - 21s - loss: 6.3559 - acc: 0.6013 - val_loss: 5.0401 - val_acc: 0.6814\n",
      "Epoch 9/30\n",
      "50/50 [==============================] - 21s - loss: 6.9495 - acc: 0.5641 - val_loss: 5.1909 - val_acc: 0.6726\n",
      "Epoch 10/30\n",
      "50/50 [==============================] - 21s - loss: 6.3975 - acc: 0.5987 - val_loss: 5.1812 - val_acc: 0.6726\n",
      "Epoch 11/30\n",
      "50/50 [==============================] - 21s - loss: 6.8882 - acc: 0.5679 - val_loss: 5.1909 - val_acc: 0.6726\n",
      "Epoch 12/30\n",
      "50/50 [==============================] - 21s - loss: 6.6748 - acc: 0.5813 - val_loss: 5.1812 - val_acc: 0.6726\n",
      "Epoch 13/30\n",
      "50/50 [==============================] - 21s - loss: 6.3975 - acc: 0.5987 - val_loss: 4.7579 - val_acc: 0.6991\n",
      "Epoch 14/30\n",
      "50/50 [==============================] - 21s - loss: 7.2905 - acc: 0.5427 - val_loss: 5.1812 - val_acc: 0.6726\n",
      "Epoch 15/30\n",
      "50/50 [==============================] - 21s - loss: 6.6969 - acc: 0.5799 - val_loss: 5.6044 - val_acc: 0.6460\n",
      "Epoch 16/30\n",
      "50/50 [==============================] - 21s - loss: 6.4834 - acc: 0.5933 - val_loss: 5.1812 - val_acc: 0.6726\n",
      "Epoch 17/30\n",
      "50/50 [==============================] - 21s - loss: 6.8023 - acc: 0.5733 - val_loss: 5.3223 - val_acc: 0.6637\n",
      "Epoch 18/30\n",
      "50/50 [==============================] - 21s - loss: 5.8873 - acc: 0.6307 - val_loss: 5.4634 - val_acc: 0.6549\n",
      "Epoch 19/30\n",
      "50/50 [==============================] - 21s - loss: 6.9299 - acc: 0.5653 - val_loss: 4.8990 - val_acc: 0.6903\n",
      "Epoch 20/30\n",
      "50/50 [==============================] - 21s - loss: 6.8440 - acc: 0.5707 - val_loss: 5.3223 - val_acc: 0.6637\n",
      "Epoch 21/30\n",
      "50/50 [==============================] - 21s - loss: 6.5251 - acc: 0.5907 - val_loss: 5.0401 - val_acc: 0.6814\n",
      "Epoch 22/30\n",
      "50/50 [==============================] - 21s - loss: 7.0991 - acc: 0.5547 - val_loss: 5.3223 - val_acc: 0.6637\n",
      "Epoch 23/30\n",
      "50/50 [==============================] - 21s - loss: 6.7606 - acc: 0.5759 - val_loss: 4.8990 - val_acc: 0.6903\n",
      "Epoch 24/30\n",
      "50/50 [==============================] - 21s - loss: 7.0991 - acc: 0.5547 - val_loss: 5.4634 - val_acc: 0.6549\n",
      "Epoch 25/30\n",
      "50/50 [==============================] - 21s - loss: 6.3142 - acc: 0.6039 - val_loss: 5.1909 - val_acc: 0.6726\n",
      "Epoch 26/30\n",
      "50/50 [==============================] - 21s - loss: 6.9078 - acc: 0.5667 - val_loss: 5.1909 - val_acc: 0.6726\n",
      "Epoch 27/30\n",
      "50/50 [==============================] - 21s - loss: 6.4196 - acc: 0.5973 - val_loss: 5.1812 - val_acc: 0.6726\n",
      "Epoch 28/30\n",
      "50/50 [==============================] - 21s - loss: 6.7606 - acc: 0.5759 - val_loss: 4.8990 - val_acc: 0.6903\n",
      "Epoch 29/30\n",
      "50/50 [==============================] - 21s - loss: 6.2283 - acc: 0.6093 - val_loss: 5.1812 - val_acc: 0.6726\n",
      "Epoch 30/30\n",
      "50/50 [==============================] - 21s - loss: 6.7385 - acc: 0.5773 - val_loss: 5.3223 - val_acc: 0.6637\n",
      "dict_keys(['val_loss', 'val_acc', 'loss', 'acc'])\n"
     ]
    }
   ],
   "source": [
    "#Fitting the model using a batch generator\n",
    "\n",
    "history = model.fit_generator(train_generator, steps_per_epoch=50, epochs = 30, \n",
    "                              validation_data= validation_generator, validation_steps=25)\n",
    "\n",
    "\n",
    "history_dict = history.history\n",
    "print(history_dict.keys())\n",
    "\n",
    "model.save('damage_undamaged_conv1.h5')"
   ]
  },
  {
   "cell_type": "code",
   "execution_count": 10,
   "metadata": {},
   "outputs": [
    {
     "data": {
      "image/png": "[encoded data removed]",
      "text/plain": [
       "<matplotlib.figure.Figure at 0x7f0e4323f9b0>"
      ]
     },
     "metadata": {},
     "output_type": "display_data"
    },
    {
     "data": {
      "image/png": "[encoded data removed]",
      "text/plain": [
       "<matplotlib.figure.Figure at 0x7f0e09699400>"
      ]
     },
     "metadata": {},
     "output_type": "display_data"
    }
   ],
   "source": [
    "#Displaying curves of loss and accuracy during training \n",
    "\n",
    "import matplotlib.pyplot as plt\n",
    "acc = history.history['acc']\n",
    "val_acc = history.history['val_acc']\n",
    "loss = history.history['loss']\n",
    "val_loss = history.history['val_loss']\n",
    "\n",
    "epochs = range(len(acc))\n",
    "\n",
    "plt.plot(epochs, acc, 'bo')#dots\n",
    "plt.plot(epochs, val_acc, 'b')#line segments\n",
    "plt.title('Training and validation accuracy')\n",
    "plt.figure()\n",
    "\n",
    "plt.plot(epochs, loss, 'bo')\n",
    "plt.plot(epochs, val_loss, 'b')\n",
    "plt.title('Training and validation loss')\n",
    "plt.show()"
   ]
  },
  {
   "cell_type": "code",
   "execution_count": 11,
   "metadata": {},
   "outputs": [
    {
     "name": "stdout",
     "output_type": "stream",
     "text": [
      "Epoch 1/30\n",
      "50/50 [==============================] - 21s - loss: 7.2046 - acc: 0.5481 - val_loss: 5.1812 - val_acc: 0.6726\n",
      "Epoch 2/30\n",
      "50/50 [==============================] - 21s - loss: 6.5693 - acc: 0.5879 - val_loss: 5.0401 - val_acc: 0.6814\n",
      "Epoch 3/30\n",
      "50/50 [==============================] - 21s - loss: 6.5693 - acc: 0.5879 - val_loss: 5.1812 - val_acc: 0.6726\n",
      "Epoch 4/30\n",
      "50/50 [==============================] - 21s - loss: 6.9299 - acc: 0.5653 - val_loss: 4.3444 - val_acc: 0.7257\n",
      "Epoch 5/30\n",
      "50/50 [==============================] - 21s - loss: 6.4834 - acc: 0.5933 - val_loss: 4.7579 - val_acc: 0.6991\n",
      "Epoch 6/30\n",
      "50/50 [==============================] - 21s - loss: 6.5472 - acc: 0.5893 - val_loss: 4.9087 - val_acc: 0.6903\n",
      "Epoch 7/30\n",
      "50/50 [==============================] - 21s - loss: 6.7385 - acc: 0.5773 - val_loss: 4.9087 - val_acc: 0.6903\n",
      "Epoch 8/30\n",
      "50/50 [==============================] - 21s - loss: 6.6954 - acc: 0.5800 - val_loss: 5.0401 - val_acc: 0.6814\n",
      "Epoch 9/30\n",
      "50/50 [==============================] - 21s - loss: 6.8857 - acc: 0.5681 - val_loss: 4.9087 - val_acc: 0.6903\n",
      "Epoch 10/30\n",
      "50/50 [==============================] - 21s - loss: 6.4834 - acc: 0.5933 - val_loss: 4.7579 - val_acc: 0.6991\n",
      "Epoch 11/30\n",
      "50/50 [==============================] - 21s - loss: 6.7802 - acc: 0.5747 - val_loss: 4.9087 - val_acc: 0.6903\n",
      "Epoch 12/30\n",
      "50/50 [==============================] - 21s - loss: 6.4417 - acc: 0.5959 - val_loss: 4.9087 - val_acc: 0.6903\n",
      "Epoch 13/30\n",
      "50/50 [==============================] - 21s - loss: 6.7606 - acc: 0.5759 - val_loss: 4.8990 - val_acc: 0.6903\n",
      "Epoch 14/30\n",
      "50/50 [==============================] - 21s - loss: 6.6969 - acc: 0.5799 - val_loss: 5.1812 - val_acc: 0.6726\n",
      "Epoch 15/30\n",
      "50/50 [==============================] - 21s - loss: 6.5472 - acc: 0.5893 - val_loss: 5.4634 - val_acc: 0.6549\n",
      "Epoch 16/30\n",
      "50/50 [==============================] - 21s - loss: 6.6748 - acc: 0.5813 - val_loss: 5.0401 - val_acc: 0.6814\n",
      "Epoch 17/30\n",
      "50/50 [==============================] - 21s - loss: 7.0574 - acc: 0.5573 - val_loss: 4.9087 - val_acc: 0.6903\n",
      "Epoch 18/30\n",
      "50/50 [==============================] - 21s - loss: 6.5251 - acc: 0.5907 - val_loss: 5.3223 - val_acc: 0.6637\n",
      "Epoch 19/30\n",
      "50/50 [==============================] - 21s - loss: 6.7164 - acc: 0.5787 - val_loss: 5.1812 - val_acc: 0.6726\n",
      "Epoch 20/30\n",
      "50/50 [==============================] - 21s - loss: 6.6527 - acc: 0.5827 - val_loss: 5.0498 - val_acc: 0.6814\n",
      "Epoch 21/30\n",
      "50/50 [==============================] - 21s - loss: 7.0353 - acc: 0.5587 - val_loss: 4.8990 - val_acc: 0.6903\n",
      "Epoch 22/30\n",
      "50/50 [==============================] - 21s - loss: 6.3559 - acc: 0.6013 - val_loss: 5.3223 - val_acc: 0.6637\n",
      "Epoch 23/30\n",
      "50/50 [==============================] - 21s - loss: 7.0353 - acc: 0.5587 - val_loss: 5.1812 - val_acc: 0.6726\n",
      "Epoch 24/30\n",
      "50/50 [==============================] - 21s - loss: 6.3338 - acc: 0.6027 - val_loss: 5.0401 - val_acc: 0.6814\n",
      "Epoch 25/30\n",
      "50/50 [==============================] - 21s - loss: 7.1212 - acc: 0.5533 - val_loss: 5.0401 - val_acc: 0.6814\n",
      "Epoch 26/30\n",
      "50/50 [==============================] - 21s - loss: 6.6527 - acc: 0.5827 - val_loss: 5.1812 - val_acc: 0.6726\n",
      "Epoch 27/30\n",
      "50/50 [==============================] - 21s - loss: 6.2504 - acc: 0.6079 - val_loss: 5.1909 - val_acc: 0.6726\n",
      "Epoch 28/30\n",
      "50/50 [==============================] - 21s - loss: 6.8661 - acc: 0.5693 - val_loss: 5.0498 - val_acc: 0.6814\n",
      "Epoch 29/30\n",
      "50/50 [==============================] - 21s - loss: 6.8244 - acc: 0.5719 - val_loss: 5.1812 - val_acc: 0.6726\n",
      "Epoch 30/30\n",
      "50/50 [==============================] - 21s - loss: 6.6969 - acc: 0.5799 - val_loss: 5.0498 - val_acc: 0.6814\n",
      "dict_keys(['val_loss', 'val_acc', 'loss', 'acc'])\n"
     ]
    }
   ],
   "source": [
    "#Fitting the model using a batch generator\n",
    "\n",
    "history = model.fit_generator(train_generator, steps_per_epoch=50, epochs = 30, \n",
    "                              validation_data= validation_generator, validation_steps=25)\n",
    "\n",
    "\n",
    "history_dict = history.history\n",
    "print(history_dict.keys())\n",
    "\n",
    "model.save('damage_undamaged_conv1_2.h5')"
   ]
  },
  {
   "cell_type": "code",
   "execution_count": 12,
   "metadata": {},
   "outputs": [
    {
     "data": {
      "image/png": "[encoded data removed]",
      "text/plain": [
       "<matplotlib.figure.Figure at 0x7f0e081f6358>"
      ]
     },
     "metadata": {},
     "output_type": "display_data"
    },
    {
     "data": {
      "image/png": "[encoded data removed]",
      "text/plain": [
       "<matplotlib.figure.Figure at 0x7f0e0808c160>"
      ]
     },
     "metadata": {},
     "output_type": "display_data"
    }
   ],
   "source": [
    "#Displaying curves of loss and accuracy during training \n",
    "\n",
    "import matplotlib.pyplot as plt\n",
    "acc = history.history['acc']\n",
    "val_acc = history.history['val_acc']\n",
    "loss = history.history['loss']\n",
    "val_loss = history.history['val_loss']\n",
    "\n",
    "epochs = range(len(acc))\n",
    "\n",
    "plt.plot(epochs, acc, 'bo')#dots\n",
    "plt.plot(epochs, val_acc, 'b')#line segments\n",
    "plt.title('Training and validation accuracy')\n",
    "plt.figure()\n",
    "\n",
    "plt.plot(epochs, loss, 'bo')\n",
    "plt.plot(epochs, val_loss, 'b')\n",
    "plt.title('Training and validation loss')\n",
    "plt.show()"
   ]
  },
  {
   "cell_type": "code",
   "execution_count": null,
   "metadata": {
    "collapsed": true
   },
   "outputs": [],
   "source": []
  }
 ],
 "metadata": {
  "kernelspec": {
   "display_name": "Python 3",
   "language": "python",
   "name": "python3"
  },
  "language_info": {
   "codemirror_mode": {
    "name": "ipython",
    "version": 3
   },
   "file_extension": ".py",
   "mimetype": "text/x-python",
   "name": "python",
   "nbconvert_exporter": "python",
   "pygments_lexer": "ipython3",
   "version": "3.6.1"
  }
 },
 "nbformat": 4,
 "nbformat_minor": 2
}
