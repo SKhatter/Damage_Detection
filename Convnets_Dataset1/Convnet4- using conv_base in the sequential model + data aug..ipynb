{
 "cells": [
  {
   "cell_type": "code",
   "execution_count": 1,
   "metadata": {
    "collapsed": true
   },
   "outputs": [],
   "source": [
    "import os, shutil"
   ]
  },
  {
   "cell_type": "code",
   "execution_count": 2,
   "metadata": {
    "collapsed": true
   },
   "outputs": [],
   "source": [
    "base_dir = '/home/skhatter/Damage Detection'\n",
    "train_dir = '/home/skhatter/Damage Detection/train'\n",
    "valid_dir = '/home/skhatter/Damage Detection/validation'\n",
    "test_dir = '/home/skhatter/Damage Detection/test'\n",
    "\n",
    "train_dam_dir = '/home/skhatter/Damage Detection/train/damaged'\n",
    "train_undam_dir = '/home/skhatter/Damage Detection/train/undamaged'\n",
    "\n",
    "valid_dam_dir = '/home/skhatter/Damage Detection/validation/damaged'\n",
    "valid_undam_dir = '/home/skhatter/Damage Detection/validation/undamaged'\n",
    "\n",
    "test_dir = '/home/skhatter/Damage Detection/test'"
   ]
  },
  {
   "cell_type": "code",
   "execution_count": 3,
   "metadata": {},
   "outputs": [
    {
     "name": "stdout",
     "output_type": "stream",
     "text": [
      "Total training damaged images 102\n",
      "Total training undamaged images 141\n",
      "Total validation damaged images 10\n",
      "Total validation undamaged images 21\n",
      "Total test damaged images 2\n"
     ]
    }
   ],
   "source": [
    "print('Total training damaged images', len(os.listdir(train_dam_dir)))\n",
    "print('Total training undamaged images', len(os.listdir(train_undam_dir)))\n",
    "\n",
    "print('Total validation damaged images', len(os.listdir(valid_dam_dir)))\n",
    "print('Total validation undamaged images', len(os.listdir(valid_undam_dir)))\n",
    "\n",
    "print('Total test damaged images', len(os.listdir(test_dir)))"
   ]
  },
  {
   "cell_type": "code",
   "execution_count": 4,
   "metadata": {},
   "outputs": [
    {
     "name": "stderr",
     "output_type": "stream",
     "text": [
      "Using TensorFlow backend.\n"
     ]
    }
   ],
   "source": [
    "from keras.applications import VGG16"
   ]
  },
  {
   "cell_type": "code",
   "execution_count": 5,
   "metadata": {
    "collapsed": true,
    "scrolled": false
   },
   "outputs": [],
   "source": [
    "conv_base = VGG16(weights='imagenet', include_top=False, \n",
    "                  input_shape=(512,512,3))"
   ]
  },
  {
   "cell_type": "code",
   "execution_count": 6,
   "metadata": {},
   "outputs": [
    {
     "name": "stdout",
     "output_type": "stream",
     "text": [
      "_________________________________________________________________\n",
      "Layer (type)                 Output Shape              Param #   \n",
      "=================================================================\n",
      "vgg16 (Model)                (None, 16, 16, 512)       14714688  \n",
      "_________________________________________________________________\n",
      "flatten_1 (Flatten)          (None, 131072)            0         \n",
      "_________________________________________________________________\n",
      "dense_1 (Dense)              (None, 256)               33554688  \n",
      "_________________________________________________________________\n",
      "dropout_1 (Dropout)          (None, 256)               0         \n",
      "_________________________________________________________________\n",
      "dense_2 (Dense)              (None, 1)                 257       \n",
      "=================================================================\n",
      "Total params: 48,269,633\n",
      "Trainable params: 48,269,633\n",
      "Non-trainable params: 0\n",
      "_________________________________________________________________\n"
     ]
    }
   ],
   "source": [
    "from keras import models\n",
    "from keras import layers\n",
    "from keras import optimizers\n",
    "\n",
    "model = models.Sequential()\n",
    "model.add(conv_base)\n",
    "model.add(layers.Flatten())\n",
    "model.add(layers.Dense(256, activation='relu'))\n",
    "model.add(layers.Dropout(0.5))\n",
    "model.add(layers.Dense(1, activation='sigmoid'))\n",
    "model.summary()\n"
   ]
  },
  {
   "cell_type": "code",
   "execution_count": 7,
   "metadata": {},
   "outputs": [
    {
     "name": "stdout",
     "output_type": "stream",
     "text": [
      "this is the number of trainable weightsbefore freezing the conv base 30\n",
      "this is the number of trainable weights afterfreezing the conv base 4\n"
     ]
    }
   ],
   "source": [
    "print('this is the number of trainable weights'\n",
    "     'before freezing the conv base', len(model.trainable_weights))\n",
    "conv_base.trainable = False\n",
    "print('this is the number of trainable weights after'\n",
    "      'freezing the conv base', len(model.trainable_weights))"
   ]
  },
  {
   "cell_type": "code",
   "execution_count": 8,
   "metadata": {},
   "outputs": [
    {
     "name": "stdout",
     "output_type": "stream",
     "text": [
      "Found 243 images belonging to 2 classes.\n",
      "Found 31 images belonging to 2 classes.\n"
     ]
    }
   ],
   "source": [
    "from keras.preprocessing.image import ImageDataGenerator\n",
    "\n",
    "train_datagen = ImageDataGenerator(rotation_range=40, \n",
    "                                  width_shift_range=0.2,\n",
    "                                  height_shift_range=0.2,\n",
    "                                  shear_range=0.2,\n",
    "                                  zoom_range=0.2,\n",
    "                                  horizontal_flip=True,\n",
    "                                  fill_mode='nearest')\n",
    "\n",
    "test_datagen = ImageDataGenerator(rescale=1./255)\n",
    "\n",
    "train_generator = train_datagen.flow_from_directory(train_dir,\n",
    "                                                   target_size=(512,512),\n",
    "                                                   batch_size=5,\n",
    "                                                   class_mode='binary')\n",
    "\n",
    "validation_generator = test_datagen.flow_from_directory(valid_dir,\n",
    "                                                       target_size=(512,512),\n",
    "                                                       batch_size=5,\n",
    "                                                       class_mode='binary')"
   ]
  },
  {
   "cell_type": "code",
   "execution_count": 9,
   "metadata": {
    "scrolled": false
   },
   "outputs": [
    {
     "name": "stdout",
     "output_type": "stream",
     "text": [
      "Epoch 1/30\n",
      "50/50 [==============================] - 33s - loss: 9.3171 - acc: 0.4067 - val_loss: 1.2905 - val_acc: 0.3274\n",
      "Epoch 2/30\n",
      "50/50 [==============================] - 29s - loss: 9.2631 - acc: 0.4253 - val_loss: 1.2951 - val_acc: 0.3097\n",
      "Epoch 3/30\n",
      "50/50 [==============================] - 30s - loss: 9.4987 - acc: 0.4107 - val_loss: 1.2882 - val_acc: 0.3186\n",
      "Epoch 4/30\n",
      "50/50 [==============================] - 30s - loss: 9.1987 - acc: 0.4293 - val_loss: 1.2840 - val_acc: 0.3186\n",
      "Epoch 5/30\n",
      "50/50 [==============================] - 30s - loss: 9.3474 - acc: 0.4201 - val_loss: 1.2718 - val_acc: 0.3363\n",
      "Epoch 6/30\n",
      "50/50 [==============================] - 30s - loss: 9.3053 - acc: 0.4227 - val_loss: 1.2580 - val_acc: 0.3274\n",
      "Epoch 7/30\n",
      "50/50 [==============================] - 30s - loss: 9.8633 - acc: 0.3881 - val_loss: 1.2255 - val_acc: 0.3540\n",
      "Epoch 8/30\n",
      "50/50 [==============================] - 30s - loss: 9.1763 - acc: 0.4307 - val_loss: 1.2878 - val_acc: 0.3274\n",
      "Epoch 9/30\n",
      "50/50 [==============================] - 30s - loss: 9.0052 - acc: 0.4413 - val_loss: 1.2861 - val_acc: 0.3274\n",
      "Epoch 10/30\n",
      "50/50 [==============================] - 30s - loss: 9.6922 - acc: 0.3987 - val_loss: 1.2616 - val_acc: 0.3451\n",
      "Epoch 11/30\n",
      "50/50 [==============================] - 30s - loss: 9.2829 - acc: 0.4241 - val_loss: 1.2910 - val_acc: 0.3186\n",
      "Epoch 12/30\n",
      "50/50 [==============================] - 30s - loss: 9.0474 - acc: 0.4387 - val_loss: 1.2887 - val_acc: 0.3274\n",
      "Epoch 13/30\n",
      "50/50 [==============================] - 30s - loss: 9.6698 - acc: 0.4001 - val_loss: 1.2954 - val_acc: 0.3186\n",
      "Epoch 14/30\n",
      "50/50 [==============================] - 30s - loss: 9.4764 - acc: 0.4121 - val_loss: 1.2884 - val_acc: 0.3274\n",
      "Epoch 15/30\n",
      "50/50 [==============================] - 30s - loss: 9.0052 - acc: 0.4413 - val_loss: 1.2603 - val_acc: 0.3363\n",
      "Epoch 16/30\n",
      "50/50 [==============================] - 30s - loss: 9.5632 - acc: 0.4067 - val_loss: 1.2900 - val_acc: 0.3274\n",
      "Epoch 17/30\n",
      "50/50 [==============================] - 30s - loss: 9.7988 - acc: 0.3921 - val_loss: 1.2638 - val_acc: 0.3274\n",
      "Epoch 18/30\n",
      "50/50 [==============================] - 30s - loss: 9.4343 - acc: 0.4147 - val_loss: 1.3101 - val_acc: 0.3009\n",
      "Epoch 19/30\n",
      "50/50 [==============================] - 30s - loss: 8.8118 - acc: 0.4533 - val_loss: 1.2722 - val_acc: 0.3363\n",
      "Epoch 20/30\n",
      "50/50 [==============================] - 30s - loss: 9.7343 - acc: 0.3961 - val_loss: 1.2781 - val_acc: 0.3274\n",
      "Epoch 21/30\n",
      "50/50 [==============================] - 30s - loss: 9.3698 - acc: 0.4187 - val_loss: 1.2975 - val_acc: 0.3186\n",
      "Epoch 22/30\n",
      "50/50 [==============================] - 30s - loss: 8.6828 - acc: 0.4613 - val_loss: 1.3012 - val_acc: 0.3097\n",
      "Epoch 23/30\n",
      "50/50 [==============================] - 30s - loss: 9.5632 - acc: 0.4067 - val_loss: 1.2667 - val_acc: 0.3363\n",
      "Epoch 24/30\n",
      "50/50 [==============================] - 30s - loss: 9.8856 - acc: 0.3867 - val_loss: 1.3077 - val_acc: 0.3009\n",
      "Epoch 25/30\n",
      "50/50 [==============================] - 30s - loss: 9.0250 - acc: 0.4401 - val_loss: 1.2828 - val_acc: 0.3274\n",
      "Epoch 26/30\n",
      "50/50 [==============================] - 30s - loss: 9.6698 - acc: 0.4001 - val_loss: 1.2943 - val_acc: 0.3097\n",
      "Epoch 27/30\n",
      "50/50 [==============================] - 30s - loss: 9.5211 - acc: 0.4093 - val_loss: 1.2741 - val_acc: 0.3274\n",
      "Epoch 28/30\n",
      "50/50 [==============================] - 30s - loss: 8.9184 - acc: 0.4467 - val_loss: 1.2739 - val_acc: 0.3363\n",
      "Epoch 29/30\n",
      "50/50 [==============================] - 30s - loss: 9.3053 - acc: 0.4227 - val_loss: 1.3140 - val_acc: 0.3009\n",
      "Epoch 30/30\n",
      "50/50 [==============================] - 30s - loss: 9.8856 - acc: 0.3867 - val_loss: 1.2984 - val_acc: 0.3186\n"
     ]
    }
   ],
   "source": [
    "model.compile(optimizer=optimizers.RMSprop(lr=1e-4),\n",
    "             loss='binary_crossentropy',\n",
    "             metrics=['acc'])\n",
    "\n",
    "\n",
    "history = model.fit_generator(train_generator, \n",
    "                              steps_per_epoch=50,\n",
    "                              epochs=30,  \n",
    "                    validation_data=validation_generator,\n",
    "                              validation_steps=25)"
   ]
  },
  {
   "cell_type": "code",
   "execution_count": 10,
   "metadata": {
    "scrolled": false
   },
   "outputs": [
    {
     "name": "stdout",
     "output_type": "stream",
     "text": [
      "dict_keys(['val_loss', 'val_acc', 'loss', 'acc'])\n"
     ]
    }
   ],
   "source": [
    "history_dict = history.history\n",
    "print(history_dict.keys())\n",
    "\n",
    "model.save('damage_undamaged_conv4_vgg.h5')"
   ]
  },
  {
   "cell_type": "code",
   "execution_count": 11,
   "metadata": {},
   "outputs": [
    {
     "data": {
      "image/png": "[encoded data removed]",
      "text/plain": [
       "<matplotlib.figure.Figure at 0x7f1a1ddad588>"
      ]
     },
     "metadata": {},
     "output_type": "display_data"
    },
    {
     "data": {
      "image/png": "[encoded data removed]",
      "text/plain": [
       "<matplotlib.figure.Figure at 0x7f19fc0edfd0>"
      ]
     },
     "metadata": {},
     "output_type": "display_data"
    }
   ],
   "source": [
    "#Displaying curves of loss and accuracy during training \n",
    "\n",
    "import matplotlib.pyplot as plt\n",
    "acc = history.history['acc']\n",
    "val_acc = history.history['val_acc']\n",
    "loss = history.history['loss']\n",
    "val_loss = history.history['val_loss']\n",
    "\n",
    "epochs = range(len(acc))\n",
    "\n",
    "plt.plot(epochs, acc, 'bo')#dots\n",
    "plt.plot(epochs, val_acc, 'b')#line segments\n",
    "plt.title('Training and validation accuracy')\n",
    "plt.figure()\n",
    "\n",
    "plt.plot(epochs, loss, 'bo')\n",
    "plt.plot(epochs, val_loss, 'b')\n",
    "plt.title('Training and validation loss')\n",
    "plt.show()"
   ]
  },
  {
   "cell_type": "code",
   "execution_count": 12,
   "metadata": {},
   "outputs": [
    {
     "name": "stdout",
     "output_type": "stream",
     "text": [
      "Epoch 1/20\n",
      "50/50 [==============================] - 28s - loss: 9.0474 - acc: 0.4387 - val_loss: 1.2804 - val_acc: 0.3186\n",
      "Epoch 2/20\n",
      "50/50 [==============================] - 30s - loss: 9.2408 - acc: 0.4267 - val_loss: 1.2751 - val_acc: 0.3274\n",
      "Epoch 3/20\n",
      "50/50 [==============================] - 30s - loss: 9.3698 - acc: 0.4187 - val_loss: 1.2775 - val_acc: 0.3186\n",
      "Epoch 4/20\n",
      "50/50 [==============================] - 30s - loss: 9.8633 - acc: 0.3881 - val_loss: 1.3090 - val_acc: 0.3009\n",
      "Epoch 5/20\n",
      "50/50 [==============================] - 30s - loss: 8.9407 - acc: 0.4453 - val_loss: 1.3032 - val_acc: 0.3097\n",
      "Epoch 6/20\n",
      "50/50 [==============================] - 30s - loss: 9.4566 - acc: 0.4133 - val_loss: 1.2624 - val_acc: 0.3274\n",
      "Epoch 7/20\n",
      "50/50 [==============================] - 30s - loss: 9.4343 - acc: 0.4147 - val_loss: 1.2435 - val_acc: 0.3451\n",
      "Epoch 8/20\n",
      "50/50 [==============================] - 30s - loss: 9.3474 - acc: 0.4201 - val_loss: 1.2885 - val_acc: 0.3186\n",
      "Epoch 9/20\n",
      "50/50 [==============================] - 30s - loss: 9.3910 - acc: 0.4174 - val_loss: 1.2969 - val_acc: 0.3186\n",
      "Epoch 10/20\n",
      "50/50 [==============================] - 30s - loss: 9.3276 - acc: 0.4213 - val_loss: 1.2730 - val_acc: 0.3274\n",
      "Epoch 11/20\n",
      "50/50 [==============================] - 30s - loss: 9.4343 - acc: 0.4147 - val_loss: 1.2711 - val_acc: 0.3274\n",
      "Epoch 12/20\n",
      "50/50 [==============================] - 30s - loss: 9.1342 - acc: 0.4333 - val_loss: 1.2906 - val_acc: 0.3186\n",
      "Epoch 13/20\n",
      "50/50 [==============================] - 30s - loss: 9.4566 - acc: 0.4133 - val_loss: 1.2917 - val_acc: 0.3274\n",
      "Epoch 14/20\n",
      "50/50 [==============================] - 30s - loss: 9.2631 - acc: 0.4253 - val_loss: 1.2958 - val_acc: 0.3186\n",
      "Epoch 15/20\n",
      "50/50 [==============================] - 30s - loss: 9.4987 - acc: 0.4107 - val_loss: 1.3048 - val_acc: 0.3097\n",
      "Epoch 16/20\n",
      "50/50 [==============================] - 30s - loss: 9.0697 - acc: 0.4373 - val_loss: 1.2737 - val_acc: 0.3363\n",
      "Epoch 17/20\n",
      "50/50 [==============================] - 30s - loss: 9.7790 - acc: 0.3933 - val_loss: 1.2690 - val_acc: 0.3363\n",
      "Epoch 18/20\n",
      "50/50 [==============================] - 30s - loss: 9.2185 - acc: 0.4281 - val_loss: 1.2773 - val_acc: 0.3274\n",
      "Epoch 19/20\n",
      "50/50 [==============================] - 30s - loss: 9.4119 - acc: 0.4161 - val_loss: 1.2653 - val_acc: 0.3186\n",
      "Epoch 20/20\n",
      "50/50 [==============================] - 30s - loss: 8.9407 - acc: 0.4453 - val_loss: 1.2706 - val_acc: 0.3363\n",
      "dict_keys(['val_loss', 'val_acc', 'loss', 'acc'])\n"
     ]
    }
   ],
   "source": [
    "history = model.fit_generator(train_generator, \n",
    "                              steps_per_epoch=50,\n",
    "                              epochs=20,  \n",
    "                    validation_data=validation_generator,\n",
    "                              validation_steps=25)\n",
    "history_dict = history.history\n",
    "print(history_dict.keys())\n",
    "\n",
    "model.save('damage_undamaged_conv4_2_vgg.h5')"
   ]
  },
  {
   "cell_type": "code",
   "execution_count": 13,
   "metadata": {},
   "outputs": [
    {
     "data": {
      "image/png": "[encoded data removed]",
      "text/plain": [
       "<matplotlib.figure.Figure at 0x7f19fc03ff28>"
      ]
     },
     "metadata": {},
     "output_type": "display_data"
    },
    {
     "data": {
      "image/png": "[encoded data removed]",
      "text/plain": [
       "<matplotlib.figure.Figure at 0x7f19c01c0ef0>"
      ]
     },
     "metadata": {},
     "output_type": "display_data"
    }
   ],
   "source": [
    "#Displaying curves of loss and accuracy during training \n",
    "\n",
    "import matplotlib.pyplot as plt\n",
    "acc = history.history['acc']\n",
    "val_acc = history.history['val_acc']\n",
    "loss = history.history['loss']\n",
    "val_loss = history.history['val_loss']\n",
    "\n",
    "epochs = range(len(acc))\n",
    "\n",
    "plt.plot(epochs, acc, 'bo')#dots\n",
    "plt.plot(epochs, val_acc, 'b')#line segments\n",
    "plt.title('Training and validation accuracy')\n",
    "plt.figure()\n",
    "\n",
    "plt.plot(epochs, loss, 'bo')\n",
    "plt.plot(epochs, val_loss, 'b')\n",
    "plt.title('Training and validation loss')\n",
    "plt.show()"
   ]
  },
  {
   "cell_type": "code",
   "execution_count": null,
   "metadata": {
    "collapsed": true
   },
   "outputs": [],
   "source": []
  }
 ],
 "metadata": {
  "kernelspec": {
   "display_name": "Python 3",
   "language": "python",
   "name": "python3"
  },
  "language_info": {
   "codemirror_mode": {
    "name": "ipython",
    "version": 3
   },
   "file_extension": ".py",
   "mimetype": "text/x-python",
   "name": "python",
   "nbconvert_exporter": "python",
   "pygments_lexer": "ipython3",
   "version": "3.6.1"
  }
 },
 "nbformat": 4,
 "nbformat_minor": 2
}
