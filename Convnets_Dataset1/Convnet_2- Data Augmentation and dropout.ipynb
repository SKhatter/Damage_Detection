{
 "cells": [
  {
   "cell_type": "code",
   "execution_count": 1,
   "metadata": {
    "collapsed": true
   },
   "outputs": [],
   "source": [
    "import os, shutil"
   ]
  },
  {
   "cell_type": "code",
   "execution_count": 2,
   "metadata": {
    "collapsed": true
   },
   "outputs": [],
   "source": [
    "base_dir = '/home/skhatter/Damage Detection'\n",
    "train_dir = '/home/skhatter/Damage Detection/train'\n",
    "valid_dir = '/home/skhatter/Damage Detection/validation'\n",
    "test_dir = '/home/skhatter/Damage Detection/test'\n",
    "\n",
    "train_dam_dir = '/home/skhatter/Damage Detection/train/damaged'\n",
    "train_undam_dir = '/home/skhatter/Damage Detection/train/undamaged'\n",
    "\n",
    "valid_dam_dir = '/home/skhatter/Damage Detection/validation/damaged'\n",
    "valid_undam_dir = '/home/skhatter/Damage Detection/validation/undamaged'\n",
    "\n",
    "test_dir = '/home/skhatter/Damage Detection/test'"
   ]
  },
  {
   "cell_type": "code",
   "execution_count": 3,
   "metadata": {},
   "outputs": [
    {
     "name": "stdout",
     "output_type": "stream",
     "text": [
      "Total training damaged images 102\n",
      "Total training undamaged images 141\n",
      "Total validation damaged images 10\n",
      "Total validation undamaged images 21\n",
      "Total test damaged images 2\n"
     ]
    }
   ],
   "source": [
    "print('Total training damaged images', len(os.listdir(train_dam_dir)))\n",
    "print('Total training undamaged images', len(os.listdir(train_undam_dir)))\n",
    "\n",
    "print('Total validation damaged images', len(os.listdir(valid_dam_dir)))\n",
    "print('Total validation undamaged images', len(os.listdir(valid_undam_dir)))\n",
    "\n",
    "print('Total test damaged images', len(os.listdir(test_dir)))"
   ]
  },
  {
   "cell_type": "code",
   "execution_count": 4,
   "metadata": {},
   "outputs": [
    {
     "name": "stderr",
     "output_type": "stream",
     "text": [
      "Using TensorFlow backend.\n"
     ]
    }
   ],
   "source": [
    "from keras import layers\n",
    "from keras import models"
   ]
  },
  {
   "cell_type": "code",
   "execution_count": 5,
   "metadata": {},
   "outputs": [
    {
     "name": "stdout",
     "output_type": "stream",
     "text": [
      "_________________________________________________________________\n",
      "Layer (type)                 Output Shape              Param #   \n",
      "=================================================================\n",
      "conv2d_1 (Conv2D)            (None, 510, 510, 100)     2800      \n",
      "_________________________________________________________________\n",
      "max_pooling2d_1 (MaxPooling2 (None, 255, 255, 100)     0         \n",
      "_________________________________________________________________\n",
      "conv2d_2 (Conv2D)            (None, 253, 253, 200)     180200    \n",
      "_________________________________________________________________\n",
      "max_pooling2d_2 (MaxPooling2 (None, 126, 126, 200)     0         \n",
      "_________________________________________________________________\n",
      "conv2d_3 (Conv2D)            (None, 124, 124, 200)     360200    \n",
      "_________________________________________________________________\n",
      "max_pooling2d_3 (MaxPooling2 (None, 62, 62, 200)       0         \n",
      "_________________________________________________________________\n",
      "conv2d_4 (Conv2D)            (None, 60, 60, 200)       360200    \n",
      "_________________________________________________________________\n",
      "max_pooling2d_4 (MaxPooling2 (None, 30, 30, 200)       0         \n",
      "_________________________________________________________________\n",
      "flatten_1 (Flatten)          (None, 180000)            0         \n",
      "_________________________________________________________________\n",
      "dropout_1 (Dropout)          (None, 180000)            0         \n",
      "_________________________________________________________________\n",
      "dense_1 (Dense)              (None, 512)               92160512  \n",
      "_________________________________________________________________\n",
      "dense_2 (Dense)              (None, 1)                 513       \n",
      "=================================================================\n",
      "Total params: 93,064,425\n",
      "Trainable params: 93,064,425\n",
      "Non-trainable params: 0\n",
      "_________________________________________________________________\n"
     ]
    }
   ],
   "source": [
    "model = models.Sequential()\n",
    "model.add(layers.Conv2D(100, (3,3), activation ='relu', input_shape = (512, 512, 3)))\n",
    "model.add(layers.MaxPooling2D((2,2)))\n",
    "model.add(layers.Conv2D(200, (3,3), activation ='relu'))\n",
    "model.add(layers.MaxPooling2D((2,2)))\n",
    "model.add(layers.Conv2D(200, (3,3), activation='relu'))\n",
    "model.add(layers.MaxPooling2D((2,2)))\n",
    "model.add(layers.Conv2D(200, (3,3), activation='relu'))\n",
    "model.add(layers.MaxPooling2D((2,2)))\n",
    "model.add(layers.Flatten())\n",
    "model.add(layers.Dropout(0.5))\n",
    "model.add(layers.Dense(512, activation = 'relu'))\n",
    "model.add(layers.Dense(1, activation = 'sigmoid'))\n",
    "model.summary()"
   ]
  },
  {
   "cell_type": "code",
   "execution_count": 6,
   "metadata": {
    "collapsed": true
   },
   "outputs": [],
   "source": [
    "from keras import optimizers"
   ]
  },
  {
   "cell_type": "code",
   "execution_count": 7,
   "metadata": {
    "collapsed": true
   },
   "outputs": [],
   "source": [
    "model.compile(loss = 'binary_crossentropy', optimizer = optimizers.RMSprop(lr=1e-4), metrics=['acc'])"
   ]
  },
  {
   "cell_type": "code",
   "execution_count": 8,
   "metadata": {},
   "outputs": [
    {
     "name": "stdout",
     "output_type": "stream",
     "text": [
      "Found 243 images belonging to 2 classes.\n",
      "Found 31 images belonging to 2 classes.\n",
      "train data batch:  (5, 512, 512, 3)\n",
      "train label batch:  (5,)\n",
      "validation data batch:  (5, 512, 512, 3)\n",
      "validation label batch (5,)\n"
     ]
    }
   ],
   "source": [
    "from keras.preprocessing.image import ImageDataGenerator\n",
    "\n",
    "train_datagen = ImageDataGenerator(rescale = 1./255, rotation_range=40,width_shift_range=0.2,\n",
    "                                  height_shift_range=0.2,\n",
    "                                  shear_range=0.2,\n",
    "                                  zoom_range=0.2,\n",
    "                                  horizontal_flip=True)\n",
    "test_datagen= ImageDataGenerator(rescale = 1./255)\n",
    "\n",
    "train_generator = train_datagen.flow_from_directory(train_dir, target_size=(512, 512), batch_size =5,\n",
    "                                                    class_mode='binary')\n",
    "validation_generator = test_datagen.flow_from_directory(valid_dir, target_size = (512, 512),\n",
    "                                                        batch_size = 5, class_mode='binary')\n",
    "\n",
    "\n",
    "#displaying the shapes of batch of data and labels\n",
    "for data_batch, labels_batch in train_generator:\n",
    "    print('train data batch: ', data_batch.shape)\n",
    "    print('train label batch: ', labels_batch.shape)\n",
    "    break\n",
    "    \n",
    "for data_batch, labels_batch in validation_generator:\n",
    "    print('validation data batch: ', data_batch.shape)\n",
    "    print('validation label batch', labels_batch.shape)\n",
    "    break"
   ]
  },
  {
   "cell_type": "code",
   "execution_count": 9,
   "metadata": {
    "scrolled": false
   },
   "outputs": [
    {
     "name": "stdout",
     "output_type": "stream",
     "text": [
      "Epoch 1/30\n",
      "50/50 [==============================] - 16s - loss: 0.8209 - acc: 0.5227 - val_loss: 0.6410 - val_acc: 0.6637\n",
      "Epoch 2/30\n",
      "50/50 [==============================] - 13s - loss: 0.7037 - acc: 0.5241 - val_loss: 0.7046 - val_acc: 0.3097\n",
      "Epoch 3/30\n",
      "50/50 [==============================] - 13s - loss: 0.6967 - acc: 0.5533 - val_loss: 0.6890 - val_acc: 0.6814\n",
      "Epoch 4/30\n",
      "50/50 [==============================] - 14s - loss: 0.7010 - acc: 0.5853 - val_loss: 0.6558 - val_acc: 0.6637\n",
      "Epoch 5/30\n",
      "50/50 [==============================] - 14s - loss: 0.6951 - acc: 0.5827 - val_loss: 0.6500 - val_acc: 0.6637\n",
      "Epoch 6/30\n",
      "50/50 [==============================] - 14s - loss: 0.6922 - acc: 0.5787 - val_loss: 0.6267 - val_acc: 0.6726\n",
      "Epoch 7/30\n",
      "50/50 [==============================] - 14s - loss: 0.6818 - acc: 0.5067 - val_loss: 0.6922 - val_acc: 0.6814\n",
      "Epoch 8/30\n",
      "50/50 [==============================] - 14s - loss: 0.6957 - acc: 0.5679 - val_loss: 0.6739 - val_acc: 0.6726\n",
      "Epoch 9/30\n",
      "50/50 [==============================] - 14s - loss: 0.6912 - acc: 0.5667 - val_loss: 0.6776 - val_acc: 0.6726\n",
      "Epoch 10/30\n",
      "50/50 [==============================] - 14s - loss: 0.6845 - acc: 0.5587 - val_loss: 0.6869 - val_acc: 0.6726\n",
      "Epoch 11/30\n",
      "50/50 [==============================] - 14s - loss: 0.7006 - acc: 0.5773 - val_loss: 0.6377 - val_acc: 0.6991\n",
      "Epoch 12/30\n",
      "50/50 [==============================] - 14s - loss: 0.6915 - acc: 0.5521 - val_loss: 0.6700 - val_acc: 0.6903\n",
      "Epoch 13/30\n",
      "50/50 [==============================] - 14s - loss: 0.6846 - acc: 0.5347 - val_loss: 0.6667 - val_acc: 0.6814\n",
      "Epoch 14/30\n",
      "50/50 [==============================] - 14s - loss: 0.6941 - acc: 0.5853 - val_loss: 0.6745 - val_acc: 0.6814\n",
      "Epoch 15/30\n",
      "50/50 [==============================] - 14s - loss: 0.6971 - acc: 0.5867 - val_loss: 0.6386 - val_acc: 0.6726\n",
      "Epoch 16/30\n",
      "50/50 [==============================] - 14s - loss: 0.6867 - acc: 0.5787 - val_loss: 0.6771 - val_acc: 0.6814\n",
      "Epoch 17/30\n",
      "50/50 [==============================] - 14s - loss: 0.6930 - acc: 0.5387 - val_loss: 0.6683 - val_acc: 0.6549\n",
      "Epoch 18/30\n",
      "50/50 [==============================] - 14s - loss: 0.6831 - acc: 0.5987 - val_loss: 0.6206 - val_acc: 0.6903\n",
      "Epoch 19/30\n",
      "50/50 [==============================] - 14s - loss: 0.6877 - acc: 0.5733 - val_loss: 0.6608 - val_acc: 0.6903\n",
      "Epoch 20/30\n",
      "50/50 [==============================] - 14s - loss: 0.6992 - acc: 0.5521 - val_loss: 0.6494 - val_acc: 0.6814\n",
      "Epoch 21/30\n",
      "50/50 [==============================] - 14s - loss: 0.6881 - acc: 0.5653 - val_loss: 0.6184 - val_acc: 0.6814\n",
      "Epoch 22/30\n",
      "50/50 [==============================] - 14s - loss: 0.6900 - acc: 0.5787 - val_loss: 0.6132 - val_acc: 0.6903\n",
      "Epoch 23/30\n",
      "50/50 [==============================] - 14s - loss: 0.6890 - acc: 0.5907 - val_loss: 0.6606 - val_acc: 0.6637\n",
      "Epoch 24/30\n",
      "50/50 [==============================] - 14s - loss: 0.6858 - acc: 0.5839 - val_loss: 0.6097 - val_acc: 0.6903\n",
      "Epoch 25/30\n",
      "50/50 [==============================] - 14s - loss: 0.6960 - acc: 0.5387 - val_loss: 0.6730 - val_acc: 0.6726\n",
      "Epoch 26/30\n",
      "50/50 [==============================] - 14s - loss: 0.6880 - acc: 0.5759 - val_loss: 0.6596 - val_acc: 0.6814\n",
      "Epoch 27/30\n",
      "50/50 [==============================] - 14s - loss: 0.6826 - acc: 0.5959 - val_loss: 0.6478 - val_acc: 0.6549\n",
      "Epoch 28/30\n",
      "50/50 [==============================] - 14s - loss: 0.6810 - acc: 0.5947 - val_loss: 0.6503 - val_acc: 0.6726\n",
      "Epoch 29/30\n",
      "50/50 [==============================] - 14s - loss: 0.6913 - acc: 0.5667 - val_loss: 0.6474 - val_acc: 0.6991\n",
      "Epoch 30/30\n",
      "50/50 [==============================] - 14s - loss: 0.6825 - acc: 0.6001 - val_loss: 0.6387 - val_acc: 0.6814\n",
      "dict_keys(['val_loss', 'val_acc', 'loss', 'acc'])\n"
     ]
    }
   ],
   "source": [
    "#Fitting the model using a batch generator\n",
    "\n",
    "history = model.fit_generator(train_generator, steps_per_epoch=50, epochs = 30, \n",
    "                              validation_data= validation_generator, validation_steps=25)\n",
    "\n",
    "\n",
    "history_dict = history.history\n",
    "print(history_dict.keys())\n",
    "\n",
    "model.save('damage_undamaged_conv2.h5')"
   ]
  },
  {
   "cell_type": "code",
   "execution_count": 10,
   "metadata": {},
   "outputs": [
    {
     "data": {
      "image/png": "[encoded data removed]",
      "text/plain": [
       "<matplotlib.figure.Figure at 0x7f9329652e48>"
      ]
     },
     "metadata": {},
     "output_type": "display_data"
    },
    {
     "data": {
      "image/png": "[encoded data removed]",
      "text/plain": [
       "<matplotlib.figure.Figure at 0x7f92f8149400>"
      ]
     },
     "metadata": {},
     "output_type": "display_data"
    }
   ],
   "source": [
    "#Displaying curves of loss and accuracy during training \n",
    "\n",
    "import matplotlib.pyplot as plt\n",
    "acc = history.history['acc']\n",
    "val_acc = history.history['val_acc']\n",
    "loss = history.history['loss']\n",
    "val_loss = history.history['val_loss']\n",
    "\n",
    "epochs = range(len(acc))\n",
    "\n",
    "plt.plot(epochs, acc, 'bo')#dots\n",
    "plt.plot(epochs, val_acc, 'b')#line segments\n",
    "plt.title('Training and validation accuracy')\n",
    "plt.figure()\n",
    "\n",
    "plt.plot(epochs, loss, 'bo')\n",
    "plt.plot(epochs, val_loss, 'b')\n",
    "plt.title('Training and validation loss')\n",
    "plt.show()"
   ]
  },
  {
   "cell_type": "code",
   "execution_count": 11,
   "metadata": {},
   "outputs": [
    {
     "name": "stdout",
     "output_type": "stream",
     "text": [
      "Epoch 1/30\n",
      "50/50 [==============================] - 13s - loss: 0.6908 - acc: 0.5453 - val_loss: 0.6664 - val_acc: 0.6814\n",
      "Epoch 2/30\n",
      "50/50 [==============================] - 13s - loss: 0.6862 - acc: 0.6039 - val_loss: 0.6562 - val_acc: 0.6637\n",
      "Epoch 3/30\n",
      "50/50 [==============================] - 13s - loss: 0.6832 - acc: 0.5801 - val_loss: 0.6471 - val_acc: 0.6991\n",
      "Epoch 4/30\n",
      "50/50 [==============================] - 14s - loss: 0.6933 - acc: 0.5599 - val_loss: 0.6480 - val_acc: 0.6637\n",
      "Epoch 5/30\n",
      "50/50 [==============================] - 14s - loss: 0.6870 - acc: 0.5787 - val_loss: 0.6732 - val_acc: 0.6637\n",
      "Epoch 6/30\n",
      "50/50 [==============================] - 14s - loss: 0.6879 - acc: 0.5879 - val_loss: 0.6591 - val_acc: 0.6814\n",
      "Epoch 7/30\n",
      "50/50 [==============================] - 14s - loss: 0.6863 - acc: 0.5879 - val_loss: 0.6692 - val_acc: 0.6549\n",
      "Epoch 8/30\n",
      "50/50 [==============================] - 14s - loss: 0.6863 - acc: 0.5866 - val_loss: 0.6776 - val_acc: 0.6991\n",
      "Epoch 9/30\n",
      "50/50 [==============================] - 14s - loss: 0.7227 - acc: 0.5799 - val_loss: 0.6136 - val_acc: 0.6814\n",
      "Epoch 10/30\n",
      "50/50 [==============================] - 14s - loss: 0.6953 - acc: 0.5627 - val_loss: 0.6447 - val_acc: 0.6637\n",
      "Epoch 11/30\n",
      "50/50 [==============================] - 14s - loss: 0.6794 - acc: 0.5733 - val_loss: 1.3677 - val_acc: 0.6637\n",
      "Epoch 12/30\n",
      "50/50 [==============================] - 14s - loss: 0.7025 - acc: 0.5667 - val_loss: 0.6597 - val_acc: 0.6195\n",
      "Epoch 13/30\n",
      "50/50 [==============================] - 14s - loss: 0.6859 - acc: 0.5681 - val_loss: 0.6424 - val_acc: 0.6549\n",
      "Epoch 14/30\n",
      "50/50 [==============================] - 14s - loss: 0.6988 - acc: 0.6041 - val_loss: 0.6426 - val_acc: 0.6991\n",
      "Epoch 15/30\n",
      "50/50 [==============================] - 14s - loss: 0.6813 - acc: 0.5721 - val_loss: 0.6467 - val_acc: 0.6991\n",
      "Epoch 16/30\n",
      "50/50 [==============================] - 14s - loss: 0.6821 - acc: 0.5799 - val_loss: 0.6572 - val_acc: 0.6106\n",
      "Epoch 17/30\n",
      "50/50 [==============================] - 14s - loss: 0.6814 - acc: 0.5667 - val_loss: 0.6424 - val_acc: 0.6903\n",
      "Epoch 18/30\n",
      "50/50 [==============================] - 14s - loss: 0.6635 - acc: 0.5959 - val_loss: 0.6121 - val_acc: 0.6903\n",
      "Epoch 19/30\n",
      "50/50 [==============================] - 14s - loss: 0.6860 - acc: 0.5187 - val_loss: 0.6953 - val_acc: 0.3274\n",
      "Epoch 20/30\n",
      "50/50 [==============================] - 14s - loss: 0.6783 - acc: 0.5627 - val_loss: 0.6434 - val_acc: 0.6549\n",
      "Epoch 21/30\n",
      "50/50 [==============================] - 14s - loss: 0.6810 - acc: 0.5827 - val_loss: 0.6462 - val_acc: 0.6106\n",
      "Epoch 22/30\n",
      "50/50 [==============================] - 14s - loss: 0.6788 - acc: 0.5693 - val_loss: 0.6789 - val_acc: 0.6195\n",
      "Epoch 23/30\n",
      "50/50 [==============================] - 14s - loss: 0.6813 - acc: 0.5479 - val_loss: 0.6234 - val_acc: 0.6726\n",
      "Epoch 24/30\n",
      "50/50 [==============================] - 14s - loss: 0.6548 - acc: 0.6027 - val_loss: 0.6174 - val_acc: 0.6283\n",
      "Epoch 25/30\n",
      "50/50 [==============================] - 14s - loss: 0.6945 - acc: 0.5813 - val_loss: 0.6065 - val_acc: 0.6549\n",
      "Epoch 26/30\n",
      "50/50 [==============================] - 14s - loss: 0.6803 - acc: 0.6227 - val_loss: 0.6906 - val_acc: 0.6372\n",
      "Epoch 27/30\n",
      "50/50 [==============================] - 14s - loss: 0.6582 - acc: 0.5627 - val_loss: 0.6601 - val_acc: 0.6018\n",
      "Epoch 28/30\n",
      "50/50 [==============================] - 14s - loss: 0.6891 - acc: 0.6333 - val_loss: 0.6345 - val_acc: 0.6372\n",
      "Epoch 29/30\n",
      "50/50 [==============================] - 14s - loss: 0.6633 - acc: 0.6173 - val_loss: 0.6306 - val_acc: 0.6726\n",
      "Epoch 30/30\n",
      "50/50 [==============================] - 14s - loss: 0.6664 - acc: 0.6067 - val_loss: 0.6474 - val_acc: 0.6372\n",
      "dict_keys(['val_loss', 'val_acc', 'loss', 'acc'])\n"
     ]
    }
   ],
   "source": [
    "#Fitting the model using a batch generator\n",
    "\n",
    "history = model.fit_generator(train_generator, steps_per_epoch=50, epochs = 30, \n",
    "                              validation_data= validation_generator, validation_steps=25)\n",
    "\n",
    "\n",
    "history_dict = history.history\n",
    "print(history_dict.keys())\n",
    "\n",
    "model.save('damage_undamaged_conv2_2.h5')"
   ]
  },
  {
   "cell_type": "code",
   "execution_count": 12,
   "metadata": {},
   "outputs": [
    {
     "data": {
      "image/png": "[encoded data removed]",
      "text/plain": [
       "<matplotlib.figure.Figure at 0x7f92f80e2780>"
      ]
     },
     "metadata": {},
     "output_type": "display_data"
    },
    {
     "data": {
      "image/png": "[encoded data removed]",
      "text/plain": [
       "<matplotlib.figure.Figure at 0x7f92f07e1668>"
      ]
     },
     "metadata": {},
     "output_type": "display_data"
    }
   ],
   "source": [
    "#Displaying curves of loss and accuracy during training \n",
    "\n",
    "import matplotlib.pyplot as plt\n",
    "acc = history.history['acc']\n",
    "val_acc = history.history['val_acc']\n",
    "loss = history.history['loss']\n",
    "val_loss = history.history['val_loss']\n",
    "\n",
    "epochs = range(len(acc))\n",
    "\n",
    "plt.plot(epochs, acc, 'bo')#dots\n",
    "plt.plot(epochs, val_acc, 'b')#line segments\n",
    "plt.title('Training and validation accuracy')\n",
    "plt.figure()\n",
    "\n",
    "plt.plot(epochs, loss, 'bo')\n",
    "plt.plot(epochs, val_loss, 'b')\n",
    "plt.title('Training and validation loss')\n",
    "plt.show()"
   ]
  },
  {
   "cell_type": "code",
   "execution_count": null,
   "metadata": {
    "collapsed": true
   },
   "outputs": [],
   "source": []
  }
 ],
 "metadata": {
  "kernelspec": {
   "display_name": "Python 3",
   "language": "python",
   "name": "python3"
  },
  "language_info": {
   "codemirror_mode": {
    "name": "ipython",
    "version": 3
   },
   "file_extension": ".py",
   "mimetype": "text/x-python",
   "name": "python",
   "nbconvert_exporter": "python",
   "pygments_lexer": "ipython3",
   "version": "3.6.1"
  }
 },
 "nbformat": 4,
 "nbformat_minor": 2
}
