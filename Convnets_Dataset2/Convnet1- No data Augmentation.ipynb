{
 "cells": [
  {
   "cell_type": "code",
   "execution_count": 1,
   "metadata": {
    "collapsed": true
   },
   "outputs": [],
   "source": [
    "import os, shutil"
   ]
  },
  {
   "cell_type": "code",
   "execution_count": 2,
   "metadata": {
    "collapsed": true
   },
   "outputs": [],
   "source": [
    "base_dir = '/home/skhatter/Damage_Detection_New'\n",
    "train_dir = '/home/skhatter/Damage_Detection_New/train'\n",
    "valid_dir = '/home/skhatter/Damage Detection/validation'\n",
    "test_dir = '/home/skhatter/Damage Detection/test'\n",
    "\n",
    "train_dam_dir = '/home/skhatter/Damage_Detection_New/train/damaged'\n",
    "train_undam_dir = '/home/skhatter/Damage_Detection_New/train/undamaged'\n",
    "\n",
    "valid_dam_dir = '/home/skhatter/Damage Detection/validation/damaged'\n",
    "valid_undam_dir = '/home/skhatter/Damage Detection/validation/undamaged'\n",
    "\n",
    "test_dir = '/home/skhatter/Damage Detection/test'"
   ]
  },
  {
   "cell_type": "code",
   "execution_count": 3,
   "metadata": {},
   "outputs": [
    {
     "name": "stdout",
     "output_type": "stream",
     "text": [
      "Total training damaged images 100\n",
      "Total training undamaged images 294\n",
      "Total validation damaged images 10\n",
      "Total validation undamaged images 21\n",
      "Total test damaged images 2\n"
     ]
    }
   ],
   "source": [
    "print('Total training damaged images', len(os.listdir(train_dam_dir)))\n",
    "print('Total training undamaged images', len(os.listdir(train_undam_dir)))\n",
    "\n",
    "print('Total validation damaged images', len(os.listdir(valid_dam_dir)))\n",
    "print('Total validation undamaged images', len(os.listdir(valid_undam_dir)))\n",
    "\n",
    "print('Total test damaged images', len(os.listdir(test_dir)))"
   ]
  },
  {
   "cell_type": "code",
   "execution_count": 4,
   "metadata": {},
   "outputs": [
    {
     "name": "stderr",
     "output_type": "stream",
     "text": [
      "Using TensorFlow backend.\n"
     ]
    }
   ],
   "source": [
    "from keras import layers\n",
    "from keras import models"
   ]
  },
  {
   "cell_type": "code",
   "execution_count": 5,
   "metadata": {},
   "outputs": [
    {
     "name": "stdout",
     "output_type": "stream",
     "text": [
      "_________________________________________________________________\n",
      "Layer (type)                 Output Shape              Param #   \n",
      "=================================================================\n",
      "conv2d_1 (Conv2D)            (None, 510, 510, 100)     2800      \n",
      "_________________________________________________________________\n",
      "max_pooling2d_1 (MaxPooling2 (None, 255, 255, 100)     0         \n",
      "_________________________________________________________________\n",
      "conv2d_2 (Conv2D)            (None, 253, 253, 200)     180200    \n",
      "_________________________________________________________________\n",
      "max_pooling2d_2 (MaxPooling2 (None, 126, 126, 200)     0         \n",
      "_________________________________________________________________\n",
      "conv2d_3 (Conv2D)            (None, 124, 124, 200)     360200    \n",
      "_________________________________________________________________\n",
      "max_pooling2d_3 (MaxPooling2 (None, 62, 62, 200)       0         \n",
      "_________________________________________________________________\n",
      "flatten_1 (Flatten)          (None, 768800)            0         \n",
      "_________________________________________________________________\n",
      "dense_1 (Dense)              (None, 512)               393626112 \n",
      "_________________________________________________________________\n",
      "dense_2 (Dense)              (None, 1)                 513       \n",
      "=================================================================\n",
      "Total params: 394,169,825\n",
      "Trainable params: 394,169,825\n",
      "Non-trainable params: 0\n",
      "_________________________________________________________________\n"
     ]
    }
   ],
   "source": [
    "model = models.Sequential()\n",
    "model.add(layers.Conv2D(100, (3,3), activation ='relu', input_shape = (512, 512, 3)))\n",
    "model.add(layers.MaxPooling2D((2,2)))\n",
    "model.add(layers.Conv2D(200, (3,3), activation ='relu'))\n",
    "model.add(layers.MaxPooling2D((2,2)))\n",
    "model.add(layers.Conv2D(200, (3,3), activation='relu'))\n",
    "model.add(layers.MaxPooling2D((2,2)))\n",
    "model.add(layers.Flatten())\n",
    "model.add(layers.Dense(512, activation = 'relu'))\n",
    "model.add(layers.Dense(1, activation = 'sigmoid'))\n",
    "model.summary()"
   ]
  },
  {
   "cell_type": "code",
   "execution_count": 6,
   "metadata": {
    "collapsed": true
   },
   "outputs": [],
   "source": [
    "from keras import optimizers"
   ]
  },
  {
   "cell_type": "code",
   "execution_count": 7,
   "metadata": {
    "collapsed": true
   },
   "outputs": [],
   "source": [
    "model.compile(loss = 'binary_crossentropy', optimizer = optimizers.RMSprop(lr=1e-4), metrics=['acc'])"
   ]
  },
  {
   "cell_type": "code",
   "execution_count": 8,
   "metadata": {},
   "outputs": [
    {
     "name": "stdout",
     "output_type": "stream",
     "text": [
      "Found 394 images belonging to 2 classes.\n",
      "Found 276 images belonging to 4 classes.\n",
      "train data batch:  (5, 512, 512, 3)\n",
      "train label batch:  (5,)\n",
      "validation data batch:  (5, 512, 512, 3)\n",
      "validation label batch (5,)\n"
     ]
    }
   ],
   "source": [
    "from keras.preprocessing.image import ImageDataGenerator\n",
    "\n",
    "train_datagen = ImageDataGenerator(rescale = 1./255)\n",
    "test_datagen= ImageDataGenerator(rescale = 1./255)\n",
    "\n",
    "train_generator = train_datagen.flow_from_directory(train_dir, target_size=(512, 512), batch_size =5,\n",
    "                                                    class_mode='binary')\n",
    "validation_generator = test_datagen.flow_from_directory(valid_dir, target_size = (512, 512),\n",
    "                                                        batch_size = 5, class_mode='binary')\n",
    "\n",
    "\n",
    "#displaying the shapes of batch of data and labels\n",
    "for data_batch, labels_batch in train_generator:\n",
    "    print('train data batch: ', data_batch.shape)\n",
    "    print('train label batch: ', labels_batch.shape)\n",
    "    break\n",
    "    \n",
    "for data_batch, labels_batch in validation_generator:\n",
    "    print('validation data batch: ', data_batch.shape)\n",
    "    print('validation label batch', labels_batch.shape)\n",
    "    break"
   ]
  },
  {
   "cell_type": "code",
   "execution_count": 9,
   "metadata": {
    "scrolled": false
   },
   "outputs": [
    {
     "name": "stdout",
     "output_type": "stream",
     "text": [
      "Epoch 1/30\n",
      "50/50 [==============================] - 26s - loss: 3.7765 - acc: 0.7480 - val_loss: -15.6873 - val_acc: 0.0080\n",
      "Epoch 2/30\n",
      "50/50 [==============================] - 22s - loss: 4.0178 - acc: 0.7480 - val_loss: -15.6789 - val_acc: 0.0083\n",
      "Epoch 3/30\n",
      "50/50 [==============================] - 21s - loss: 4.0813 - acc: 0.7440 - val_loss: -15.8148 - val_acc: 0.0080\n",
      "Epoch 4/30\n",
      "50/50 [==============================] - 21s - loss: 4.4004 - acc: 0.7240 - val_loss: -16.3377 - val_acc: 0.0083\n",
      "Epoch 5/30\n",
      "50/50 [==============================] - 21s - loss: 3.4751 - acc: 0.7820 - val_loss: -15.9424 - val_acc: 0.0080\n",
      "Epoch 6/30\n",
      "50/50 [==============================] - 21s - loss: 4.4639 - acc: 0.7200 - val_loss: -16.0699 - val_acc: 0.0080\n",
      "Epoch 7/30\n",
      "50/50 [==============================] - 21s - loss: 4.3523 - acc: 0.7270 - val_loss: -16.0741 - val_acc: 0.0000e+00\n",
      "Epoch 8/30\n",
      "50/50 [==============================] - 22s - loss: 3.5714 - acc: 0.7760 - val_loss: -15.5598 - val_acc: 0.0080\n",
      "Epoch 9/30\n",
      "50/50 [==============================] - 21s - loss: 3.8899 - acc: 0.7560 - val_loss: -15.9424 - val_acc: 0.0083\n",
      "Epoch 10/30\n",
      "50/50 [==============================] - 21s - loss: 3.8902 - acc: 0.7560 - val_loss: -16.3377 - val_acc: 0.0083\n",
      "Epoch 11/30\n",
      "50/50 [==============================] - 21s - loss: 4.5276 - acc: 0.7160 - val_loss: -15.4322 - val_acc: 0.0080\n",
      "Epoch 12/30\n",
      "50/50 [==============================] - 21s - loss: 3.7627 - acc: 0.7640 - val_loss: -15.4154 - val_acc: 0.0165\n",
      "Epoch 13/30\n",
      "50/50 [==============================] - 21s - loss: 4.3042 - acc: 0.7300 - val_loss: -15.4322 - val_acc: 0.0000e+00\n",
      "Epoch 14/30\n",
      "50/50 [==============================] - 21s - loss: 3.9537 - acc: 0.7520 - val_loss: -16.9964 - val_acc: 0.0000e+00\n",
      "Epoch 15/30\n",
      "50/50 [==============================] - 21s - loss: 4.4798 - acc: 0.7190 - val_loss: -15.8106 - val_acc: 0.0165\n",
      "Epoch 16/30\n",
      "50/50 [==============================] - 21s - loss: 3.9215 - acc: 0.7540 - val_loss: -16.4525 - val_acc: 0.0080\n",
      "Epoch 17/30\n",
      "50/50 [==============================] - 21s - loss: 4.0175 - acc: 0.7480 - val_loss: -15.5471 - val_acc: 0.0083\n",
      "Epoch 18/30\n",
      "50/50 [==============================] - 21s - loss: 3.8902 - acc: 0.7560 - val_loss: -15.5598 - val_acc: 0.0080\n",
      "Epoch 19/30\n",
      "50/50 [==============================] - 21s - loss: 3.7940 - acc: 0.7620 - val_loss: -16.0699 - val_acc: 0.0080\n",
      "Epoch 20/30\n",
      "50/50 [==============================] - 21s - loss: 4.1450 - acc: 0.7400 - val_loss: -15.0201 - val_acc: 0.0083\n",
      "Epoch 21/30\n",
      "50/50 [==============================] - 21s - loss: 4.1766 - acc: 0.7380 - val_loss: -16.3250 - val_acc: 0.0080\n",
      "Epoch 22/30\n",
      "50/50 [==============================] - 21s - loss: 3.9537 - acc: 0.7520 - val_loss: -15.9424 - val_acc: 0.0000e+00\n",
      "Epoch 23/30\n",
      "50/50 [==============================] - 21s - loss: 3.9215 - acc: 0.7540 - val_loss: -15.6789 - val_acc: 0.0083\n",
      "Epoch 24/30\n",
      "50/50 [==============================] - 21s - loss: 4.4161 - acc: 0.7230 - val_loss: -15.8148 - val_acc: 0.0000e+00\n",
      "Epoch 25/30\n",
      "50/50 [==============================] - 22s - loss: 4.2088 - acc: 0.7360 - val_loss: -15.5471 - val_acc: 0.0165\n",
      "Epoch 26/30\n",
      "50/50 [==============================] - 21s - loss: 4.3367 - acc: 0.7280 - val_loss: -15.4322 - val_acc: 0.0000e+00\n",
      "Epoch 27/30\n",
      "50/50 [==============================] - 21s - loss: 3.1562 - acc: 0.8020 - val_loss: -15.4322 - val_acc: 0.0000e+00\n",
      "Epoch 28/30\n",
      "50/50 [==============================] - 21s - loss: 4.2726 - acc: 0.7320 - val_loss: -16.3377 - val_acc: 0.0165\n",
      "Epoch 29/30\n",
      "50/50 [==============================] - 21s - loss: 4.1610 - acc: 0.7390 - val_loss: -14.7945 - val_acc: 0.0080\n",
      "Epoch 30/30\n",
      "50/50 [==============================] - 21s - loss: 4.0334 - acc: 0.7470 - val_loss: -16.4694 - val_acc: 0.0000e+00\n",
      "dict_keys(['val_loss', 'val_acc', 'loss', 'acc'])\n"
     ]
    }
   ],
   "source": [
    "#Fitting the model using a batch generator\n",
    "\n",
    "history = model.fit_generator(train_generator, steps_per_epoch=50, epochs = 30, \n",
    "                              validation_data= validation_generator, validation_steps=25)\n",
    "\n",
    "\n",
    "history_dict = history.history\n",
    "print(history_dict.keys())\n",
    "\n",
    "model.save('damage_undamaged_conv1.h5')"
   ]
  },
  {
   "cell_type": "code",
   "execution_count": 10,
   "metadata": {},
   "outputs": [
    {
     "data": {
      "image/png": "[encoded data removed]",
      "text/plain": [
       "<matplotlib.figure.Figure at 0x7f81cb763908>"
      ]
     },
     "metadata": {},
     "output_type": "display_data"
    },
    {
     "data": {
      "image/png": "[encoded data removed]",
      "text/plain": [
       "<matplotlib.figure.Figure at 0x7f818e78e2b0>"
      ]
     },
     "metadata": {},
     "output_type": "display_data"
    }
   ],
   "source": [
    "#Displaying curves of loss and accuracy during training \n",
    "\n",
    "import matplotlib.pyplot as plt\n",
    "acc = history.history['acc']\n",
    "val_acc = history.history['val_acc']\n",
    "loss = history.history['loss']\n",
    "val_loss = history.history['val_loss']\n",
    "\n",
    "epochs = range(len(acc))\n",
    "\n",
    "plt.plot(epochs, acc, 'bo')#dots\n",
    "plt.plot(epochs, val_acc, 'b')#line segments\n",
    "plt.title('Training and validation accuracy')\n",
    "plt.figure()\n",
    "\n",
    "plt.plot(epochs, loss, 'bo')\n",
    "plt.plot(epochs, val_loss, 'b')\n",
    "plt.title('Training and validation loss')\n",
    "plt.show()"
   ]
  },
  {
   "cell_type": "code",
   "execution_count": 11,
   "metadata": {},
   "outputs": [
    {
     "name": "stdout",
     "output_type": "stream",
     "text": [
      "Epoch 1/30\n",
      "50/50 [==============================] - 21s - loss: 3.9537 - acc: 0.7520 - val_loss: -15.6873 - val_acc: 0.0160\n",
      "Epoch 2/30\n",
      "50/50 [==============================] - 21s - loss: 4.1610 - acc: 0.7390 - val_loss: -15.3047 - val_acc: 0.0080\n",
      "Epoch 3/30\n",
      "50/50 [==============================] - 21s - loss: 4.1766 - acc: 0.7380 - val_loss: -15.8106 - val_acc: 0.0083\n",
      "Epoch 4/30\n",
      "50/50 [==============================] - 21s - loss: 3.7624 - acc: 0.7640 - val_loss: -16.4525 - val_acc: 0.0080\n",
      "Epoch 5/30\n",
      "50/50 [==============================] - 21s - loss: 4.2885 - acc: 0.7310 - val_loss: -15.2836 - val_acc: 0.0000e+00\n",
      "Epoch 6/30\n",
      "50/50 [==============================] - 21s - loss: 3.8899 - acc: 0.7560 - val_loss: -15.8148 - val_acc: 0.0080\n",
      "Epoch 7/30\n",
      "50/50 [==============================] - 21s - loss: 4.2091 - acc: 0.7360 - val_loss: -16.7329 - val_acc: 0.0083\n",
      "Epoch 8/30\n",
      "50/50 [==============================] - 21s - loss: 3.5870 - acc: 0.7750 - val_loss: -15.6873 - val_acc: 0.0080\n",
      "Epoch 9/30\n",
      "50/50 [==============================] - 21s - loss: 4.3363 - acc: 0.7280 - val_loss: -16.7076 - val_acc: 0.0080\n",
      "Epoch 10/30\n",
      "50/50 [==============================] - 21s - loss: 4.2248 - acc: 0.7350 - val_loss: -16.6012 - val_acc: 0.0000e+00\n",
      "Epoch 11/30\n",
      "50/50 [==============================] - 21s - loss: 4.0334 - acc: 0.7470 - val_loss: -15.4322 - val_acc: 0.0160\n",
      "Epoch 12/30\n",
      "50/50 [==============================] - 21s - loss: 4.0175 - acc: 0.7480 - val_loss: -15.8148 - val_acc: 0.0080\n",
      "Epoch 13/30\n",
      "50/50 [==============================] - 21s - loss: 3.8421 - acc: 0.7590 - val_loss: -16.7329 - val_acc: 0.0083\n",
      "Epoch 14/30\n",
      "50/50 [==============================] - 21s - loss: 4.2088 - acc: 0.7360 - val_loss: -16.7076 - val_acc: 0.0000e+00\n",
      "Epoch 15/30\n",
      "50/50 [==============================] - 21s - loss: 3.5714 - acc: 0.7760 - val_loss: -15.0201 - val_acc: 0.0000e+00\n",
      "Epoch 16/30\n",
      "50/50 [==============================] - 21s - loss: 4.4161 - acc: 0.7230 - val_loss: -15.1772 - val_acc: 0.0080\n",
      "Epoch 17/30\n",
      "50/50 [==============================] - 21s - loss: 4.2726 - acc: 0.7320 - val_loss: -16.0741 - val_acc: 0.0083\n",
      "Epoch 18/30\n",
      "50/50 [==============================] - 21s - loss: 3.3957 - acc: 0.7870 - val_loss: -15.4154 - val_acc: 0.0083\n",
      "Epoch 19/30\n",
      "50/50 [==============================] - 21s - loss: 4.7349 - acc: 0.7030 - val_loss: -14.5395 - val_acc: 0.0160\n",
      "Epoch 20/30\n",
      "50/50 [==============================] - 21s - loss: 3.6349 - acc: 0.7720 - val_loss: -16.2059 - val_acc: 0.0083\n",
      "Epoch 21/30\n",
      "50/50 [==============================] - 21s - loss: 4.0334 - acc: 0.7470 - val_loss: -15.4322 - val_acc: 0.0000e+00\n",
      "Epoch 22/30\n",
      "50/50 [==============================] - 21s - loss: 4.1453 - acc: 0.7400 - val_loss: -15.0496 - val_acc: 0.0160\n",
      "Epoch 23/30\n",
      "50/50 [==============================] - 21s - loss: 4.2088 - acc: 0.7360 - val_loss: -16.2059 - val_acc: 0.0000e+00\n",
      "Epoch 24/30\n",
      "50/50 [==============================] - 22s - loss: 3.7627 - acc: 0.7640 - val_loss: -15.5598 - val_acc: 0.0160\n",
      "Epoch 25/30\n",
      "50/50 [==============================] - 21s - loss: 4.1450 - acc: 0.7400 - val_loss: -15.5471 - val_acc: 0.0083\n",
      "Epoch 26/30\n",
      "50/50 [==============================] - 21s - loss: 4.1453 - acc: 0.7400 - val_loss: -16.0741 - val_acc: 0.0083\n",
      "Epoch 27/30\n",
      "50/50 [==============================] - 21s - loss: 3.9853 - acc: 0.7500 - val_loss: -16.0699 - val_acc: 0.0000e+00\n",
      "Epoch 28/30\n",
      "50/50 [==============================] - 21s - loss: 4.1450 - acc: 0.7400 - val_loss: -16.9964 - val_acc: 0.0083\n",
      "Epoch 29/30\n",
      "50/50 [==============================] - 21s - loss: 3.4595 - acc: 0.7830 - val_loss: -15.4322 - val_acc: 0.0080\n",
      "Epoch 30/30\n",
      "50/50 [==============================] - 21s - loss: 4.6230 - acc: 0.7100 - val_loss: -15.6873 - val_acc: 0.0160\n",
      "dict_keys(['val_loss', 'val_acc', 'loss', 'acc'])\n"
     ]
    }
   ],
   "source": [
    "#Fitting the model using a batch generator\n",
    "\n",
    "history = model.fit_generator(train_generator, steps_per_epoch=50, epochs = 30, \n",
    "                              validation_data= validation_generator, validation_steps=25)\n",
    "\n",
    "\n",
    "history_dict = history.history\n",
    "print(history_dict.keys())\n",
    "\n",
    "model.save('damage_undamaged_conv1_2.h5')"
   ]
  },
  {
   "cell_type": "code",
   "execution_count": 12,
   "metadata": {},
   "outputs": [
    {
     "data": {
      "image/png": "[encoded data removed]",
      "text/plain": [
       "<matplotlib.figure.Figure at 0x7f81cc557f98>"
      ]
     },
     "metadata": {},
     "output_type": "display_data"
    },
    {
     "data": {
      "image/png": "[encoded data removed]",
      "text/plain": [
       "<matplotlib.figure.Figure at 0x7f818c0c0978>"
      ]
     },
     "metadata": {},
     "output_type": "display_data"
    }
   ],
   "source": [
    "#Displaying curves of loss and accuracy during training \n",
    "\n",
    "import matplotlib.pyplot as plt\n",
    "acc = history.history['acc']\n",
    "val_acc = history.history['val_acc']\n",
    "loss = history.history['loss']\n",
    "val_loss = history.history['val_loss']\n",
    "\n",
    "epochs = range(len(acc))\n",
    "\n",
    "plt.plot(epochs, acc, 'bo')#dots\n",
    "plt.plot(epochs, val_acc, 'b')#line segments\n",
    "plt.title('Training and validation accuracy')\n",
    "plt.figure()\n",
    "\n",
    "plt.plot(epochs, loss, 'bo')\n",
    "plt.plot(epochs, val_loss, 'b')\n",
    "plt.title('Training and validation loss')\n",
    "plt.show()"
   ]
  },
  {
   "cell_type": "code",
   "execution_count": null,
   "metadata": {
    "collapsed": true
   },
   "outputs": [],
   "source": []
  }
 ],
 "metadata": {
  "kernelspec": {
   "display_name": "Python 3",
   "language": "python",
   "name": "python3"
  },
  "language_info": {
   "codemirror_mode": {
    "name": "ipython",
    "version": 3
   },
   "file_extension": ".py",
   "mimetype": "text/x-python",
   "name": "python",
   "nbconvert_exporter": "python",
   "pygments_lexer": "ipython3",
   "version": "3.6.1"
  }
 },
 "nbformat": 4,
 "nbformat_minor": 2
}
