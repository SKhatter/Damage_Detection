{
 "cells": [
  {
   "cell_type": "code",
   "execution_count": 1,
   "metadata": {
    "collapsed": true
   },
   "outputs": [],
   "source": [
    "import os, shutil"
   ]
  },
  {
   "cell_type": "code",
   "execution_count": 2,
   "metadata": {
    "collapsed": true
   },
   "outputs": [],
   "source": [
    "base_dir = '/home/skhatter/Damage_Detection'\n",
    "train_dir = '/home/skhatter/Damage_Detection_New/train'\n",
    "valid_dir = '/home/skhatter/Damage Detection/validation'\n",
    "test_dir = '/home/skhatter/Damage Detection/test'\n",
    "\n",
    "train_dam_dir = '/home/skhatter/Damage_Detection_New/train/damaged'\n",
    "train_undam_dir = '/home/skhatter/Damage_Detection_New/train/undamaged'\n",
    "\n",
    "valid_dam_dir = '/home/skhatter/Damage Detection/validation/damaged'\n",
    "valid_undam_dir = '/home/skhatter/Damage Detection/validation/undamaged'\n",
    "\n",
    "test_dir = '/home/skhatter/Damage Detection/test'"
   ]
  },
  {
   "cell_type": "code",
   "execution_count": 3,
   "metadata": {},
   "outputs": [
    {
     "name": "stdout",
     "output_type": "stream",
     "text": [
      "Total training damaged images 100\n",
      "Total training undamaged images 294\n",
      "Total validation damaged images 10\n",
      "Total validation undamaged images 21\n",
      "Total test damaged images 2\n"
     ]
    }
   ],
   "source": [
    "print('Total training damaged images', len(os.listdir(train_dam_dir)))\n",
    "print('Total training undamaged images', len(os.listdir(train_undam_dir)))\n",
    "\n",
    "print('Total validation damaged images', len(os.listdir(valid_dam_dir)))\n",
    "print('Total validation undamaged images', len(os.listdir(valid_undam_dir)))\n",
    "\n",
    "print('Total test damaged images', len(os.listdir(test_dir)))"
   ]
  },
  {
   "cell_type": "code",
   "execution_count": 4,
   "metadata": {},
   "outputs": [
    {
     "name": "stderr",
     "output_type": "stream",
     "text": [
      "Using TensorFlow backend.\n"
     ]
    }
   ],
   "source": [
    "from keras.applications import VGG16"
   ]
  },
  {
   "cell_type": "code",
   "execution_count": 5,
   "metadata": {
    "collapsed": true,
    "scrolled": false
   },
   "outputs": [],
   "source": [
    "conv_base = VGG16(weights='imagenet', include_top=False, \n",
    "                  input_shape=(512,512,3))"
   ]
  },
  {
   "cell_type": "code",
   "execution_count": 6,
   "metadata": {},
   "outputs": [
    {
     "name": "stdout",
     "output_type": "stream",
     "text": [
      "_________________________________________________________________\n",
      "Layer (type)                 Output Shape              Param #   \n",
      "=================================================================\n",
      "vgg16 (Model)                (None, 16, 16, 512)       14714688  \n",
      "_________________________________________________________________\n",
      "flatten_1 (Flatten)          (None, 131072)            0         \n",
      "_________________________________________________________________\n",
      "dense_1 (Dense)              (None, 256)               33554688  \n",
      "_________________________________________________________________\n",
      "dropout_1 (Dropout)          (None, 256)               0         \n",
      "_________________________________________________________________\n",
      "dense_2 (Dense)              (None, 1)                 257       \n",
      "=================================================================\n",
      "Total params: 48,269,633\n",
      "Trainable params: 48,269,633\n",
      "Non-trainable params: 0\n",
      "_________________________________________________________________\n"
     ]
    }
   ],
   "source": [
    "from keras import models\n",
    "from keras import layers\n",
    "from keras import optimizers\n",
    "\n",
    "model = models.Sequential()\n",
    "model.add(conv_base)\n",
    "model.add(layers.Flatten())\n",
    "model.add(layers.Dense(256, activation='relu'))\n",
    "model.add(layers.Dropout(0.5))\n",
    "model.add(layers.Dense(1, activation='sigmoid'))\n",
    "model.summary()\n"
   ]
  },
  {
   "cell_type": "code",
   "execution_count": 7,
   "metadata": {},
   "outputs": [
    {
     "name": "stdout",
     "output_type": "stream",
     "text": [
      "this is the number of trainable weightsbefore freezing the conv base 30\n",
      "this is the number of trainable weights afterfreezing the conv base 4\n"
     ]
    }
   ],
   "source": [
    "print('this is the number of trainable weights'\n",
    "     'before freezing the conv base', len(model.trainable_weights))\n",
    "conv_base.trainable = False\n",
    "print('this is the number of trainable weights after'\n",
    "      'freezing the conv base', len(model.trainable_weights))"
   ]
  },
  {
   "cell_type": "code",
   "execution_count": 8,
   "metadata": {},
   "outputs": [
    {
     "name": "stdout",
     "output_type": "stream",
     "text": [
      "Found 394 images belonging to 2 classes.\n",
      "Found 31 images belonging to 2 classes.\n"
     ]
    }
   ],
   "source": [
    "from keras.preprocessing.image import ImageDataGenerator\n",
    "\n",
    "train_datagen = ImageDataGenerator(rotation_range=40, \n",
    "                                  width_shift_range=0.2,\n",
    "                                  height_shift_range=0.2,\n",
    "                                  shear_range=0.2,\n",
    "                                  zoom_range=0.2,\n",
    "                                  horizontal_flip=True,\n",
    "                                  fill_mode='nearest')\n",
    "\n",
    "test_datagen = ImageDataGenerator(rescale=1./255)\n",
    "\n",
    "train_generator = train_datagen.flow_from_directory(train_dir,\n",
    "                                                   target_size=(512,512),\n",
    "                                                   batch_size=5,\n",
    "                                                   class_mode='binary')\n",
    "\n",
    "validation_generator = test_datagen.flow_from_directory(valid_dir,\n",
    "                                                       target_size=(512,512),\n",
    "                                                       batch_size=5,\n",
    "                                                       class_mode='binary')"
   ]
  },
  {
   "cell_type": "code",
   "execution_count": 9,
   "metadata": {
    "scrolled": false
   },
   "outputs": [
    {
     "name": "stdout",
     "output_type": "stream",
     "text": [
      "Epoch 1/30\n",
      "50/50 [==============================] - 31s - loss: 4.0241 - acc: 0.7440 - val_loss: 3.5062 - val_acc: 0.6814\n",
      "Epoch 2/30\n",
      "50/50 [==============================] - 30s - loss: 4.2248 - acc: 0.7350 - val_loss: 3.5988 - val_acc: 0.6726\n",
      "Epoch 3/30\n",
      "50/50 [==============================] - 29s - loss: 3.5711 - acc: 0.7760 - val_loss: 3.5920 - val_acc: 0.6726\n",
      "Epoch 4/30\n",
      "50/50 [==============================] - 29s - loss: 4.0816 - acc: 0.7440 - val_loss: 3.6048 - val_acc: 0.6726\n",
      "Epoch 5/30\n",
      "50/50 [==============================] - 29s - loss: 4.6868 - acc: 0.7060 - val_loss: 3.7082 - val_acc: 0.6637\n",
      "Epoch 6/30\n",
      "50/50 [==============================] - 29s - loss: 4.0813 - acc: 0.7440 - val_loss: 3.5090 - val_acc: 0.6814\n",
      "Epoch 7/30\n",
      "50/50 [==============================] - 29s - loss: 3.5714 - acc: 0.7760 - val_loss: 3.5009 - val_acc: 0.6814\n",
      "Epoch 8/30\n",
      "50/50 [==============================] - 29s - loss: 4.1128 - acc: 0.7420 - val_loss: 3.6045 - val_acc: 0.6726\n",
      "Epoch 9/30\n",
      "50/50 [==============================] - 29s - loss: 4.2726 - acc: 0.7320 - val_loss: 3.4084 - val_acc: 0.6903\n",
      "Epoch 10/30\n",
      "50/50 [==============================] - 29s - loss: 3.7146 - acc: 0.7670 - val_loss: 3.5968 - val_acc: 0.6726\n",
      "Epoch 11/30\n",
      "50/50 [==============================] - 29s - loss: 4.3363 - acc: 0.7280 - val_loss: 3.7006 - val_acc: 0.6637\n",
      "Epoch 12/30\n",
      "50/50 [==============================] - 29s - loss: 3.6352 - acc: 0.7720 - val_loss: 3.5038 - val_acc: 0.6814\n",
      "Epoch 13/30\n",
      "50/50 [==============================] - 29s - loss: 4.2091 - acc: 0.7360 - val_loss: 3.5979 - val_acc: 0.6726\n",
      "Epoch 14/30\n",
      "50/50 [==============================] - 29s - loss: 4.0813 - acc: 0.7440 - val_loss: 3.5988 - val_acc: 0.6726\n",
      "Epoch 15/30\n",
      "50/50 [==============================] - 29s - loss: 3.8265 - acc: 0.7600 - val_loss: 3.5112 - val_acc: 0.6814\n",
      "Epoch 16/30\n",
      "50/50 [==============================] - 29s - loss: 4.4161 - acc: 0.7230 - val_loss: 3.5911 - val_acc: 0.6726\n",
      "Epoch 17/30\n",
      "50/50 [==============================] - 29s - loss: 3.8262 - acc: 0.7600 - val_loss: 3.6045 - val_acc: 0.6726\n",
      "Epoch 18/30\n",
      "50/50 [==============================] - 29s - loss: 4.4955 - acc: 0.7180 - val_loss: 3.6947 - val_acc: 0.6637\n",
      "Epoch 19/30\n",
      "50/50 [==============================] - 29s - loss: 3.7627 - acc: 0.7640 - val_loss: 3.7928 - val_acc: 0.6549\n",
      "Epoch 20/30\n",
      "50/50 [==============================] - 29s - loss: 4.3363 - acc: 0.7280 - val_loss: 3.6022 - val_acc: 0.6726\n",
      "Epoch 21/30\n",
      "50/50 [==============================] - 29s - loss: 4.0178 - acc: 0.7480 - val_loss: 3.6077 - val_acc: 0.6726\n",
      "Epoch 22/30\n",
      "50/50 [==============================] - 29s - loss: 3.8899 - acc: 0.7560 - val_loss: 3.7928 - val_acc: 0.6549\n",
      "Epoch 23/30\n",
      "50/50 [==============================] - 29s - loss: 3.6508 - acc: 0.7710 - val_loss: 3.6013 - val_acc: 0.6726\n",
      "Epoch 24/30\n",
      "50/50 [==============================] - 29s - loss: 4.4004 - acc: 0.7240 - val_loss: 3.6930 - val_acc: 0.6637\n",
      "Epoch 25/30\n",
      "50/50 [==============================] - 29s - loss: 3.8899 - acc: 0.7560 - val_loss: 3.5991 - val_acc: 0.6726\n",
      "Epoch 26/30\n",
      "50/50 [==============================] - 29s - loss: 4.2885 - acc: 0.7310 - val_loss: 3.5937 - val_acc: 0.6726\n",
      "Epoch 27/30\n",
      "50/50 [==============================] - 29s - loss: 3.6352 - acc: 0.7720 - val_loss: 3.3048 - val_acc: 0.6991\n",
      "Epoch 28/30\n",
      "50/50 [==============================] - 30s - loss: 4.3363 - acc: 0.7280 - val_loss: 3.4046 - val_acc: 0.6903\n",
      "Epoch 29/30\n",
      "50/50 [==============================] - 29s - loss: 3.9697 - acc: 0.7510 - val_loss: 3.4094 - val_acc: 0.6903\n",
      "Epoch 30/30\n",
      "50/50 [==============================] - 29s - loss: 3.8899 - acc: 0.7560 - val_loss: 3.6031 - val_acc: 0.6726\n"
     ]
    }
   ],
   "source": [
    "model.compile(optimizer=optimizers.RMSprop(lr=1e-4),\n",
    "             loss='binary_crossentropy',\n",
    "             metrics=['acc'])\n",
    "\n",
    "\n",
    "history = model.fit_generator(train_generator, \n",
    "                              steps_per_epoch=50,\n",
    "                              epochs=30,  \n",
    "                    validation_data=validation_generator,\n",
    "                              validation_steps=25)"
   ]
  },
  {
   "cell_type": "code",
   "execution_count": 10,
   "metadata": {
    "scrolled": false
   },
   "outputs": [
    {
     "name": "stdout",
     "output_type": "stream",
     "text": [
      "dict_keys(['val_loss', 'val_acc', 'loss', 'acc'])\n"
     ]
    }
   ],
   "source": [
    "history_dict = history.history\n",
    "print(history_dict.keys())\n",
    "\n",
    "model.save('damage_undamaged_conv4_vgg.h5')"
   ]
  },
  {
   "cell_type": "code",
   "execution_count": 11,
   "metadata": {},
   "outputs": [
    {
     "data": {
      "image/png": "[encoded data removed]",
      "text/plain": [
       "<matplotlib.figure.Figure at 0x7fdf01a30518>"
      ]
     },
     "metadata": {},
     "output_type": "display_data"
    },
    {
     "data": {
      "image/png": "[encoded data removed]",
      "text/plain": [
       "<matplotlib.figure.Figure at 0x7fdefc048390>"
      ]
     },
     "metadata": {},
     "output_type": "display_data"
    }
   ],
   "source": [
    "#Displaying curves of loss and accuracy during training \n",
    "\n",
    "import matplotlib.pyplot as plt\n",
    "acc = history.history['acc']\n",
    "val_acc = history.history['val_acc']\n",
    "loss = history.history['loss']\n",
    "val_loss = history.history['val_loss']\n",
    "\n",
    "epochs = range(len(acc))\n",
    "\n",
    "plt.plot(epochs, acc, 'bo')#dots\n",
    "plt.plot(epochs, val_acc, 'b')#line segments\n",
    "plt.title('Training and validation accuracy')\n",
    "plt.figure()\n",
    "\n",
    "plt.plot(epochs, loss, 'bo')\n",
    "plt.plot(epochs, val_loss, 'b')\n",
    "plt.title('Training and validation loss')\n",
    "plt.show()"
   ]
  },
  {
   "cell_type": "code",
   "execution_count": 12,
   "metadata": {},
   "outputs": [
    {
     "name": "stdout",
     "output_type": "stream",
     "text": [
      "Epoch 1/20\n",
      "50/50 [==============================] - 28s - loss: 3.6986 - acc: 0.7680 - val_loss: 3.3057 - val_acc: 0.6991\n",
      "Epoch 2/20\n",
      "50/50 [==============================] - 30s - loss: 4.2404 - acc: 0.7340 - val_loss: 3.7051 - val_acc: 0.6637\n",
      "Epoch 3/20\n",
      "50/50 [==============================] - 30s - loss: 4.0816 - acc: 0.7440 - val_loss: 3.6037 - val_acc: 0.6726\n",
      "Epoch 4/20\n",
      "50/50 [==============================] - 30s - loss: 4.1450 - acc: 0.7400 - val_loss: 3.4974 - val_acc: 0.6814\n",
      "Epoch 5/20\n",
      "50/50 [==============================] - 30s - loss: 3.8577 - acc: 0.7580 - val_loss: 3.6997 - val_acc: 0.6637\n",
      "Epoch 6/20\n",
      "50/50 [==============================] - 30s - loss: 4.2088 - acc: 0.7360 - val_loss: 3.5982 - val_acc: 0.6726\n",
      "Epoch 7/20\n",
      "50/50 [==============================] - 30s - loss: 3.5714 - acc: 0.7760 - val_loss: 3.5037 - val_acc: 0.6814\n",
      "Epoch 8/20\n",
      "50/50 [==============================] - 30s - loss: 4.3198 - acc: 0.7290 - val_loss: 3.7928 - val_acc: 0.6549\n",
      "Epoch 9/20\n",
      "50/50 [==============================] - 30s - loss: 3.8899 - acc: 0.7560 - val_loss: 3.5153 - val_acc: 0.6814\n",
      "Epoch 10/20\n",
      "50/50 [==============================] - 30s - loss: 3.8421 - acc: 0.7590 - val_loss: 3.4980 - val_acc: 0.6814\n",
      "Epoch 11/20\n",
      "50/50 [==============================] - 30s - loss: 4.4317 - acc: 0.7220 - val_loss: 3.7076 - val_acc: 0.6637\n",
      "Epoch 12/20\n",
      "50/50 [==============================] - 30s - loss: 3.9537 - acc: 0.7520 - val_loss: 3.6000 - val_acc: 0.6726\n",
      "Epoch 13/20\n",
      "50/50 [==============================] - 30s - loss: 4.4798 - acc: 0.7190 - val_loss: 3.5985 - val_acc: 0.6726\n",
      "Epoch 14/20\n",
      "50/50 [==============================] - 30s - loss: 3.7624 - acc: 0.7640 - val_loss: 3.6987 - val_acc: 0.6637\n",
      "Epoch 15/20\n",
      "50/50 [==============================] - 30s - loss: 4.2729 - acc: 0.7320 - val_loss: 3.6980 - val_acc: 0.6637\n",
      "Epoch 16/20\n",
      "50/50 [==============================] - 30s - loss: 3.7627 - acc: 0.7640 - val_loss: 3.4980 - val_acc: 0.6814\n",
      "Epoch 17/20\n",
      "50/50 [==============================] - 30s - loss: 3.8899 - acc: 0.7560 - val_loss: 3.5037 - val_acc: 0.6814\n",
      "Epoch 18/20\n",
      "50/50 [==============================] - 29s - loss: 4.2248 - acc: 0.7350 - val_loss: 3.5044 - val_acc: 0.6814\n",
      "Epoch 19/20\n",
      "50/50 [==============================] - 30s - loss: 4.0972 - acc: 0.7430 - val_loss: 3.4038 - val_acc: 0.6903\n",
      "Epoch 20/20\n",
      "50/50 [==============================] - 30s - loss: 3.6349 - acc: 0.7720 - val_loss: 3.5076 - val_acc: 0.6814\n",
      "dict_keys(['val_loss', 'val_acc', 'loss', 'acc'])\n"
     ]
    }
   ],
   "source": [
    "history = model.fit_generator(train_generator, \n",
    "                              steps_per_epoch=50,\n",
    "                              epochs=20,  \n",
    "                    validation_data=validation_generator,\n",
    "                              validation_steps=25)\n",
    "history_dict = history.history\n",
    "print(history_dict.keys())\n",
    "\n",
    "model.save('damage_undamaged_conv4_2_vgg.h5')"
   ]
  },
  {
   "cell_type": "code",
   "execution_count": 13,
   "metadata": {},
   "outputs": [
    {
     "data": {
      "image/png": "[encoded data removed]",
      "text/plain": [
       "<matplotlib.figure.Figure at 0x7fdee40e1b70>"
      ]
     },
     "metadata": {},
     "output_type": "display_data"
    },
    {
     "data": {
      "image/png": "[encoded data removed]",
      "text/plain": [
       "<matplotlib.figure.Figure at 0x7fdee4052b00>"
      ]
     },
     "metadata": {},
     "output_type": "display_data"
    }
   ],
   "source": [
    "#Displaying curves of loss and accuracy during training \n",
    "\n",
    "import matplotlib.pyplot as plt\n",
    "acc = history.history['acc']\n",
    "val_acc = history.history['val_acc']\n",
    "loss = history.history['loss']\n",
    "val_loss = history.history['val_loss']\n",
    "\n",
    "epochs = range(len(acc))\n",
    "\n",
    "plt.plot(epochs, acc, 'bo')#dots\n",
    "plt.plot(epochs, val_acc, 'b')#line segments\n",
    "plt.title('Training and validation accuracy')\n",
    "plt.figure()\n",
    "\n",
    "plt.plot(epochs, loss, 'bo')\n",
    "plt.plot(epochs, val_loss, 'b')\n",
    "plt.title('Training and validation loss')\n",
    "plt.show()"
   ]
  },
  {
   "cell_type": "code",
   "execution_count": null,
   "metadata": {
    "collapsed": true
   },
   "outputs": [],
   "source": []
  }
 ],
 "metadata": {
  "kernelspec": {
   "display_name": "Python 3",
   "language": "python",
   "name": "python3"
  },
  "language_info": {
   "codemirror_mode": {
    "name": "ipython",
    "version": 3
   },
   "file_extension": ".py",
   "mimetype": "text/x-python",
   "name": "python",
   "nbconvert_exporter": "python",
   "pygments_lexer": "ipython3",
   "version": "3.6.1"
  }
 },
 "nbformat": 4,
 "nbformat_minor": 2
}
