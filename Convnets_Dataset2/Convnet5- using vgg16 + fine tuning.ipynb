{
 "cells": [
  {
   "cell_type": "code",
   "execution_count": 1,
   "metadata": {
    "collapsed": true
   },
   "outputs": [],
   "source": [
    "import os, shutil"
   ]
  },
  {
   "cell_type": "code",
   "execution_count": 2,
   "metadata": {
    "collapsed": true
   },
   "outputs": [],
   "source": [
    "base_dir = '/home/skhatter/Damage_Detection'\n",
    "train_dir = '/home/skhatter/Damage_Detection_New/train'\n",
    "valid_dir = '/home/skhatter/Damage Detection/validation'\n",
    "test_dir = '/home/skhatter/Damage Detection/test'\n",
    "\n",
    "train_dam_dir = '/home/skhatter/Damage_Detection_New/train/damaged'\n",
    "train_undam_dir = '/home/skhatter/Damage_Detection_New/train/undamaged'\n",
    "\n",
    "valid_dam_dir = '/home/skhatter/Damage Detection/validation/damaged'\n",
    "valid_undam_dir = '/home/skhatter/Damage Detection/validation/undamaged'\n",
    "\n",
    "test_dir = '/home/skhatter/Damage Detection/test'"
   ]
  },
  {
   "cell_type": "code",
   "execution_count": 3,
   "metadata": {},
   "outputs": [
    {
     "name": "stdout",
     "output_type": "stream",
     "text": [
      "Total training damaged images 100\n",
      "Total training undamaged images 294\n",
      "Total validation damaged images 10\n",
      "Total validation undamaged images 21\n",
      "Total test damaged images 2\n"
     ]
    }
   ],
   "source": [
    "print('Total training damaged images', len(os.listdir(train_dam_dir)))\n",
    "print('Total training undamaged images', len(os.listdir(train_undam_dir)))\n",
    "\n",
    "print('Total validation damaged images', len(os.listdir(valid_dam_dir)))\n",
    "print('Total validation undamaged images', len(os.listdir(valid_undam_dir)))\n",
    "\n",
    "print('Total test damaged images', len(os.listdir(test_dir)))"
   ]
  },
  {
   "cell_type": "code",
   "execution_count": 4,
   "metadata": {},
   "outputs": [
    {
     "name": "stderr",
     "output_type": "stream",
     "text": [
      "Using TensorFlow backend.\n"
     ]
    }
   ],
   "source": [
    "from keras.applications import VGG16"
   ]
  },
  {
   "cell_type": "code",
   "execution_count": 5,
   "metadata": {
    "collapsed": true,
    "scrolled": false
   },
   "outputs": [],
   "source": [
    "conv_base = VGG16(weights='imagenet', include_top=False, \n",
    "                  input_shape=(512,512,3))"
   ]
  },
  {
   "cell_type": "code",
   "execution_count": 6,
   "metadata": {},
   "outputs": [
    {
     "name": "stdout",
     "output_type": "stream",
     "text": [
      "_________________________________________________________________\n",
      "Layer (type)                 Output Shape              Param #   \n",
      "=================================================================\n",
      "input_1 (InputLayer)         (None, 512, 512, 3)       0         \n",
      "_________________________________________________________________\n",
      "block1_conv1 (Conv2D)        (None, 512, 512, 64)      1792      \n",
      "_________________________________________________________________\n",
      "block1_conv2 (Conv2D)        (None, 512, 512, 64)      36928     \n",
      "_________________________________________________________________\n",
      "block1_pool (MaxPooling2D)   (None, 256, 256, 64)      0         \n",
      "_________________________________________________________________\n",
      "block2_conv1 (Conv2D)        (None, 256, 256, 128)     73856     \n",
      "_________________________________________________________________\n",
      "block2_conv2 (Conv2D)        (None, 256, 256, 128)     147584    \n",
      "_________________________________________________________________\n",
      "block2_pool (MaxPooling2D)   (None, 128, 128, 128)     0         \n",
      "_________________________________________________________________\n",
      "block3_conv1 (Conv2D)        (None, 128, 128, 256)     295168    \n",
      "_________________________________________________________________\n",
      "block3_conv2 (Conv2D)        (None, 128, 128, 256)     590080    \n",
      "_________________________________________________________________\n",
      "block3_conv3 (Conv2D)        (None, 128, 128, 256)     590080    \n",
      "_________________________________________________________________\n",
      "block3_pool (MaxPooling2D)   (None, 64, 64, 256)       0         \n",
      "_________________________________________________________________\n",
      "block4_conv1 (Conv2D)        (None, 64, 64, 512)       1180160   \n",
      "_________________________________________________________________\n",
      "block4_conv2 (Conv2D)        (None, 64, 64, 512)       2359808   \n",
      "_________________________________________________________________\n",
      "block4_conv3 (Conv2D)        (None, 64, 64, 512)       2359808   \n",
      "_________________________________________________________________\n",
      "block4_pool (MaxPooling2D)   (None, 32, 32, 512)       0         \n",
      "_________________________________________________________________\n",
      "block5_conv1 (Conv2D)        (None, 32, 32, 512)       2359808   \n",
      "_________________________________________________________________\n",
      "block5_conv2 (Conv2D)        (None, 32, 32, 512)       2359808   \n",
      "_________________________________________________________________\n",
      "block5_conv3 (Conv2D)        (None, 32, 32, 512)       2359808   \n",
      "_________________________________________________________________\n",
      "block5_pool (MaxPooling2D)   (None, 16, 16, 512)       0         \n",
      "=================================================================\n",
      "Total params: 14,714,688\n",
      "Trainable params: 14,714,688\n",
      "Non-trainable params: 0\n",
      "_________________________________________________________________\n"
     ]
    }
   ],
   "source": [
    "conv_base.summary()"
   ]
  },
  {
   "cell_type": "code",
   "execution_count": 7,
   "metadata": {},
   "outputs": [
    {
     "name": "stdout",
     "output_type": "stream",
     "text": [
      "_________________________________________________________________\n",
      "Layer (type)                 Output Shape              Param #   \n",
      "=================================================================\n",
      "vgg16 (Model)                (None, 16, 16, 512)       14714688  \n",
      "_________________________________________________________________\n",
      "flatten_1 (Flatten)          (None, 131072)            0         \n",
      "_________________________________________________________________\n",
      "dense_1 (Dense)              (None, 256)               33554688  \n",
      "_________________________________________________________________\n",
      "dropout_1 (Dropout)          (None, 256)               0         \n",
      "_________________________________________________________________\n",
      "dense_2 (Dense)              (None, 1)                 257       \n",
      "=================================================================\n",
      "Total params: 48,269,633\n",
      "Trainable params: 48,269,633\n",
      "Non-trainable params: 0\n",
      "_________________________________________________________________\n"
     ]
    }
   ],
   "source": [
    "from keras import models\n",
    "from keras import layers\n",
    "from keras import optimizers\n",
    "\n",
    "model = models.Sequential()\n",
    "model.add(conv_base)\n",
    "model.add(layers.Flatten())\n",
    "model.add(layers.Dense(256, activation='relu'))\n",
    "model.add(layers.Dropout(0.5))\n",
    "model.add(layers.Dense(1, activation='sigmoid'))\n",
    "model.summary()\n"
   ]
  },
  {
   "cell_type": "code",
   "execution_count": 8,
   "metadata": {},
   "outputs": [
    {
     "name": "stdout",
     "output_type": "stream",
     "text": [
      "this is the number of trainable weightsbefore freezing the conv base 30\n",
      "this is the number of trainable weights afterfreezing the conv base 30\n"
     ]
    }
   ],
   "source": [
    "print('this is the number of trainable weights'\n",
    "     'before freezing the conv base', len(model.trainable_weights))\n",
    "#conv_base.trainable = False\n",
    "\n",
    "#Fine tune the last 3 convolutional layers\n",
    "#therefore all layers up until block4_pool are frozen\n",
    "\n",
    "conv_base.trainable = True\n",
    "\n",
    "set_trainable = False\n",
    "for layer in conv_base.layers:\n",
    "    if layer.name == 'block5_conv1':\n",
    "        set_trainable = True\n",
    "        \n",
    "        if set_trainable:\n",
    "            layer.trainable = True\n",
    "        else:\n",
    "            layer.trainable = False\n",
    "                \n",
    "\n",
    "\n",
    "print('this is the number of trainable weights after'\n",
    "      'freezing the conv base', len(model.trainable_weights))"
   ]
  },
  {
   "cell_type": "code",
   "execution_count": 9,
   "metadata": {},
   "outputs": [
    {
     "name": "stdout",
     "output_type": "stream",
     "text": [
      "Found 394 images belonging to 2 classes.\n",
      "Found 31 images belonging to 2 classes.\n"
     ]
    }
   ],
   "source": [
    "from keras.preprocessing.image import ImageDataGenerator\n",
    "\n",
    "train_datagen = ImageDataGenerator(rotation_range=40, \n",
    "                                  width_shift_range=0.2,\n",
    "                                  height_shift_range=0.2,\n",
    "                                  shear_range=0.2,\n",
    "                                  zoom_range=0.2,\n",
    "                                  horizontal_flip=True,\n",
    "                                  fill_mode='nearest')\n",
    "\n",
    "test_datagen = ImageDataGenerator(rescale=1./255)\n",
    "\n",
    "train_generator = train_datagen.flow_from_directory(train_dir,\n",
    "                                                   target_size=(512,512),\n",
    "                                                   batch_size=5,\n",
    "                                                   class_mode='binary')\n",
    "\n",
    "validation_generator = test_datagen.flow_from_directory(valid_dir,\n",
    "                                                       target_size=(512,512),\n",
    "                                                       batch_size=5,\n",
    "                                                       class_mode='binary')"
   ]
  },
  {
   "cell_type": "code",
   "execution_count": 10,
   "metadata": {
    "scrolled": false
   },
   "outputs": [
    {
     "name": "stdout",
     "output_type": "stream",
     "text": [
      "Epoch 1/50\n",
      "50/50 [==============================] - 31s - loss: 4.2989 - acc: 0.7240 - val_loss: 1.8876 - val_acc: 0.6903\n",
      "Epoch 2/50\n",
      "50/50 [==============================] - 30s - loss: 3.9059 - acc: 0.7550 - val_loss: 1.8907 - val_acc: 0.6903\n",
      "Epoch 3/50\n",
      "50/50 [==============================] - 29s - loss: 4.0813 - acc: 0.7440 - val_loss: 1.9963 - val_acc: 0.6726\n",
      "Epoch 4/50\n",
      "50/50 [==============================] - 29s - loss: 3.5232 - acc: 0.7790 - val_loss: 1.9450 - val_acc: 0.6814\n",
      "Epoch 5/50\n",
      "50/50 [==============================] - 29s - loss: 4.3367 - acc: 0.7280 - val_loss: 2.0471 - val_acc: 0.6637\n",
      "Epoch 6/50\n",
      "50/50 [==============================] - 30s - loss: 3.7624 - acc: 0.7640 - val_loss: 1.9650 - val_acc: 0.6726\n",
      "Epoch 7/50\n",
      "50/50 [==============================] - 30s - loss: 4.6868 - acc: 0.7060 - val_loss: 2.0950 - val_acc: 0.6549\n",
      "Epoch 8/50\n",
      "50/50 [==============================] - 30s - loss: 3.8902 - acc: 0.7560 - val_loss: 1.9668 - val_acc: 0.6726\n",
      "Epoch 9/50\n",
      "50/50 [==============================] - 30s - loss: 3.8899 - acc: 0.7560 - val_loss: 2.0558 - val_acc: 0.6637\n",
      "Epoch 10/50\n",
      "50/50 [==============================] - 30s - loss: 4.2885 - acc: 0.7310 - val_loss: 1.9058 - val_acc: 0.6903\n",
      "Epoch 11/50\n",
      "50/50 [==============================] - 30s - loss: 3.5711 - acc: 0.7760 - val_loss: 2.1048 - val_acc: 0.6549\n",
      "Epoch 12/50\n",
      "50/50 [==============================] - 30s - loss: 4.0334 - acc: 0.7470 - val_loss: 1.9649 - val_acc: 0.6726\n",
      "Epoch 13/50\n",
      "50/50 [==============================] - 30s - loss: 4.4955 - acc: 0.7180 - val_loss: 1.9159 - val_acc: 0.6814\n",
      "Epoch 14/50\n",
      "50/50 [==============================] - 30s - loss: 3.4436 - acc: 0.7840 - val_loss: 1.9101 - val_acc: 0.6814\n",
      "Epoch 15/50\n",
      "50/50 [==============================] - 30s - loss: 4.8300 - acc: 0.6970 - val_loss: 2.0698 - val_acc: 0.6637\n",
      "Epoch 16/50\n",
      "50/50 [==============================] - 30s - loss: 3.6664 - acc: 0.7700 - val_loss: 2.0255 - val_acc: 0.6637\n",
      "Epoch 17/50\n",
      "50/50 [==============================] - 30s - loss: 4.2726 - acc: 0.7320 - val_loss: 2.0389 - val_acc: 0.6637\n",
      "Epoch 18/50\n",
      "50/50 [==============================] - 30s - loss: 4.0491 - acc: 0.7460 - val_loss: 1.9198 - val_acc: 0.6814\n",
      "Epoch 19/50\n",
      "50/50 [==============================] - 30s - loss: 3.9540 - acc: 0.7520 - val_loss: 1.9582 - val_acc: 0.6814\n",
      "Epoch 20/50\n",
      "50/50 [==============================] - 30s - loss: 3.9537 - acc: 0.7520 - val_loss: 1.9894 - val_acc: 0.6726\n",
      "Epoch 21/50\n",
      "50/50 [==============================] - 30s - loss: 4.0816 - acc: 0.7440 - val_loss: 1.9358 - val_acc: 0.6814\n",
      "Epoch 22/50\n",
      "50/50 [==============================] - 30s - loss: 4.0813 - acc: 0.7440 - val_loss: 1.8799 - val_acc: 0.6903\n",
      "Epoch 23/50\n",
      "50/50 [==============================] - 30s - loss: 4.0178 - acc: 0.7480 - val_loss: 1.9535 - val_acc: 0.6814\n",
      "Epoch 24/50\n",
      "50/50 [==============================] - 30s - loss: 4.0009 - acc: 0.7490 - val_loss: 1.9711 - val_acc: 0.6726\n",
      "Epoch 25/50\n",
      "50/50 [==============================] - 30s - loss: 3.8899 - acc: 0.7560 - val_loss: 1.9443 - val_acc: 0.6814\n",
      "Epoch 26/50\n",
      "50/50 [==============================] - 30s - loss: 4.5918 - acc: 0.7120 - val_loss: 1.9886 - val_acc: 0.6726\n",
      "Epoch 27/50\n",
      "50/50 [==============================] - 30s - loss: 3.6664 - acc: 0.7700 - val_loss: 1.9308 - val_acc: 0.6814\n",
      "Epoch 28/50\n",
      "50/50 [==============================] - 30s - loss: 3.8262 - acc: 0.7600 - val_loss: 2.0004 - val_acc: 0.6726\n",
      "Epoch 29/50\n",
      "50/50 [==============================] - 30s - loss: 4.3367 - acc: 0.7280 - val_loss: 2.0535 - val_acc: 0.6637\n",
      "Epoch 30/50\n",
      "50/50 [==============================] - 30s - loss: 4.0175 - acc: 0.7480 - val_loss: 2.0169 - val_acc: 0.6637\n",
      "Epoch 31/50\n",
      "50/50 [==============================] - 30s - loss: 3.9540 - acc: 0.7520 - val_loss: 1.9404 - val_acc: 0.6814\n",
      "Epoch 32/50\n",
      "50/50 [==============================] - 30s - loss: 4.2885 - acc: 0.7310 - val_loss: 1.9765 - val_acc: 0.6726\n",
      "Epoch 33/50\n",
      "50/50 [==============================] - 30s - loss: 3.8262 - acc: 0.7600 - val_loss: 2.0385 - val_acc: 0.6637\n",
      "Epoch 34/50\n",
      "50/50 [==============================] - 30s - loss: 3.9059 - acc: 0.7550 - val_loss: 1.9513 - val_acc: 0.6814\n",
      "Epoch 35/50\n",
      "50/50 [==============================] - 30s - loss: 3.9215 - acc: 0.7540 - val_loss: 1.9819 - val_acc: 0.6726\n",
      "Epoch 36/50\n",
      "50/50 [==============================] - 30s - loss: 4.4001 - acc: 0.7240 - val_loss: 1.9408 - val_acc: 0.6814\n",
      "Epoch 37/50\n",
      "50/50 [==============================] - 30s - loss: 3.9697 - acc: 0.7510 - val_loss: 2.0832 - val_acc: 0.6549\n",
      "Epoch 38/50\n",
      "50/50 [==============================] - 30s - loss: 4.1128 - acc: 0.7420 - val_loss: 1.9711 - val_acc: 0.6726\n",
      "Epoch 39/50\n",
      "50/50 [==============================] - 30s - loss: 4.7189 - acc: 0.7040 - val_loss: 2.0505 - val_acc: 0.6637\n",
      "Epoch 40/50\n",
      "50/50 [==============================] - 30s - loss: 2.8855 - acc: 0.8190 - val_loss: 1.9582 - val_acc: 0.6814\n",
      "Epoch 41/50\n",
      "50/50 [==============================] - 30s - loss: 4.4001 - acc: 0.7240 - val_loss: 1.9759 - val_acc: 0.6726\n",
      "Epoch 42/50\n",
      "50/50 [==============================] - 30s - loss: 3.8421 - acc: 0.7590 - val_loss: 2.0210 - val_acc: 0.6637\n",
      "Epoch 43/50\n",
      "50/50 [==============================] - 30s - loss: 4.6230 - acc: 0.7100 - val_loss: 1.9788 - val_acc: 0.6726\n",
      "Epoch 44/50\n",
      "50/50 [==============================] - 30s - loss: 3.6349 - acc: 0.7720 - val_loss: 1.8763 - val_acc: 0.6903\n",
      "Epoch 45/50\n",
      "50/50 [==============================] - 30s - loss: 3.9853 - acc: 0.7500 - val_loss: 1.9807 - val_acc: 0.6726\n",
      "Epoch 46/50\n",
      "50/50 [==============================] - 30s - loss: 4.1766 - acc: 0.7380 - val_loss: 1.9937 - val_acc: 0.6726\n",
      "Epoch 47/50\n",
      "50/50 [==============================] - 30s - loss: 4.2726 - acc: 0.7320 - val_loss: 1.9970 - val_acc: 0.6726\n",
      "Epoch 48/50\n",
      "50/50 [==============================] - 30s - loss: 3.7783 - acc: 0.7630 - val_loss: 1.9019 - val_acc: 0.6814\n",
      "Epoch 49/50\n",
      "50/50 [==============================] - 30s - loss: 4.1766 - acc: 0.7380 - val_loss: 1.8824 - val_acc: 0.6903\n",
      "Epoch 50/50\n",
      "50/50 [==============================] - 30s - loss: 3.8899 - acc: 0.7560 - val_loss: 1.8693 - val_acc: 0.6903\n"
     ]
    }
   ],
   "source": [
    "model.compile(optimizer=optimizers.RMSprop(lr=1e-4),\n",
    "             loss='binary_crossentropy',\n",
    "             metrics=['acc'])\n",
    "\n",
    "\n",
    "history = model.fit_generator(train_generator, \n",
    "                              steps_per_epoch=50,\n",
    "                              epochs=50,  \n",
    "                    validation_data=validation_generator,\n",
    "                              validation_steps=25)"
   ]
  },
  {
   "cell_type": "code",
   "execution_count": 11,
   "metadata": {
    "scrolled": false
   },
   "outputs": [
    {
     "name": "stdout",
     "output_type": "stream",
     "text": [
      "dict_keys(['val_loss', 'val_acc', 'loss', 'acc'])\n"
     ]
    }
   ],
   "source": [
    "history_dict = history.history\n",
    "print(history_dict.keys())\n",
    "\n",
    "model.save('damage_undamaged_conv5_vgg.h5')"
   ]
  },
  {
   "cell_type": "code",
   "execution_count": 12,
   "metadata": {
    "collapsed": true
   },
   "outputs": [],
   "source": [
    "def smooth_curve(points, factor=0.8):\n",
    "    smoothed_points = []\n",
    "    for point in points:\n",
    "        if smoothed_points:\n",
    "            previous = smoothed_points[-1]\n",
    "            smoothed_points.append(previous * factor + point * (1 - factor))\n",
    "        else:\n",
    "            smoothed_points.append(point)\n",
    "    return smoothed_points"
   ]
  },
  {
   "cell_type": "code",
   "execution_count": 13,
   "metadata": {},
   "outputs": [
    {
     "data": {
      "image/png": "[encoded data removed]",
      "text/plain": [
       "<matplotlib.figure.Figure at 0x7fb5d86b2160>"
      ]
     },
     "metadata": {},
     "output_type": "display_data"
    },
    {
     "data": {
      "image/png": "[encoded data removed]",
      "text/plain": [
       "<matplotlib.figure.Figure at 0x7fb5d00a5358>"
      ]
     },
     "metadata": {},
     "output_type": "display_data"
    }
   ],
   "source": [
    "#Displaying curves of loss and accuracy during training \n",
    "\n",
    "import matplotlib.pyplot as plt\n",
    "acc = history.history['acc']\n",
    "val_acc = history.history['val_acc']\n",
    "loss = history.history['loss']\n",
    "val_loss = history.history['val_loss']\n",
    "\n",
    "epochs = range(len(acc))\n",
    "\n",
    "plt.plot(epochs, smooth_curve(acc), 'bo')#dots\n",
    "plt.plot(epochs, smooth_curve(val_acc), 'b')#line segments\n",
    "plt.title('Training and validation accuracy')\n",
    "plt.figure()\n",
    "\n",
    "plt.plot(epochs, smooth_curve(loss), 'bo')\n",
    "plt.plot(epochs, smooth_curve(val_loss), 'b')\n",
    "plt.title('Training and validation loss')\n",
    "plt.show()"
   ]
  },
  {
   "cell_type": "code",
   "execution_count": 14,
   "metadata": {},
   "outputs": [
    {
     "name": "stdout",
     "output_type": "stream",
     "text": [
      "Epoch 1/50\n",
      "30/30 [==============================] - 19s - loss: 4.0396 - acc: 0.7466 - val_loss: 2.0482 - val_acc: 0.6637\n",
      "Epoch 2/50\n",
      "30/30 [==============================] - 19s - loss: 4.5702 - acc: 0.7133 - val_loss: 1.8772 - val_acc: 0.6903\n",
      "Epoch 3/50\n",
      "30/30 [==============================] - 19s - loss: 3.7199 - acc: 0.7667 - val_loss: 1.9974 - val_acc: 0.6726\n",
      "Epoch 4/50\n",
      "30/30 [==============================] - 19s - loss: 3.7464 - acc: 0.7650 - val_loss: 2.0476 - val_acc: 0.6637\n",
      "Epoch 5/50\n",
      "30/30 [==============================] - 19s - loss: 3.8262 - acc: 0.7600 - val_loss: 2.0788 - val_acc: 0.6549\n",
      "Epoch 6/50\n",
      "30/30 [==============================] - 19s - loss: 4.2231 - acc: 0.7351 - val_loss: 2.0951 - val_acc: 0.6549\n",
      "Epoch 7/50\n",
      "30/30 [==============================] - 19s - loss: 4.5702 - acc: 0.7133 - val_loss: 1.9291 - val_acc: 0.6814\n",
      "Epoch 8/50\n",
      "30/30 [==============================] - 19s - loss: 3.5073 - acc: 0.7800 - val_loss: 1.9857 - val_acc: 0.6726\n",
      "Epoch 9/50\n",
      "30/30 [==============================] - 19s - loss: 4.2779 - acc: 0.7317 - val_loss: 1.9513 - val_acc: 0.6814\n",
      "Epoch 10/50\n",
      "30/30 [==============================] - 19s - loss: 3.7199 - acc: 0.7667 - val_loss: 1.9000 - val_acc: 0.6903\n",
      "Epoch 11/50\n",
      "30/30 [==============================] - 19s - loss: 4.4639 - acc: 0.7200 - val_loss: 1.9517 - val_acc: 0.6814\n",
      "Epoch 12/50\n",
      "30/30 [==============================] - 19s - loss: 3.8270 - acc: 0.7599 - val_loss: 1.8775 - val_acc: 0.6903\n",
      "Epoch 13/50\n",
      "30/30 [==============================] - 19s - loss: 3.5073 - acc: 0.7800 - val_loss: 1.9370 - val_acc: 0.6814\n",
      "Epoch 14/50\n",
      "30/30 [==============================] - 19s - loss: 4.6226 - acc: 0.7100 - val_loss: 1.9636 - val_acc: 0.6814\n",
      "Epoch 15/50\n",
      "30/30 [==============================] - 19s - loss: 4.2513 - acc: 0.7333 - val_loss: 1.9467 - val_acc: 0.6814\n",
      "Epoch 16/50\n",
      "30/30 [==============================] - 19s - loss: 3.9325 - acc: 0.7533 - val_loss: 1.9823 - val_acc: 0.6726\n",
      "Epoch 17/50\n",
      "30/30 [==============================] - 19s - loss: 3.5595 - acc: 0.7767 - val_loss: 1.9841 - val_acc: 0.6726\n",
      "Epoch 18/50\n",
      "30/30 [==============================] - 19s - loss: 4.4639 - acc: 0.7200 - val_loss: 1.9760 - val_acc: 0.6726\n",
      "Epoch 19/50\n",
      "30/30 [==============================] - 19s - loss: 4.1450 - acc: 0.7400 - val_loss: 1.9619 - val_acc: 0.6814\n",
      "Epoch 20/50\n",
      "30/30 [==============================] - 19s - loss: 3.7464 - acc: 0.7650 - val_loss: 1.9752 - val_acc: 0.6726\n",
      "Epoch 21/50\n",
      "30/30 [==============================] - 19s - loss: 4.5702 - acc: 0.7133 - val_loss: 1.7862 - val_acc: 0.7080\n",
      "Epoch 22/50\n",
      "30/30 [==============================] - 19s - loss: 3.9590 - acc: 0.7517 - val_loss: 1.8760 - val_acc: 0.6903\n",
      "Epoch 23/50\n",
      "30/30 [==============================] - 19s - loss: 4.2513 - acc: 0.7333 - val_loss: 2.0132 - val_acc: 0.6726\n",
      "Epoch 24/50\n",
      "30/30 [==============================] - 19s - loss: 4.2513 - acc: 0.7333 - val_loss: 1.8576 - val_acc: 0.6903\n",
      "Epoch 25/50\n",
      "30/30 [==============================] - 19s - loss: 4.2522 - acc: 0.7333 - val_loss: 1.9245 - val_acc: 0.6814\n",
      "Epoch 26/50\n",
      "30/30 [==============================] - 19s - loss: 3.7199 - acc: 0.7667 - val_loss: 1.9239 - val_acc: 0.6814\n",
      "Epoch 27/50\n",
      "30/30 [==============================] - 19s - loss: 3.5081 - acc: 0.7800 - val_loss: 1.9053 - val_acc: 0.6814\n",
      "Epoch 28/50\n",
      "30/30 [==============================] - 19s - loss: 3.2948 - acc: 0.7933 - val_loss: 2.0039 - val_acc: 0.6726\n",
      "Epoch 29/50\n",
      "30/30 [==============================] - 19s - loss: 4.3576 - acc: 0.7267 - val_loss: 1.9087 - val_acc: 0.6903\n",
      "Epoch 30/50\n",
      "30/30 [==============================] - 19s - loss: 4.5969 - acc: 0.7117 - val_loss: 1.9871 - val_acc: 0.6726\n",
      "Epoch 31/50\n",
      "30/30 [==============================] - 19s - loss: 3.2948 - acc: 0.7933 - val_loss: 1.9139 - val_acc: 0.6814\n",
      "Epoch 32/50\n",
      "30/30 [==============================] - 19s - loss: 4.3576 - acc: 0.7267 - val_loss: 1.9251 - val_acc: 0.6814\n",
      "Epoch 33/50\n",
      "30/30 [==============================] - 19s - loss: 4.2779 - acc: 0.7317 - val_loss: 1.8860 - val_acc: 0.6903\n",
      "Epoch 34/50\n",
      "30/30 [==============================] - 19s - loss: 4.0387 - acc: 0.7467 - val_loss: 1.9320 - val_acc: 0.6814\n",
      "Epoch 35/50\n",
      "30/30 [==============================] - 19s - loss: 3.8784 - acc: 0.7567 - val_loss: 1.8582 - val_acc: 0.6903\n",
      "Epoch 36/50\n",
      "30/30 [==============================] - 19s - loss: 4.8890 - acc: 0.6933 - val_loss: 1.9177 - val_acc: 0.6814\n",
      "Epoch 37/50\n",
      "30/30 [==============================] - 19s - loss: 4.2513 - acc: 0.7333 - val_loss: 1.9571 - val_acc: 0.6814\n",
      "Epoch 38/50\n",
      "30/30 [==============================] - 19s - loss: 2.9474 - acc: 0.8151 - val_loss: 1.9361 - val_acc: 0.6814\n",
      "Epoch 39/50\n",
      "30/30 [==============================] - 19s - loss: 4.8890 - acc: 0.6933 - val_loss: 1.9868 - val_acc: 0.6726\n",
      "Epoch 40/50\n",
      "30/30 [==============================] - 19s - loss: 3.6136 - acc: 0.7733 - val_loss: 2.0267 - val_acc: 0.6637\n",
      "Epoch 41/50\n",
      "30/30 [==============================] - 19s - loss: 3.9590 - acc: 0.7517 - val_loss: 1.9015 - val_acc: 0.6903\n",
      "Epoch 42/50\n",
      "30/30 [==============================] - 19s - loss: 4.0387 - acc: 0.7467 - val_loss: 2.0600 - val_acc: 0.6637\n",
      "Epoch 43/50\n",
      "30/30 [==============================] - 19s - loss: 3.9590 - acc: 0.7517 - val_loss: 2.0482 - val_acc: 0.6637\n",
      "Epoch 44/50\n",
      "30/30 [==============================] - 19s - loss: 5.2078 - acc: 0.6733 - val_loss: 1.9717 - val_acc: 0.6726\n",
      "Epoch 45/50\n",
      "30/30 [==============================] - 19s - loss: 3.0822 - acc: 0.8067 - val_loss: 2.1048 - val_acc: 0.6549\n",
      "Epoch 46/50\n",
      "30/30 [==============================] - 19s - loss: 4.1973 - acc: 0.7367 - val_loss: 1.9915 - val_acc: 0.6726\n",
      "Epoch 47/50\n",
      "30/30 [==============================] - 19s - loss: 3.8262 - acc: 0.7600 - val_loss: 1.8645 - val_acc: 0.6903\n",
      "Epoch 48/50\n",
      "30/30 [==============================] - 19s - loss: 4.1973 - acc: 0.7367 - val_loss: 1.9263 - val_acc: 0.6814\n",
      "Epoch 49/50\n",
      "30/30 [==============================] - 19s - loss: 4.2513 - acc: 0.7333 - val_loss: 2.0244 - val_acc: 0.6637\n",
      "Epoch 50/50\n",
      "30/30 [==============================] - 19s - loss: 3.2948 - acc: 0.7933 - val_loss: 2.0833 - val_acc: 0.6549\n",
      "dict_keys(['val_loss', 'val_acc', 'loss', 'acc'])\n"
     ]
    }
   ],
   "source": [
    "history = model.fit_generator(train_generator, \n",
    "                              steps_per_epoch=30,\n",
    "                              epochs=50,  \n",
    "                    validation_data=validation_generator,\n",
    "                              validation_steps=25)\n",
    "\n",
    "history_dict = history.history\n",
    "print(history_dict.keys())\n",
    "\n",
    "model.save('damage_undamaged_conv5_2_vgg.h5')"
   ]
  },
  {
   "cell_type": "code",
   "execution_count": 15,
   "metadata": {},
   "outputs": [
    {
     "data": {
      "image/png": "[encoded data removed]",
      "text/plain": [
       "<matplotlib.figure.Figure at 0x7fb599760b70>"
      ]
     },
     "metadata": {},
     "output_type": "display_data"
    },
    {
     "data": {
      "image/png": "[encoded data removed]",
      "text/plain": [
       "<matplotlib.figure.Figure at 0x7fb5996db668>"
      ]
     },
     "metadata": {},
     "output_type": "display_data"
    }
   ],
   "source": [
    "#Displaying curves of loss and accuracy during training \n",
    "\n",
    "import matplotlib.pyplot as plt\n",
    "acc = history.history['acc']\n",
    "val_acc = history.history['val_acc']\n",
    "loss = history.history['loss']\n",
    "val_loss = history.history['val_loss']\n",
    "\n",
    "epochs = range(len(acc))\n",
    "\n",
    "plt.plot(epochs, smooth_curve(acc), 'bo')#dots\n",
    "plt.plot(epochs, smooth_curve(val_acc), 'b')#line segments\n",
    "plt.title('Training and validation accuracy')\n",
    "plt.figure()\n",
    "\n",
    "plt.plot(epochs, smooth_curve(loss), 'bo')\n",
    "plt.plot(epochs, smooth_curve(val_loss), 'b')\n",
    "plt.title('Training and validation loss')\n",
    "plt.show()"
   ]
  },
  {
   "cell_type": "code",
   "execution_count": null,
   "metadata": {
    "collapsed": true
   },
   "outputs": [],
   "source": []
  }
 ],
 "metadata": {
  "kernelspec": {
   "display_name": "Python 3",
   "language": "python",
   "name": "python3"
  },
  "language_info": {
   "codemirror_mode": {
    "name": "ipython",
    "version": 3
   },
   "file_extension": ".py",
   "mimetype": "text/x-python",
   "name": "python",
   "nbconvert_exporter": "python",
   "pygments_lexer": "ipython3",
   "version": "3.6.1"
  }
 },
 "nbformat": 4,
 "nbformat_minor": 2
}
