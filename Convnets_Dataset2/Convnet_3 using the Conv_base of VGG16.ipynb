{
 "cells": [
  {
   "cell_type": "code",
   "execution_count": 1,
   "metadata": {
    "collapsed": true
   },
   "outputs": [],
   "source": [
    "import os, shutil"
   ]
  },
  {
   "cell_type": "code",
   "execution_count": 2,
   "metadata": {
    "collapsed": true
   },
   "outputs": [],
   "source": [
    "base_dir = '/home/skhatter/Damage_Detection_New'\n",
    "train_dir = '/home/skhatter/Damage_Detection_New/train'\n",
    "valid_dir = '/home/skhatter/Damage Detection/validation'\n",
    "test_dir = '/home/skhatter/Damage Detection/test'\n",
    "\n",
    "train_dam_dir = '/home/skhatter/Damage_Detection_New/train/damaged'\n",
    "train_undam_dir = '/home/skhatter/Damage_Detection_New/train/undamaged'\n",
    "\n",
    "valid_dam_dir = '/home/skhatter/Damage Detection/validation/damaged'\n",
    "valid_undam_dir = '/home/skhatter/Damage Detection/validation/undamaged'\n",
    "\n",
    "test_dir = '/home/skhatter/Damage Detection/test'"
   ]
  },
  {
   "cell_type": "code",
   "execution_count": 3,
   "metadata": {},
   "outputs": [
    {
     "name": "stdout",
     "output_type": "stream",
     "text": [
      "Total training damaged images 100\n",
      "Total training undamaged images 294\n",
      "Total validation damaged images 10\n",
      "Total validation undamaged images 21\n",
      "Total test damaged images 2\n"
     ]
    }
   ],
   "source": [
    "print('Total training damaged images', len(os.listdir(train_dam_dir)))\n",
    "print('Total training undamaged images', len(os.listdir(train_undam_dir)))\n",
    "\n",
    "print('Total validation damaged images', len(os.listdir(valid_dam_dir)))\n",
    "print('Total validation undamaged images', len(os.listdir(valid_undam_dir)))\n",
    "\n",
    "print('Total test damaged images', len(os.listdir(test_dir)))"
   ]
  },
  {
   "cell_type": "code",
   "execution_count": 4,
   "metadata": {},
   "outputs": [
    {
     "name": "stderr",
     "output_type": "stream",
     "text": [
      "Using TensorFlow backend.\n"
     ]
    }
   ],
   "source": [
    "from keras import layers\n",
    "from keras import models\n",
    "from keras.applications import VGG16"
   ]
  },
  {
   "cell_type": "code",
   "execution_count": 5,
   "metadata": {},
   "outputs": [
    {
     "name": "stdout",
     "output_type": "stream",
     "text": [
      "_________________________________________________________________\n",
      "Layer (type)                 Output Shape              Param #   \n",
      "=================================================================\n",
      "input_1 (InputLayer)         (None, 512, 512, 3)       0         \n",
      "_________________________________________________________________\n",
      "block1_conv1 (Conv2D)        (None, 512, 512, 64)      1792      \n",
      "_________________________________________________________________\n",
      "block1_conv2 (Conv2D)        (None, 512, 512, 64)      36928     \n",
      "_________________________________________________________________\n",
      "block1_pool (MaxPooling2D)   (None, 256, 256, 64)      0         \n",
      "_________________________________________________________________\n",
      "block2_conv1 (Conv2D)        (None, 256, 256, 128)     73856     \n",
      "_________________________________________________________________\n",
      "block2_conv2 (Conv2D)        (None, 256, 256, 128)     147584    \n",
      "_________________________________________________________________\n",
      "block2_pool (MaxPooling2D)   (None, 128, 128, 128)     0         \n",
      "_________________________________________________________________\n",
      "block3_conv1 (Conv2D)        (None, 128, 128, 256)     295168    \n",
      "_________________________________________________________________\n",
      "block3_conv2 (Conv2D)        (None, 128, 128, 256)     590080    \n",
      "_________________________________________________________________\n",
      "block3_conv3 (Conv2D)        (None, 128, 128, 256)     590080    \n",
      "_________________________________________________________________\n",
      "block3_pool (MaxPooling2D)   (None, 64, 64, 256)       0         \n",
      "_________________________________________________________________\n",
      "block4_conv1 (Conv2D)        (None, 64, 64, 512)       1180160   \n",
      "_________________________________________________________________\n",
      "block4_conv2 (Conv2D)        (None, 64, 64, 512)       2359808   \n",
      "_________________________________________________________________\n",
      "block4_conv3 (Conv2D)        (None, 64, 64, 512)       2359808   \n",
      "_________________________________________________________________\n",
      "block4_pool (MaxPooling2D)   (None, 32, 32, 512)       0         \n",
      "_________________________________________________________________\n",
      "block5_conv1 (Conv2D)        (None, 32, 32, 512)       2359808   \n",
      "_________________________________________________________________\n",
      "block5_conv2 (Conv2D)        (None, 32, 32, 512)       2359808   \n",
      "_________________________________________________________________\n",
      "block5_conv3 (Conv2D)        (None, 32, 32, 512)       2359808   \n",
      "_________________________________________________________________\n",
      "block5_pool (MaxPooling2D)   (None, 16, 16, 512)       0         \n",
      "=================================================================\n",
      "Total params: 14,714,688\n",
      "Trainable params: 14,714,688\n",
      "Non-trainable params: 0\n",
      "_________________________________________________________________\n"
     ]
    }
   ],
   "source": [
    "conv_base = VGG16(weights = 'imagenet', include_top = False, input_shape=(512,512,3))\n",
    "conv_base.summary()"
   ]
  },
  {
   "cell_type": "code",
   "execution_count": 6,
   "metadata": {
    "scrolled": true
   },
   "outputs": [
    {
     "name": "stdout",
     "output_type": "stream",
     "text": [
      "Found 394 images belonging to 2 classes.\n",
      "Found 31 images belonging to 2 classes.\n"
     ]
    }
   ],
   "source": [
    "from keras.preprocessing.image import ImageDataGenerator\n",
    "import numpy as np\n",
    "\n",
    "datagen = ImageDataGenerator(rescale = 1./255)\n",
    "batch_size = 5\n",
    "\n",
    "def extract_features(directory, sample_count):\n",
    "    features = np.zeros(shape=(sample_count,16,16,512 ))\n",
    "    labels = np.zeros(shape=(sample_count))\n",
    "    generator = datagen.flow_from_directory(directory, target_size=(512,512),\n",
    "                                           batch_size=batch_size, class_mode='binary')\n",
    "    i =0\n",
    "    for inputs_batch, labels_batch in generator:\n",
    "        features_batch = conv_base.predict(inputs_batch)\n",
    "        features[i * batch_size : (i + 1) * batch_size] = features_batch\n",
    "        labels[i * batch_size : (i + 1) * batch_size] = labels_batch\n",
    "        i += 1\n",
    "        if i * batch_size >= sample_count:\n",
    "            break\n",
    "    return features, labels\n",
    "\n",
    "train_features, train_labels = extract_features(train_dir, 394)\n",
    "validation_features, validation_labels = extract_features(valid_dir, 31)\n",
    "#test_features, test_labels = extract_features(test_dir, 2)        "
   ]
  },
  {
   "cell_type": "code",
   "execution_count": 7,
   "metadata": {},
   "outputs": [],
   "source": [
    "train_features = np.reshape(train_features, (394, 16*16*512))\n",
    "validation_features = np.reshape(validation_features, (31, 16*16*512))"
   ]
  },
  {
   "cell_type": "code",
   "execution_count": 8,
   "metadata": {
    "collapsed": true
   },
   "outputs": [],
   "source": [
    "from keras import models\n",
    "from keras import layers\n",
    "from keras import optimizers\n",
    "\n",
    "model = models.Sequential()\n",
    "model.add(layers.Dense(256, activation='relu', input_dim=16*16*512))\n",
    "model.add(layers.Dropout(0.5))\n",
    "model.add(layers.Dense(1, activation='sigmoid'))\n",
    "\n",
    "model.compile(optimizer=optimizers.RMSprop(lr=1e-4),\n",
    "             loss='binary_crossentropy',\n",
    "             metrics=['acc'])"
   ]
  },
  {
   "cell_type": "code",
   "execution_count": 9,
   "metadata": {
    "scrolled": false
   },
   "outputs": [
    {
     "name": "stdout",
     "output_type": "stream",
     "text": [
      "Train on 394 samples, validate on 31 samples\n",
      "Epoch 1/100\n",
      "394/394 [==============================] - 1s - loss: 1.2712 - acc: 0.6396 - val_loss: 0.6129 - val_acc: 0.6774\n",
      "Epoch 2/100\n",
      "394/394 [==============================] - 1s - loss: 0.6158 - acc: 0.7284 - val_loss: 0.5916 - val_acc: 0.6774\n",
      "Epoch 3/100\n",
      "394/394 [==============================] - 1s - loss: 0.4973 - acc: 0.7716 - val_loss: 0.6986 - val_acc: 0.6774\n",
      "Epoch 4/100\n",
      "394/394 [==============================] - 1s - loss: 0.4257 - acc: 0.8147 - val_loss: 0.6146 - val_acc: 0.6774\n",
      "Epoch 5/100\n",
      "394/394 [==============================] - 1s - loss: 0.3923 - acc: 0.8401 - val_loss: 0.8752 - val_acc: 0.6774\n",
      "Epoch 6/100\n",
      "394/394 [==============================] - 1s - loss: 0.3418 - acc: 0.8579 - val_loss: 0.8181 - val_acc: 0.6774\n",
      "Epoch 7/100\n",
      "394/394 [==============================] - 1s - loss: 0.3363 - acc: 0.8579 - val_loss: 0.7689 - val_acc: 0.7097\n",
      "Epoch 8/100\n",
      "394/394 [==============================] - 1s - loss: 0.2814 - acc: 0.8807 - val_loss: 0.6508 - val_acc: 0.7419\n",
      "Epoch 9/100\n",
      "394/394 [==============================] - 1s - loss: 0.2285 - acc: 0.9239 - val_loss: 0.5669 - val_acc: 0.6774\n",
      "Epoch 10/100\n",
      "394/394 [==============================] - 1s - loss: 0.2062 - acc: 0.9112 - val_loss: 1.3222 - val_acc: 0.6774\n",
      "Epoch 11/100\n",
      "394/394 [==============================] - 1s - loss: 0.2198 - acc: 0.9061 - val_loss: 0.7417 - val_acc: 0.7419\n",
      "Epoch 12/100\n",
      "394/394 [==============================] - 1s - loss: 0.1865 - acc: 0.9289 - val_loss: 0.9801 - val_acc: 0.7097\n",
      "Epoch 13/100\n",
      "394/394 [==============================] - 1s - loss: 0.1772 - acc: 0.9442 - val_loss: 1.0640 - val_acc: 0.7097\n",
      "Epoch 14/100\n",
      "394/394 [==============================] - 1s - loss: 0.1509 - acc: 0.9518 - val_loss: 0.8087 - val_acc: 0.7097\n",
      "Epoch 15/100\n",
      "394/394 [==============================] - 1s - loss: 0.1270 - acc: 0.9569 - val_loss: 1.1479 - val_acc: 0.7097\n",
      "Epoch 16/100\n",
      "394/394 [==============================] - 1s - loss: 0.1093 - acc: 0.9645 - val_loss: 1.0280 - val_acc: 0.6774\n",
      "Epoch 17/100\n",
      "394/394 [==============================] - 1s - loss: 0.1094 - acc: 0.9746 - val_loss: 1.1632 - val_acc: 0.7097\n",
      "Epoch 18/100\n",
      "394/394 [==============================] - 1s - loss: 0.1161 - acc: 0.9594 - val_loss: 0.9581 - val_acc: 0.7419\n",
      "Epoch 19/100\n",
      "394/394 [==============================] - 1s - loss: 0.0803 - acc: 0.9670 - val_loss: 1.2669 - val_acc: 0.7097\n",
      "Epoch 20/100\n",
      "394/394 [==============================] - 1s - loss: 0.0828 - acc: 0.9721 - val_loss: 1.6942 - val_acc: 0.7097\n",
      "Epoch 21/100\n",
      "394/394 [==============================] - 1s - loss: 0.0790 - acc: 0.9721 - val_loss: 1.8008 - val_acc: 0.6774\n",
      "Epoch 22/100\n",
      "394/394 [==============================] - 1s - loss: 0.0679 - acc: 0.9797 - val_loss: 1.6941 - val_acc: 0.7097\n",
      "Epoch 23/100\n",
      "394/394 [==============================] - 1s - loss: 0.0653 - acc: 0.9772 - val_loss: 1.6725 - val_acc: 0.7097\n",
      "Epoch 24/100\n",
      "394/394 [==============================] - 1s - loss: 0.0645 - acc: 0.9772 - val_loss: 1.6637 - val_acc: 0.7097\n",
      "Epoch 25/100\n",
      "394/394 [==============================] - 1s - loss: 0.0411 - acc: 0.9873 - val_loss: 1.7868 - val_acc: 0.7419\n",
      "Epoch 26/100\n",
      "394/394 [==============================] - 1s - loss: 0.0550 - acc: 0.9746 - val_loss: 1.3309 - val_acc: 0.7097\n",
      "Epoch 27/100\n",
      "394/394 [==============================] - 1s - loss: 0.0466 - acc: 0.9873 - val_loss: 1.3236 - val_acc: 0.7419\n",
      "Epoch 28/100\n",
      "394/394 [==============================] - 1s - loss: 0.0366 - acc: 0.9898 - val_loss: 1.7090 - val_acc: 0.7097\n",
      "Epoch 29/100\n",
      "394/394 [==============================] - 1s - loss: 0.0287 - acc: 0.9949 - val_loss: 1.3026 - val_acc: 0.7419\n",
      "Epoch 30/100\n",
      "394/394 [==============================] - 1s - loss: 0.0355 - acc: 0.9924 - val_loss: 2.4467 - val_acc: 0.6774\n",
      "Epoch 31/100\n",
      "394/394 [==============================] - 1s - loss: 0.0362 - acc: 0.9848 - val_loss: 1.7393 - val_acc: 0.7097\n",
      "Epoch 32/100\n",
      "394/394 [==============================] - 1s - loss: 0.0176 - acc: 0.9949 - val_loss: 1.6037 - val_acc: 0.7097\n",
      "Epoch 33/100\n",
      "394/394 [==============================] - 1s - loss: 0.0221 - acc: 0.9975 - val_loss: 2.1214 - val_acc: 0.7097\n",
      "Epoch 34/100\n",
      "394/394 [==============================] - 1s - loss: 0.0300 - acc: 0.9898 - val_loss: 2.0669 - val_acc: 0.7097\n",
      "Epoch 35/100\n",
      "394/394 [==============================] - 1s - loss: 0.0175 - acc: 1.0000 - val_loss: 1.9093 - val_acc: 0.7097\n",
      "Epoch 36/100\n",
      "394/394 [==============================] - 1s - loss: 0.0251 - acc: 0.9924 - val_loss: 2.3481 - val_acc: 0.7419\n",
      "Epoch 37/100\n",
      "394/394 [==============================] - 1s - loss: 0.0087 - acc: 1.0000 - val_loss: 1.9823 - val_acc: 0.7097\n",
      "Epoch 38/100\n",
      "394/394 [==============================] - 1s - loss: 0.0251 - acc: 0.9898 - val_loss: 2.2964 - val_acc: 0.7097\n",
      "Epoch 39/100\n",
      "394/394 [==============================] - 1s - loss: 0.0175 - acc: 0.9924 - val_loss: 2.1486 - val_acc: 0.7097\n",
      "Epoch 40/100\n",
      "394/394 [==============================] - 1s - loss: 0.0149 - acc: 0.9924 - val_loss: 1.6136 - val_acc: 0.7097\n",
      "Epoch 41/100\n",
      "394/394 [==============================] - 1s - loss: 0.0130 - acc: 0.9975 - val_loss: 1.9623 - val_acc: 0.7097\n",
      "Epoch 42/100\n",
      "394/394 [==============================] - 1s - loss: 0.0103 - acc: 0.9975 - val_loss: 2.0517 - val_acc: 0.7097\n",
      "Epoch 43/100\n",
      "394/394 [==============================] - 1s - loss: 0.0190 - acc: 0.9949 - val_loss: 2.7273 - val_acc: 0.7419\n",
      "Epoch 44/100\n",
      "394/394 [==============================] - 1s - loss: 0.0080 - acc: 0.9975 - val_loss: 2.4559 - val_acc: 0.7097\n",
      "Epoch 45/100\n",
      "394/394 [==============================] - 1s - loss: 0.0096 - acc: 0.9975 - val_loss: 2.3470 - val_acc: 0.7097\n",
      "Epoch 46/100\n",
      "394/394 [==============================] - 1s - loss: 0.0058 - acc: 1.0000 - val_loss: 2.6166 - val_acc: 0.7097\n",
      "Epoch 47/100\n",
      "394/394 [==============================] - 1s - loss: 0.0145 - acc: 0.9949 - val_loss: 1.8988 - val_acc: 0.7097\n",
      "Epoch 48/100\n",
      "394/394 [==============================] - 1s - loss: 0.0044 - acc: 1.0000 - val_loss: 1.7975 - val_acc: 0.7097\n",
      "Epoch 49/100\n",
      "394/394 [==============================] - 1s - loss: 0.0060 - acc: 1.0000 - val_loss: 2.4754 - val_acc: 0.7097\n",
      "Epoch 50/100\n",
      "394/394 [==============================] - 1s - loss: 0.0097 - acc: 0.9949 - val_loss: 2.3588 - val_acc: 0.7097\n",
      "Epoch 51/100\n",
      "394/394 [==============================] - 1s - loss: 0.0077 - acc: 0.9975 - val_loss: 2.8097 - val_acc: 0.7097\n",
      "Epoch 52/100\n",
      "394/394 [==============================] - 1s - loss: 0.0072 - acc: 0.9975 - val_loss: 2.9623 - val_acc: 0.7097\n",
      "Epoch 53/100\n",
      "394/394 [==============================] - 1s - loss: 0.0048 - acc: 1.0000 - val_loss: 3.0886 - val_acc: 0.7097\n",
      "Epoch 54/100\n",
      "394/394 [==============================] - 1s - loss: 0.0075 - acc: 0.9975 - val_loss: 2.6313 - val_acc: 0.7097\n",
      "Epoch 55/100\n",
      "394/394 [==============================] - 1s - loss: 0.0038 - acc: 1.0000 - val_loss: 3.0346 - val_acc: 0.7097\n",
      "Epoch 56/100\n",
      "394/394 [==============================] - 1s - loss: 0.0040 - acc: 1.0000 - val_loss: 2.3307 - val_acc: 0.7097\n",
      "Epoch 57/100\n",
      "394/394 [==============================] - 1s - loss: 0.0046 - acc: 1.0000 - val_loss: 2.0537 - val_acc: 0.7097\n",
      "Epoch 58/100\n",
      "394/394 [==============================] - 1s - loss: 0.0085 - acc: 0.9949 - val_loss: 2.3968 - val_acc: 0.7097\n",
      "Epoch 59/100\n",
      "394/394 [==============================] - 1s - loss: 0.0018 - acc: 1.0000 - val_loss: 3.2142 - val_acc: 0.7097\n",
      "Epoch 60/100\n",
      "394/394 [==============================] - 1s - loss: 0.0088 - acc: 0.9975 - val_loss: 3.1897 - val_acc: 0.7097\n",
      "Epoch 61/100\n",
      "394/394 [==============================] - 1s - loss: 0.0092 - acc: 0.9949 - val_loss: 3.1370 - val_acc: 0.7097\n",
      "Epoch 62/100\n",
      "394/394 [==============================] - 1s - loss: 0.0055 - acc: 0.9975 - val_loss: 3.2031 - val_acc: 0.7097\n",
      "Epoch 63/100\n",
      "394/394 [==============================] - 1s - loss: 0.0059 - acc: 0.9949 - val_loss: 3.2720 - val_acc: 0.7097\n",
      "Epoch 64/100\n",
      "394/394 [==============================] - 1s - loss: 0.0017 - acc: 1.0000 - val_loss: 3.0975 - val_acc: 0.7097\n",
      "Epoch 65/100\n",
      "394/394 [==============================] - 1s - loss: 0.0054 - acc: 0.9975 - val_loss: 3.0200 - val_acc: 0.7097\n",
      "Epoch 66/100\n"
     ]
    },
    {
     "name": "stdout",
     "output_type": "stream",
     "text": [
      "394/394 [==============================] - 1s - loss: 0.0027 - acc: 1.0000 - val_loss: 3.2641 - val_acc: 0.7097\n",
      "Epoch 67/100\n",
      "394/394 [==============================] - 1s - loss: 0.0134 - acc: 0.9949 - val_loss: 3.0744 - val_acc: 0.7097\n",
      "Epoch 68/100\n",
      "394/394 [==============================] - 1s - loss: 6.5138e-04 - acc: 1.0000 - val_loss: 3.4206 - val_acc: 0.7097\n",
      "Epoch 69/100\n",
      "394/394 [==============================] - 1s - loss: 0.0068 - acc: 0.9975 - val_loss: 3.0917 - val_acc: 0.7097\n",
      "Epoch 70/100\n",
      "394/394 [==============================] - 1s - loss: 0.0073 - acc: 0.9975 - val_loss: 3.5586 - val_acc: 0.7097\n",
      "Epoch 71/100\n",
      "394/394 [==============================] - 1s - loss: 0.0010 - acc: 1.0000 - val_loss: 2.9191 - val_acc: 0.7097\n",
      "Epoch 72/100\n",
      "394/394 [==============================] - 1s - loss: 0.0021 - acc: 1.0000 - val_loss: 3.3963 - val_acc: 0.7097\n",
      "Epoch 73/100\n",
      "394/394 [==============================] - 1s - loss: 9.2064e-04 - acc: 1.0000 - val_loss: 2.7607 - val_acc: 0.7419\n",
      "Epoch 74/100\n",
      "394/394 [==============================] - 1s - loss: 0.0028 - acc: 1.0000 - val_loss: 2.7749 - val_acc: 0.7097\n",
      "Epoch 75/100\n",
      "394/394 [==============================] - 1s - loss: 0.0010 - acc: 1.0000 - val_loss: 3.5378 - val_acc: 0.7097\n",
      "Epoch 76/100\n",
      "394/394 [==============================] - 1s - loss: 8.9671e-04 - acc: 1.0000 - val_loss: 2.8088 - val_acc: 0.7419\n",
      "Epoch 77/100\n",
      "394/394 [==============================] - 1s - loss: 0.0019 - acc: 1.0000 - val_loss: 3.3506 - val_acc: 0.7097\n",
      "Epoch 78/100\n",
      "394/394 [==============================] - 1s - loss: 3.4915e-04 - acc: 1.0000 - val_loss: 2.8186 - val_acc: 0.7419\n",
      "Epoch 79/100\n",
      "394/394 [==============================] - 1s - loss: 0.0023 - acc: 1.0000 - val_loss: 3.2778 - val_acc: 0.7097\n",
      "Epoch 80/100\n",
      "394/394 [==============================] - 1s - loss: 0.0012 - acc: 1.0000 - val_loss: 3.0045 - val_acc: 0.7097\n",
      "Epoch 81/100\n",
      "394/394 [==============================] - 1s - loss: 5.2276e-04 - acc: 1.0000 - val_loss: 3.6567 - val_acc: 0.7097\n",
      "Epoch 82/100\n",
      "394/394 [==============================] - 1s - loss: 5.4367e-04 - acc: 1.0000 - val_loss: 3.5992 - val_acc: 0.7097\n",
      "Epoch 83/100\n",
      "394/394 [==============================] - 1s - loss: 0.0183 - acc: 0.9924 - val_loss: 3.4304 - val_acc: 0.7097\n",
      "Epoch 84/100\n",
      "394/394 [==============================] - 1s - loss: 5.2087e-04 - acc: 1.0000 - val_loss: 3.3660 - val_acc: 0.7097\n",
      "Epoch 85/100\n",
      "394/394 [==============================] - 1s - loss: 4.0854e-04 - acc: 1.0000 - val_loss: 3.2000 - val_acc: 0.7097\n",
      "Epoch 86/100\n",
      "394/394 [==============================] - 1s - loss: 0.0103 - acc: 0.9949 - val_loss: 3.2724 - val_acc: 0.7097\n",
      "Epoch 87/100\n",
      "394/394 [==============================] - 1s - loss: 0.0018 - acc: 1.0000 - val_loss: 3.8505 - val_acc: 0.7419\n",
      "Epoch 88/100\n",
      "394/394 [==============================] - 1s - loss: 0.0035 - acc: 0.9975 - val_loss: 3.3605 - val_acc: 0.7097\n",
      "Epoch 89/100\n",
      "394/394 [==============================] - 1s - loss: 0.0018 - acc: 1.0000 - val_loss: 3.6478 - val_acc: 0.7419\n",
      "Epoch 90/100\n",
      "394/394 [==============================] - 1s - loss: 0.0043 - acc: 0.9975 - val_loss: 3.7554 - val_acc: 0.7419\n",
      "Epoch 91/100\n",
      "394/394 [==============================] - 1s - loss: 8.1120e-04 - acc: 1.0000 - val_loss: 3.8291 - val_acc: 0.7419\n",
      "Epoch 92/100\n",
      "394/394 [==============================] - 1s - loss: 0.0032 - acc: 1.0000 - val_loss: 3.5307 - val_acc: 0.7097\n",
      "Epoch 93/100\n",
      "394/394 [==============================] - 1s - loss: 0.0015 - acc: 1.0000 - val_loss: 3.4522 - val_acc: 0.7097\n",
      "Epoch 94/100\n",
      "394/394 [==============================] - 1s - loss: 0.0011 - acc: 1.0000 - val_loss: 3.6204 - val_acc: 0.7097\n",
      "Epoch 95/100\n",
      "394/394 [==============================] - 1s - loss: 0.0135 - acc: 0.9975 - val_loss: 3.3586 - val_acc: 0.7097\n",
      "Epoch 96/100\n",
      "394/394 [==============================] - 1s - loss: 8.0865e-04 - acc: 1.0000 - val_loss: 3.4322 - val_acc: 0.7097\n",
      "Epoch 97/100\n",
      "394/394 [==============================] - 1s - loss: 3.0709e-04 - acc: 1.0000 - val_loss: 3.7667 - val_acc: 0.7097\n",
      "Epoch 98/100\n",
      "394/394 [==============================] - 1s - loss: 0.0018 - acc: 1.0000 - val_loss: 3.8401 - val_acc: 0.7097\n",
      "Epoch 99/100\n",
      "394/394 [==============================] - 1s - loss: 0.0048 - acc: 0.9975 - val_loss: 3.4320 - val_acc: 0.7097\n",
      "Epoch 100/100\n",
      "394/394 [==============================] - 1s - loss: 0.0024 - acc: 1.0000 - val_loss: 3.5355 - val_acc: 0.7097\n"
     ]
    }
   ],
   "source": [
    "history = model.fit(train_features, train_labels, epochs=100, \n",
    "                    batch_size =5, \n",
    "                    validation_data=(validation_features, validation_labels))"
   ]
  },
  {
   "cell_type": "code",
   "execution_count": 10,
   "metadata": {
    "scrolled": false
   },
   "outputs": [
    {
     "name": "stdout",
     "output_type": "stream",
     "text": [
      "dict_keys(['val_loss', 'val_acc', 'loss', 'acc'])\n"
     ]
    }
   ],
   "source": [
    "history_dict = history.history\n",
    "print(history_dict.keys())\n",
    "\n",
    "model.save('damage_undamaged_conv3_vgg.h5')"
   ]
  },
  {
   "cell_type": "code",
   "execution_count": 11,
   "metadata": {},
   "outputs": [
    {
     "data": {
      "image/png": "[encoded data removed]",
      "text/plain": [
       "<matplotlib.figure.Figure at 0x7f20b800f7f0>"
      ]
     },
     "metadata": {},
     "output_type": "display_data"
    },
    {
     "data": {
      "image/png": "[encoded data removed]",
      "text/plain": [
       "<matplotlib.figure.Figure at 0x7f20b5bf92e8>"
      ]
     },
     "metadata": {},
     "output_type": "display_data"
    }
   ],
   "source": [
    "#Displaying curves of loss and accuracy during training \n",
    "\n",
    "import matplotlib.pyplot as plt\n",
    "acc = history.history['acc']\n",
    "val_acc = history.history['val_acc']\n",
    "loss = history.history['loss']\n",
    "val_loss = history.history['val_loss']\n",
    "\n",
    "epochs = range(len(acc))\n",
    "\n",
    "plt.plot(epochs, acc, 'bo')#dots\n",
    "plt.plot(epochs, val_acc, 'b')#line segments\n",
    "plt.title('Training and validation accuracy')\n",
    "plt.figure()\n",
    "\n",
    "plt.plot(epochs, loss, 'bo')\n",
    "plt.plot(epochs, val_loss, 'b')\n",
    "plt.title('Training and validation loss')\n",
    "plt.show()"
   ]
  },
  {
   "cell_type": "code",
   "execution_count": 12,
   "metadata": {
    "scrolled": false
   },
   "outputs": [
    {
     "name": "stdout",
     "output_type": "stream",
     "text": [
      "Train on 394 samples, validate on 31 samples\n",
      "Epoch 1/50\n",
      "394/394 [==============================] - 1s - loss: 1.8251e-04 - acc: 1.0000 - val_loss: 3.5041 - val_acc: 0.7097\n",
      "Epoch 2/50\n",
      "394/394 [==============================] - 1s - loss: 0.0014 - acc: 1.0000 - val_loss: 3.7587 - val_acc: 0.7097\n",
      "Epoch 3/50\n",
      "394/394 [==============================] - 1s - loss: 0.0035 - acc: 1.0000 - val_loss: 3.5670 - val_acc: 0.7097\n",
      "Epoch 4/50\n",
      "394/394 [==============================] - 1s - loss: 0.0041 - acc: 0.9949 - val_loss: 3.5265 - val_acc: 0.7097\n",
      "Epoch 5/50\n",
      "394/394 [==============================] - 1s - loss: 0.0031 - acc: 0.9975 - val_loss: 3.6376 - val_acc: 0.7097\n",
      "Epoch 6/50\n",
      "394/394 [==============================] - 1s - loss: 9.8839e-04 - acc: 1.0000 - val_loss: 3.5112 - val_acc: 0.7097\n",
      "Epoch 7/50\n",
      "394/394 [==============================] - 1s - loss: 9.1969e-04 - acc: 1.0000 - val_loss: 3.5148 - val_acc: 0.7097\n",
      "Epoch 8/50\n",
      "394/394 [==============================] - 1s - loss: 1.5100e-04 - acc: 1.0000 - val_loss: 3.5522 - val_acc: 0.7097\n",
      "Epoch 9/50\n",
      "394/394 [==============================] - 1s - loss: 1.2423e-04 - acc: 1.0000 - val_loss: 3.7571 - val_acc: 0.7419\n",
      "Epoch 10/50\n",
      "394/394 [==============================] - 1s - loss: 6.6419e-04 - acc: 1.0000 - val_loss: 3.8093 - val_acc: 0.7097\n",
      "Epoch 11/50\n",
      "394/394 [==============================] - 1s - loss: 2.4589e-04 - acc: 1.0000 - val_loss: 3.4841 - val_acc: 0.7097\n",
      "Epoch 12/50\n",
      "394/394 [==============================] - 1s - loss: 7.9406e-04 - acc: 1.0000 - val_loss: 3.6493 - val_acc: 0.7097\n",
      "Epoch 13/50\n",
      "394/394 [==============================] - 1s - loss: 0.0034 - acc: 0.9975 - val_loss: 3.7940 - val_acc: 0.7097\n",
      "Epoch 14/50\n",
      "394/394 [==============================] - 1s - loss: 0.0079 - acc: 0.9975 - val_loss: 3.8714 - val_acc: 0.7419\n",
      "Epoch 15/50\n",
      "394/394 [==============================] - 1s - loss: 0.0012 - acc: 1.0000 - val_loss: 3.5671 - val_acc: 0.7097\n",
      "Epoch 16/50\n",
      "394/394 [==============================] - 1s - loss: 0.0038 - acc: 0.9975 - val_loss: 3.5142 - val_acc: 0.7097\n",
      "Epoch 17/50\n",
      "394/394 [==============================] - 1s - loss: 9.1540e-04 - acc: 1.0000 - val_loss: 3.5337 - val_acc: 0.7097\n",
      "Epoch 18/50\n",
      "394/394 [==============================] - 1s - loss: 0.0014 - acc: 1.0000 - val_loss: 3.5608 - val_acc: 0.7097\n",
      "Epoch 19/50\n",
      "394/394 [==============================] - 1s - loss: 0.0014 - acc: 1.0000 - val_loss: 3.7342 - val_acc: 0.7419\n",
      "Epoch 20/50\n",
      "394/394 [==============================] - 1s - loss: 0.0118 - acc: 0.9975 - val_loss: 3.4388 - val_acc: 0.7097\n",
      "Epoch 21/50\n",
      "394/394 [==============================] - 1s - loss: 7.5319e-04 - acc: 1.0000 - val_loss: 3.6167 - val_acc: 0.7097\n",
      "Epoch 22/50\n",
      "394/394 [==============================] - 1s - loss: 1.6836e-04 - acc: 1.0000 - val_loss: 3.7262 - val_acc: 0.7097\n",
      "Epoch 23/50\n",
      "394/394 [==============================] - 1s - loss: 0.0013 - acc: 1.0000 - val_loss: 3.6739 - val_acc: 0.7419\n",
      "Epoch 24/50\n",
      "394/394 [==============================] - 1s - loss: 0.0049 - acc: 0.9975 - val_loss: 3.6805 - val_acc: 0.7097\n",
      "Epoch 25/50\n",
      "394/394 [==============================] - 1s - loss: 2.1021e-04 - acc: 1.0000 - val_loss: 3.7818 - val_acc: 0.7097\n",
      "Epoch 26/50\n",
      "394/394 [==============================] - 1s - loss: 0.0069 - acc: 0.9975 - val_loss: 3.8476 - val_acc: 0.7419\n",
      "Epoch 27/50\n",
      "394/394 [==============================] - 1s - loss: 6.5093e-04 - acc: 1.0000 - val_loss: 3.7704 - val_acc: 0.7097\n",
      "Epoch 28/50\n",
      "394/394 [==============================] - 1s - loss: 4.9000e-04 - acc: 1.0000 - val_loss: 3.8300 - val_acc: 0.7419\n",
      "Epoch 29/50\n",
      "394/394 [==============================] - 1s - loss: 2.0948e-04 - acc: 1.0000 - val_loss: 3.7162 - val_acc: 0.7097\n",
      "Epoch 30/50\n",
      "394/394 [==============================] - 1s - loss: 7.4892e-04 - acc: 1.0000 - val_loss: 3.8960 - val_acc: 0.7097\n",
      "Epoch 31/50\n",
      "394/394 [==============================] - 1s - loss: 1.0950e-04 - acc: 1.0000 - val_loss: 3.9286 - val_acc: 0.7097\n",
      "Epoch 32/50\n",
      "394/394 [==============================] - 1s - loss: 2.2840e-04 - acc: 1.0000 - val_loss: 3.6594 - val_acc: 0.7097\n",
      "Epoch 33/50\n",
      "394/394 [==============================] - 1s - loss: 0.0010 - acc: 1.0000 - val_loss: 3.8910 - val_acc: 0.7097\n",
      "Epoch 34/50\n",
      "394/394 [==============================] - 1s - loss: 5.8157e-05 - acc: 1.0000 - val_loss: 3.7230 - val_acc: 0.7097\n",
      "Epoch 35/50\n",
      "394/394 [==============================] - 1s - loss: 0.0021 - acc: 0.9975 - val_loss: 3.7181 - val_acc: 0.7097\n",
      "Epoch 36/50\n",
      "394/394 [==============================] - 1s - loss: 1.9466e-04 - acc: 1.0000 - val_loss: 3.6401 - val_acc: 0.7097\n",
      "Epoch 37/50\n",
      "394/394 [==============================] - 1s - loss: 0.0012 - acc: 1.0000 - val_loss: 3.7341 - val_acc: 0.7097\n",
      "Epoch 38/50\n",
      "394/394 [==============================] - 1s - loss: 6.2774e-05 - acc: 1.0000 - val_loss: 3.8998 - val_acc: 0.7097\n",
      "Epoch 39/50\n",
      "394/394 [==============================] - 1s - loss: 0.0011 - acc: 1.0000 - val_loss: 3.8424 - val_acc: 0.7097\n",
      "Epoch 40/50\n",
      "394/394 [==============================] - 1s - loss: 0.0043 - acc: 0.9975 - val_loss: 3.7935 - val_acc: 0.7097\n",
      "Epoch 41/50\n",
      "394/394 [==============================] - 1s - loss: 3.6306e-04 - acc: 1.0000 - val_loss: 3.7159 - val_acc: 0.7097\n",
      "Epoch 42/50\n",
      "394/394 [==============================] - 1s - loss: 2.7373e-05 - acc: 1.0000 - val_loss: 3.8932 - val_acc: 0.7419\n",
      "Epoch 43/50\n",
      "394/394 [==============================] - 1s - loss: 0.0020 - acc: 1.0000 - val_loss: 3.6377 - val_acc: 0.7097\n",
      "Epoch 44/50\n",
      "394/394 [==============================] - 1s - loss: 8.2029e-05 - acc: 1.0000 - val_loss: 3.9449 - val_acc: 0.7419\n",
      "Epoch 45/50\n",
      "394/394 [==============================] - 1s - loss: 0.0133 - acc: 0.9975 - val_loss: 3.9051 - val_acc: 0.7097\n",
      "Epoch 46/50\n",
      "394/394 [==============================] - 1s - loss: 4.1088e-04 - acc: 1.0000 - val_loss: 3.8937 - val_acc: 0.7097\n",
      "Epoch 47/50\n",
      "394/394 [==============================] - 1s - loss: 0.0017 - acc: 1.0000 - val_loss: 3.9335 - val_acc: 0.7097\n",
      "Epoch 48/50\n",
      "394/394 [==============================] - 1s - loss: 2.3614e-04 - acc: 1.0000 - val_loss: 3.8272 - val_acc: 0.7097\n",
      "Epoch 49/50\n",
      "394/394 [==============================] - 1s - loss: 2.0091e-04 - acc: 1.0000 - val_loss: 3.9857 - val_acc: 0.7097\n",
      "Epoch 50/50\n",
      "394/394 [==============================] - 1s - loss: 1.4018e-04 - acc: 1.0000 - val_loss: 3.8140 - val_acc: 0.7097\n",
      "dict_keys(['val_loss', 'val_acc', 'loss', 'acc'])\n"
     ]
    }
   ],
   "source": [
    "history = model.fit(train_features, train_labels, epochs=50, \n",
    "                    batch_size =5, \n",
    "                    validation_data=(validation_features, validation_labels))\n",
    "history_dict = history.history\n",
    "print(history_dict.keys())\n",
    "\n",
    "model.save('damage_undamaged_conv3_2_vgg.h5')"
   ]
  },
  {
   "cell_type": "code",
   "execution_count": 14,
   "metadata": {},
   "outputs": [
    {
     "data": {
      "image/png": "[encoded data removed]",
      "text/plain": [
       "<matplotlib.figure.Figure at 0x7f20ac669b00>"
      ]
     },
     "metadata": {},
     "output_type": "display_data"
    },
    {
     "data": {
      "image/png": "[encoded data removed]",
      "text/plain": [
       "<matplotlib.figure.Figure at 0x7f20ac0aef60>"
      ]
     },
     "metadata": {},
     "output_type": "display_data"
    }
   ],
   "source": [
    "#Displaying curves of loss and accuracy during training \n",
    "\n",
    "import matplotlib.pyplot as plt\n",
    "acc = history.history['acc']\n",
    "val_acc = history.history['val_acc']\n",
    "loss = history.history['loss']\n",
    "val_loss = history.history['val_loss']\n",
    "\n",
    "epochs = range(len(acc))\n",
    "\n",
    "plt.plot(epochs, acc, 'bo')#dots\n",
    "plt.plot(epochs, val_acc, 'b')#line segments\n",
    "plt.title('Training and validation accuracy')\n",
    "plt.figure()\n",
    "\n",
    "plt.plot(epochs, loss, 'bo')\n",
    "plt.plot(epochs, val_loss, 'b')\n",
    "plt.title('Training and validation loss')\n",
    "plt.show()"
   ]
  },
  {
   "cell_type": "code",
   "execution_count": null,
   "metadata": {
    "collapsed": true
   },
   "outputs": [],
   "source": []
  }
 ],
 "metadata": {
  "kernelspec": {
   "display_name": "Python 3",
   "language": "python",
   "name": "python3"
  },
  "language_info": {
   "codemirror_mode": {
    "name": "ipython",
    "version": 3
   },
   "file_extension": ".py",
   "mimetype": "text/x-python",
   "name": "python",
   "nbconvert_exporter": "python",
   "pygments_lexer": "ipython3",
   "version": "3.6.1"
  }
 },
 "nbformat": 4,
 "nbformat_minor": 2
}
