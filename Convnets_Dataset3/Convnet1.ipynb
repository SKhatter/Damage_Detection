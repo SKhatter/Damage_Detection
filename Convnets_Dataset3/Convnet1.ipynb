{
 "cells": [
  {
   "cell_type": "code",
   "execution_count": 1,
   "metadata": {
    "collapsed": true
   },
   "outputs": [],
   "source": [
    "import os, shutil"
   ]
  },
  {
   "cell_type": "code",
   "execution_count": 2,
   "metadata": {
    "collapsed": true
   },
   "outputs": [],
   "source": [
    "base_dir = '/home/skhatter/Damage_Detection_New'\n",
    "train_dir = '/home/skhatter/Damage_Detection_New/train_new'\n",
    "valid_dir = '/home/skhatter/Damage Detection/validation'\n",
    "test_dir = '/home/skhatter/Damage Detection/test'\n",
    "\n",
    "train_dam_dir = '/home/skhatter/Damage_Detection_New/train_new/damaged'\n",
    "train_undam_dir = '/home/skhatter/Damage_Detection_New/train_new/undamaged'\n",
    "\n",
    "valid_dam_dir = '/home/skhatter/Damage Detection/validation/damaged'\n",
    "valid_undam_dir = '/home/skhatter/Damage Detection/validation/undamaged'\n",
    "\n",
    "test_dir = '/home/skhatter/Damage Detection/test'"
   ]
  },
  {
   "cell_type": "code",
   "execution_count": 3,
   "metadata": {},
   "outputs": [
    {
     "name": "stdout",
     "output_type": "stream",
     "text": [
      "Total training damaged images 202\n",
      "Total training undamaged images 294\n",
      "Total validation damaged images 10\n",
      "Total validation undamaged images 21\n",
      "Total test damaged images 2\n"
     ]
    }
   ],
   "source": [
    "print('Total training damaged images', len(os.listdir(train_dam_dir)))\n",
    "print('Total training undamaged images', len(os.listdir(train_undam_dir)))\n",
    "\n",
    "print('Total validation damaged images', len(os.listdir(valid_dam_dir)))\n",
    "print('Total validation undamaged images', len(os.listdir(valid_undam_dir)))\n",
    "\n",
    "print('Total test damaged images', len(os.listdir(test_dir)))"
   ]
  },
  {
   "cell_type": "code",
   "execution_count": 4,
   "metadata": {},
   "outputs": [
    {
     "name": "stderr",
     "output_type": "stream",
     "text": [
      "Using TensorFlow backend.\n"
     ]
    }
   ],
   "source": [
    "from keras import layers\n",
    "from keras import models"
   ]
  },
  {
   "cell_type": "code",
   "execution_count": 5,
   "metadata": {
    "scrolled": false
   },
   "outputs": [
    {
     "name": "stdout",
     "output_type": "stream",
     "text": [
      "_________________________________________________________________\n",
      "Layer (type)                 Output Shape              Param #   \n",
      "=================================================================\n",
      "conv2d_1 (Conv2D)            (None, 510, 510, 100)     2800      \n",
      "_________________________________________________________________\n",
      "max_pooling2d_1 (MaxPooling2 (None, 255, 255, 100)     0         \n",
      "_________________________________________________________________\n",
      "conv2d_2 (Conv2D)            (None, 253, 253, 200)     180200    \n",
      "_________________________________________________________________\n",
      "max_pooling2d_2 (MaxPooling2 (None, 126, 126, 200)     0         \n",
      "_________________________________________________________________\n",
      "conv2d_3 (Conv2D)            (None, 124, 124, 200)     360200    \n",
      "_________________________________________________________________\n",
      "max_pooling2d_3 (MaxPooling2 (None, 62, 62, 200)       0         \n",
      "_________________________________________________________________\n",
      "conv2d_4 (Conv2D)            (None, 60, 60, 200)       360200    \n",
      "_________________________________________________________________\n",
      "max_pooling2d_4 (MaxPooling2 (None, 30, 30, 200)       0         \n",
      "_________________________________________________________________\n",
      "flatten_1 (Flatten)          (None, 180000)            0         \n",
      "_________________________________________________________________\n",
      "dropout_1 (Dropout)          (None, 180000)            0         \n",
      "_________________________________________________________________\n",
      "dense_1 (Dense)              (None, 512)               92160512  \n",
      "_________________________________________________________________\n",
      "dense_2 (Dense)              (None, 1)                 513       \n",
      "=================================================================\n",
      "Total params: 93,064,425\n",
      "Trainable params: 93,064,425\n",
      "Non-trainable params: 0\n",
      "_________________________________________________________________\n"
     ]
    }
   ],
   "source": [
    "model = models.Sequential()\n",
    "model.add(layers.Conv2D(100, (3,3), activation ='relu', input_shape = (512, 512, 3)))\n",
    "model.add(layers.MaxPooling2D((2,2)))\n",
    "model.add(layers.Conv2D(200, (3,3), activation ='relu'))\n",
    "model.add(layers.MaxPooling2D((2,2)))\n",
    "model.add(layers.Conv2D(200, (3,3), activation='relu'))\n",
    "model.add(layers.MaxPooling2D((2,2)))\n",
    "model.add(layers.Conv2D(200, (3,3), activation='relu'))\n",
    "model.add(layers.MaxPooling2D((2,2)))\n",
    "model.add(layers.Flatten())\n",
    "model.add(layers.Dropout(0.5))\n",
    "model.add(layers.Dense(512, activation = 'relu'))\n",
    "model.add(layers.Dense(1, activation = 'sigmoid'))\n",
    "model.summary()"
   ]
  },
  {
   "cell_type": "code",
   "execution_count": 6,
   "metadata": {
    "collapsed": true
   },
   "outputs": [],
   "source": [
    "from keras import optimizers"
   ]
  },
  {
   "cell_type": "code",
   "execution_count": 7,
   "metadata": {
    "collapsed": true
   },
   "outputs": [],
   "source": [
    "model.compile(loss = 'binary_crossentropy', optimizer = optimizers.RMSprop(lr=1e-4), metrics=['acc'])"
   ]
  },
  {
   "cell_type": "code",
   "execution_count": 8,
   "metadata": {},
   "outputs": [
    {
     "name": "stdout",
     "output_type": "stream",
     "text": [
      "Found 496 images belonging to 2 classes.\n",
      "Found 31 images belonging to 2 classes.\n",
      "train data batch:  (5, 512, 512, 3)\n",
      "train label batch:  (5,)\n",
      "validation data batch:  (5, 512, 512, 3)\n",
      "validation label batch (5,)\n"
     ]
    }
   ],
   "source": [
    "from keras.preprocessing.image import ImageDataGenerator\n",
    "\n",
    "train_datagen = ImageDataGenerator(rescale = 1./255, rotation_range=40,width_shift_range=0.2,\n",
    "                                  height_shift_range=0.2,\n",
    "                                  shear_range=0.2,\n",
    "                                  zoom_range=0.2,\n",
    "                                  horizontal_flip=True)\n",
    "test_datagen= ImageDataGenerator(rescale = 1./255)\n",
    "\n",
    "train_generator = train_datagen.flow_from_directory(train_dir, target_size=(512, 512), batch_size =5,\n",
    "                                                    class_mode='binary')\n",
    "validation_generator = test_datagen.flow_from_directory(valid_dir, target_size = (512, 512),\n",
    "                                                        batch_size = 5, class_mode='binary')\n",
    "\n",
    "\n",
    "#displaying the shapes of batch of data and labels\n",
    "for data_batch, labels_batch in train_generator:\n",
    "    print('train data batch: ', data_batch.shape)\n",
    "    print('train label batch: ', labels_batch.shape)\n",
    "    break\n",
    "    \n",
    "for data_batch, labels_batch in validation_generator:\n",
    "    print('validation data batch: ', data_batch.shape)\n",
    "    print('validation label batch', labels_batch.shape)\n",
    "    break"
   ]
  },
  {
   "cell_type": "code",
   "execution_count": 9,
   "metadata": {
    "scrolled": false
   },
   "outputs": [
    {
     "name": "stdout",
     "output_type": "stream",
     "text": [
      "Epoch 1/30\n",
      "50/50 [==============================] - 16s - loss: 0.8376 - acc: 0.5440 - val_loss: 0.6621 - val_acc: 0.6726\n",
      "Epoch 2/30\n",
      "50/50 [==============================] - 14s - loss: 0.7072 - acc: 0.5762 - val_loss: 0.6853 - val_acc: 0.6814\n",
      "Epoch 3/30\n",
      "50/50 [==============================] - 14s - loss: 0.6623 - acc: 0.6200 - val_loss: 0.6619 - val_acc: 0.6726\n",
      "Epoch 4/30\n",
      "50/50 [==============================] - 14s - loss: 0.7194 - acc: 0.5238 - val_loss: 0.6780 - val_acc: 0.6637\n",
      "Epoch 5/30\n",
      "50/50 [==============================] - 14s - loss: 0.6991 - acc: 0.5440 - val_loss: 0.6574 - val_acc: 0.6726\n",
      "Epoch 6/30\n",
      "50/50 [==============================] - 14s - loss: 0.6676 - acc: 0.6239 - val_loss: 0.6053 - val_acc: 0.6903\n",
      "Epoch 7/30\n",
      "50/50 [==============================] - 14s - loss: 0.7025 - acc: 0.5480 - val_loss: 0.6743 - val_acc: 0.6726\n",
      "Epoch 8/30\n",
      "50/50 [==============================] - 14s - loss: 0.6737 - acc: 0.6359 - val_loss: 0.6160 - val_acc: 0.6814\n",
      "Epoch 9/30\n",
      "50/50 [==============================] - 14s - loss: 0.6793 - acc: 0.6040 - val_loss: 0.6398 - val_acc: 0.6637\n",
      "Epoch 10/30\n",
      "50/50 [==============================] - 14s - loss: 0.6789 - acc: 0.5722 - val_loss: 0.7001 - val_acc: 0.2301\n",
      "Epoch 11/30\n",
      "50/50 [==============================] - 14s - loss: 0.6822 - acc: 0.5960 - val_loss: 0.6397 - val_acc: 0.6637\n",
      "Epoch 12/30\n",
      "50/50 [==============================] - 14s - loss: 0.6872 - acc: 0.5679 - val_loss: 0.6502 - val_acc: 0.6726\n",
      "Epoch 13/30\n",
      "50/50 [==============================] - 14s - loss: 0.6756 - acc: 0.5760 - val_loss: 0.6845 - val_acc: 0.7345\n",
      "Epoch 14/30\n",
      "50/50 [==============================] - 14s - loss: 0.6819 - acc: 0.6199 - val_loss: 0.6401 - val_acc: 0.6549\n",
      "Epoch 15/30\n",
      "50/50 [==============================] - 14s - loss: 0.6618 - acc: 0.6280 - val_loss: 0.6312 - val_acc: 0.6903\n",
      "Epoch 16/30\n",
      "50/50 [==============================] - 14s - loss: 0.6763 - acc: 0.6082 - val_loss: 0.6223 - val_acc: 0.6726\n",
      "Epoch 17/30\n",
      "50/50 [==============================] - 14s - loss: 0.6615 - acc: 0.6240 - val_loss: 0.7087 - val_acc: 0.6372\n",
      "Epoch 18/30\n",
      "50/50 [==============================] - 14s - loss: 0.6819 - acc: 0.6042 - val_loss: 0.6598 - val_acc: 0.6372\n",
      "Epoch 19/30\n",
      "50/50 [==============================] - 14s - loss: 0.6595 - acc: 0.6520 - val_loss: 0.6557 - val_acc: 0.6372\n",
      "Epoch 20/30\n",
      "50/50 [==============================] - 14s - loss: 0.6682 - acc: 0.6562 - val_loss: 0.6398 - val_acc: 0.6637\n",
      "Epoch 21/30\n",
      "50/50 [==============================] - 14s - loss: 0.6718 - acc: 0.6240 - val_loss: 0.6579 - val_acc: 0.7434\n",
      "Epoch 22/30\n",
      "50/50 [==============================] - 14s - loss: 0.6323 - acc: 0.6599 - val_loss: 0.5767 - val_acc: 0.7080\n",
      "Epoch 23/30\n",
      "50/50 [==============================] - 14s - loss: 0.6736 - acc: 0.6520 - val_loss: 0.6223 - val_acc: 0.7168\n",
      "Epoch 24/30\n",
      "50/50 [==============================] - 14s - loss: 0.6171 - acc: 0.6639 - val_loss: 0.6221 - val_acc: 0.6637\n",
      "Epoch 25/30\n",
      "50/50 [==============================] - 14s - loss: 0.6572 - acc: 0.6600 - val_loss: 0.6244 - val_acc: 0.6549\n",
      "Epoch 26/30\n",
      "50/50 [==============================] - 14s - loss: 0.6416 - acc: 0.6439 - val_loss: 0.6145 - val_acc: 0.6814\n",
      "Epoch 27/30\n",
      "50/50 [==============================] - 14s - loss: 0.6105 - acc: 0.6840 - val_loss: 0.5697 - val_acc: 0.6991\n",
      "Epoch 28/30\n",
      "50/50 [==============================] - 14s - loss: 0.6379 - acc: 0.5962 - val_loss: 0.6375 - val_acc: 0.6195\n",
      "Epoch 29/30\n",
      "50/50 [==============================] - 14s - loss: 0.6032 - acc: 0.6680 - val_loss: 0.5671 - val_acc: 0.6726\n",
      "Epoch 30/30\n",
      "50/50 [==============================] - 14s - loss: 0.6333 - acc: 0.6479 - val_loss: 0.6713 - val_acc: 0.6637\n",
      "dict_keys(['val_loss', 'val_acc', 'loss', 'acc'])\n"
     ]
    }
   ],
   "source": [
    "#Fitting the model using a batch generator\n",
    "\n",
    "history = model.fit_generator(train_generator, steps_per_epoch=50, epochs = 30, \n",
    "                              validation_data= validation_generator, validation_steps=25)\n",
    "\n",
    "\n",
    "history_dict = history.history\n",
    "print(history_dict.keys())\n",
    "\n",
    "model.save('convnet1.h5')"
   ]
  },
  {
   "cell_type": "code",
   "execution_count": 10,
   "metadata": {},
   "outputs": [
    {
     "data": {
      "image/png": "[encoded data removed]",
      "text/plain": [
       "<matplotlib.figure.Figure at 0x7f29e5656da0>"
      ]
     },
     "metadata": {},
     "output_type": "display_data"
    },
    {
     "data": {
      "image/png": "[encoded data removed]",
      "text/plain": [
       "<matplotlib.figure.Figure at 0x7f296805a320>"
      ]
     },
     "metadata": {},
     "output_type": "display_data"
    }
   ],
   "source": [
    "#Displaying curves of loss and accuracy during training \n",
    "\n",
    "import matplotlib.pyplot as plt\n",
    "acc = history.history['acc']\n",
    "val_acc = history.history['val_acc']\n",
    "loss = history.history['loss']\n",
    "val_loss = history.history['val_loss']\n",
    "\n",
    "epochs = range(len(acc))\n",
    "\n",
    "plt.plot(epochs, acc, 'bo')#dots\n",
    "plt.plot(epochs, val_acc, 'b')#line segments\n",
    "plt.title('Training and validation accuracy')\n",
    "plt.figure()\n",
    "\n",
    "plt.plot(epochs, loss, 'bo')\n",
    "plt.plot(epochs, val_loss, 'b')\n",
    "plt.title('Training and validation loss')\n",
    "plt.show()"
   ]
  },
  {
   "cell_type": "code",
   "execution_count": 11,
   "metadata": {},
   "outputs": [
    {
     "name": "stdout",
     "output_type": "stream",
     "text": [
      "Epoch 1/30\n",
      "50/50 [==============================] - 14s - loss: 0.6478 - acc: 0.6640 - val_loss: 0.5921 - val_acc: 0.6637\n",
      "Epoch 2/30\n",
      "50/50 [==============================] - 14s - loss: 0.6353 - acc: 0.6479 - val_loss: 0.5906 - val_acc: 0.6991\n",
      "Epoch 3/30\n",
      "50/50 [==============================] - 14s - loss: 0.6246 - acc: 0.6680 - val_loss: 0.6360 - val_acc: 0.6283\n",
      "Epoch 4/30\n",
      "50/50 [==============================] - 14s - loss: 0.5963 - acc: 0.6879 - val_loss: 0.5934 - val_acc: 0.6637\n",
      "Epoch 5/30\n",
      "50/50 [==============================] - 14s - loss: 0.5930 - acc: 0.7120 - val_loss: 0.6437 - val_acc: 0.6460\n",
      "Epoch 6/30\n",
      "50/50 [==============================] - 14s - loss: 0.6648 - acc: 0.6242 - val_loss: 0.6973 - val_acc: 0.5398\n",
      "Epoch 7/30\n",
      "50/50 [==============================] - 14s - loss: 0.5920 - acc: 0.6920 - val_loss: 0.5303 - val_acc: 0.7611\n",
      "Epoch 8/30\n",
      "50/50 [==============================] - 14s - loss: 0.5718 - acc: 0.6999 - val_loss: 0.5651 - val_acc: 0.8053\n",
      "Epoch 9/30\n",
      "50/50 [==============================] - 14s - loss: 0.6109 - acc: 0.6680 - val_loss: 0.7191 - val_acc: 0.5133\n",
      "Epoch 10/30\n",
      "50/50 [==============================] - 14s - loss: 0.5965 - acc: 0.6719 - val_loss: 0.5618 - val_acc: 0.6991\n",
      "Epoch 11/30\n",
      "50/50 [==============================] - 14s - loss: 0.6186 - acc: 0.6680 - val_loss: 0.5480 - val_acc: 0.7434\n",
      "Epoch 12/30\n",
      "50/50 [==============================] - 14s - loss: 0.5816 - acc: 0.7199 - val_loss: 0.6588 - val_acc: 0.6018\n",
      "Epoch 13/30\n",
      "50/50 [==============================] - 14s - loss: 0.6189 - acc: 0.6760 - val_loss: 0.5833 - val_acc: 0.6991\n",
      "Epoch 14/30\n",
      "50/50 [==============================] - 14s - loss: 0.5845 - acc: 0.7039 - val_loss: 0.5376 - val_acc: 0.7699\n",
      "Epoch 15/30\n",
      "50/50 [==============================] - 14s - loss: 0.5868 - acc: 0.7200 - val_loss: 0.5732 - val_acc: 0.6991\n",
      "Epoch 16/30\n",
      "50/50 [==============================] - 14s - loss: 0.5643 - acc: 0.7242 - val_loss: 0.5284 - val_acc: 0.7080\n",
      "Epoch 17/30\n",
      "50/50 [==============================] - 14s - loss: 0.5538 - acc: 0.7320 - val_loss: 0.5504 - val_acc: 0.7080\n",
      "Epoch 18/30\n",
      "50/50 [==============================] - 14s - loss: 0.6255 - acc: 0.6842 - val_loss: 0.5804 - val_acc: 0.7788\n",
      "Epoch 19/30\n",
      "50/50 [==============================] - 14s - loss: 0.5263 - acc: 0.7640 - val_loss: 0.5064 - val_acc: 0.8142\n",
      "Epoch 20/30\n",
      "50/50 [==============================] - 14s - loss: 0.5640 - acc: 0.6999 - val_loss: 0.5378 - val_acc: 0.8407\n",
      "Epoch 21/30\n",
      "50/50 [==============================] - 14s - loss: 0.5319 - acc: 0.7720 - val_loss: 0.8708 - val_acc: 0.7257\n",
      "Epoch 22/30\n",
      "50/50 [==============================] - 14s - loss: 0.5136 - acc: 0.7559 - val_loss: 0.5956 - val_acc: 0.7168\n",
      "Epoch 23/30\n",
      "50/50 [==============================] - 14s - loss: 0.5500 - acc: 0.7560 - val_loss: 0.5721 - val_acc: 0.6991\n",
      "Epoch 24/30\n",
      "50/50 [==============================] - 14s - loss: 0.5305 - acc: 0.7479 - val_loss: 0.5341 - val_acc: 0.8053\n",
      "Epoch 25/30\n",
      "50/50 [==============================] - 14s - loss: 0.5603 - acc: 0.7600 - val_loss: 0.5146 - val_acc: 0.7611\n",
      "Epoch 26/30\n",
      "50/50 [==============================] - 14s - loss: 0.5403 - acc: 0.7602 - val_loss: 0.5309 - val_acc: 0.7080\n",
      "Epoch 27/30\n",
      "50/50 [==============================] - 14s - loss: 0.4974 - acc: 0.7600 - val_loss: 0.7028 - val_acc: 0.6372\n",
      "Epoch 28/30\n",
      "50/50 [==============================] - 14s - loss: 0.4745 - acc: 0.7679 - val_loss: 0.5028 - val_acc: 0.7257\n",
      "Epoch 29/30\n",
      "50/50 [==============================] - 14s - loss: 0.4642 - acc: 0.7840 - val_loss: 0.7602 - val_acc: 0.5929\n",
      "Epoch 30/30\n",
      "50/50 [==============================] - 14s - loss: 0.6106 - acc: 0.7879 - val_loss: 0.5223 - val_acc: 0.7257\n",
      "dict_keys(['val_loss', 'val_acc', 'loss', 'acc'])\n"
     ]
    }
   ],
   "source": [
    "#Fitting the model using a batch generator\n",
    "\n",
    "history = model.fit_generator(train_generator, steps_per_epoch=50, epochs = 30, \n",
    "                              validation_data= validation_generator, validation_steps=25)\n",
    "\n",
    "\n",
    "history_dict = history.history\n",
    "print(history_dict.keys())\n",
    "\n",
    "model.save('damage_undamaged_conv2_2.h5')"
   ]
  },
  {
   "cell_type": "code",
   "execution_count": 12,
   "metadata": {},
   "outputs": [
    {
     "data": {
      "image/png": "[encoded data removed]",
      "text/plain": [
       "<matplotlib.figure.Figure at 0x7f29231fef98>"
      ]
     },
     "metadata": {},
     "output_type": "display_data"
    },
    {
     "data": {
      "image/png": "[encoded data removed]",
      "text/plain": [
       "<matplotlib.figure.Figure at 0x7f2923175be0>"
      ]
     },
     "metadata": {},
     "output_type": "display_data"
    }
   ],
   "source": [
    "#Displaying curves of loss and accuracy during training \n",
    "\n",
    "import matplotlib.pyplot as plt\n",
    "acc = history.history['acc']\n",
    "val_acc = history.history['val_acc']\n",
    "loss = history.history['loss']\n",
    "val_loss = history.history['val_loss']\n",
    "\n",
    "epochs = range(len(acc))\n",
    "\n",
    "plt.plot(epochs, acc, 'bo')#dots\n",
    "plt.plot(epochs, val_acc, 'b')#line segments\n",
    "plt.title('Training and validation accuracy')\n",
    "plt.figure()\n",
    "\n",
    "plt.plot(epochs, loss, 'bo')\n",
    "plt.plot(epochs, val_loss, 'b')\n",
    "plt.title('Training and validation loss')\n",
    "plt.show()"
   ]
  },
  {
   "cell_type": "code",
   "execution_count": null,
   "metadata": {
    "collapsed": true
   },
   "outputs": [],
   "source": []
  },
  {
   "cell_type": "code",
   "execution_count": null,
   "metadata": {
    "collapsed": true
   },
   "outputs": [],
   "source": []
  },
  {
   "cell_type": "code",
   "execution_count": null,
   "metadata": {
    "collapsed": true
   },
   "outputs": [],
   "source": []
  }
 ],
 "metadata": {
  "kernelspec": {
   "display_name": "Python 3",
   "language": "python",
   "name": "python3"
  },
  "language_info": {
   "codemirror_mode": {
    "name": "ipython",
    "version": 3
   },
   "file_extension": ".py",
   "mimetype": "text/x-python",
   "name": "python",
   "nbconvert_exporter": "python",
   "pygments_lexer": "ipython3",
   "version": "3.6.1"
  }
 },
 "nbformat": 4,
 "nbformat_minor": 2
}
