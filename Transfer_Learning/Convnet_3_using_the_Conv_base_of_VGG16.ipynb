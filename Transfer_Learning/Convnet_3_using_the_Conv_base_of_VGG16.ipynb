{
 "cells": [
  {
   "cell_type": "code",
   "execution_count": 1,
   "metadata": {
    "collapsed": true
   },
   "outputs": [],
   "source": [
    "import os, shutil"
   ]
  },
  {
   "cell_type": "code",
   "execution_count": 2,
   "metadata": {},
   "outputs": [],
   "source": [
    "base_dir = '/home/skhatter/Transfer_Learning/512_original/'\n",
    "train_dir = '/home/skhatter/Transfer_Learning/512_original/train'\n",
    "valid_dir = '/home/skhatter/Transfer_Learning/512_original/validation'\n",
    "\n",
    "train_dam_dir = '/home/skhatter/Transfer_Learning/512_original/train/damaged'\n",
    "train_undam_dir = '/home/skhatter/Transfer_Learning/512_original/train/undamaged'\n",
    "\n",
    "valid_dam_dir = '/home/skhatter/Transfer_Learning/512_original/validation/damaged'\n",
    "valid_undam_dir = '/home/skhatter/Transfer_Learning/512_original/validation/undamaged'"
   ]
  },
  {
   "cell_type": "code",
   "execution_count": 3,
   "metadata": {},
   "outputs": [
    {
     "name": "stdout",
     "output_type": "stream",
     "text": [
      "Total training damaged images 1501\n",
      "Total training undamaged images 2541\n",
      "Total validation damaged images 26\n",
      "Total validation undamaged images 21\n"
     ]
    }
   ],
   "source": [
    "print('Total training damaged images', len(os.listdir(train_dam_dir)))\n",
    "print('Total training undamaged images', len(os.listdir(train_undam_dir)))\n",
    "\n",
    "print('Total validation damaged images', len(os.listdir(valid_dam_dir)))\n",
    "print('Total validation undamaged images', len(os.listdir(valid_undam_dir)))"
   ]
  },
  {
   "cell_type": "code",
   "execution_count": 4,
   "metadata": {},
   "outputs": [
    {
     "name": "stderr",
     "output_type": "stream",
     "text": [
      "Using TensorFlow backend.\n"
     ]
    }
   ],
   "source": [
    "from keras import layers\n",
    "from keras import models\n",
    "from keras.applications import VGG16"
   ]
  },
  {
   "cell_type": "code",
   "execution_count": 5,
   "metadata": {},
   "outputs": [
    {
     "name": "stdout",
     "output_type": "stream",
     "text": [
      "_________________________________________________________________\n",
      "Layer (type)                 Output Shape              Param #   \n",
      "=================================================================\n",
      "input_1 (InputLayer)         (None, 512, 512, 3)       0         \n",
      "_________________________________________________________________\n",
      "block1_conv1 (Conv2D)        (None, 512, 512, 64)      1792      \n",
      "_________________________________________________________________\n",
      "block1_conv2 (Conv2D)        (None, 512, 512, 64)      36928     \n",
      "_________________________________________________________________\n",
      "block1_pool (MaxPooling2D)   (None, 256, 256, 64)      0         \n",
      "_________________________________________________________________\n",
      "block2_conv1 (Conv2D)        (None, 256, 256, 128)     73856     \n",
      "_________________________________________________________________\n",
      "block2_conv2 (Conv2D)        (None, 256, 256, 128)     147584    \n",
      "_________________________________________________________________\n",
      "block2_pool (MaxPooling2D)   (None, 128, 128, 128)     0         \n",
      "_________________________________________________________________\n",
      "block3_conv1 (Conv2D)        (None, 128, 128, 256)     295168    \n",
      "_________________________________________________________________\n",
      "block3_conv2 (Conv2D)        (None, 128, 128, 256)     590080    \n",
      "_________________________________________________________________\n",
      "block3_conv3 (Conv2D)        (None, 128, 128, 256)     590080    \n",
      "_________________________________________________________________\n",
      "block3_pool (MaxPooling2D)   (None, 64, 64, 256)       0         \n",
      "_________________________________________________________________\n",
      "block4_conv1 (Conv2D)        (None, 64, 64, 512)       1180160   \n",
      "_________________________________________________________________\n",
      "block4_conv2 (Conv2D)        (None, 64, 64, 512)       2359808   \n",
      "_________________________________________________________________\n",
      "block4_conv3 (Conv2D)        (None, 64, 64, 512)       2359808   \n",
      "_________________________________________________________________\n",
      "block4_pool (MaxPooling2D)   (None, 32, 32, 512)       0         \n",
      "_________________________________________________________________\n",
      "block5_conv1 (Conv2D)        (None, 32, 32, 512)       2359808   \n",
      "_________________________________________________________________\n",
      "block5_conv2 (Conv2D)        (None, 32, 32, 512)       2359808   \n",
      "_________________________________________________________________\n",
      "block5_conv3 (Conv2D)        (None, 32, 32, 512)       2359808   \n",
      "_________________________________________________________________\n",
      "block5_pool (MaxPooling2D)   (None, 16, 16, 512)       0         \n",
      "=================================================================\n",
      "Total params: 14,714,688\n",
      "Trainable params: 14,714,688\n",
      "Non-trainable params: 0\n",
      "_________________________________________________________________\n"
     ]
    }
   ],
   "source": [
    "conv_base = VGG16(weights = 'imagenet', include_top = False, input_shape=(512,512,3))\n",
    "conv_base.summary()"
   ]
  },
  {
   "cell_type": "code",
   "execution_count": 6,
   "metadata": {},
   "outputs": [
    {
     "name": "stdout",
     "output_type": "stream",
     "text": [
      "Found 4040 images belonging to 2 classes.\n",
      "Found 45 images belonging to 2 classes.\n"
     ]
    }
   ],
   "source": [
    "from keras.preprocessing.image import ImageDataGenerator\n",
    "import numpy as np\n",
    "\n",
    "datagen = ImageDataGenerator(rescale = 1./255)\n",
    "batch_size = 5\n",
    "\n",
    "def extract_features(directory, sample_count):\n",
    "    features = np.zeros(shape=(sample_count,16,16,512 ))\n",
    "    labels = np.zeros(shape=(sample_count))\n",
    "    generator = datagen.flow_from_directory(directory, target_size=(512,512),\n",
    "                                           batch_size=batch_size, class_mode='binary')\n",
    "    i =0\n",
    "    for inputs_batch, labels_batch in generator:\n",
    "        features_batch = conv_base.predict(inputs_batch)\n",
    "        features[i * batch_size : (i + 1) * batch_size] = features_batch\n",
    "        labels[i * batch_size : (i + 1) * batch_size] = labels_batch\n",
    "        i += 1\n",
    "        if i * batch_size >= sample_count:\n",
    "            break\n",
    "    return features, labels\n",
    "\n",
    "train_features, train_labels = extract_features(train_dir, 4040)\n",
    "validation_features, validation_labels = extract_features(valid_dir, 45)    "
   ]
  },
  {
   "cell_type": "code",
   "execution_count": 8,
   "metadata": {},
   "outputs": [],
   "source": [
    "train_features = np.reshape(train_features, (4040, 16*16*512))\n",
    "validation_features = np.reshape(validation_features, (45, 16*16*512))"
   ]
  },
  {
   "cell_type": "code",
   "execution_count": 9,
   "metadata": {
    "collapsed": true
   },
   "outputs": [],
   "source": [
    "from keras import models\n",
    "from keras import layers\n",
    "from keras import optimizers\n",
    "\n",
    "model = models.Sequential()\n",
    "model.add(layers.Dense(256, activation='relu', input_dim=16*16*512))\n",
    "model.add(layers.Dropout(0.5))\n",
    "model.add(layers.Dense(1, activation='sigmoid'))\n",
    "\n",
    "model.compile(optimizer=optimizers.RMSprop(lr=1e-4),\n",
    "             loss='binary_crossentropy',\n",
    "             metrics=['acc'])"
   ]
  },
  {
   "cell_type": "code",
   "execution_count": 10,
   "metadata": {
    "scrolled": false
   },
   "outputs": [
    {
     "name": "stdout",
     "output_type": "stream",
     "text": [
      "Train on 4040 samples, validate on 45 samples\n",
      "Epoch 1/100\n",
      "4040/4040 [==============================] - 16s - loss: 0.5601 - acc: 0.7329 - val_loss: 0.3515 - val_acc: 0.8889\n",
      "Epoch 2/100\n",
      "4040/4040 [==============================] - 16s - loss: 0.3960 - acc: 0.8287 - val_loss: 0.4335 - val_acc: 0.8667\n",
      "Epoch 3/100\n",
      "4040/4040 [==============================] - 16s - loss: 0.3374 - acc: 0.8621 - val_loss: 0.4203 - val_acc: 0.8889\n",
      "Epoch 4/100\n",
      "4040/4040 [==============================] - 16s - loss: 0.2945 - acc: 0.8802 - val_loss: 0.5121 - val_acc: 0.8667\n",
      "Epoch 5/100\n",
      "4040/4040 [==============================] - 16s - loss: 0.2816 - acc: 0.8886 - val_loss: 0.5751 - val_acc: 0.8667\n",
      "Epoch 6/100\n",
      "4040/4040 [==============================] - 16s - loss: 0.2527 - acc: 0.8998 - val_loss: 0.5081 - val_acc: 0.9111\n",
      "Epoch 7/100\n",
      "4040/4040 [==============================] - 16s - loss: 0.2451 - acc: 0.9099 - val_loss: 0.6047 - val_acc: 0.8889\n",
      "Epoch 8/100\n",
      "4040/4040 [==============================] - 16s - loss: 0.2309 - acc: 0.9158 - val_loss: 0.5565 - val_acc: 0.8889\n",
      "Epoch 9/100\n",
      "4040/4040 [==============================] - 16s - loss: 0.2129 - acc: 0.9225 - val_loss: 0.7249 - val_acc: 0.8444\n",
      "Epoch 10/100\n",
      "4040/4040 [==============================] - 16s - loss: 0.2061 - acc: 0.9282 - val_loss: 0.6417 - val_acc: 0.8889\n",
      "Epoch 11/100\n",
      "4040/4040 [==============================] - 16s - loss: 0.1838 - acc: 0.9337 - val_loss: 0.6363 - val_acc: 0.9333\n",
      "Epoch 12/100\n",
      "4040/4040 [==============================] - 16s - loss: 0.1885 - acc: 0.9403 - val_loss: 0.6444 - val_acc: 0.8444\n",
      "Epoch 13/100\n",
      "4040/4040 [==============================] - 16s - loss: 0.1733 - acc: 0.9374 - val_loss: 0.7216 - val_acc: 0.8444\n",
      "Epoch 14/100\n",
      "4040/4040 [==============================] - 16s - loss: 0.1736 - acc: 0.9379 - val_loss: 0.6985 - val_acc: 0.9333\n",
      "Epoch 15/100\n",
      "4040/4040 [==============================] - 16s - loss: 0.1632 - acc: 0.9458 - val_loss: 0.8315 - val_acc: 0.8444\n",
      "Epoch 16/100\n",
      "4040/4040 [==============================] - 16s - loss: 0.1507 - acc: 0.9488 - val_loss: 0.7632 - val_acc: 0.8444\n",
      "Epoch 17/100\n",
      "4040/4040 [==============================] - 16s - loss: 0.1542 - acc: 0.9532 - val_loss: 0.6960 - val_acc: 0.9333\n",
      "Epoch 18/100\n",
      "4040/4040 [==============================] - 16s - loss: 0.1483 - acc: 0.9493 - val_loss: 0.7134 - val_acc: 0.9333\n",
      "Epoch 19/100\n",
      "4040/4040 [==============================] - 16s - loss: 0.1457 - acc: 0.9530 - val_loss: 0.7053 - val_acc: 0.9111\n",
      "Epoch 20/100\n",
      "4040/4040 [==============================] - 16s - loss: 0.1490 - acc: 0.9522 - val_loss: 0.7347 - val_acc: 0.8889\n",
      "Epoch 21/100\n",
      "4040/4040 [==============================] - 16s - loss: 0.1360 - acc: 0.9577 - val_loss: 0.6895 - val_acc: 0.8889\n",
      "Epoch 22/100\n",
      "4040/4040 [==============================] - 16s - loss: 0.1381 - acc: 0.9542 - val_loss: 0.7015 - val_acc: 0.9111\n",
      "Epoch 23/100\n",
      "4040/4040 [==============================] - 16s - loss: 0.1501 - acc: 0.9557 - val_loss: 0.7573 - val_acc: 0.8889\n",
      "Epoch 24/100\n",
      "4040/4040 [==============================] - 16s - loss: 0.1319 - acc: 0.9619 - val_loss: 0.7673 - val_acc: 0.9333\n",
      "Epoch 25/100\n",
      "4040/4040 [==============================] - 16s - loss: 0.1192 - acc: 0.9616 - val_loss: 0.8271 - val_acc: 0.8444\n",
      "Epoch 26/100\n",
      "4040/4040 [==============================] - 16s - loss: 0.1254 - acc: 0.9644 - val_loss: 0.7786 - val_acc: 0.8667\n",
      "Epoch 27/100\n",
      "4040/4040 [==============================] - 16s - loss: 0.1189 - acc: 0.9661 - val_loss: 0.7166 - val_acc: 0.9111\n",
      "Epoch 28/100\n",
      "4040/4040 [==============================] - 16s - loss: 0.1212 - acc: 0.9656 - val_loss: 0.7026 - val_acc: 0.9333\n",
      "Epoch 29/100\n",
      "4040/4040 [==============================] - 16s - loss: 0.1159 - acc: 0.9666 - val_loss: 0.7335 - val_acc: 0.9333\n",
      "Epoch 30/100\n",
      "4040/4040 [==============================] - 16s - loss: 0.1047 - acc: 0.9713 - val_loss: 0.7457 - val_acc: 0.9111\n",
      "Epoch 31/100\n",
      "4040/4040 [==============================] - 16s - loss: 0.1131 - acc: 0.9673 - val_loss: 0.7148 - val_acc: 0.9333\n",
      "Epoch 32/100\n",
      "4040/4040 [==============================] - 16s - loss: 0.1164 - acc: 0.9718 - val_loss: 0.7585 - val_acc: 0.8889\n",
      "Epoch 33/100\n",
      "4040/4040 [==============================] - 16s - loss: 0.1167 - acc: 0.9676 - val_loss: 0.6859 - val_acc: 0.9333\n",
      "Epoch 34/100\n",
      "4040/4040 [==============================] - 16s - loss: 0.0980 - acc: 0.9728 - val_loss: 0.7864 - val_acc: 0.8667\n",
      "Epoch 35/100\n",
      "4040/4040 [==============================] - 16s - loss: 0.0972 - acc: 0.9703 - val_loss: 0.7051 - val_acc: 0.9333\n",
      "Epoch 36/100\n",
      "4040/4040 [==============================] - 16s - loss: 0.1099 - acc: 0.9700 - val_loss: 0.7322 - val_acc: 0.9111\n",
      "Epoch 37/100\n",
      "4040/4040 [==============================] - 16s - loss: 0.1023 - acc: 0.9715 - val_loss: 0.7234 - val_acc: 0.9111\n",
      "Epoch 38/100\n",
      "4040/4040 [==============================] - 16s - loss: 0.0938 - acc: 0.9743 - val_loss: 0.7710 - val_acc: 0.9333\n",
      "Epoch 39/100\n",
      "4040/4040 [==============================] - 16s - loss: 0.0925 - acc: 0.9738 - val_loss: 0.7683 - val_acc: 0.9333\n",
      "Epoch 40/100\n",
      "4040/4040 [==============================] - 16s - loss: 0.0997 - acc: 0.9728 - val_loss: 0.7616 - val_acc: 0.9333\n",
      "Epoch 41/100\n",
      "4040/4040 [==============================] - 16s - loss: 0.0832 - acc: 0.9787 - val_loss: 0.7779 - val_acc: 0.9333\n",
      "Epoch 42/100\n",
      "4040/4040 [==============================] - 16s - loss: 0.0890 - acc: 0.9760 - val_loss: 0.7743 - val_acc: 0.9333\n",
      "Epoch 43/100\n",
      "4040/4040 [==============================] - 16s - loss: 0.0974 - acc: 0.9748 - val_loss: 0.7653 - val_acc: 0.9333\n",
      "Epoch 44/100\n",
      "4040/4040 [==============================] - 16s - loss: 0.0864 - acc: 0.9767 - val_loss: 0.7515 - val_acc: 0.9333\n",
      "Epoch 45/100\n",
      "4040/4040 [==============================] - 16s - loss: 0.0924 - acc: 0.9755 - val_loss: 0.7260 - val_acc: 0.9333\n",
      "Epoch 46/100\n",
      "4040/4040 [==============================] - 16s - loss: 0.0750 - acc: 0.9800 - val_loss: 0.7621 - val_acc: 0.9333\n",
      "Epoch 47/100\n",
      "4040/4040 [==============================] - 16s - loss: 0.0844 - acc: 0.9785 - val_loss: 0.7416 - val_acc: 0.9333\n",
      "Epoch 48/100\n",
      "4040/4040 [==============================] - 16s - loss: 0.0736 - acc: 0.9790 - val_loss: 0.7640 - val_acc: 0.9333\n",
      "Epoch 49/100\n",
      "4040/4040 [==============================] - 16s - loss: 0.0670 - acc: 0.9819 - val_loss: 0.7656 - val_acc: 0.9333\n",
      "Epoch 50/100\n",
      "4040/4040 [==============================] - 16s - loss: 0.0783 - acc: 0.9807 - val_loss: 0.7327 - val_acc: 0.9333\n",
      "Epoch 51/100\n",
      "4040/4040 [==============================] - 16s - loss: 0.0813 - acc: 0.9800 - val_loss: 0.7714 - val_acc: 0.9333\n",
      "Epoch 52/100\n",
      "4040/4040 [==============================] - 16s - loss: 0.0765 - acc: 0.9834 - val_loss: 0.7523 - val_acc: 0.9333\n",
      "Epoch 53/100\n",
      "4040/4040 [==============================] - 16s - loss: 0.0794 - acc: 0.9800 - val_loss: 0.7820 - val_acc: 0.9333\n",
      "Epoch 54/100\n",
      "4040/4040 [==============================] - 16s - loss: 0.0760 - acc: 0.9802 - val_loss: 0.7386 - val_acc: 0.9111\n",
      "Epoch 55/100\n",
      "4040/4040 [==============================] - 16s - loss: 0.0629 - acc: 0.9819 - val_loss: 0.7748 - val_acc: 0.9333\n",
      "Epoch 56/100\n",
      "4040/4040 [==============================] - 16s - loss: 0.0657 - acc: 0.9822 - val_loss: 0.8343 - val_acc: 0.9333\n",
      "Epoch 57/100\n",
      "4040/4040 [==============================] - 16s - loss: 0.0595 - acc: 0.9837 - val_loss: 0.8104 - val_acc: 0.9333\n",
      "Epoch 58/100\n",
      "4040/4040 [==============================] - 16s - loss: 0.0682 - acc: 0.9837 - val_loss: 0.7666 - val_acc: 0.9333\n",
      "Epoch 59/100\n",
      "4040/4040 [==============================] - 16s - loss: 0.0635 - acc: 0.9847 - val_loss: 0.7329 - val_acc: 0.9111\n",
      "Epoch 60/100\n",
      "4040/4040 [==============================] - 16s - loss: 0.0672 - acc: 0.9822 - val_loss: 0.8015 - val_acc: 0.9333\n",
      "Epoch 61/100\n",
      "4040/4040 [==============================] - 16s - loss: 0.0502 - acc: 0.9876 - val_loss: 0.8043 - val_acc: 0.9333\n",
      "Epoch 62/100\n",
      "4040/4040 [==============================] - 16s - loss: 0.0542 - acc: 0.9849 - val_loss: 0.7739 - val_acc: 0.9333\n",
      "Epoch 63/100\n",
      "4040/4040 [==============================] - 16s - loss: 0.0514 - acc: 0.9884 - val_loss: 0.7846 - val_acc: 0.9111\n",
      "Epoch 64/100\n"
     ]
    },
    {
     "name": "stdout",
     "output_type": "stream",
     "text": [
      "4040/4040 [==============================] - 16s - loss: 0.0645 - acc: 0.9844 - val_loss: 0.8211 - val_acc: 0.9333\n",
      "Epoch 65/100\n",
      "4040/4040 [==============================] - 16s - loss: 0.0677 - acc: 0.9829 - val_loss: 0.7941 - val_acc: 0.9333\n",
      "Epoch 66/100\n",
      "4040/4040 [==============================] - 16s - loss: 0.0455 - acc: 0.9874 - val_loss: 0.7763 - val_acc: 0.9333\n",
      "Epoch 67/100\n",
      "4040/4040 [==============================] - 16s - loss: 0.0582 - acc: 0.9856 - val_loss: 0.8580 - val_acc: 0.9333\n",
      "Epoch 68/100\n",
      "4040/4040 [==============================] - 16s - loss: 0.0562 - acc: 0.9869 - val_loss: 0.8245 - val_acc: 0.9333\n",
      "Epoch 69/100\n",
      "4040/4040 [==============================] - 16s - loss: 0.0542 - acc: 0.9874 - val_loss: 0.8367 - val_acc: 0.9333\n",
      "Epoch 70/100\n",
      "4040/4040 [==============================] - 16s - loss: 0.0550 - acc: 0.9874 - val_loss: 0.8371 - val_acc: 0.9333\n",
      "Epoch 71/100\n",
      "4040/4040 [==============================] - 16s - loss: 0.0508 - acc: 0.9866 - val_loss: 0.8675 - val_acc: 0.9111\n",
      "Epoch 72/100\n",
      "4040/4040 [==============================] - 16s - loss: 0.0509 - acc: 0.9871 - val_loss: 0.8390 - val_acc: 0.9111\n",
      "Epoch 73/100\n",
      "4040/4040 [==============================] - 16s - loss: 0.0542 - acc: 0.9847 - val_loss: 0.7867 - val_acc: 0.9333\n",
      "Epoch 74/100\n",
      "4040/4040 [==============================] - 16s - loss: 0.0449 - acc: 0.9889 - val_loss: 0.8342 - val_acc: 0.8889\n",
      "Epoch 75/100\n",
      "4040/4040 [==============================] - 16s - loss: 0.0448 - acc: 0.9901 - val_loss: 0.8070 - val_acc: 0.9333\n",
      "Epoch 76/100\n",
      "4040/4040 [==============================] - 16s - loss: 0.0476 - acc: 0.9896 - val_loss: 0.8041 - val_acc: 0.9111\n",
      "Epoch 77/100\n",
      "4040/4040 [==============================] - 16s - loss: 0.0510 - acc: 0.9889 - val_loss: 0.8214 - val_acc: 0.9333\n",
      "Epoch 78/100\n",
      "4040/4040 [==============================] - 16s - loss: 0.0440 - acc: 0.9896 - val_loss: 0.8869 - val_acc: 0.9333\n",
      "Epoch 79/100\n",
      "4040/4040 [==============================] - 16s - loss: 0.0420 - acc: 0.9903 - val_loss: 0.8749 - val_acc: 0.9111\n",
      "Epoch 80/100\n",
      "4040/4040 [==============================] - 16s - loss: 0.0561 - acc: 0.9881 - val_loss: 0.8872 - val_acc: 0.9111\n",
      "Epoch 81/100\n",
      "4040/4040 [==============================] - 16s - loss: 0.0563 - acc: 0.9871 - val_loss: 0.8975 - val_acc: 0.9333\n",
      "Epoch 82/100\n",
      "4040/4040 [==============================] - 16s - loss: 0.0586 - acc: 0.9866 - val_loss: 0.8867 - val_acc: 0.9333\n",
      "Epoch 83/100\n",
      "4040/4040 [==============================] - 16s - loss: 0.0422 - acc: 0.9908 - val_loss: 0.8597 - val_acc: 0.9111\n",
      "Epoch 84/100\n",
      "4040/4040 [==============================] - 16s - loss: 0.0481 - acc: 0.9906 - val_loss: 0.9262 - val_acc: 0.9111\n",
      "Epoch 85/100\n",
      "4040/4040 [==============================] - 16s - loss: 0.0448 - acc: 0.9901 - val_loss: 0.8349 - val_acc: 0.9333\n",
      "Epoch 86/100\n",
      "4040/4040 [==============================] - 16s - loss: 0.0391 - acc: 0.9889 - val_loss: 0.8915 - val_acc: 0.9111\n",
      "Epoch 87/100\n",
      "4040/4040 [==============================] - 16s - loss: 0.0417 - acc: 0.9906 - val_loss: 0.8948 - val_acc: 0.9333\n",
      "Epoch 88/100\n",
      "4040/4040 [==============================] - 16s - loss: 0.0457 - acc: 0.9891 - val_loss: 0.8861 - val_acc: 0.9333\n",
      "Epoch 89/100\n",
      "4040/4040 [==============================] - 16s - loss: 0.0412 - acc: 0.9908 - val_loss: 0.9054 - val_acc: 0.9333\n",
      "Epoch 90/100\n",
      "4040/4040 [==============================] - 16s - loss: 0.0402 - acc: 0.9906 - val_loss: 0.9307 - val_acc: 0.9333\n",
      "Epoch 91/100\n",
      "4040/4040 [==============================] - 16s - loss: 0.0308 - acc: 0.9918 - val_loss: 0.9086 - val_acc: 0.9333\n",
      "Epoch 92/100\n",
      "4040/4040 [==============================] - 16s - loss: 0.0367 - acc: 0.9918 - val_loss: 0.9315 - val_acc: 0.9333\n",
      "Epoch 93/100\n",
      "4040/4040 [==============================] - 16s - loss: 0.0427 - acc: 0.9911 - val_loss: 0.9447 - val_acc: 0.9111\n",
      "Epoch 94/100\n",
      "4040/4040 [==============================] - 16s - loss: 0.0438 - acc: 0.9901 - val_loss: 0.9608 - val_acc: 0.9111\n",
      "Epoch 95/100\n",
      "4040/4040 [==============================] - 16s - loss: 0.0422 - acc: 0.9911 - val_loss: 0.9354 - val_acc: 0.9333\n",
      "Epoch 96/100\n",
      "4040/4040 [==============================] - 16s - loss: 0.0388 - acc: 0.9916 - val_loss: 0.8789 - val_acc: 0.9111\n",
      "Epoch 97/100\n",
      "4040/4040 [==============================] - 16s - loss: 0.0501 - acc: 0.9903 - val_loss: 0.8991 - val_acc: 0.9111\n",
      "Epoch 98/100\n",
      "4040/4040 [==============================] - 16s - loss: 0.0533 - acc: 0.9889 - val_loss: 0.9418 - val_acc: 0.9333\n",
      "Epoch 99/100\n",
      "4040/4040 [==============================] - 16s - loss: 0.0393 - acc: 0.9921 - val_loss: 0.9647 - val_acc: 0.9333\n",
      "Epoch 100/100\n",
      "4040/4040 [==============================] - 16s - loss: 0.0413 - acc: 0.9913 - val_loss: 0.9750 - val_acc: 0.9333\n"
     ]
    }
   ],
   "source": [
    "history = model.fit(train_features, train_labels, epochs=100, \n",
    "                    batch_size =5, \n",
    "                    validation_data=(validation_features, validation_labels))"
   ]
  },
  {
   "cell_type": "code",
   "execution_count": 11,
   "metadata": {
    "scrolled": false
   },
   "outputs": [
    {
     "name": "stdout",
     "output_type": "stream",
     "text": [
      "dict_keys(['val_loss', 'val_acc', 'loss', 'acc'])\n"
     ]
    }
   ],
   "source": [
    "history_dict = history.history\n",
    "print(history_dict.keys())\n",
    "\n",
    "model.save('damage_undamaged_conv3_vgg.h5')"
   ]
  },
  {
   "cell_type": "code",
   "execution_count": 12,
   "metadata": {},
   "outputs": [
    {
     "data": {
      "image/png": "[encoded data removed]",
      "text/plain": [
       "<matplotlib.figure.Figure at 0x7f1472245710>"
      ]
     },
     "metadata": {},
     "output_type": "display_data"
    },
    {
     "data": {
      "image/png": "[encoded data removed]",
      "text/plain": [
       "<matplotlib.figure.Figure at 0x7f146004a7f0>"
      ]
     },
     "metadata": {},
     "output_type": "display_data"
    }
   ],
   "source": [
    "#Displaying curves of loss and accuracy during training \n",
    "\n",
    "import matplotlib.pyplot as plt\n",
    "acc = history.history['acc']\n",
    "val_acc = history.history['val_acc']\n",
    "loss = history.history['loss']\n",
    "val_loss = history.history['val_loss']\n",
    "\n",
    "epochs = range(len(acc))\n",
    "\n",
    "plt.plot(epochs, acc, 'bo')#dots\n",
    "plt.plot(epochs, val_acc, 'b')#line segments\n",
    "plt.title('Training and validation accuracy with VGG16')\n",
    "plt.figure()\n",
    "\n",
    "plt.plot(epochs, loss, 'bo')\n",
    "plt.plot(epochs, val_loss, 'b')\n",
    "plt.title('Training and validation loss with VGG16')\n",
    "plt.show()"
   ]
  },
  {
   "cell_type": "code",
   "execution_count": null,
   "metadata": {},
   "outputs": [],
   "source": []
  },
  {
   "cell_type": "code",
   "execution_count": null,
   "metadata": {},
   "outputs": [],
   "source": []
  },
  {
   "cell_type": "code",
   "execution_count": null,
   "metadata": {
    "collapsed": true
   },
   "outputs": [],
   "source": []
  }
 ],
 "metadata": {
  "kernelspec": {
   "display_name": "Python 3",
   "language": "python",
   "name": "python3"
  },
  "language_info": {
   "codemirror_mode": {
    "name": "ipython",
    "version": 3
   },
   "file_extension": ".py",
   "mimetype": "text/x-python",
   "name": "python",
   "nbconvert_exporter": "python",
   "pygments_lexer": "ipython3",
   "version": "3.6.1"
  }
 },
 "nbformat": 4,
 "nbformat_minor": 2
}
