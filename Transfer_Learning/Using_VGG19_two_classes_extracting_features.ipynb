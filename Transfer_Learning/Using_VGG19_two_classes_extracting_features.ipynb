{
 "cells": [
  {
   "cell_type": "code",
   "execution_count": 1,
   "metadata": {
    "collapsed": true
   },
   "outputs": [],
   "source": [
    "import os, shutil"
   ]
  },
  {
   "cell_type": "code",
   "execution_count": 2,
   "metadata": {
    "collapsed": true
   },
   "outputs": [],
   "source": [
    "base_dir = '/home/skhatter/Transfer_Learning/512_original/'\n",
    "train_dir = '/home/skhatter/Transfer_Learning/512_original/train'\n",
    "valid_dir = '/home/skhatter/Transfer_Learning/512_original/validation'\n",
    "\n",
    "train_dam_dir = '/home/skhatter/Transfer_Learning/512_original/train/damaged'\n",
    "train_undam_dir = '/home/skhatter/Transfer_Learning/512_original/train/undamaged'\n",
    "\n",
    "valid_dam_dir = '/home/skhatter/Transfer_Learning/512_original/validation/damaged'\n",
    "valid_undam_dir = '/home/skhatter/Transfer_Learning/512_original/validation/undamaged'"
   ]
  },
  {
   "cell_type": "code",
   "execution_count": 3,
   "metadata": {},
   "outputs": [
    {
     "name": "stdout",
     "output_type": "stream",
     "text": [
      "Total training damaged images 1501\n",
      "Total training undamaged images 2541\n",
      "Total validation damaged images 26\n",
      "Total validation undamaged images 21\n"
     ]
    }
   ],
   "source": [
    "print('Total training damaged images', len(os.listdir(train_dam_dir)))\n",
    "print('Total training undamaged images', len(os.listdir(train_undam_dir)))\n",
    "\n",
    "print('Total validation damaged images', len(os.listdir(valid_dam_dir)))\n",
    "print('Total validation undamaged images', len(os.listdir(valid_undam_dir)))"
   ]
  },
  {
   "cell_type": "code",
   "execution_count": 14,
   "metadata": {},
   "outputs": [],
   "source": [
    "from keras import layers\n",
    "from keras import models\n",
    "from keras.applications import VGG19"
   ]
  },
  {
   "cell_type": "code",
   "execution_count": 15,
   "metadata": {
    "scrolled": false
   },
   "outputs": [
    {
     "name": "stdout",
     "output_type": "stream",
     "text": [
      "Downloading data from https://github.com/fchollet/deep-learning-models/releases/download/v0.1/vgg19_weights_tf_dim_ordering_tf_kernels_notop.h5\n",
      "80060416/80134624 [============================>.] - ETA: 0s_________________________________________________________________\n",
      "Layer (type)                 Output Shape              Param #   \n",
      "=================================================================\n",
      "input_5 (InputLayer)         (None, 512, 512, 3)       0         \n",
      "_________________________________________________________________\n",
      "block1_conv1 (Conv2D)        (None, 512, 512, 64)      1792      \n",
      "_________________________________________________________________\n",
      "block1_conv2 (Conv2D)        (None, 512, 512, 64)      36928     \n",
      "_________________________________________________________________\n",
      "block1_pool (MaxPooling2D)   (None, 256, 256, 64)      0         \n",
      "_________________________________________________________________\n",
      "block2_conv1 (Conv2D)        (None, 256, 256, 128)     73856     \n",
      "_________________________________________________________________\n",
      "block2_conv2 (Conv2D)        (None, 256, 256, 128)     147584    \n",
      "_________________________________________________________________\n",
      "block2_pool (MaxPooling2D)   (None, 128, 128, 128)     0         \n",
      "_________________________________________________________________\n",
      "block3_conv1 (Conv2D)        (None, 128, 128, 256)     295168    \n",
      "_________________________________________________________________\n",
      "block3_conv2 (Conv2D)        (None, 128, 128, 256)     590080    \n",
      "_________________________________________________________________\n",
      "block3_conv3 (Conv2D)        (None, 128, 128, 256)     590080    \n",
      "_________________________________________________________________\n",
      "block3_conv4 (Conv2D)        (None, 128, 128, 256)     590080    \n",
      "_________________________________________________________________\n",
      "block3_pool (MaxPooling2D)   (None, 64, 64, 256)       0         \n",
      "_________________________________________________________________\n",
      "block4_conv1 (Conv2D)        (None, 64, 64, 512)       1180160   \n",
      "_________________________________________________________________\n",
      "block4_conv2 (Conv2D)        (None, 64, 64, 512)       2359808   \n",
      "_________________________________________________________________\n",
      "block4_conv3 (Conv2D)        (None, 64, 64, 512)       2359808   \n",
      "_________________________________________________________________\n",
      "block4_conv4 (Conv2D)        (None, 64, 64, 512)       2359808   \n",
      "_________________________________________________________________\n",
      "block4_pool (MaxPooling2D)   (None, 32, 32, 512)       0         \n",
      "_________________________________________________________________\n",
      "block5_conv1 (Conv2D)        (None, 32, 32, 512)       2359808   \n",
      "_________________________________________________________________\n",
      "block5_conv2 (Conv2D)        (None, 32, 32, 512)       2359808   \n",
      "_________________________________________________________________\n",
      "block5_conv3 (Conv2D)        (None, 32, 32, 512)       2359808   \n",
      "_________________________________________________________________\n",
      "block5_conv4 (Conv2D)        (None, 32, 32, 512)       2359808   \n",
      "_________________________________________________________________\n",
      "block5_pool (MaxPooling2D)   (None, 16, 16, 512)       0         \n",
      "=================================================================\n",
      "Total params: 20,024,384\n",
      "Trainable params: 20,024,384\n",
      "Non-trainable params: 0\n",
      "_________________________________________________________________\n"
     ]
    }
   ],
   "source": [
    "conv_base = VGG19(weights = 'imagenet', include_top = False, input_shape=(512, 512, 3))\n",
    "conv_base.summary()"
   ]
  },
  {
   "cell_type": "code",
   "execution_count": 17,
   "metadata": {
    "scrolled": false
   },
   "outputs": [
    {
     "name": "stdout",
     "output_type": "stream",
     "text": [
      "Found 4040 images belonging to 2 classes.\n",
      "Found 45 images belonging to 2 classes.\n"
     ]
    }
   ],
   "source": [
    "from keras.preprocessing.image import ImageDataGenerator\n",
    "import numpy as np\n",
    "\n",
    "datagen = ImageDataGenerator(rescale = 1./255)\n",
    "batch_size = 5\n",
    "\n",
    "def extract_features(directory, sample_count):\n",
    "    features = np.zeros(shape=(sample_count,16,16,512 ))\n",
    "    labels = np.zeros(shape=(sample_count))\n",
    "    generator = datagen.flow_from_directory(directory, target_size=(512, 512),\n",
    "                                           batch_size=batch_size, class_mode='binary')\n",
    "    i =0\n",
    "    for inputs_batch, labels_batch in generator:\n",
    "        features_batch = conv_base.predict(inputs_batch)\n",
    "        features[i * batch_size : (i + 1) * batch_size] = features_batch\n",
    "        labels[i * batch_size : (i + 1) * batch_size] = labels_batch\n",
    "        i += 1\n",
    "        if i * batch_size >= sample_count:\n",
    "            break\n",
    "    return features, labels\n",
    "\n",
    "train_features, train_labels = extract_features(train_dir, 4040)\n",
    "validation_features, validation_labels = extract_features(valid_dir, 45)    "
   ]
  },
  {
   "cell_type": "code",
   "execution_count": 18,
   "metadata": {},
   "outputs": [],
   "source": [
    "train_features = np.reshape(train_features, (4040, 16*16*512))\n",
    "validation_features = np.reshape(validation_features, (45, 16*16*512))"
   ]
  },
  {
   "cell_type": "code",
   "execution_count": 19,
   "metadata": {
    "collapsed": true
   },
   "outputs": [],
   "source": [
    "from keras import models\n",
    "from keras import layers\n",
    "from keras import optimizers\n",
    "\n",
    "model = models.Sequential()\n",
    "model.add(layers.Dense(256, activation='relu', input_dim=16*16*512))\n",
    "model.add(layers.Dropout(0.5))\n",
    "model.add(layers.Dense(1, activation='sigmoid'))\n",
    "\n",
    "model.compile(optimizer=optimizers.RMSprop(lr=1e-4),\n",
    "             loss='binary_crossentropy',\n",
    "             metrics=['acc'])"
   ]
  },
  {
   "cell_type": "code",
   "execution_count": 20,
   "metadata": {
    "scrolled": false
   },
   "outputs": [
    {
     "name": "stdout",
     "output_type": "stream",
     "text": [
      "Train on 4040 samples, validate on 45 samples\n",
      "Epoch 1/100\n",
      "4040/4040 [==============================] - 17s - loss: 0.6692 - acc: 0.6658 - val_loss: 0.6024 - val_acc: 0.7333\n",
      "Epoch 2/100\n",
      "4040/4040 [==============================] - 16s - loss: 0.4913 - acc: 0.7705 - val_loss: 0.5684 - val_acc: 0.7333\n",
      "Epoch 3/100\n",
      "4040/4040 [==============================] - 16s - loss: 0.4292 - acc: 0.8116 - val_loss: 0.4784 - val_acc: 0.7556\n",
      "Epoch 4/100\n",
      "4040/4040 [==============================] - 16s - loss: 0.3855 - acc: 0.8300 - val_loss: 0.4779 - val_acc: 0.7778\n",
      "Epoch 5/100\n",
      "4040/4040 [==============================] - 16s - loss: 0.3614 - acc: 0.8455 - val_loss: 0.4271 - val_acc: 0.8222\n",
      "Epoch 6/100\n",
      "4040/4040 [==============================] - 16s - loss: 0.3471 - acc: 0.8483 - val_loss: 0.3809 - val_acc: 0.8667\n",
      "Epoch 7/100\n",
      "4040/4040 [==============================] - 16s - loss: 0.3364 - acc: 0.8577 - val_loss: 0.4229 - val_acc: 0.7778\n",
      "Epoch 8/100\n",
      "4040/4040 [==============================] - 16s - loss: 0.3075 - acc: 0.8683 - val_loss: 0.4646 - val_acc: 0.8222\n",
      "Epoch 9/100\n",
      "4040/4040 [==============================] - 16s - loss: 0.3110 - acc: 0.8760 - val_loss: 0.4127 - val_acc: 0.8444\n",
      "Epoch 10/100\n",
      "4040/4040 [==============================] - 16s - loss: 0.2961 - acc: 0.8755 - val_loss: 0.4116 - val_acc: 0.8444\n",
      "Epoch 11/100\n",
      "4040/4040 [==============================] - 16s - loss: 0.2796 - acc: 0.8911 - val_loss: 0.4997 - val_acc: 0.8444\n",
      "Epoch 12/100\n",
      "4040/4040 [==============================] - 16s - loss: 0.2774 - acc: 0.8926 - val_loss: 0.4630 - val_acc: 0.8222\n",
      "Epoch 13/100\n",
      "4040/4040 [==============================] - 16s - loss: 0.2782 - acc: 0.8958 - val_loss: 0.3600 - val_acc: 0.8222\n",
      "Epoch 14/100\n",
      "4040/4040 [==============================] - 16s - loss: 0.2748 - acc: 0.8963 - val_loss: 0.4661 - val_acc: 0.8667\n",
      "Epoch 15/100\n",
      "4040/4040 [==============================] - 16s - loss: 0.2655 - acc: 0.9020 - val_loss: 0.5366 - val_acc: 0.8444\n",
      "Epoch 16/100\n",
      "4040/4040 [==============================] - 16s - loss: 0.2707 - acc: 0.9002 - val_loss: 0.5255 - val_acc: 0.8444\n",
      "Epoch 17/100\n",
      "4040/4040 [==============================] - 16s - loss: 0.2513 - acc: 0.9097 - val_loss: 0.5262 - val_acc: 0.8222\n",
      "Epoch 18/100\n",
      "4040/4040 [==============================] - 16s - loss: 0.2436 - acc: 0.9104 - val_loss: 0.4991 - val_acc: 0.8222\n",
      "Epoch 19/100\n",
      "4040/4040 [==============================] - 16s - loss: 0.2563 - acc: 0.9092 - val_loss: 0.4849 - val_acc: 0.8444\n",
      "Epoch 20/100\n",
      "4040/4040 [==============================] - 16s - loss: 0.2326 - acc: 0.9173 - val_loss: 0.4606 - val_acc: 0.8667\n",
      "Epoch 21/100\n",
      "4040/4040 [==============================] - 16s - loss: 0.2518 - acc: 0.9126 - val_loss: 0.4958 - val_acc: 0.8444\n",
      "Epoch 22/100\n",
      "4040/4040 [==============================] - 16s - loss: 0.2419 - acc: 0.9188 - val_loss: 0.4769 - val_acc: 0.8667\n",
      "Epoch 23/100\n",
      "4040/4040 [==============================] - 16s - loss: 0.2431 - acc: 0.9166 - val_loss: 0.4216 - val_acc: 0.8889\n",
      "Epoch 24/100\n",
      "4040/4040 [==============================] - 16s - loss: 0.2349 - acc: 0.9151 - val_loss: 0.5123 - val_acc: 0.8667\n",
      "Epoch 25/100\n",
      "4040/4040 [==============================] - 16s - loss: 0.2199 - acc: 0.9203 - val_loss: 0.6593 - val_acc: 0.8444\n",
      "Epoch 26/100\n",
      "4040/4040 [==============================] - 16s - loss: 0.2298 - acc: 0.9213 - val_loss: 0.4433 - val_acc: 0.8889\n",
      "Epoch 27/100\n",
      "4040/4040 [==============================] - 16s - loss: 0.2231 - acc: 0.9295 - val_loss: 0.3441 - val_acc: 0.9111\n",
      "Epoch 28/100\n",
      "4040/4040 [==============================] - 16s - loss: 0.2353 - acc: 0.9230 - val_loss: 0.4657 - val_acc: 0.8667\n",
      "Epoch 29/100\n",
      "4040/4040 [==============================] - 16s - loss: 0.2185 - acc: 0.9287 - val_loss: 0.3797 - val_acc: 0.8889\n",
      "Epoch 30/100\n",
      "4040/4040 [==============================] - 16s - loss: 0.2262 - acc: 0.9250 - val_loss: 0.5404 - val_acc: 0.8667\n",
      "Epoch 31/100\n",
      "4040/4040 [==============================] - 16s - loss: 0.2138 - acc: 0.9260 - val_loss: 0.5246 - val_acc: 0.8889\n",
      "Epoch 32/100\n",
      "4040/4040 [==============================] - 16s - loss: 0.2142 - acc: 0.9342 - val_loss: 0.4575 - val_acc: 0.8444\n",
      "Epoch 33/100\n",
      "4040/4040 [==============================] - 16s - loss: 0.2273 - acc: 0.9295 - val_loss: 0.3521 - val_acc: 0.9111\n",
      "Epoch 34/100\n",
      "4040/4040 [==============================] - 16s - loss: 0.2019 - acc: 0.9334 - val_loss: 0.4286 - val_acc: 0.8667\n",
      "Epoch 35/100\n",
      "4040/4040 [==============================] - 16s - loss: 0.2145 - acc: 0.9332 - val_loss: 0.7636 - val_acc: 0.8667\n",
      "Epoch 36/100\n",
      "4040/4040 [==============================] - 16s - loss: 0.2079 - acc: 0.9329 - val_loss: 0.4451 - val_acc: 0.8444\n",
      "Epoch 37/100\n",
      "4040/4040 [==============================] - 16s - loss: 0.2195 - acc: 0.9354 - val_loss: 0.3446 - val_acc: 0.9333\n",
      "Epoch 38/100\n",
      "4040/4040 [==============================] - 16s - loss: 0.2085 - acc: 0.9366 - val_loss: 0.5018 - val_acc: 0.8444\n",
      "Epoch 39/100\n",
      "4040/4040 [==============================] - 16s - loss: 0.2064 - acc: 0.9359 - val_loss: 0.4154 - val_acc: 0.9111\n",
      "Epoch 40/100\n",
      "4040/4040 [==============================] - 16s - loss: 0.1856 - acc: 0.9399 - val_loss: 0.4875 - val_acc: 0.8667\n",
      "Epoch 41/100\n",
      "4040/4040 [==============================] - 16s - loss: 0.2181 - acc: 0.9329 - val_loss: 0.6070 - val_acc: 0.8667\n",
      "Epoch 42/100\n",
      "4040/4040 [==============================] - 16s - loss: 0.2142 - acc: 0.9329 - val_loss: 0.4652 - val_acc: 0.8667\n",
      "Epoch 43/100\n",
      "4040/4040 [==============================] - 16s - loss: 0.2102 - acc: 0.9431 - val_loss: 0.3433 - val_acc: 0.9333\n",
      "Epoch 44/100\n",
      "4040/4040 [==============================] - 16s - loss: 0.1904 - acc: 0.9431 - val_loss: 0.4722 - val_acc: 0.8667\n",
      "Epoch 45/100\n",
      "4040/4040 [==============================] - 16s - loss: 0.1961 - acc: 0.9391 - val_loss: 0.3979 - val_acc: 0.9111\n",
      "Epoch 46/100\n",
      "4040/4040 [==============================] - 16s - loss: 0.2178 - acc: 0.9371 - val_loss: 0.2908 - val_acc: 0.9333\n",
      "Epoch 47/100\n",
      "4040/4040 [==============================] - 16s - loss: 0.2059 - acc: 0.9416 - val_loss: 0.4610 - val_acc: 0.8889\n",
      "Epoch 48/100\n",
      "4040/4040 [==============================] - 16s - loss: 0.1986 - acc: 0.9408 - val_loss: 0.3730 - val_acc: 0.9556\n",
      "Epoch 49/100\n",
      "4040/4040 [==============================] - 16s - loss: 0.1984 - acc: 0.9446 - val_loss: 0.6121 - val_acc: 0.8667\n",
      "Epoch 50/100\n",
      "4040/4040 [==============================] - 16s - loss: 0.1933 - acc: 0.9436 - val_loss: 0.3634 - val_acc: 0.9333\n",
      "Epoch 51/100\n",
      "4040/4040 [==============================] - 16s - loss: 0.2023 - acc: 0.9428 - val_loss: 0.3451 - val_acc: 0.8667\n",
      "Epoch 52/100\n",
      "4040/4040 [==============================] - 16s - loss: 0.1941 - acc: 0.9446 - val_loss: 0.4219 - val_acc: 0.8889\n",
      "Epoch 53/100\n",
      "4040/4040 [==============================] - 16s - loss: 0.1953 - acc: 0.9458 - val_loss: 0.4206 - val_acc: 0.8444\n",
      "Epoch 54/100\n",
      "4040/4040 [==============================] - 16s - loss: 0.1819 - acc: 0.9483 - val_loss: 0.3636 - val_acc: 0.8889\n",
      "Epoch 55/100\n",
      "4040/4040 [==============================] - 16s - loss: 0.1814 - acc: 0.9483 - val_loss: 0.3197 - val_acc: 0.9333\n",
      "Epoch 56/100\n",
      "4040/4040 [==============================] - 16s - loss: 0.1748 - acc: 0.9498 - val_loss: 0.4108 - val_acc: 0.8889\n",
      "Epoch 57/100\n",
      "4040/4040 [==============================] - 16s - loss: 0.1869 - acc: 0.9483 - val_loss: 0.4225 - val_acc: 0.8444\n",
      "Epoch 58/100\n",
      "4040/4040 [==============================] - 16s - loss: 0.1833 - acc: 0.9475 - val_loss: 0.3736 - val_acc: 0.9333\n",
      "Epoch 59/100\n",
      "4040/4040 [==============================] - 16s - loss: 0.1866 - acc: 0.9458 - val_loss: 0.4626 - val_acc: 0.8667\n",
      "Epoch 60/100\n",
      "4040/4040 [==============================] - 16s - loss: 0.1938 - acc: 0.9488 - val_loss: 0.3379 - val_acc: 0.8889\n",
      "Epoch 61/100\n",
      "4040/4040 [==============================] - 16s - loss: 0.1806 - acc: 0.9552 - val_loss: 0.3278 - val_acc: 0.9111\n",
      "Epoch 62/100\n",
      "4040/4040 [==============================] - 16s - loss: 0.1949 - acc: 0.9500 - val_loss: 0.4597 - val_acc: 0.8667\n",
      "Epoch 63/100\n",
      "4040/4040 [==============================] - 16s - loss: 0.1921 - acc: 0.9458 - val_loss: 0.3908 - val_acc: 0.8444\n",
      "Epoch 64/100\n"
     ]
    },
    {
     "name": "stdout",
     "output_type": "stream",
     "text": [
      "4040/4040 [==============================] - 16s - loss: 0.1911 - acc: 0.9426 - val_loss: 0.6203 - val_acc: 0.8444\n",
      "Epoch 65/100\n",
      "4040/4040 [==============================] - 16s - loss: 0.1951 - acc: 0.9490 - val_loss: 0.3142 - val_acc: 0.9556\n",
      "Epoch 66/100\n",
      "4040/4040 [==============================] - 16s - loss: 0.1855 - acc: 0.9478 - val_loss: 0.2890 - val_acc: 0.9556\n",
      "Epoch 67/100\n",
      "4040/4040 [==============================] - 16s - loss: 0.2050 - acc: 0.9446 - val_loss: 0.3575 - val_acc: 0.9556\n",
      "Epoch 68/100\n",
      "4040/4040 [==============================] - 16s - loss: 0.1714 - acc: 0.9510 - val_loss: 0.4346 - val_acc: 0.8889\n",
      "Epoch 69/100\n",
      "4040/4040 [==============================] - 16s - loss: 0.1722 - acc: 0.9557 - val_loss: 0.3233 - val_acc: 0.9556\n",
      "Epoch 70/100\n",
      "4040/4040 [==============================] - 16s - loss: 0.1730 - acc: 0.9502 - val_loss: 0.3906 - val_acc: 0.9111\n",
      "Epoch 71/100\n",
      "4040/4040 [==============================] - 16s - loss: 0.1857 - acc: 0.9507 - val_loss: 0.5717 - val_acc: 0.8444\n",
      "Epoch 72/100\n",
      "4040/4040 [==============================] - 16s - loss: 0.1701 - acc: 0.9522 - val_loss: 0.3387 - val_acc: 0.9556\n",
      "Epoch 73/100\n",
      "4040/4040 [==============================] - 16s - loss: 0.1816 - acc: 0.9525 - val_loss: 0.3531 - val_acc: 0.9111\n",
      "Epoch 74/100\n",
      "4040/4040 [==============================] - 16s - loss: 0.1600 - acc: 0.9545 - val_loss: 0.3127 - val_acc: 0.9333\n",
      "Epoch 75/100\n",
      "4040/4040 [==============================] - 16s - loss: 0.1626 - acc: 0.9540 - val_loss: 0.5371 - val_acc: 0.8889\n",
      "Epoch 76/100\n",
      "4040/4040 [==============================] - 16s - loss: 0.1701 - acc: 0.9532 - val_loss: 0.4220 - val_acc: 0.9111\n",
      "Epoch 77/100\n",
      "4040/4040 [==============================] - 16s - loss: 0.1543 - acc: 0.9582 - val_loss: 0.3250 - val_acc: 0.9333\n",
      "Epoch 78/100\n",
      "4040/4040 [==============================] - 16s - loss: 0.1739 - acc: 0.9564 - val_loss: 0.4132 - val_acc: 0.8667\n",
      "Epoch 79/100\n",
      "4040/4040 [==============================] - 16s - loss: 0.1658 - acc: 0.9537 - val_loss: 0.6586 - val_acc: 0.8222\n",
      "Epoch 80/100\n",
      "4040/4040 [==============================] - 16s - loss: 0.1718 - acc: 0.9525 - val_loss: 0.5349 - val_acc: 0.8667\n",
      "Epoch 81/100\n",
      "4040/4040 [==============================] - 16s - loss: 0.1740 - acc: 0.9592 - val_loss: 0.5940 - val_acc: 0.8667\n",
      "Epoch 82/100\n",
      "4040/4040 [==============================] - 16s - loss: 0.1652 - acc: 0.9577 - val_loss: 0.4598 - val_acc: 0.8889\n",
      "Epoch 83/100\n",
      "4040/4040 [==============================] - 16s - loss: 0.1550 - acc: 0.9584 - val_loss: 0.4888 - val_acc: 0.8444\n",
      "Epoch 84/100\n",
      "4040/4040 [==============================] - 16s - loss: 0.1655 - acc: 0.9584 - val_loss: 0.3992 - val_acc: 0.8667\n",
      "Epoch 85/100\n",
      "4040/4040 [==============================] - 16s - loss: 0.1514 - acc: 0.9601 - val_loss: 0.4558 - val_acc: 0.9111\n",
      "Epoch 86/100\n",
      "4040/4040 [==============================] - 16s - loss: 0.1584 - acc: 0.9616 - val_loss: 0.3707 - val_acc: 0.8667\n",
      "Epoch 87/100\n",
      "4040/4040 [==============================] - 16s - loss: 0.1391 - acc: 0.9611 - val_loss: 0.3455 - val_acc: 0.9111\n",
      "Epoch 88/100\n",
      "4040/4040 [==============================] - 16s - loss: 0.1834 - acc: 0.9552 - val_loss: 0.3081 - val_acc: 0.9556\n",
      "Epoch 89/100\n",
      "4040/4040 [==============================] - 16s - loss: 0.1388 - acc: 0.9646 - val_loss: 0.3400 - val_acc: 0.8889\n",
      "Epoch 90/100\n",
      "4040/4040 [==============================] - 16s - loss: 0.1624 - acc: 0.9579 - val_loss: 0.5797 - val_acc: 0.8667\n",
      "Epoch 91/100\n",
      "4040/4040 [==============================] - 16s - loss: 0.1521 - acc: 0.9611 - val_loss: 0.3812 - val_acc: 0.8889\n",
      "Epoch 92/100\n",
      "4040/4040 [==============================] - 16s - loss: 0.1513 - acc: 0.9614 - val_loss: 0.3506 - val_acc: 0.9111\n",
      "Epoch 93/100\n",
      "4040/4040 [==============================] - 16s - loss: 0.1480 - acc: 0.9564 - val_loss: 0.3575 - val_acc: 0.9111\n",
      "Epoch 94/100\n",
      "4040/4040 [==============================] - 16s - loss: 0.1606 - acc: 0.9609 - val_loss: 0.3162 - val_acc: 0.9333\n",
      "Epoch 95/100\n",
      "4040/4040 [==============================] - 16s - loss: 0.1491 - acc: 0.9631 - val_loss: 0.3715 - val_acc: 0.9111\n",
      "Epoch 96/100\n",
      "4040/4040 [==============================] - 16s - loss: 0.1467 - acc: 0.9621 - val_loss: 0.3957 - val_acc: 0.9111\n",
      "Epoch 97/100\n",
      "4040/4040 [==============================] - 16s - loss: 0.1444 - acc: 0.9636 - val_loss: 0.4161 - val_acc: 0.8889\n",
      "Epoch 98/100\n",
      "4040/4040 [==============================] - 16s - loss: 0.1554 - acc: 0.9587 - val_loss: 0.3907 - val_acc: 0.9111\n",
      "Epoch 99/100\n",
      "4040/4040 [==============================] - 16s - loss: 0.1564 - acc: 0.9626 - val_loss: 0.4060 - val_acc: 0.9111\n",
      "Epoch 100/100\n",
      "4040/4040 [==============================] - 16s - loss: 0.1544 - acc: 0.9589 - val_loss: 0.4128 - val_acc: 0.9111\n"
     ]
    }
   ],
   "source": [
    "history = model.fit(train_features, train_labels, epochs=100, \n",
    "                    batch_size =5, \n",
    "                    validation_data=(validation_features, validation_labels))"
   ]
  },
  {
   "cell_type": "code",
   "execution_count": 21,
   "metadata": {
    "scrolled": false
   },
   "outputs": [
    {
     "name": "stdout",
     "output_type": "stream",
     "text": [
      "dict_keys(['val_loss', 'val_acc', 'loss', 'acc'])\n"
     ]
    }
   ],
   "source": [
    "history_dict = history.history\n",
    "print(history_dict.keys())\n",
    "\n",
    "model.save('damage_undamaged_conv3_vgg.h5')"
   ]
  },
  {
   "cell_type": "code",
   "execution_count": 23,
   "metadata": {},
   "outputs": [
    {
     "data": {
      "image/png": "[encoded data removed]",
      "text/plain": [
       "<matplotlib.figure.Figure at 0x7f40d517ce10>"
      ]
     },
     "metadata": {},
     "output_type": "display_data"
    },
    {
     "data": {
      "image/png": "[encoded data removed]",
      "text/plain": [
       "<matplotlib.figure.Figure at 0x7f40d511c198>"
      ]
     },
     "metadata": {},
     "output_type": "display_data"
    }
   ],
   "source": [
    "#Displaying curves of loss and accuracy during training \n",
    "\n",
    "import matplotlib.pyplot as plt\n",
    "acc = history.history['acc']\n",
    "val_acc = history.history['val_acc']\n",
    "loss = history.history['loss']\n",
    "val_loss = history.history['val_loss']\n",
    "\n",
    "epochs = range(len(acc))\n",
    "\n",
    "plt.plot(epochs, acc, 'bo')#dots\n",
    "plt.plot(epochs, val_acc, 'b')#line segments\n",
    "plt.title('Training and validation accuracy with VGG19')\n",
    "plt.figure()\n",
    "\n",
    "plt.plot(epochs, loss, 'bo')\n",
    "plt.plot(epochs, val_loss, 'b')\n",
    "plt.title('Training and validation loss with VGG19')\n",
    "plt.show()"
   ]
  },
  {
   "cell_type": "code",
   "execution_count": 24,
   "metadata": {},
   "outputs": [
    {
     "name": "stdout",
     "output_type": "stream",
     "text": [
      "_________________________________________________________________\n",
      "Layer (type)                 Output Shape              Param #   \n",
      "=================================================================\n",
      "dense_1 (Dense)              (None, 256)               33554688  \n",
      "_________________________________________________________________\n",
      "dropout_1 (Dropout)          (None, 256)               0         \n",
      "_________________________________________________________________\n",
      "dense_2 (Dense)              (None, 1)                 257       \n",
      "=================================================================\n",
      "Total params: 33,554,945\n",
      "Trainable params: 33,554,945\n",
      "Non-trainable params: 0\n",
      "_________________________________________________________________\n"
     ]
    }
   ],
   "source": [
    "model.summary()"
   ]
  },
  {
   "cell_type": "code",
   "execution_count": null,
   "metadata": {
    "collapsed": true
   },
   "outputs": [],
   "source": []
  },
  {
   "cell_type": "code",
   "execution_count": null,
   "metadata": {
    "collapsed": true
   },
   "outputs": [],
   "source": []
  }
 ],
 "metadata": {
  "kernelspec": {
   "display_name": "Python 3",
   "language": "python",
   "name": "python3"
  },
  "language_info": {
   "codemirror_mode": {
    "name": "ipython",
    "version": 3
   },
   "file_extension": ".py",
   "mimetype": "text/x-python",
   "name": "python",
   "nbconvert_exporter": "python",
   "pygments_lexer": "ipython3",
   "version": "3.6.1"
  }
 },
 "nbformat": 4,
 "nbformat_minor": 2
}
