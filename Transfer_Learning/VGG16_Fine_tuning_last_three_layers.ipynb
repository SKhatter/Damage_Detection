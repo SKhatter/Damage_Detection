{
 "cells": [
  {
   "cell_type": "code",
   "execution_count": 1,
   "metadata": {
    "collapsed": true
   },
   "outputs": [],
   "source": [
    "import os, shutil"
   ]
  },
  {
   "cell_type": "code",
   "execution_count": 2,
   "metadata": {
    "collapsed": true
   },
   "outputs": [],
   "source": [
    "base_dir = '/home/skhatter/Transfer_Learning/512_original/'\n",
    "train_dir = '/home/skhatter/Transfer_Learning/512_original/train'\n",
    "valid_dir = '/home/skhatter/Transfer_Learning/512_original/validation'\n",
    "\n",
    "train_dam_dir = '/home/skhatter/Transfer_Learning/512_original/train/damaged'\n",
    "train_undam_dir = '/home/skhatter/Transfer_Learning/512_original/train/undamaged'\n",
    "\n",
    "valid_dam_dir = '/home/skhatter/Transfer_Learning/512_original/validation/damaged'\n",
    "valid_undam_dir = '/home/skhatter/Transfer_Learning/512_original/validation/undamaged'"
   ]
  },
  {
   "cell_type": "code",
   "execution_count": 3,
   "metadata": {},
   "outputs": [
    {
     "name": "stdout",
     "output_type": "stream",
     "text": [
      "Total training damaged images 1501\n",
      "Total training undamaged images 2541\n",
      "Total validation damaged images 26\n",
      "Total validation undamaged images 21\n"
     ]
    }
   ],
   "source": [
    "print('Total training damaged images', len(os.listdir(train_dam_dir)))\n",
    "print('Total training undamaged images', len(os.listdir(train_undam_dir)))\n",
    "\n",
    "print('Total validation damaged images', len(os.listdir(valid_dam_dir)))\n",
    "print('Total validation undamaged images', len(os.listdir(valid_undam_dir)))"
   ]
  },
  {
   "cell_type": "code",
   "execution_count": 4,
   "metadata": {},
   "outputs": [
    {
     "name": "stderr",
     "output_type": "stream",
     "text": [
      "Using TensorFlow backend.\n"
     ]
    }
   ],
   "source": [
    "from keras import layers\n",
    "from keras import models\n",
    "from keras.applications import VGG16"
   ]
  },
  {
   "cell_type": "code",
   "execution_count": 5,
   "metadata": {
    "scrolled": false
   },
   "outputs": [
    {
     "name": "stdout",
     "output_type": "stream",
     "text": [
      "_________________________________________________________________\n",
      "Layer (type)                 Output Shape              Param #   \n",
      "=================================================================\n",
      "input_1 (InputLayer)         (None, 512, 512, 3)       0         \n",
      "_________________________________________________________________\n",
      "block1_conv1 (Conv2D)        (None, 512, 512, 64)      1792      \n",
      "_________________________________________________________________\n",
      "block1_conv2 (Conv2D)        (None, 512, 512, 64)      36928     \n",
      "_________________________________________________________________\n",
      "block1_pool (MaxPooling2D)   (None, 256, 256, 64)      0         \n",
      "_________________________________________________________________\n",
      "block2_conv1 (Conv2D)        (None, 256, 256, 128)     73856     \n",
      "_________________________________________________________________\n",
      "block2_conv2 (Conv2D)        (None, 256, 256, 128)     147584    \n",
      "_________________________________________________________________\n",
      "block2_pool (MaxPooling2D)   (None, 128, 128, 128)     0         \n",
      "_________________________________________________________________\n",
      "block3_conv1 (Conv2D)        (None, 128, 128, 256)     295168    \n",
      "_________________________________________________________________\n",
      "block3_conv2 (Conv2D)        (None, 128, 128, 256)     590080    \n",
      "_________________________________________________________________\n",
      "block3_conv3 (Conv2D)        (None, 128, 128, 256)     590080    \n",
      "_________________________________________________________________\n",
      "block3_pool (MaxPooling2D)   (None, 64, 64, 256)       0         \n",
      "_________________________________________________________________\n",
      "block4_conv1 (Conv2D)        (None, 64, 64, 512)       1180160   \n",
      "_________________________________________________________________\n",
      "block4_conv2 (Conv2D)        (None, 64, 64, 512)       2359808   \n",
      "_________________________________________________________________\n",
      "block4_conv3 (Conv2D)        (None, 64, 64, 512)       2359808   \n",
      "_________________________________________________________________\n",
      "block4_pool (MaxPooling2D)   (None, 32, 32, 512)       0         \n",
      "_________________________________________________________________\n",
      "block5_conv1 (Conv2D)        (None, 32, 32, 512)       2359808   \n",
      "_________________________________________________________________\n",
      "block5_conv2 (Conv2D)        (None, 32, 32, 512)       2359808   \n",
      "_________________________________________________________________\n",
      "block5_conv3 (Conv2D)        (None, 32, 32, 512)       2359808   \n",
      "_________________________________________________________________\n",
      "block5_pool (MaxPooling2D)   (None, 16, 16, 512)       0         \n",
      "=================================================================\n",
      "Total params: 14,714,688\n",
      "Trainable params: 14,714,688\n",
      "Non-trainable params: 0\n",
      "_________________________________________________________________\n"
     ]
    }
   ],
   "source": [
    "conv_base = VGG16(weights = 'imagenet', include_top = False, input_shape=(512, 512, 3))\n",
    "conv_base.summary()"
   ]
  },
  {
   "cell_type": "code",
   "execution_count": 6,
   "metadata": {
    "collapsed": true
   },
   "outputs": [],
   "source": [
    "from keras import models\n",
    "from keras import layers\n",
    "from keras import optimizers\n",
    "\n",
    "model = models.Sequential()\n",
    "model.add(conv_base)\n",
    "model.add(layers.Flatten())\n",
    "model.add(layers.Dense(256, activation='relu'))\n",
    "model.add(layers.Dropout(0.5))\n",
    "model.add(layers.Dense(1, activation='sigmoid'))"
   ]
  },
  {
   "cell_type": "code",
   "execution_count": 7,
   "metadata": {
    "collapsed": true
   },
   "outputs": [],
   "source": [
    "conv_base.trainable = True\n",
    "set_trainable = False\n",
    "\n",
    "for layer in conv_base.layers:\n",
    "    if layer.name == 'block5_conv1':\n",
    "        set_trainable = True\n",
    "    if set_trainable:\n",
    "        layer.trainable = True\n",
    "    else:\n",
    "        layer.trainable = False"
   ]
  },
  {
   "cell_type": "code",
   "execution_count": 8,
   "metadata": {},
   "outputs": [
    {
     "name": "stdout",
     "output_type": "stream",
     "text": [
      "_________________________________________________________________\n",
      "Layer (type)                 Output Shape              Param #   \n",
      "=================================================================\n",
      "vgg16 (Model)                (None, 16, 16, 512)       14714688  \n",
      "_________________________________________________________________\n",
      "flatten_1 (Flatten)          (None, 131072)            0         \n",
      "_________________________________________________________________\n",
      "dense_1 (Dense)              (None, 256)               33554688  \n",
      "_________________________________________________________________\n",
      "dropout_1 (Dropout)          (None, 256)               0         \n",
      "_________________________________________________________________\n",
      "dense_2 (Dense)              (None, 1)                 257       \n",
      "=================================================================\n",
      "Total params: 48,269,633\n",
      "Trainable params: 40,634,369\n",
      "Non-trainable params: 7,635,264\n",
      "_________________________________________________________________\n"
     ]
    }
   ],
   "source": [
    "model.compile(optimizer=optimizers.RMSprop(lr=1e-4),\n",
    "             loss='binary_crossentropy',\n",
    "             metrics=['acc'])\n",
    "model.summary()"
   ]
  },
  {
   "cell_type": "code",
   "execution_count": 9,
   "metadata": {},
   "outputs": [
    {
     "name": "stdout",
     "output_type": "stream",
     "text": [
      "Found 4040 images belonging to 2 classes.\n",
      "Found 45 images belonging to 2 classes.\n"
     ]
    }
   ],
   "source": [
    "from keras.preprocessing.image import ImageDataGenerator\n",
    "\n",
    "datagen = ImageDataGenerator(rescale = 1./255)\n",
    "\n",
    "\n",
    "train_generator = datagen.flow_from_directory(train_dir,\n",
    "                                             target_size = (512, 512), \n",
    "                                              batch_size = 20,\n",
    "                                              class_mode = 'binary')\n",
    "\n",
    "\n",
    "validation_generator = datagen.flow_from_directory(valid_dir,\n",
    "                                             target_size = (512, 512), \n",
    "                                              batch_size = 20,\n",
    "                                              class_mode = 'binary')\n",
    "                                              "
   ]
  },
  {
   "cell_type": "code",
   "execution_count": 10,
   "metadata": {
    "scrolled": false
   },
   "outputs": [
    {
     "name": "stdout",
     "output_type": "stream",
     "text": [
      "Epoch 1/100\n",
      "50/50 [==============================] - 51s - loss: 0.7738 - acc: 0.5980 - val_loss: 0.6665 - val_acc: 0.4632\n",
      "Epoch 2/100\n",
      "50/50 [==============================] - 47s - loss: 0.4781 - acc: 0.7980 - val_loss: 0.2713 - val_acc: 0.9123\n",
      "Epoch 3/100\n",
      "50/50 [==============================] - 47s - loss: 0.3838 - acc: 0.8570 - val_loss: 0.2332 - val_acc: 0.9132\n",
      "Epoch 4/100\n",
      "50/50 [==============================] - 47s - loss: 0.3179 - acc: 0.8820 - val_loss: 0.1256 - val_acc: 0.9553\n",
      "Epoch 5/100\n",
      "50/50 [==============================] - 47s - loss: 0.2560 - acc: 0.9130 - val_loss: 0.1170 - val_acc: 0.9562\n",
      "Epoch 6/100\n",
      "50/50 [==============================] - 47s - loss: 0.2208 - acc: 0.9210 - val_loss: 0.3316 - val_acc: 0.9053\n",
      "Epoch 7/100\n",
      "50/50 [==============================] - 47s - loss: 0.2160 - acc: 0.9340 - val_loss: 0.1291 - val_acc: 0.9526\n",
      "Epoch 8/100\n",
      "50/50 [==============================] - 47s - loss: 0.2010 - acc: 0.9360 - val_loss: 0.1251 - val_acc: 0.9781\n",
      "Epoch 9/100\n",
      "50/50 [==============================] - 47s - loss: 0.1349 - acc: 0.9600 - val_loss: 0.1247 - val_acc: 0.9553\n",
      "Epoch 10/100\n",
      "50/50 [==============================] - 47s - loss: 0.1432 - acc: 0.9580 - val_loss: 0.5878 - val_acc: 0.8921\n",
      "Epoch 11/100\n",
      "50/50 [==============================] - 47s - loss: 0.1435 - acc: 0.9520 - val_loss: 0.2195 - val_acc: 0.9534\n",
      "Epoch 12/100\n",
      "50/50 [==============================] - 47s - loss: 0.1803 - acc: 0.9460 - val_loss: 0.1093 - val_acc: 0.9579\n",
      "Epoch 13/100\n",
      "50/50 [==============================] - 47s - loss: 0.0831 - acc: 0.9800 - val_loss: 0.2227 - val_acc: 0.9553\n",
      "Epoch 14/100\n",
      "50/50 [==============================] - 47s - loss: 0.1382 - acc: 0.9600 - val_loss: 0.1258 - val_acc: 0.9562\n",
      "Epoch 15/100\n",
      "50/50 [==============================] - 47s - loss: 0.1178 - acc: 0.9670 - val_loss: 0.1001 - val_acc: 0.9763\n",
      "Epoch 16/100\n",
      "50/50 [==============================] - 47s - loss: 0.1261 - acc: 0.9600 - val_loss: 0.0880 - val_acc: 0.9579\n",
      "Epoch 17/100\n",
      "50/50 [==============================] - 47s - loss: 0.0812 - acc: 0.9730 - val_loss: 0.0561 - val_acc: 0.9781\n",
      "Epoch 18/100\n",
      "50/50 [==============================] - 47s - loss: 0.0964 - acc: 0.9770 - val_loss: 0.0982 - val_acc: 0.9579\n",
      "Epoch 19/100\n",
      "50/50 [==============================] - 47s - loss: 0.0589 - acc: 0.9850 - val_loss: 0.1270 - val_acc: 0.9789\n",
      "Epoch 20/100\n",
      "50/50 [==============================] - 47s - loss: 0.1005 - acc: 0.9700 - val_loss: 0.1828 - val_acc: 0.9562\n",
      "Epoch 21/100\n",
      "50/50 [==============================] - 47s - loss: 0.0937 - acc: 0.9760 - val_loss: 0.0759 - val_acc: 0.9763\n",
      "Epoch 22/100\n",
      "50/50 [==============================] - 47s - loss: 0.0796 - acc: 0.9780 - val_loss: 0.1266 - val_acc: 0.9789\n",
      "Epoch 23/100\n",
      "50/50 [==============================] - 47s - loss: 0.0492 - acc: 0.9840 - val_loss: 0.1048 - val_acc: 0.9781\n",
      "Epoch 24/100\n",
      "50/50 [==============================] - 47s - loss: 0.0737 - acc: 0.9840 - val_loss: 0.0964 - val_acc: 0.9763\n",
      "Epoch 25/100\n",
      "50/50 [==============================] - 47s - loss: 0.0658 - acc: 0.9800 - val_loss: 0.0828 - val_acc: 0.9763\n",
      "Epoch 26/100\n",
      "50/50 [==============================] - 47s - loss: 0.0573 - acc: 0.9880 - val_loss: 0.1398 - val_acc: 0.9753\n",
      "Epoch 27/100\n",
      "50/50 [==============================] - 47s - loss: 0.1133 - acc: 0.9800 - val_loss: 0.5729 - val_acc: 0.9316\n",
      "Epoch 28/100\n",
      "50/50 [==============================] - 47s - loss: 0.1104 - acc: 0.9860 - val_loss: 0.8472 - val_acc: 0.9368\n",
      "Epoch 29/100\n",
      "50/50 [==============================] - 47s - loss: 0.1321 - acc: 0.9720 - val_loss: 0.1775 - val_acc: 0.9562\n",
      "Epoch 30/100\n",
      "50/50 [==============================] - 47s - loss: 0.0762 - acc: 0.9810 - val_loss: 0.1330 - val_acc: 0.9789\n",
      "Epoch 31/100\n",
      "50/50 [==============================] - 47s - loss: 0.0816 - acc: 0.9860 - val_loss: 0.1130 - val_acc: 0.9763\n",
      "Epoch 32/100\n",
      "50/50 [==============================] - 47s - loss: 0.0478 - acc: 0.9900 - val_loss: 0.2559 - val_acc: 0.9781\n",
      "Epoch 33/100\n",
      "50/50 [==============================] - 47s - loss: 0.0671 - acc: 0.9880 - val_loss: 0.2880 - val_acc: 0.9553\n",
      "Epoch 34/100\n",
      "50/50 [==============================] - 47s - loss: 0.0350 - acc: 0.9890 - val_loss: 0.1260 - val_acc: 0.9763\n",
      "Epoch 35/100\n",
      "50/50 [==============================] - 47s - loss: 0.1237 - acc: 0.9780 - val_loss: 0.2043 - val_acc: 0.9562\n",
      "Epoch 36/100\n",
      "50/50 [==============================] - 47s - loss: 0.0520 - acc: 0.9870 - val_loss: 0.0847 - val_acc: 0.9816\n",
      "Epoch 37/100\n",
      "50/50 [==============================] - 47s - loss: 0.1087 - acc: 0.9870 - val_loss: 0.1876 - val_acc: 0.9553\n",
      "Epoch 38/100\n",
      "50/50 [==============================] - 47s - loss: 0.0726 - acc: 0.9900 - val_loss: 0.1773 - val_acc: 0.9562\n",
      "Epoch 39/100\n",
      "50/50 [==============================] - 47s - loss: 0.0925 - acc: 0.9890 - val_loss: 0.1249 - val_acc: 0.9763\n",
      "Epoch 40/100\n",
      "50/50 [==============================] - 47s - loss: 0.0725 - acc: 0.9870 - val_loss: 0.0446 - val_acc: 0.9763\n",
      "Epoch 41/100\n",
      "50/50 [==============================] - 47s - loss: 0.0392 - acc: 0.9880 - val_loss: 0.1227 - val_acc: 0.9781\n",
      "Epoch 42/100\n",
      "50/50 [==============================] - 47s - loss: 0.0537 - acc: 0.9930 - val_loss: 0.1935 - val_acc: 0.9789\n",
      "Epoch 43/100\n",
      "50/50 [==============================] - 47s - loss: 0.0771 - acc: 0.9880 - val_loss: 0.1802 - val_acc: 0.9579\n",
      "Epoch 44/100\n",
      "50/50 [==============================] - 47s - loss: 0.0961 - acc: 0.9830 - val_loss: 0.1179 - val_acc: 0.9781\n",
      "Epoch 45/100\n",
      "50/50 [==============================] - 47s - loss: 0.0169 - acc: 0.9960 - val_loss: 0.3184 - val_acc: 0.9579\n",
      "Epoch 46/100\n",
      "50/50 [==============================] - 47s - loss: 0.0565 - acc: 0.9850 - val_loss: 0.0587 - val_acc: 0.9763\n",
      "Epoch 47/100\n",
      "50/50 [==============================] - 47s - loss: 0.1017 - acc: 0.9880 - val_loss: 0.1555 - val_acc: 0.9534\n",
      "Epoch 48/100\n",
      "50/50 [==============================] - 47s - loss: 0.1258 - acc: 0.9850 - val_loss: 0.1130 - val_acc: 0.9763\n",
      "Epoch 49/100\n",
      "50/50 [==============================] - 47s - loss: 0.0239 - acc: 0.9940 - val_loss: 0.1450 - val_acc: 0.9553\n",
      "Epoch 50/100\n",
      "50/50 [==============================] - 47s - loss: 0.0083 - acc: 0.9980 - val_loss: 0.0950 - val_acc: 0.9781\n",
      "Epoch 51/100\n",
      "50/50 [==============================] - 47s - loss: 0.1048 - acc: 0.9850 - val_loss: 0.2387 - val_acc: 0.9763\n",
      "Epoch 52/100\n",
      "50/50 [==============================] - 47s - loss: 0.0735 - acc: 0.9880 - val_loss: 0.6364 - val_acc: 0.9289\n",
      "Epoch 53/100\n",
      "50/50 [==============================] - 47s - loss: 0.0681 - acc: 0.9870 - val_loss: 0.1253 - val_acc: 0.9781\n",
      "Epoch 54/100\n",
      "50/50 [==============================] - 47s - loss: 0.0182 - acc: 0.9980 - val_loss: 0.1091 - val_acc: 0.9789\n",
      "Epoch 55/100\n",
      "50/50 [==============================] - 47s - loss: 0.0695 - acc: 0.9860 - val_loss: 0.1512 - val_acc: 0.9789\n",
      "Epoch 56/100\n",
      "50/50 [==============================] - 47s - loss: 0.0438 - acc: 0.9920 - val_loss: 0.2707 - val_acc: 0.9781\n",
      "Epoch 57/100\n",
      "50/50 [==============================] - 47s - loss: 0.1718 - acc: 0.9800 - val_loss: 0.0647 - val_acc: 0.9789\n",
      "Epoch 58/100\n",
      "50/50 [==============================] - 47s - loss: 0.0097 - acc: 0.9960 - val_loss: 0.1787 - val_acc: 0.9789\n",
      "Epoch 59/100\n",
      "50/50 [==============================] - 47s - loss: 0.0985 - acc: 0.9860 - val_loss: 0.0747 - val_acc: 0.9781\n",
      "Epoch 60/100\n",
      "50/50 [==============================] - 47s - loss: 0.0558 - acc: 0.9900 - val_loss: 0.1327 - val_acc: 0.9789\n",
      "Epoch 61/100\n",
      "50/50 [==============================] - 47s - loss: 0.1060 - acc: 0.9820 - val_loss: 0.1037 - val_acc: 0.9789\n",
      "Epoch 62/100\n",
      "50/50 [==============================] - 47s - loss: 0.0617 - acc: 0.9910 - val_loss: 0.2655 - val_acc: 0.9781\n",
      "Epoch 63/100\n",
      "50/50 [==============================] - 47s - loss: 0.0376 - acc: 0.9950 - val_loss: 0.1365 - val_acc: 0.9579\n",
      "Epoch 64/100\n",
      "50/50 [==============================] - 47s - loss: 0.0681 - acc: 0.9920 - val_loss: 0.3014 - val_acc: 0.9763\n",
      "Epoch 65/100\n",
      "50/50 [==============================] - 47s - loss: 0.0438 - acc: 0.9930 - val_loss: 0.1397 - val_acc: 0.9781\n",
      "Epoch 66/100\n",
      "50/50 [==============================] - 47s - loss: 0.0364 - acc: 0.9950 - val_loss: 0.1537 - val_acc: 0.9763\n",
      "Epoch 67/100\n"
     ]
    },
    {
     "name": "stdout",
     "output_type": "stream",
     "text": [
      "50/50 [==============================] - 47s - loss: 0.0595 - acc: 0.9890 - val_loss: 0.1069 - val_acc: 0.9763\n",
      "Epoch 68/100\n",
      "50/50 [==============================] - 47s - loss: 0.0183 - acc: 0.9940 - val_loss: 0.0469 - val_acc: 0.9781\n",
      "Epoch 69/100\n",
      "50/50 [==============================] - 47s - loss: 0.0511 - acc: 0.9950 - val_loss: 0.2970 - val_acc: 0.9763\n",
      "Epoch 70/100\n",
      "50/50 [==============================] - 47s - loss: 0.0884 - acc: 0.9920 - val_loss: 0.2089 - val_acc: 0.9526\n",
      "Epoch 71/100\n",
      "50/50 [==============================] - 47s - loss: 0.1406 - acc: 0.9790 - val_loss: 0.1457 - val_acc: 0.9781\n",
      "Epoch 72/100\n",
      "50/50 [==============================] - 47s - loss: 0.0361 - acc: 0.9970 - val_loss: 0.2703 - val_acc: 0.9763\n",
      "Epoch 73/100\n",
      "50/50 [==============================] - 47s - loss: 0.0599 - acc: 0.9960 - val_loss: 0.7239 - val_acc: 0.9342\n",
      "Epoch 74/100\n",
      "50/50 [==============================] - 47s - loss: 0.0689 - acc: 0.9920 - val_loss: 0.1571 - val_acc: 0.9781\n",
      "Epoch 75/100\n",
      "50/50 [==============================] - 47s - loss: 0.1098 - acc: 0.9860 - val_loss: 0.3064 - val_acc: 0.9789\n",
      "Epoch 76/100\n",
      "50/50 [==============================] - 47s - loss: 0.0637 - acc: 0.9910 - val_loss: 0.1219 - val_acc: 0.9789\n",
      "Epoch 77/100\n",
      "50/50 [==============================] - 47s - loss: 0.0176 - acc: 0.9950 - val_loss: 0.2697 - val_acc: 0.9781\n",
      "Epoch 78/100\n",
      "50/50 [==============================] - 47s - loss: 0.0472 - acc: 0.9910 - val_loss: 0.1846 - val_acc: 0.9763\n",
      "Epoch 79/100\n",
      "50/50 [==============================] - 47s - loss: 0.1028 - acc: 0.9900 - val_loss: 0.2414 - val_acc: 0.9526\n",
      "Epoch 80/100\n",
      "50/50 [==============================] - 47s - loss: 0.0842 - acc: 0.9930 - val_loss: 0.2969 - val_acc: 0.9781\n",
      "Epoch 81/100\n",
      "50/50 [==============================] - 47s - loss: 0.1225 - acc: 0.9880 - val_loss: 0.2839 - val_acc: 0.9789\n",
      "Epoch 82/100\n",
      "50/50 [==============================] - 47s - loss: 0.0395 - acc: 0.9960 - val_loss: 0.3776 - val_acc: 0.9763\n",
      "Epoch 83/100\n",
      "50/50 [==============================] - 47s - loss: 0.0750 - acc: 0.9900 - val_loss: 0.2757 - val_acc: 0.9781\n",
      "Epoch 84/100\n",
      "50/50 [==============================] - 47s - loss: 0.0247 - acc: 0.9940 - val_loss: 0.2516 - val_acc: 0.9605\n",
      "Epoch 85/100\n",
      "50/50 [==============================] - 47s - loss: 0.0298 - acc: 0.9930 - val_loss: 0.2498 - val_acc: 0.9763\n",
      "Epoch 86/100\n",
      "50/50 [==============================] - 47s - loss: 0.0378 - acc: 0.9930 - val_loss: 0.2233 - val_acc: 0.9562\n",
      "Epoch 87/100\n",
      "50/50 [==============================] - 47s - loss: 0.0843 - acc: 0.9880 - val_loss: 0.1114 - val_acc: 0.9632\n",
      "Epoch 88/100\n",
      "50/50 [==============================] - 47s - loss: 0.0894 - acc: 0.9910 - val_loss: 0.1596 - val_acc: 0.9789\n",
      "Epoch 89/100\n",
      "50/50 [==============================] - 47s - loss: 0.0175 - acc: 0.9980 - val_loss: 0.1677 - val_acc: 0.9781\n",
      "Epoch 90/100\n",
      "50/50 [==============================] - 47s - loss: 8.6229e-04 - acc: 1.0000 - val_loss: 0.3356 - val_acc: 0.9789\n",
      "Epoch 91/100\n",
      "50/50 [==============================] - 47s - loss: 0.0901 - acc: 0.9910 - val_loss: 0.2231 - val_acc: 0.9553\n",
      "Epoch 92/100\n",
      "50/50 [==============================] - 47s - loss: 0.0800 - acc: 0.9930 - val_loss: 0.2970 - val_acc: 0.9781\n",
      "Epoch 93/100\n",
      "50/50 [==============================] - 47s - loss: 0.0315 - acc: 0.9970 - val_loss: 0.6335 - val_acc: 0.9579\n",
      "Epoch 94/100\n",
      "50/50 [==============================] - 47s - loss: 0.0283 - acc: 0.9970 - val_loss: 0.2831 - val_acc: 0.9579\n",
      "Epoch 95/100\n",
      "50/50 [==============================] - 47s - loss: 0.0967 - acc: 0.9880 - val_loss: 0.1134 - val_acc: 0.9781\n",
      "Epoch 96/100\n",
      "50/50 [==============================] - 47s - loss: 0.0145 - acc: 0.9960 - val_loss: 0.1514 - val_acc: 0.9789\n",
      "Epoch 97/100\n",
      "50/50 [==============================] - 47s - loss: 0.0615 - acc: 0.9900 - val_loss: 0.0933 - val_acc: 0.9789\n",
      "Epoch 98/100\n",
      "50/50 [==============================] - 47s - loss: 0.0231 - acc: 0.9970 - val_loss: 0.4836 - val_acc: 0.9534\n",
      "Epoch 99/100\n",
      "50/50 [==============================] - 47s - loss: 0.0916 - acc: 0.9930 - val_loss: 0.2716 - val_acc: 0.9789\n",
      "Epoch 100/100\n",
      "50/50 [==============================] - 47s - loss: 0.0319 - acc: 0.9960 - val_loss: 0.4919 - val_acc: 0.9553\n"
     ]
    }
   ],
   "source": [
    "history = model.fit_generator(train_generator,\n",
    "                    steps_per_epoch=50,\n",
    "                    epochs=100,  \n",
    "                    validation_data=validation_generator,\n",
    "                   validation_steps = 25)"
   ]
  },
  {
   "cell_type": "code",
   "execution_count": 11,
   "metadata": {
    "scrolled": false
   },
   "outputs": [
    {
     "name": "stdout",
     "output_type": "stream",
     "text": [
      "dict_keys(['val_loss', 'val_acc', 'loss', 'acc'])\n"
     ]
    }
   ],
   "source": [
    "history_dict = history.history\n",
    "print(history_dict.keys())\n",
    "\n",
    "model.save('damage_undamaged_conv3_3_vgg.h5')"
   ]
  },
  {
   "cell_type": "code",
   "execution_count": 12,
   "metadata": {},
   "outputs": [
    {
     "data": {
      "image/png": "[encoded data removed]",
      "text/plain": [
       "<matplotlib.figure.Figure at 0x7f7fa67074a8>"
      ]
     },
     "metadata": {},
     "output_type": "display_data"
    },
    {
     "data": {
      "image/png": "[encoded data removed]",
      "text/plain": [
       "<matplotlib.figure.Figure at 0x7f7fa065f0b8>"
      ]
     },
     "metadata": {},
     "output_type": "display_data"
    }
   ],
   "source": [
    "#Displaying curves of loss and accuracy during training \n",
    "\n",
    "import matplotlib.pyplot as plt\n",
    "acc = history.history['acc']\n",
    "val_acc = history.history['val_acc']\n",
    "loss = history.history['loss']\n",
    "val_loss = history.history['val_loss']\n",
    "\n",
    "epochs = range(len(acc))\n",
    "\n",
    "plt.plot(epochs, acc, 'bo')#dots\n",
    "plt.plot(epochs, val_acc, 'b')#line segments\n",
    "plt.title('Training and validation accuracy with VGG16 +fine tuning the conv block 5')\n",
    "plt.figure()\n",
    "\n",
    "plt.plot(epochs, loss, 'bo')\n",
    "plt.plot(epochs, val_loss, 'b')\n",
    "plt.title('Training and validation loss with VGG16 + fine tuning the conv block 5')\n",
    "plt.show()"
   ]
  },
  {
   "cell_type": "code",
   "execution_count": null,
   "metadata": {
    "collapsed": true
   },
   "outputs": [],
   "source": []
  },
  {
   "cell_type": "code",
   "execution_count": null,
   "metadata": {
    "collapsed": true
   },
   "outputs": [],
   "source": []
  },
  {
   "cell_type": "code",
   "execution_count": null,
   "metadata": {
    "collapsed": true
   },
   "outputs": [],
   "source": []
  }
 ],
 "metadata": {
  "kernelspec": {
   "display_name": "Python 3",
   "language": "python",
   "name": "python3"
  },
  "language_info": {
   "codemirror_mode": {
    "name": "ipython",
    "version": 3
   },
   "file_extension": ".py",
   "mimetype": "text/x-python",
   "name": "python",
   "nbconvert_exporter": "python",
   "pygments_lexer": "ipython3",
   "version": "3.6.1"
  }
 },
 "nbformat": 4,
 "nbformat_minor": 2
}
