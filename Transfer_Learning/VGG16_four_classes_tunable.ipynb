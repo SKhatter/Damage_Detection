{
 "cells": [
  {
   "cell_type": "code",
   "execution_count": 1,
   "metadata": {
    "collapsed": true
   },
   "outputs": [],
   "source": [
    "import os, shutil"
   ]
  },
  {
   "cell_type": "code",
   "execution_count": 2,
   "metadata": {
    "collapsed": true
   },
   "outputs": [],
   "source": [
    "base_dir = '/home/skhatter/rooftop_damage_data/'\n",
    "train_dir = '/home/skhatter/rooftop_damage_data/train'\n",
    "valid_dir = '/home/skhatter/rooftop_damage_data/val'\n",
    "test_dir = '/home/skhatter/rooftop_damage_data/test'\n",
    "\n",
    "\n",
    "train_dam_dir = '/home/skhatter/rooftop_damage_data/train/damaged'\n",
    "train_undam_dir = '/home/skhatter/rooftop_damage_data/train/undamaged'\n",
    "train_obj_dir = '/home/skhatter/rooftop_damage_data/train/object' \n",
    "train_notroof_dir = '/home/skhatter/rooftop_damage_data/train/notroof'\n",
    "\n",
    "valid_dam_dir = '/home/skhatter/rooftop_damage_data/val/damaged'\n",
    "valid_undam_dir = '/home/skhatter/rooftop_damage_data/val/undamaged'\n",
    "valid_obj_dir = '/home/skhatter/rooftop_damage_data/val/object'\n",
    "valid_notroof_dir = '/home/skhatter/rooftop_damage_data/val/notroof'"
   ]
  },
  {
   "cell_type": "code",
   "execution_count": 3,
   "metadata": {},
   "outputs": [
    {
     "name": "stdout",
     "output_type": "stream",
     "text": [
      "Total training damaged images 27914\n",
      "Total training undamaged images 38020\n",
      "Total training object images 3668\n",
      "Total training not-roof images 34536\n",
      "Total validation damaged images 99\n",
      "Total validation undamaged images 163\n",
      "Total validation object images 9\n",
      "Total validation notroof images 173\n",
      "Total test damaged images 10\n"
     ]
    }
   ],
   "source": [
    "print('Total training damaged images', len(os.listdir(train_dam_dir)))\n",
    "print('Total training undamaged images', len(os.listdir(train_undam_dir)))\n",
    "print('Total training object images', len(os.listdir(train_obj_dir)))\n",
    "print('Total training not-roof images', len(os.listdir(train_notroof_dir)))\n",
    "\n",
    "\n",
    "print('Total validation damaged images', len(os.listdir(valid_dam_dir)))\n",
    "print('Total validation undamaged images', len(os.listdir(valid_undam_dir)))\n",
    "print('Total validation object images', len(os.listdir(valid_obj_dir)))\n",
    "print('Total validation notroof images', len(os.listdir(valid_notroof_dir)))\n",
    "\n",
    "\n",
    "print('Total test damaged images', len(os.listdir(test_dir)))"
   ]
  },
  {
   "cell_type": "code",
   "execution_count": 4,
   "metadata": {},
   "outputs": [
    {
     "name": "stderr",
     "output_type": "stream",
     "text": [
      "Using TensorFlow backend.\n"
     ]
    }
   ],
   "source": [
    "from keras import layers\n",
    "from keras import models\n",
    "from keras.applications import VGG16"
   ]
  },
  {
   "cell_type": "code",
   "execution_count": 5,
   "metadata": {
    "scrolled": false
   },
   "outputs": [
    {
     "name": "stdout",
     "output_type": "stream",
     "text": [
      "_________________________________________________________________\n",
      "Layer (type)                 Output Shape              Param #   \n",
      "=================================================================\n",
      "input_1 (InputLayer)         (None, 512, 512, 3)       0         \n",
      "_________________________________________________________________\n",
      "block1_conv1 (Conv2D)        (None, 512, 512, 64)      1792      \n",
      "_________________________________________________________________\n",
      "block1_conv2 (Conv2D)        (None, 512, 512, 64)      36928     \n",
      "_________________________________________________________________\n",
      "block1_pool (MaxPooling2D)   (None, 256, 256, 64)      0         \n",
      "_________________________________________________________________\n",
      "block2_conv1 (Conv2D)        (None, 256, 256, 128)     73856     \n",
      "_________________________________________________________________\n",
      "block2_conv2 (Conv2D)        (None, 256, 256, 128)     147584    \n",
      "_________________________________________________________________\n",
      "block2_pool (MaxPooling2D)   (None, 128, 128, 128)     0         \n",
      "_________________________________________________________________\n",
      "block3_conv1 (Conv2D)        (None, 128, 128, 256)     295168    \n",
      "_________________________________________________________________\n",
      "block3_conv2 (Conv2D)        (None, 128, 128, 256)     590080    \n",
      "_________________________________________________________________\n",
      "block3_conv3 (Conv2D)        (None, 128, 128, 256)     590080    \n",
      "_________________________________________________________________\n",
      "block3_pool (MaxPooling2D)   (None, 64, 64, 256)       0         \n",
      "_________________________________________________________________\n",
      "block4_conv1 (Conv2D)        (None, 64, 64, 512)       1180160   \n",
      "_________________________________________________________________\n",
      "block4_conv2 (Conv2D)        (None, 64, 64, 512)       2359808   \n",
      "_________________________________________________________________\n",
      "block4_conv3 (Conv2D)        (None, 64, 64, 512)       2359808   \n",
      "_________________________________________________________________\n",
      "block4_pool (MaxPooling2D)   (None, 32, 32, 512)       0         \n",
      "_________________________________________________________________\n",
      "block5_conv1 (Conv2D)        (None, 32, 32, 512)       2359808   \n",
      "_________________________________________________________________\n",
      "block5_conv2 (Conv2D)        (None, 32, 32, 512)       2359808   \n",
      "_________________________________________________________________\n",
      "block5_conv3 (Conv2D)        (None, 32, 32, 512)       2359808   \n",
      "_________________________________________________________________\n",
      "block5_pool (MaxPooling2D)   (None, 16, 16, 512)       0         \n",
      "=================================================================\n",
      "Total params: 14,714,688\n",
      "Trainable params: 14,714,688\n",
      "Non-trainable params: 0\n",
      "_________________________________________________________________\n"
     ]
    }
   ],
   "source": [
    "conv_base = VGG16(weights = 'imagenet', include_top = False, input_shape=(512, 512, 3))\n",
    "conv_base.summary()"
   ]
  },
  {
   "cell_type": "code",
   "execution_count": 6,
   "metadata": {},
   "outputs": [],
   "source": [
    "from keras import models\n",
    "from keras import layers\n",
    "from keras import optimizers\n",
    "\n",
    "model = models.Sequential()\n",
    "model.add(conv_base)\n",
    "model.add(layers.Flatten())\n",
    "model.add(layers.Dense(256, activation='relu'))\n",
    "model.add(layers.Dropout(0.5))\n",
    "model.add(layers.Dense(4, activation='sigmoid'))"
   ]
  },
  {
   "cell_type": "code",
   "execution_count": 7,
   "metadata": {
    "collapsed": true
   },
   "outputs": [],
   "source": [
    "conv_base.trainable = True\n",
    "set_trainable = False\n",
    "\n",
    "for layer in conv_base.layers:\n",
    "    if layer.name == 'block5_conv1':\n",
    "        set_trainable = True\n",
    "    if set_trainable:\n",
    "        layer.trainable = True\n",
    "    else:\n",
    "        layer.trainable = False"
   ]
  },
  {
   "cell_type": "code",
   "execution_count": 8,
   "metadata": {},
   "outputs": [
    {
     "name": "stdout",
     "output_type": "stream",
     "text": [
      "_________________________________________________________________\n",
      "Layer (type)                 Output Shape              Param #   \n",
      "=================================================================\n",
      "vgg16 (Model)                (None, 16, 16, 512)       14714688  \n",
      "_________________________________________________________________\n",
      "flatten_1 (Flatten)          (None, 131072)            0         \n",
      "_________________________________________________________________\n",
      "dense_1 (Dense)              (None, 256)               33554688  \n",
      "_________________________________________________________________\n",
      "dropout_1 (Dropout)          (None, 256)               0         \n",
      "_________________________________________________________________\n",
      "dense_2 (Dense)              (None, 4)                 1028      \n",
      "=================================================================\n",
      "Total params: 48,270,404\n",
      "Trainable params: 40,635,140\n",
      "Non-trainable params: 7,635,264\n",
      "_________________________________________________________________\n"
     ]
    }
   ],
   "source": [
    "model.compile(optimizer=optimizers.RMSprop(lr=1e-4),\n",
    "             loss='binary_crossentropy',\n",
    "             metrics=['acc'])\n",
    "model.summary()"
   ]
  },
  {
   "cell_type": "code",
   "execution_count": 9,
   "metadata": {},
   "outputs": [
    {
     "name": "stdout",
     "output_type": "stream",
     "text": [
      "Found 104138 images belonging to 4 classes.\n",
      "Found 444 images belonging to 4 classes.\n"
     ]
    }
   ],
   "source": [
    "from keras.preprocessing.image import ImageDataGenerator\n",
    "\n",
    "datagen = ImageDataGenerator(rescale = 1./255)\n",
    "\n",
    "\n",
    "train_generator = datagen.flow_from_directory(train_dir,\n",
    "                                             target_size = (512, 512), \n",
    "                                              batch_size = 20,\n",
    "                                              class_mode = 'categorical')\n",
    "\n",
    "\n",
    "validation_generator = datagen.flow_from_directory(valid_dir,\n",
    "                                             target_size = (512, 512), \n",
    "                                              batch_size = 20,\n",
    "                                              class_mode = 'categorical')\n",
    "                                              "
   ]
  },
  {
   "cell_type": "code",
   "execution_count": 10,
   "metadata": {
    "scrolled": false
   },
   "outputs": [
    {
     "name": "stdout",
     "output_type": "stream",
     "text": [
      "Epoch 1/50\n",
      "50/50 [==============================] - 53s - loss: 0.4332 - acc: 0.8030 - val_loss: 0.2978 - val_acc: 0.8559\n",
      "Epoch 2/50\n",
      "50/50 [==============================] - 51s - loss: 0.2623 - acc: 0.8885 - val_loss: 0.3119 - val_acc: 0.8466\n",
      "Epoch 3/50\n",
      "50/50 [==============================] - 51s - loss: 0.2155 - acc: 0.9130 - val_loss: 0.3141 - val_acc: 0.8796\n",
      "Epoch 4/50\n",
      "50/50 [==============================] - 51s - loss: 0.1685 - acc: 0.9375 - val_loss: 0.1258 - val_acc: 0.9463\n",
      "Epoch 5/50\n",
      "50/50 [==============================] - 51s - loss: 0.1676 - acc: 0.9450 - val_loss: 0.1491 - val_acc: 0.9396\n",
      "Epoch 6/50\n",
      "50/50 [==============================] - 51s - loss: 0.1206 - acc: 0.9575 - val_loss: 0.1607 - val_acc: 0.9251\n",
      "Epoch 7/50\n",
      "50/50 [==============================] - 51s - loss: 0.1442 - acc: 0.9553 - val_loss: 0.1630 - val_acc: 0.9463\n",
      "Epoch 8/50\n",
      "50/50 [==============================] - 51s - loss: 0.1346 - acc: 0.9555 - val_loss: 0.4305 - val_acc: 0.8765\n",
      "Epoch 9/50\n",
      "50/50 [==============================] - 51s - loss: 0.1217 - acc: 0.9593 - val_loss: 0.6160 - val_acc: 0.8409\n",
      "Epoch 10/50\n",
      "50/50 [==============================] - 51s - loss: 0.1195 - acc: 0.9598 - val_loss: 0.2244 - val_acc: 0.9344\n",
      "Epoch 11/50\n",
      "50/50 [==============================] - 51s - loss: 0.1044 - acc: 0.9653 - val_loss: 0.4212 - val_acc: 0.8972\n",
      "Epoch 12/50\n",
      "50/50 [==============================] - 51s - loss: 0.1105 - acc: 0.9663 - val_loss: 0.1487 - val_acc: 0.9675\n",
      "Epoch 13/50\n",
      "50/50 [==============================] - 51s - loss: 0.1268 - acc: 0.9655 - val_loss: 0.0660 - val_acc: 0.9773\n",
      "Epoch 14/50\n",
      "50/50 [==============================] - 51s - loss: 0.1235 - acc: 0.9595 - val_loss: 0.2701 - val_acc: 0.9215\n",
      "Epoch 15/50\n",
      "50/50 [==============================] - 51s - loss: 0.0901 - acc: 0.9733 - val_loss: 0.0507 - val_acc: 0.9850\n",
      "Epoch 16/50\n",
      "50/50 [==============================] - 51s - loss: 0.1010 - acc: 0.9653 - val_loss: 0.1132 - val_acc: 0.9737\n",
      "Epoch 17/50\n",
      "50/50 [==============================] - 51s - loss: 0.0922 - acc: 0.9700 - val_loss: 0.0298 - val_acc: 0.9917\n",
      "Epoch 18/50\n",
      "50/50 [==============================] - 51s - loss: 0.0943 - acc: 0.9718 - val_loss: 0.1340 - val_acc: 0.9633\n",
      "Epoch 19/50\n",
      "50/50 [==============================] - 51s - loss: 0.0916 - acc: 0.9733 - val_loss: 0.0397 - val_acc: 0.9876\n",
      "Epoch 20/50\n",
      "50/50 [==============================] - 50s - loss: 0.0963 - acc: 0.9738 - val_loss: 0.0378 - val_acc: 0.9920\n",
      "Epoch 21/50\n",
      "50/50 [==============================] - 51s - loss: 0.1055 - acc: 0.9725 - val_loss: 0.1649 - val_acc: 0.9360\n",
      "Epoch 22/50\n",
      "50/50 [==============================] - 50s - loss: 0.0707 - acc: 0.9760 - val_loss: 0.0293 - val_acc: 0.9936\n",
      "Epoch 23/50\n",
      "50/50 [==============================] - 51s - loss: 0.0906 - acc: 0.9758 - val_loss: 0.2791 - val_acc: 0.9406\n",
      "Epoch 24/50\n",
      "50/50 [==============================] - 51s - loss: 0.0923 - acc: 0.9750 - val_loss: 0.0274 - val_acc: 0.9928\n",
      "Epoch 25/50\n",
      "50/50 [==============================] - 51s - loss: 0.1070 - acc: 0.9740 - val_loss: 0.2221 - val_acc: 0.9618\n",
      "Epoch 26/50\n",
      "50/50 [==============================] - 51s - loss: 0.1180 - acc: 0.9680 - val_loss: 0.2079 - val_acc: 0.9396\n",
      "Epoch 27/50\n",
      "50/50 [==============================] - 51s - loss: 0.0841 - acc: 0.9710 - val_loss: 0.1650 - val_acc: 0.9339\n",
      "Epoch 28/50\n",
      "50/50 [==============================] - 51s - loss: 0.0855 - acc: 0.9760 - val_loss: 0.1177 - val_acc: 0.9649\n",
      "Epoch 29/50\n",
      "50/50 [==============================] - 51s - loss: 0.0717 - acc: 0.9830 - val_loss: 0.0280 - val_acc: 0.9933\n",
      "Epoch 30/50\n",
      "50/50 [==============================] - 51s - loss: 0.0754 - acc: 0.9750 - val_loss: 0.1767 - val_acc: 0.9421\n",
      "Epoch 31/50\n",
      "50/50 [==============================] - 51s - loss: 0.0725 - acc: 0.9825 - val_loss: 0.0633 - val_acc: 0.9830\n",
      "Epoch 32/50\n",
      "50/50 [==============================] - 51s - loss: 0.0863 - acc: 0.9775 - val_loss: 0.3941 - val_acc: 0.9365\n",
      "Epoch 33/50\n",
      "50/50 [==============================] - 51s - loss: 0.1098 - acc: 0.9750 - val_loss: 0.1118 - val_acc: 0.9659\n",
      "Epoch 34/50\n",
      "50/50 [==============================] - 51s - loss: 0.0872 - acc: 0.9730 - val_loss: 0.1438 - val_acc: 0.9623\n",
      "Epoch 35/50\n",
      "50/50 [==============================] - 51s - loss: 0.0696 - acc: 0.9815 - val_loss: 0.3303 - val_acc: 0.9163\n",
      "Epoch 36/50\n",
      "50/50 [==============================] - 51s - loss: 0.0993 - acc: 0.9723 - val_loss: 0.1662 - val_acc: 0.9582\n",
      "Epoch 37/50\n",
      "50/50 [==============================] - 51s - loss: 0.0892 - acc: 0.9773 - val_loss: 0.2473 - val_acc: 0.9540\n",
      "Epoch 38/50\n",
      "50/50 [==============================] - 51s - loss: 0.0725 - acc: 0.9798 - val_loss: 0.1327 - val_acc: 0.9571\n",
      "Epoch 39/50\n",
      "50/50 [==============================] - 51s - loss: 0.0915 - acc: 0.9755 - val_loss: 0.3814 - val_acc: 0.9210\n",
      "Epoch 40/50\n",
      "50/50 [==============================] - 51s - loss: 0.0843 - acc: 0.9780 - val_loss: 0.0481 - val_acc: 0.9850\n",
      "Epoch 41/50\n",
      "50/50 [==============================] - 51s - loss: 0.0670 - acc: 0.9793 - val_loss: 0.0360 - val_acc: 0.9881\n",
      "Epoch 42/50\n",
      "50/50 [==============================] - 51s - loss: 0.0758 - acc: 0.9798 - val_loss: 0.3476 - val_acc: 0.9406\n",
      "Epoch 43/50\n",
      "50/50 [==============================] - 50s - loss: 0.0806 - acc: 0.9788 - val_loss: 0.6331 - val_acc: 0.9135\n",
      "Epoch 44/50\n",
      "50/50 [==============================] - 51s - loss: 0.0629 - acc: 0.9828 - val_loss: 0.0419 - val_acc: 0.9886\n",
      "Epoch 45/50\n",
      "50/50 [==============================] - 50s - loss: 0.0850 - acc: 0.9765 - val_loss: 0.1214 - val_acc: 0.9733\n",
      "Epoch 46/50\n",
      "50/50 [==============================] - 51s - loss: 0.0574 - acc: 0.9840 - val_loss: 0.0291 - val_acc: 0.9897\n",
      "Epoch 47/50\n",
      "50/50 [==============================] - 51s - loss: 0.0787 - acc: 0.9775 - val_loss: 0.1258 - val_acc: 0.9762\n",
      "Epoch 48/50\n",
      "50/50 [==============================] - 51s - loss: 0.0789 - acc: 0.9815 - val_loss: 0.2147 - val_acc: 0.9468\n",
      "Epoch 49/50\n",
      "50/50 [==============================] - 51s - loss: 0.0602 - acc: 0.9833 - val_loss: 0.0583 - val_acc: 0.9917\n",
      "Epoch 50/50\n",
      "50/50 [==============================] - 51s - loss: 0.0897 - acc: 0.9820 - val_loss: 0.0285 - val_acc: 0.9912\n"
     ]
    }
   ],
   "source": [
    "history = model.fit_generator(train_generator,\n",
    "                    steps_per_epoch=50,\n",
    "                    epochs=50,  \n",
    "                    validation_data=validation_generator,\n",
    "                   validation_steps = 25)"
   ]
  },
  {
   "cell_type": "code",
   "execution_count": 13,
   "metadata": {
    "scrolled": false
   },
   "outputs": [
    {
     "name": "stdout",
     "output_type": "stream",
     "text": [
      "dict_keys(['val_loss', 'val_acc', 'loss', 'acc'])\n"
     ]
    }
   ],
   "source": [
    "history_dict = history.history\n",
    "print(history_dict.keys())\n",
    "\n",
    "#model.save('damage_undamaged_conv3_4_vgg.h5')"
   ]
  },
  {
   "cell_type": "code",
   "execution_count": 14,
   "metadata": {},
   "outputs": [
    {
     "data": {
      "image/png": "[encoded data removed]",
      "text/plain": [
       "<matplotlib.figure.Figure at 0x7f11239440b8>"
      ]
     },
     "metadata": {},
     "output_type": "display_data"
    },
    {
     "data": {
      "image/png": "[encoded data removed]",
      "text/plain": [
       "<matplotlib.figure.Figure at 0x7f10c93bb4e0>"
      ]
     },
     "metadata": {},
     "output_type": "display_data"
    }
   ],
   "source": [
    "#Displaying curves of loss and accuracy during training \n",
    "\n",
    "import matplotlib.pyplot as plt\n",
    "acc = history.history['acc']\n",
    "val_acc = history.history['val_acc']\n",
    "loss = history.history['loss']\n",
    "val_loss = history.history['val_loss']\n",
    "\n",
    "epochs = range(len(acc))\n",
    "\n",
    "plt.plot(epochs, acc, 'bo')#dots\n",
    "plt.plot(epochs, val_acc, 'b')#line segments\n",
    "plt.title('Training and validation accuracy with VGG16 of 4 classes with fine tuning the conv block 5')\n",
    "plt.figure()\n",
    "\n",
    "plt.plot(epochs, loss, 'bo')\n",
    "plt.plot(epochs, val_loss, 'b')\n",
    "plt.title('Training and validation loss with VGG16 of 4 classes with fine tuning the conv block 5')\n",
    "plt.show()"
   ]
  },
  {
   "cell_type": "code",
   "execution_count": null,
   "metadata": {
    "collapsed": true
   },
   "outputs": [],
   "source": []
  }
 ],
 "metadata": {
  "kernelspec": {
   "display_name": "Python 3",
   "language": "python",
   "name": "python3"
  },
  "language_info": {
   "codemirror_mode": {
    "name": "ipython",
    "version": 3
   },
   "file_extension": ".py",
   "mimetype": "text/x-python",
   "name": "python",
   "nbconvert_exporter": "python",
   "pygments_lexer": "ipython3",
   "version": "3.6.1"
  }
 },
 "nbformat": 4,
 "nbformat_minor": 2
}
