{
 "cells": [
  {
   "cell_type": "code",
   "execution_count": 1,
   "metadata": {
    "collapsed": true
   },
   "outputs": [],
   "source": [
    "import os, shutil"
   ]
  },
  {
   "cell_type": "code",
   "execution_count": 2,
   "metadata": {
    "collapsed": true
   },
   "outputs": [],
   "source": [
    "base_dir = '/home/skhatter/rooftop_damage_data/'\n",
    "train_dir = '/home/skhatter/rooftop_damage_data/train'\n",
    "valid_dir = '/home/skhatter/rooftop_damage_data/val'\n",
    "test_dir = '/home/skhatter/rooftop_damage_data/test'\n",
    "\n",
    "\n",
    "train_dam_dir = '/home/skhatter/rooftop_damage_data/train/wind_damaged'\n",
    "train_undam_dir = '/home/skhatter/rooftop_damage_data/train/undamaged'\n",
    "train_obj_dir = '/home/skhatter/rooftop_damage_data/train/object' \n",
    "train_notroof_dir = '/home/skhatter/rooftop_damage_data/train/not_roof'\n",
    "\n",
    "valid_dam_dir = '/home/skhatter/rooftop_damage_data/val/wind_damaged'\n",
    "valid_undam_dir = '/home/skhatter/rooftop_damage_data/val/undamaged'\n",
    "valid_obj_dir = '/home/skhatter/rooftop_damage_data/val/object'\n",
    "valid_notroof_dir = '/home/skhatter/rooftop_damage_data/val/not_roof'"
   ]
  },
  {
   "cell_type": "code",
   "execution_count": 3,
   "metadata": {},
   "outputs": [
    {
     "name": "stdout",
     "output_type": "stream",
     "text": [
      "Total training damaged images 27914\n",
      "Total training undamaged images 38020\n",
      "Total training object images 3668\n",
      "Total training not-roof images 34536\n",
      "Total validation damaged images 99\n",
      "Total validation undamaged images 163\n",
      "Total validation object images 9\n",
      "Total validation notroof images 173\n",
      "Total test damaged images 10\n"
     ]
    }
   ],
   "source": [
    "print('Total training damaged images', len(os.listdir(train_dam_dir)))\n",
    "print('Total training undamaged images', len(os.listdir(train_undam_dir)))\n",
    "print('Total training object images', len(os.listdir(train_obj_dir)))\n",
    "print('Total training not-roof images', len(os.listdir(train_notroof_dir)))\n",
    "\n",
    "\n",
    "print('Total validation damaged images', len(os.listdir(valid_dam_dir)))\n",
    "print('Total validation undamaged images', len(os.listdir(valid_undam_dir)))\n",
    "print('Total validation object images', len(os.listdir(valid_obj_dir)))\n",
    "print('Total validation notroof images', len(os.listdir(valid_notroof_dir)))\n",
    "\n",
    "\n",
    "print('Total test damaged images', len(os.listdir(test_dir)))"
   ]
  },
  {
   "cell_type": "code",
   "execution_count": 4,
   "metadata": {},
   "outputs": [
    {
     "name": "stderr",
     "output_type": "stream",
     "text": [
      "Using TensorFlow backend.\n"
     ]
    }
   ],
   "source": [
    "from keras import layers\n",
    "from keras import models\n",
    "from keras.applications import VGG16"
   ]
  },
  {
   "cell_type": "code",
   "execution_count": 5,
   "metadata": {
    "scrolled": false
   },
   "outputs": [
    {
     "name": "stdout",
     "output_type": "stream",
     "text": [
      "_________________________________________________________________\n",
      "Layer (type)                 Output Shape              Param #   \n",
      "=================================================================\n",
      "input_1 (InputLayer)         (None, 512, 512, 3)       0         \n",
      "_________________________________________________________________\n",
      "block1_conv1 (Conv2D)        (None, 512, 512, 64)      1792      \n",
      "_________________________________________________________________\n",
      "block1_conv2 (Conv2D)        (None, 512, 512, 64)      36928     \n",
      "_________________________________________________________________\n",
      "block1_pool (MaxPooling2D)   (None, 256, 256, 64)      0         \n",
      "_________________________________________________________________\n",
      "block2_conv1 (Conv2D)        (None, 256, 256, 128)     73856     \n",
      "_________________________________________________________________\n",
      "block2_conv2 (Conv2D)        (None, 256, 256, 128)     147584    \n",
      "_________________________________________________________________\n",
      "block2_pool (MaxPooling2D)   (None, 128, 128, 128)     0         \n",
      "_________________________________________________________________\n",
      "block3_conv1 (Conv2D)        (None, 128, 128, 256)     295168    \n",
      "_________________________________________________________________\n",
      "block3_conv2 (Conv2D)        (None, 128, 128, 256)     590080    \n",
      "_________________________________________________________________\n",
      "block3_conv3 (Conv2D)        (None, 128, 128, 256)     590080    \n",
      "_________________________________________________________________\n",
      "block3_pool (MaxPooling2D)   (None, 64, 64, 256)       0         \n",
      "_________________________________________________________________\n",
      "block4_conv1 (Conv2D)        (None, 64, 64, 512)       1180160   \n",
      "_________________________________________________________________\n",
      "block4_conv2 (Conv2D)        (None, 64, 64, 512)       2359808   \n",
      "_________________________________________________________________\n",
      "block4_conv3 (Conv2D)        (None, 64, 64, 512)       2359808   \n",
      "_________________________________________________________________\n",
      "block4_pool (MaxPooling2D)   (None, 32, 32, 512)       0         \n",
      "_________________________________________________________________\n",
      "block5_conv1 (Conv2D)        (None, 32, 32, 512)       2359808   \n",
      "_________________________________________________________________\n",
      "block5_conv2 (Conv2D)        (None, 32, 32, 512)       2359808   \n",
      "_________________________________________________________________\n",
      "block5_conv3 (Conv2D)        (None, 32, 32, 512)       2359808   \n",
      "_________________________________________________________________\n",
      "block5_pool (MaxPooling2D)   (None, 16, 16, 512)       0         \n",
      "=================================================================\n",
      "Total params: 14,714,688\n",
      "Trainable params: 14,714,688\n",
      "Non-trainable params: 0\n",
      "_________________________________________________________________\n"
     ]
    }
   ],
   "source": [
    "conv_base = VGG16(weights = 'imagenet', include_top = False, input_shape=(512, 512, 3))\n",
    "conv_base.summary()"
   ]
  },
  {
   "cell_type": "code",
   "execution_count": 6,
   "metadata": {
    "collapsed": true
   },
   "outputs": [],
   "source": [
    "from keras import models\n",
    "from keras import layers\n",
    "from keras import optimizers\n",
    "from keras.callbacks import TensorBoard, ModelCheckpoint\n",
    "\n",
    "model = models.Sequential()\n",
    "model.add(conv_base)\n",
    "model.add(layers.Flatten())\n",
    "model.add(layers.Dense(256, activation='relu'))\n",
    "model.add(layers.Dropout(0.5))\n",
    "model.add(layers.Dense(4, activation='softmax'))"
   ]
  },
  {
   "cell_type": "code",
   "execution_count": 7,
   "metadata": {
    "collapsed": true
   },
   "outputs": [],
   "source": [
    "conv_base.trainable = True\n",
    "set_trainable = False\n",
    "\n",
    "for layer in conv_base.layers:\n",
    "    if layer.name == 'block5_conv1':\n",
    "        set_trainable = True\n",
    "    if set_trainable:\n",
    "        layer.trainable = True\n",
    "    else:\n",
    "        layer.trainable = False"
   ]
  },
  {
   "cell_type": "code",
   "execution_count": 8,
   "metadata": {},
   "outputs": [
    {
     "name": "stdout",
     "output_type": "stream",
     "text": [
      "_________________________________________________________________\n",
      "Layer (type)                 Output Shape              Param #   \n",
      "=================================================================\n",
      "vgg16 (Model)                (None, 16, 16, 512)       14714688  \n",
      "_________________________________________________________________\n",
      "flatten_1 (Flatten)          (None, 131072)            0         \n",
      "_________________________________________________________________\n",
      "dense_1 (Dense)              (None, 256)               33554688  \n",
      "_________________________________________________________________\n",
      "dropout_1 (Dropout)          (None, 256)               0         \n",
      "_________________________________________________________________\n",
      "dense_2 (Dense)              (None, 4)                 1028      \n",
      "=================================================================\n",
      "Total params: 48,270,404\n",
      "Trainable params: 40,635,140\n",
      "Non-trainable params: 7,635,264\n",
      "_________________________________________________________________\n"
     ]
    }
   ],
   "source": [
    "model.compile(optimizer=optimizers.RMSprop(lr=1e-4),\n",
    "             loss='binary_crossentropy',\n",
    "             metrics=['categorical_accuracy'])\n",
    "model.summary()"
   ]
  },
  {
   "cell_type": "code",
   "execution_count": 9,
   "metadata": {},
   "outputs": [
    {
     "name": "stdout",
     "output_type": "stream",
     "text": [
      "Found 104138 images belonging to 4 classes.\n",
      "Found 444 images belonging to 4 classes.\n"
     ]
    }
   ],
   "source": [
    "from keras.preprocessing.image import ImageDataGenerator\n",
    "\n",
    "datagen = ImageDataGenerator(rescale = 1./255)\n",
    "\n",
    "\n",
    "train_generator = datagen.flow_from_directory(train_dir,\n",
    "                                             target_size = (512, 512), \n",
    "                                              batch_size = 20,\n",
    "                                              class_mode = 'categorical')\n",
    "\n",
    "\n",
    "validation_generator = datagen.flow_from_directory(valid_dir,\n",
    "                                             target_size = (512, 512), \n",
    "                                              batch_size = 20,\n",
    "                                              class_mode = 'categorical')\n",
    "                                              "
   ]
  },
  {
   "cell_type": "code",
   "execution_count": 10,
   "metadata": {
    "scrolled": false
   },
   "outputs": [
    {
     "name": "stdout",
     "output_type": "stream",
     "text": [
      "Epoch 1/25\n",
      "1000/1000 [==============================] - 730s - loss: 0.1588 - categorical_accuracy: 0.8829 - val_loss: 0.0346 - val_categorical_accuracy: 0.9750\n",
      "Epoch 2/25\n",
      "1000/1000 [==============================] - 727s - loss: 0.0981 - categorical_accuracy: 0.9460 - val_loss: 0.1738 - val_categorical_accuracy: 0.9457\n",
      "Epoch 3/25\n",
      "1000/1000 [==============================] - 726s - loss: 0.0817 - categorical_accuracy: 0.9556 - val_loss: 0.2213 - val_categorical_accuracy: 0.9239\n",
      "Epoch 4/25\n",
      "1000/1000 [==============================] - 726s - loss: 0.0861 - categorical_accuracy: 0.9606 - val_loss: 0.0825 - val_categorical_accuracy: 0.9620\n",
      "Epoch 5/25\n",
      "1000/1000 [==============================] - 726s - loss: 0.0824 - categorical_accuracy: 0.9631 - val_loss: 0.1098 - val_categorical_accuracy: 0.9450\n",
      "Epoch 6/25\n",
      "1000/1000 [==============================] - 729s - loss: 0.0742 - categorical_accuracy: 0.9696 - val_loss: 0.0996 - val_categorical_accuracy: 0.9700\n",
      "Epoch 7/25\n",
      "1000/1000 [==============================] - 727s - loss: 0.0868 - categorical_accuracy: 0.9691 - val_loss: 0.1713 - val_categorical_accuracy: 0.8900\n",
      "Epoch 8/25\n",
      "1000/1000 [==============================] - 727s - loss: 0.0836 - categorical_accuracy: 0.9695 - val_loss: 0.1882 - val_categorical_accuracy: 0.9350\n",
      "Epoch 9/25\n",
      "1000/1000 [==============================] - 727s - loss: 0.0939 - categorical_accuracy: 0.9690 - val_loss: 0.1996 - val_categorical_accuracy: 0.9620\n",
      "Epoch 10/25\n",
      "1000/1000 [==============================] - 726s - loss: 0.0949 - categorical_accuracy: 0.9685 - val_loss: 1.4677 - val_categorical_accuracy: 0.7500\n",
      "Epoch 11/25\n",
      "1000/1000 [==============================] - 725s - loss: 0.0866 - categorical_accuracy: 0.9749 - val_loss: 0.1921 - val_categorical_accuracy: 0.9293\n",
      "Epoch 12/25\n",
      "1000/1000 [==============================] - 726s - loss: 0.0859 - categorical_accuracy: 0.9754 - val_loss: 0.1461 - val_categorical_accuracy: 0.9565\n",
      "Epoch 13/25\n",
      "1000/1000 [==============================] - 726s - loss: 0.0821 - categorical_accuracy: 0.9759 - val_loss: 0.2751 - val_categorical_accuracy: 0.9200\n",
      "Epoch 14/25\n",
      "1000/1000 [==============================] - 726s - loss: 0.0875 - categorical_accuracy: 0.9751 - val_loss: 0.2165 - val_categorical_accuracy: 0.9200\n",
      "Epoch 15/25\n",
      "1000/1000 [==============================] - 725s - loss: 0.0987 - categorical_accuracy: 0.9736 - val_loss: 0.0976 - val_categorical_accuracy: 0.9750\n",
      "Epoch 16/25\n",
      "1000/1000 [==============================] - 726s - loss: 0.0813 - categorical_accuracy: 0.9769 - val_loss: 0.2968 - val_categorical_accuracy: 0.9100\n",
      "Epoch 17/25\n",
      "1000/1000 [==============================] - 725s - loss: 0.0785 - categorical_accuracy: 0.9773 - val_loss: 0.7671 - val_categorical_accuracy: 0.8424\n",
      "Epoch 18/25\n",
      "1000/1000 [==============================] - 726s - loss: 0.1077 - categorical_accuracy: 0.9756 - val_loss: 1.0327 - val_categorical_accuracy: 0.7935\n",
      "Epoch 19/25\n",
      "1000/1000 [==============================] - 726s - loss: 0.0786 - categorical_accuracy: 0.9796 - val_loss: 0.4562 - val_categorical_accuracy: 0.8750\n",
      "Epoch 20/25\n",
      "1000/1000 [==============================] - 726s - loss: 0.1061 - categorical_accuracy: 0.9748 - val_loss: 0.6722 - val_categorical_accuracy: 0.8800\n",
      "Epoch 21/25\n",
      "1000/1000 [==============================] - 726s - loss: 0.0915 - categorical_accuracy: 0.9791 - val_loss: 0.0634 - val_categorical_accuracy: 0.9850\n",
      "Epoch 22/25\n",
      "1000/1000 [==============================] - 727s - loss: 0.0999 - categorical_accuracy: 0.9791 - val_loss: 0.8741 - val_categorical_accuracy: 0.8700\n",
      "Epoch 23/25\n",
      "1000/1000 [==============================] - 725s - loss: 0.1150 - categorical_accuracy: 0.9782 - val_loss: 0.2137 - val_categorical_accuracy: 0.9100\n",
      "Epoch 24/25\n",
      "1000/1000 [==============================] - 726s - loss: 0.1094 - categorical_accuracy: 0.9775 - val_loss: 0.7569 - val_categorical_accuracy: 0.8050\n",
      "Epoch 25/25\n",
      "1000/1000 [==============================] - 726s - loss: 0.1011 - categorical_accuracy: 0.9793 - val_loss: 0.8534 - val_categorical_accuracy: 0.8641\n"
     ]
    }
   ],
   "source": [
    "log_dir = '/home/skhatter/log_tfb/vgg16'\n",
    "tboard_callback = TensorBoard(log_dir = log_dir)\n",
    "checkpoint_callback = ModelCheckpoint(log_dir + '/weights-e{epoch:03d}.hdf5', \n",
    "                                     save_weights_only = True, period = 1)\n",
    "history = model.fit_generator(train_generator,\n",
    "                    steps_per_epoch=1000,\n",
    "                    epochs=25,  \n",
    "                    validation_data=validation_generator,\n",
    "                   validation_steps = 10,\n",
    "                             verbose =1,\n",
    "                             callbacks=[tboard_callback, checkpoint_callback])"
   ]
  },
  {
   "cell_type": "code",
   "execution_count": 11,
   "metadata": {
    "scrolled": false
   },
   "outputs": [
    {
     "name": "stdout",
     "output_type": "stream",
     "text": [
      "dict_keys(['val_loss', 'val_categorical_accuracy', 'loss', 'categorical_accuracy'])\n"
     ]
    }
   ],
   "source": [
    "history_dict = history.history\n",
    "print(history_dict.keys())\n",
    "\n",
    "model.save('vgg16_40.h5')"
   ]
  },
  {
   "cell_type": "code",
   "execution_count": 12,
   "metadata": {},
   "outputs": [
    {
     "data": {
      "image/png": "[encoded data removed]",
      "text/plain": [
       "<matplotlib.figure.Figure at 0x7f0e500eab38>"
      ]
     },
     "metadata": {},
     "output_type": "display_data"
    },
    {
     "data": {
      "image/png": "[encoded data removed]",
      "text/plain": [
       "<matplotlib.figure.Figure at 0x7f0e6335c3c8>"
      ]
     },
     "metadata": {},
     "output_type": "display_data"
    }
   ],
   "source": [
    "#Displaying curves of loss and accuracy during training \n",
    "\n",
    "import matplotlib.pyplot as plt\n",
    "acc = history.history['categorical_accuracy']\n",
    "val_acc = history.history['val_categorical_accuracy']\n",
    "loss = history.history['loss']\n",
    "val_loss = history.history['val_loss']\n",
    "\n",
    "epochs = range(len(acc))\n",
    "\n",
    "plt.plot(epochs, acc, 'bo')#dots\n",
    "plt.plot(epochs, val_acc, 'b')#line segments\n",
    "plt.title('Training and validation accuracy with VGG16 of 4 classes with fine tuning the conv block 5')\n",
    "plt.figure()\n",
    "\n",
    "plt.plot(epochs, loss, 'bo')\n",
    "plt.plot(epochs, val_loss, 'b')\n",
    "plt.title('Training and validation loss with VGG16 of 4 classes with fine tuning the conv block 5')\n",
    "plt.show()"
   ]
  },
  {
   "cell_type": "code",
   "execution_count": null,
   "metadata": {
    "collapsed": true
   },
   "outputs": [],
   "source": []
  },
  {
   "cell_type": "code",
   "execution_count": null,
   "metadata": {
    "collapsed": true
   },
   "outputs": [],
   "source": []
  }
 ],
 "metadata": {
  "kernelspec": {
   "display_name": "Python 2",
   "language": "python",
   "name": "python2"
  },
  "language_info": {
   "codemirror_mode": {
    "name": "ipython",
    "version": 2
   },
   "file_extension": ".py",
   "mimetype": "text/x-python",
   "name": "python",
   "nbconvert_exporter": "python",
   "pygments_lexer": "ipython2",
   "version": "2.7.13"
  }
 },
 "nbformat": 4,
 "nbformat_minor": 2
}
