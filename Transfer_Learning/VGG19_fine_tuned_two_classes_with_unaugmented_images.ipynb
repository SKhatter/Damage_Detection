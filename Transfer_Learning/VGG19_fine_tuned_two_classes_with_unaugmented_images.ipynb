{
 "cells": [
  {
   "cell_type": "code",
   "execution_count": 1,
   "metadata": {
    "collapsed": true
   },
   "outputs": [],
   "source": [
    "import os, shutil"
   ]
  },
  {
   "cell_type": "code",
   "execution_count": 2,
   "metadata": {
    "collapsed": true
   },
   "outputs": [],
   "source": [
    "base_dir = '/home/skhatter/512_copy/'\n",
    "train_dir = '/home/skhatter/512_copy/train'\n",
    "valid_dir = '/home/skhatter/512_copy/validation'\n",
    "\n",
    "train_dam_dir = '/home/skhatter/512_copy/train/damaged'\n",
    "train_undam_dir = '/home/skhatter/512_copy/train/undamaged'\n",
    "\n",
    "valid_dam_dir = '/home/skhatter/512_copy/validation/damaged'\n",
    "valid_undam_dir = '/home/skhatter/512_copy/validation/undamaged'"
   ]
  },
  {
   "cell_type": "code",
   "execution_count": 3,
   "metadata": {},
   "outputs": [
    {
     "name": "stdout",
     "output_type": "stream",
     "text": [
      "Total training damaged images 91\n",
      "Total training undamaged images 73\n",
      "Total validation damaged images 11\n",
      "Total validation undamaged images 11\n"
     ]
    }
   ],
   "source": [
    "print('Total training damaged images', len(os.listdir(train_dam_dir)))\n",
    "print('Total training undamaged images', len(os.listdir(train_undam_dir)))\n",
    "\n",
    "print('Total validation damaged images', len(os.listdir(valid_dam_dir)))\n",
    "print('Total validation undamaged images', len(os.listdir(valid_undam_dir)))"
   ]
  },
  {
   "cell_type": "code",
   "execution_count": 4,
   "metadata": {},
   "outputs": [
    {
     "name": "stderr",
     "output_type": "stream",
     "text": [
      "Using TensorFlow backend.\n"
     ]
    }
   ],
   "source": [
    "from keras import layers\n",
    "from keras import models\n",
    "from keras.applications import VGG19"
   ]
  },
  {
   "cell_type": "code",
   "execution_count": 5,
   "metadata": {
    "scrolled": false
   },
   "outputs": [
    {
     "name": "stdout",
     "output_type": "stream",
     "text": [
      "_________________________________________________________________\n",
      "Layer (type)                 Output Shape              Param #   \n",
      "=================================================================\n",
      "input_1 (InputLayer)         (None, 512, 512, 3)       0         \n",
      "_________________________________________________________________\n",
      "block1_conv1 (Conv2D)        (None, 512, 512, 64)      1792      \n",
      "_________________________________________________________________\n",
      "block1_conv2 (Conv2D)        (None, 512, 512, 64)      36928     \n",
      "_________________________________________________________________\n",
      "block1_pool (MaxPooling2D)   (None, 256, 256, 64)      0         \n",
      "_________________________________________________________________\n",
      "block2_conv1 (Conv2D)        (None, 256, 256, 128)     73856     \n",
      "_________________________________________________________________\n",
      "block2_conv2 (Conv2D)        (None, 256, 256, 128)     147584    \n",
      "_________________________________________________________________\n",
      "block2_pool (MaxPooling2D)   (None, 128, 128, 128)     0         \n",
      "_________________________________________________________________\n",
      "block3_conv1 (Conv2D)        (None, 128, 128, 256)     295168    \n",
      "_________________________________________________________________\n",
      "block3_conv2 (Conv2D)        (None, 128, 128, 256)     590080    \n",
      "_________________________________________________________________\n",
      "block3_conv3 (Conv2D)        (None, 128, 128, 256)     590080    \n",
      "_________________________________________________________________\n",
      "block3_conv4 (Conv2D)        (None, 128, 128, 256)     590080    \n",
      "_________________________________________________________________\n",
      "block3_pool (MaxPooling2D)   (None, 64, 64, 256)       0         \n",
      "_________________________________________________________________\n",
      "block4_conv1 (Conv2D)        (None, 64, 64, 512)       1180160   \n",
      "_________________________________________________________________\n",
      "block4_conv2 (Conv2D)        (None, 64, 64, 512)       2359808   \n",
      "_________________________________________________________________\n",
      "block4_conv3 (Conv2D)        (None, 64, 64, 512)       2359808   \n",
      "_________________________________________________________________\n",
      "block4_conv4 (Conv2D)        (None, 64, 64, 512)       2359808   \n",
      "_________________________________________________________________\n",
      "block4_pool (MaxPooling2D)   (None, 32, 32, 512)       0         \n",
      "_________________________________________________________________\n",
      "block5_conv1 (Conv2D)        (None, 32, 32, 512)       2359808   \n",
      "_________________________________________________________________\n",
      "block5_conv2 (Conv2D)        (None, 32, 32, 512)       2359808   \n",
      "_________________________________________________________________\n",
      "block5_conv3 (Conv2D)        (None, 32, 32, 512)       2359808   \n",
      "_________________________________________________________________\n",
      "block5_conv4 (Conv2D)        (None, 32, 32, 512)       2359808   \n",
      "_________________________________________________________________\n",
      "block5_pool (MaxPooling2D)   (None, 16, 16, 512)       0         \n",
      "=================================================================\n",
      "Total params: 20,024,384\n",
      "Trainable params: 20,024,384\n",
      "Non-trainable params: 0\n",
      "_________________________________________________________________\n"
     ]
    }
   ],
   "source": [
    "conv_base = VGG19(weights = 'imagenet', include_top = False, input_shape=(512, 512, 3))\n",
    "conv_base.summary()"
   ]
  },
  {
   "cell_type": "code",
   "execution_count": 6,
   "metadata": {
    "collapsed": true
   },
   "outputs": [],
   "source": [
    "from keras import models\n",
    "from keras import layers\n",
    "from keras import optimizers\n",
    "\n",
    "model = models.Sequential()\n",
    "model.add(conv_base)\n",
    "model.add(layers.Flatten())\n",
    "model.add(layers.Dense(256, activation='relu'))\n",
    "model.add(layers.Dropout(0.5))\n",
    "model.add(layers.Dense(1, activation='sigmoid'))"
   ]
  },
  {
   "cell_type": "code",
   "execution_count": 7,
   "metadata": {
    "collapsed": true
   },
   "outputs": [],
   "source": [
    "conv_base.trainable = True\n",
    "set_trainable = False\n",
    "\n",
    "for layer in conv_base.layers:\n",
    "    if layer.name == 'block5_conv1':\n",
    "        set_trainable = True\n",
    "    if set_trainable:\n",
    "        layer.trainable = True\n",
    "    else:\n",
    "        layer.trainable = False"
   ]
  },
  {
   "cell_type": "code",
   "execution_count": 8,
   "metadata": {},
   "outputs": [
    {
     "name": "stdout",
     "output_type": "stream",
     "text": [
      "_________________________________________________________________\n",
      "Layer (type)                 Output Shape              Param #   \n",
      "=================================================================\n",
      "vgg19 (Model)                (None, 16, 16, 512)       20024384  \n",
      "_________________________________________________________________\n",
      "flatten_1 (Flatten)          (None, 131072)            0         \n",
      "_________________________________________________________________\n",
      "dense_1 (Dense)              (None, 256)               33554688  \n",
      "_________________________________________________________________\n",
      "dropout_1 (Dropout)          (None, 256)               0         \n",
      "_________________________________________________________________\n",
      "dense_2 (Dense)              (None, 1)                 257       \n",
      "=================================================================\n",
      "Total params: 53,579,329\n",
      "Trainable params: 42,994,177\n",
      "Non-trainable params: 10,585,152\n",
      "_________________________________________________________________\n"
     ]
    }
   ],
   "source": [
    "model.compile(optimizer=optimizers.RMSprop(lr=1e-4),\n",
    "             loss='binary_crossentropy',\n",
    "             metrics=['acc'])\n",
    "model.summary()"
   ]
  },
  {
   "cell_type": "code",
   "execution_count": 9,
   "metadata": {},
   "outputs": [
    {
     "name": "stdout",
     "output_type": "stream",
     "text": [
      "Found 162 images belonging to 2 classes.\n",
      "Found 20 images belonging to 2 classes.\n"
     ]
    }
   ],
   "source": [
    "from keras.preprocessing.image import ImageDataGenerator\n",
    "\n",
    "datagen = ImageDataGenerator(rescale = 1./255)\n",
    "\n",
    "train_datagen = ImageDataGenerator(rescale = 1./255, rotation_range=180,\n",
    "                                  width_shift_range=0.3,\n",
    "                                  height_shift_range=0.3,\n",
    "                                  shear_range=0.3,\n",
    "                                   zoom_range=0.3,\n",
    "                                  fill_mode='wrap',\n",
    "                                  zca_whitening= True,\n",
    "                                  vertical_flip= True,\n",
    "                                  horizontal_flip=True)\n",
    "\n",
    "\n",
    "\n",
    "train_generator = train_datagen.flow_from_directory(train_dir,\n",
    "                                             target_size = (512, 512), \n",
    "                                              batch_size = 20,\n",
    "                                              class_mode = 'binary')\n",
    "\n",
    "\n",
    "validation_generator = datagen.flow_from_directory(valid_dir,\n",
    "                                             target_size = (512, 512), \n",
    "                                              batch_size = 20,\n",
    "                                              class_mode = 'binary')\n",
    "                                              "
   ]
  },
  {
   "cell_type": "code",
   "execution_count": 10,
   "metadata": {
    "scrolled": false
   },
   "outputs": [
    {
     "name": "stdout",
     "output_type": "stream",
     "text": [
      "Epoch 1/50\n"
     ]
    },
    {
     "name": "stderr",
     "output_type": "stream",
     "text": [
      "/home/ishivvers/anaconda3/lib/python3.6/site-packages/Keras-2.0.6-py3.6.egg/keras/preprocessing/image.py:524: UserWarning: This ImageDataGenerator specifies `zca_whitening`, but it hasn'tbeen fit on any training data. Fit it first by calling `.fit(numpy_data)`.\n"
     ]
    },
    {
     "name": "stdout",
     "output_type": "stream",
     "text": [
      "50/50 [==============================] - 59s - loss: 0.9323 - acc: 0.5239 - val_loss: 0.6741 - val_acc: 0.6000\n",
      "Epoch 2/50\n",
      "50/50 [==============================] - 56s - loss: 0.6226 - acc: 0.6943 - val_loss: 0.3875 - val_acc: 0.9000\n",
      "Epoch 3/50\n",
      "50/50 [==============================] - 57s - loss: 0.4176 - acc: 0.8309 - val_loss: 0.4576 - val_acc: 0.9500\n",
      "Epoch 4/50\n",
      "50/50 [==============================] - 57s - loss: 0.3278 - acc: 0.8589 - val_loss: 0.1390 - val_acc: 0.9500\n",
      "Epoch 5/50\n",
      "50/50 [==============================] - 58s - loss: 0.3324 - acc: 0.8880 - val_loss: 0.2563 - val_acc: 0.9500\n",
      "Epoch 6/50\n",
      "50/50 [==============================] - 57s - loss: 0.3076 - acc: 0.8949 - val_loss: 0.1006 - val_acc: 0.9500\n",
      "Epoch 7/50\n",
      "50/50 [==============================] - 58s - loss: 0.3262 - acc: 0.8840 - val_loss: 0.2410 - val_acc: 0.9500\n",
      "Epoch 8/50\n",
      "50/50 [==============================] - 57s - loss: 0.2839 - acc: 0.8911 - val_loss: 0.1237 - val_acc: 0.9500\n",
      "Epoch 9/50\n",
      "50/50 [==============================] - 57s - loss: 0.2307 - acc: 0.9188 - val_loss: 0.0716 - val_acc: 0.9500\n",
      "Epoch 10/50\n",
      "50/50 [==============================] - 58s - loss: 0.2299 - acc: 0.9289 - val_loss: 0.2774 - val_acc: 0.9500\n",
      "Epoch 11/50\n",
      "50/50 [==============================] - 57s - loss: 0.2205 - acc: 0.9328 - val_loss: 0.0999 - val_acc: 0.9500\n",
      "Epoch 12/50\n",
      "50/50 [==============================] - 58s - loss: 0.2195 - acc: 0.9120 - val_loss: 0.1626 - val_acc: 0.9500\n",
      "Epoch 13/50\n",
      "50/50 [==============================] - 57s - loss: 0.2297 - acc: 0.9222 - val_loss: 0.0435 - val_acc: 1.0000\n",
      "Epoch 14/50\n",
      "50/50 [==============================] - 58s - loss: 0.1877 - acc: 0.9359 - val_loss: 0.0982 - val_acc: 0.9500\n",
      "Epoch 15/50\n",
      "50/50 [==============================] - 57s - loss: 0.2741 - acc: 0.9180 - val_loss: 0.0584 - val_acc: 1.0000\n",
      "Epoch 16/50\n",
      "50/50 [==============================] - 58s - loss: 0.1856 - acc: 0.9339 - val_loss: 0.2524 - val_acc: 0.9000\n",
      "Epoch 17/50\n",
      "50/50 [==============================] - 57s - loss: 0.2344 - acc: 0.9228 - val_loss: 0.0455 - val_acc: 1.0000\n",
      "Epoch 18/50\n",
      "50/50 [==============================] - 57s - loss: 0.1705 - acc: 0.9471 - val_loss: 0.0303 - val_acc: 1.0000\n",
      "Epoch 19/50\n",
      "50/50 [==============================] - 58s - loss: 0.1994 - acc: 0.9321 - val_loss: 0.3790 - val_acc: 0.9500\n",
      "Epoch 20/50\n",
      "50/50 [==============================] - 57s - loss: 0.1802 - acc: 0.9479 - val_loss: 0.0312 - val_acc: 1.0000\n",
      "Epoch 21/50\n",
      "50/50 [==============================] - 58s - loss: 0.1848 - acc: 0.9439 - val_loss: 0.0282 - val_acc: 1.0000\n",
      "Epoch 22/50\n",
      "50/50 [==============================] - 57s - loss: 0.2148 - acc: 0.9330 - val_loss: 0.0683 - val_acc: 0.9500\n",
      "Epoch 23/50\n",
      "50/50 [==============================] - 58s - loss: 0.1487 - acc: 0.9549 - val_loss: 0.0435 - val_acc: 1.0000\n",
      "Epoch 24/50\n",
      "50/50 [==============================] - 57s - loss: 0.1748 - acc: 0.9469 - val_loss: 0.0322 - val_acc: 1.0000\n",
      "Epoch 25/50\n",
      "50/50 [==============================] - 58s - loss: 0.1837 - acc: 0.9373 - val_loss: 0.4425 - val_acc: 0.9500\n",
      "Epoch 26/50\n",
      "50/50 [==============================] - 57s - loss: 0.1513 - acc: 0.9579 - val_loss: 0.2386 - val_acc: 0.9000\n",
      "Epoch 27/50\n",
      "50/50 [==============================] - 57s - loss: 0.1679 - acc: 0.9481 - val_loss: 1.0028 - val_acc: 0.9000\n",
      "Epoch 28/50\n",
      "50/50 [==============================] - 58s - loss: 0.1649 - acc: 0.9559 - val_loss: 0.1058 - val_acc: 0.9500\n",
      "Epoch 29/50\n",
      "50/50 [==============================] - 57s - loss: 0.1352 - acc: 0.9609 - val_loss: 0.0627 - val_acc: 0.9500\n",
      "Epoch 30/50\n",
      "50/50 [==============================] - 58s - loss: 0.1643 - acc: 0.9539 - val_loss: 0.0219 - val_acc: 1.0000\n",
      "Epoch 31/50\n",
      "50/50 [==============================] - 57s - loss: 0.1765 - acc: 0.9401 - val_loss: 0.0113 - val_acc: 1.0000\n",
      "Epoch 32/50\n",
      "50/50 [==============================] - 58s - loss: 0.1733 - acc: 0.9511 - val_loss: 0.0599 - val_acc: 1.0000\n",
      "Epoch 33/50\n",
      "50/50 [==============================] - 57s - loss: 0.3087 - acc: 0.9370 - val_loss: 0.3811 - val_acc: 0.9000\n",
      "Epoch 34/50\n",
      "50/50 [==============================] - 58s - loss: 0.2324 - acc: 0.9363 - val_loss: 0.0553 - val_acc: 1.0000\n",
      "Epoch 35/50\n",
      "50/50 [==============================] - 57s - loss: 0.2357 - acc: 0.9433 - val_loss: 0.0299 - val_acc: 1.0000\n",
      "Epoch 36/50\n",
      "50/50 [==============================] - 57s - loss: 0.2019 - acc: 0.9423 - val_loss: 0.2153 - val_acc: 0.9500\n",
      "Epoch 37/50\n",
      "50/50 [==============================] - 58s - loss: 0.2150 - acc: 0.9413 - val_loss: 0.0610 - val_acc: 1.0000\n",
      "Epoch 38/50\n",
      "50/50 [==============================] - 57s - loss: 0.2097 - acc: 0.9649 - val_loss: 0.1831 - val_acc: 0.9500\n",
      "Epoch 39/50\n",
      "50/50 [==============================] - 58s - loss: 0.2102 - acc: 0.9499 - val_loss: 0.0352 - val_acc: 1.0000\n",
      "Epoch 40/50\n",
      "50/50 [==============================] - 57s - loss: 0.1544 - acc: 0.9549 - val_loss: 0.0081 - val_acc: 1.0000\n",
      "Epoch 41/50\n",
      "50/50 [==============================] - 58s - loss: 0.1877 - acc: 0.9521 - val_loss: 0.5127 - val_acc: 0.9500\n",
      "Epoch 42/50\n",
      "50/50 [==============================] - 57s - loss: 0.1860 - acc: 0.9521 - val_loss: 0.6003 - val_acc: 0.9500\n",
      "Epoch 43/50\n",
      "50/50 [==============================] - 58s - loss: 0.1679 - acc: 0.9551 - val_loss: 0.0097 - val_acc: 1.0000\n",
      "Epoch 44/50\n",
      "50/50 [==============================] - 57s - loss: 0.1887 - acc: 0.9541 - val_loss: 0.0917 - val_acc: 0.9500\n",
      "Epoch 45/50\n",
      "50/50 [==============================] - 57s - loss: 0.1695 - acc: 0.9559 - val_loss: 0.4378 - val_acc: 0.9500\n",
      "Epoch 46/50\n",
      "50/50 [==============================] - 58s - loss: 0.2053 - acc: 0.9569 - val_loss: 0.0180 - val_acc: 1.0000\n",
      "Epoch 47/50\n",
      "50/50 [==============================] - 57s - loss: 0.1712 - acc: 0.9511 - val_loss: 0.8216 - val_acc: 0.9500\n",
      "Epoch 48/50\n",
      "50/50 [==============================] - 58s - loss: 0.2087 - acc: 0.9541 - val_loss: 0.0228 - val_acc: 1.0000\n",
      "Epoch 49/50\n",
      "50/50 [==============================] - 57s - loss: 0.1752 - acc: 0.9619 - val_loss: 0.0381 - val_acc: 1.0000\n",
      "Epoch 50/50\n",
      "50/50 [==============================] - 58s - loss: 0.1442 - acc: 0.9639 - val_loss: 0.0198 - val_acc: 1.0000\n"
     ]
    }
   ],
   "source": [
    "history = model.fit_generator(train_generator,\n",
    "                    steps_per_epoch=50,\n",
    "                    epochs=50,  \n",
    "                    validation_data=validation_generator,\n",
    "                   validation_steps = 25)"
   ]
  },
  {
   "cell_type": "code",
   "execution_count": 13,
   "metadata": {
    "scrolled": false
   },
   "outputs": [
    {
     "name": "stdout",
     "output_type": "stream",
     "text": [
      "dict_keys(['val_loss', 'val_acc', 'loss', 'acc'])\n"
     ]
    }
   ],
   "source": [
    "history_dict = history.history\n",
    "print(history_dict.keys())\n",
    "\n",
    "model.save('vgg19_2.h5')"
   ]
  },
  {
   "cell_type": "code",
   "execution_count": 14,
   "metadata": {},
   "outputs": [
    {
     "data": {
      "image/png": "[encoded data removed]",
      "text/plain": [
       "<matplotlib.figure.Figure at 0x7f898401ab38>"
      ]
     },
     "metadata": {},
     "output_type": "display_data"
    },
    {
     "data": {
      "image/png": "[encoded data removed]",
      "text/plain": [
       "<matplotlib.figure.Figure at 0x7f897e50e908>"
      ]
     },
     "metadata": {},
     "output_type": "display_data"
    }
   ],
   "source": [
    "#Displaying curves of loss and accuracy during training \n",
    "\n",
    "import matplotlib.pyplot as plt\n",
    "acc = history.history['acc']\n",
    "val_acc = history.history['val_acc']\n",
    "loss = history.history['loss']\n",
    "val_loss = history.history['val_loss']\n",
    "\n",
    "epochs = range(len(acc))\n",
    "\n",
    "plt.plot(epochs, acc, 'bo')#dots\n",
    "plt.plot(epochs, val_acc, 'b')#line segments\n",
    "plt.title('Training and validation accuracy with VGG19 +fine tuning the conv block 5')\n",
    "plt.figure()\n",
    "\n",
    "plt.plot(epochs, loss, 'bo')\n",
    "plt.plot(epochs, val_loss, 'b')\n",
    "plt.title('Training and validation loss with VGG19 + fine tuning the conv block 5')\n",
    "plt.show()"
   ]
  },
  {
   "cell_type": "code",
   "execution_count": null,
   "metadata": {
    "collapsed": true
   },
   "outputs": [],
   "source": []
  },
  {
   "cell_type": "code",
   "execution_count": null,
   "metadata": {
    "collapsed": true
   },
   "outputs": [],
   "source": []
  },
  {
   "cell_type": "code",
   "execution_count": null,
   "metadata": {
    "collapsed": true
   },
   "outputs": [],
   "source": []
  }
 ],
 "metadata": {
  "kernelspec": {
   "display_name": "Python 3",
   "language": "python",
   "name": "python3"
  },
  "language_info": {
   "codemirror_mode": {
    "name": "ipython",
    "version": 3
   },
   "file_extension": ".py",
   "mimetype": "text/x-python",
   "name": "python",
   "nbconvert_exporter": "python",
   "pygments_lexer": "ipython3",
   "version": "3.6.1"
  }
 },
 "nbformat": 4,
 "nbformat_minor": 2
}
