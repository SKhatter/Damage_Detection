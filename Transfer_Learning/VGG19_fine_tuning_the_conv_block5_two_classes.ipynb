{
 "cells": [
  {
   "cell_type": "code",
   "execution_count": 1,
   "metadata": {
    "collapsed": true
   },
   "outputs": [],
   "source": [
    "import os, shutil"
   ]
  },
  {
   "cell_type": "code",
   "execution_count": 2,
   "metadata": {
    "collapsed": true
   },
   "outputs": [],
   "source": [
    "base_dir = '/home/skhatter/Transfer_Learning/512_original/'\n",
    "train_dir = '/home/skhatter/Transfer_Learning/512_original/train'\n",
    "valid_dir = '/home/skhatter/Transfer_Learning/512_original/validation'\n",
    "\n",
    "train_dam_dir = '/home/skhatter/Transfer_Learning/512_original/train/damaged'\n",
    "train_undam_dir = '/home/skhatter/Transfer_Learning/512_original/train/undamaged'\n",
    "\n",
    "valid_dam_dir = '/home/skhatter/Transfer_Learning/512_original/validation/damaged'\n",
    "valid_undam_dir = '/home/skhatter/Transfer_Learning/512_original/validation/undamaged'"
   ]
  },
  {
   "cell_type": "code",
   "execution_count": 3,
   "metadata": {},
   "outputs": [
    {
     "name": "stdout",
     "output_type": "stream",
     "text": [
      "Total training damaged images 1501\n",
      "Total training undamaged images 2541\n",
      "Total validation damaged images 26\n",
      "Total validation undamaged images 21\n"
     ]
    }
   ],
   "source": [
    "print('Total training damaged images', len(os.listdir(train_dam_dir)))\n",
    "print('Total training undamaged images', len(os.listdir(train_undam_dir)))\n",
    "\n",
    "print('Total validation damaged images', len(os.listdir(valid_dam_dir)))\n",
    "print('Total validation undamaged images', len(os.listdir(valid_undam_dir)))"
   ]
  },
  {
   "cell_type": "code",
   "execution_count": 4,
   "metadata": {},
   "outputs": [
    {
     "name": "stderr",
     "output_type": "stream",
     "text": [
      "Using TensorFlow backend.\n"
     ]
    }
   ],
   "source": [
    "from keras import layers\n",
    "from keras import models\n",
    "from keras.applications import VGG19"
   ]
  },
  {
   "cell_type": "code",
   "execution_count": 5,
   "metadata": {
    "scrolled": false
   },
   "outputs": [
    {
     "name": "stdout",
     "output_type": "stream",
     "text": [
      "_________________________________________________________________\n",
      "Layer (type)                 Output Shape              Param #   \n",
      "=================================================================\n",
      "input_1 (InputLayer)         (None, 512, 512, 3)       0         \n",
      "_________________________________________________________________\n",
      "block1_conv1 (Conv2D)        (None, 512, 512, 64)      1792      \n",
      "_________________________________________________________________\n",
      "block1_conv2 (Conv2D)        (None, 512, 512, 64)      36928     \n",
      "_________________________________________________________________\n",
      "block1_pool (MaxPooling2D)   (None, 256, 256, 64)      0         \n",
      "_________________________________________________________________\n",
      "block2_conv1 (Conv2D)        (None, 256, 256, 128)     73856     \n",
      "_________________________________________________________________\n",
      "block2_conv2 (Conv2D)        (None, 256, 256, 128)     147584    \n",
      "_________________________________________________________________\n",
      "block2_pool (MaxPooling2D)   (None, 128, 128, 128)     0         \n",
      "_________________________________________________________________\n",
      "block3_conv1 (Conv2D)        (None, 128, 128, 256)     295168    \n",
      "_________________________________________________________________\n",
      "block3_conv2 (Conv2D)        (None, 128, 128, 256)     590080    \n",
      "_________________________________________________________________\n",
      "block3_conv3 (Conv2D)        (None, 128, 128, 256)     590080    \n",
      "_________________________________________________________________\n",
      "block3_conv4 (Conv2D)        (None, 128, 128, 256)     590080    \n",
      "_________________________________________________________________\n",
      "block3_pool (MaxPooling2D)   (None, 64, 64, 256)       0         \n",
      "_________________________________________________________________\n",
      "block4_conv1 (Conv2D)        (None, 64, 64, 512)       1180160   \n",
      "_________________________________________________________________\n",
      "block4_conv2 (Conv2D)        (None, 64, 64, 512)       2359808   \n",
      "_________________________________________________________________\n",
      "block4_conv3 (Conv2D)        (None, 64, 64, 512)       2359808   \n",
      "_________________________________________________________________\n",
      "block4_conv4 (Conv2D)        (None, 64, 64, 512)       2359808   \n",
      "_________________________________________________________________\n",
      "block4_pool (MaxPooling2D)   (None, 32, 32, 512)       0         \n",
      "_________________________________________________________________\n",
      "block5_conv1 (Conv2D)        (None, 32, 32, 512)       2359808   \n",
      "_________________________________________________________________\n",
      "block5_conv2 (Conv2D)        (None, 32, 32, 512)       2359808   \n",
      "_________________________________________________________________\n",
      "block5_conv3 (Conv2D)        (None, 32, 32, 512)       2359808   \n",
      "_________________________________________________________________\n",
      "block5_conv4 (Conv2D)        (None, 32, 32, 512)       2359808   \n",
      "_________________________________________________________________\n",
      "block5_pool (MaxPooling2D)   (None, 16, 16, 512)       0         \n",
      "=================================================================\n",
      "Total params: 20,024,384\n",
      "Trainable params: 20,024,384\n",
      "Non-trainable params: 0\n",
      "_________________________________________________________________\n"
     ]
    }
   ],
   "source": [
    "conv_base = VGG19(weights = 'imagenet', include_top = False, input_shape=(512, 512, 3))\n",
    "conv_base.summary()"
   ]
  },
  {
   "cell_type": "code",
   "execution_count": 6,
   "metadata": {
    "collapsed": true
   },
   "outputs": [],
   "source": [
    "from keras import models\n",
    "from keras import layers\n",
    "from keras import optimizers\n",
    "\n",
    "model = models.Sequential()\n",
    "model.add(conv_base)\n",
    "model.add(layers.Flatten())\n",
    "model.add(layers.Dense(256, activation='relu'))\n",
    "model.add(layers.Dropout(0.5))\n",
    "model.add(layers.Dense(1, activation='sigmoid'))"
   ]
  },
  {
   "cell_type": "code",
   "execution_count": 7,
   "metadata": {
    "collapsed": true
   },
   "outputs": [],
   "source": [
    "conv_base.trainable = True\n",
    "set_trainable = False\n",
    "\n",
    "for layer in conv_base.layers:\n",
    "    if layer.name == 'block5_conv1':\n",
    "        set_trainable = True\n",
    "    if set_trainable:\n",
    "        layer.trainable = True\n",
    "    else:\n",
    "        layer.trainable = False"
   ]
  },
  {
   "cell_type": "code",
   "execution_count": 8,
   "metadata": {},
   "outputs": [
    {
     "name": "stdout",
     "output_type": "stream",
     "text": [
      "_________________________________________________________________\n",
      "Layer (type)                 Output Shape              Param #   \n",
      "=================================================================\n",
      "vgg19 (Model)                (None, 16, 16, 512)       20024384  \n",
      "_________________________________________________________________\n",
      "flatten_1 (Flatten)          (None, 131072)            0         \n",
      "_________________________________________________________________\n",
      "dense_1 (Dense)              (None, 256)               33554688  \n",
      "_________________________________________________________________\n",
      "dropout_1 (Dropout)          (None, 256)               0         \n",
      "_________________________________________________________________\n",
      "dense_2 (Dense)              (None, 1)                 257       \n",
      "=================================================================\n",
      "Total params: 53,579,329\n",
      "Trainable params: 42,994,177\n",
      "Non-trainable params: 10,585,152\n",
      "_________________________________________________________________\n"
     ]
    }
   ],
   "source": [
    "model.compile(optimizer=optimizers.RMSprop(lr=1e-4),\n",
    "             loss='binary_crossentropy',\n",
    "             metrics=['acc'])\n",
    "model.summary()"
   ]
  },
  {
   "cell_type": "code",
   "execution_count": 9,
   "metadata": {},
   "outputs": [
    {
     "name": "stdout",
     "output_type": "stream",
     "text": [
      "Found 4040 images belonging to 2 classes.\n",
      "Found 45 images belonging to 2 classes.\n"
     ]
    }
   ],
   "source": [
    "from keras.preprocessing.image import ImageDataGenerator\n",
    "\n",
    "datagen = ImageDataGenerator(rescale = 1./255)\n",
    "\n",
    "\n",
    "train_generator = datagen.flow_from_directory(train_dir,\n",
    "                                             target_size = (512, 512), \n",
    "                                              batch_size = 20,\n",
    "                                              class_mode = 'binary')\n",
    "\n",
    "\n",
    "validation_generator = datagen.flow_from_directory(valid_dir,\n",
    "                                             target_size = (512, 512), \n",
    "                                              batch_size = 20,\n",
    "                                              class_mode = 'binary')\n",
    "                                              "
   ]
  },
  {
   "cell_type": "code",
   "execution_count": 10,
   "metadata": {
    "scrolled": false
   },
   "outputs": [
    {
     "name": "stdout",
     "output_type": "stream",
     "text": [
      "Epoch 1/50\n",
      "50/50 [==============================] - 60s - loss: 1.1338 - acc: 0.6170 - val_loss: 0.5979 - val_acc: 0.7737\n",
      "Epoch 2/50\n",
      "50/50 [==============================] - 56s - loss: 0.5200 - acc: 0.7920 - val_loss: 0.2550 - val_acc: 0.9096\n",
      "Epoch 3/50\n",
      "50/50 [==============================] - 57s - loss: 0.3697 - acc: 0.8610 - val_loss: 0.1383 - val_acc: 0.9605\n",
      "Epoch 4/50\n",
      "50/50 [==============================] - 57s - loss: 0.3323 - acc: 0.8610 - val_loss: 0.2150 - val_acc: 0.9553\n",
      "Epoch 5/50\n",
      "50/50 [==============================] - 56s - loss: 0.2694 - acc: 0.9060 - val_loss: 0.1990 - val_acc: 0.9342\n",
      "Epoch 6/50\n",
      "50/50 [==============================] - 57s - loss: 0.2206 - acc: 0.9320 - val_loss: 0.1413 - val_acc: 0.9553\n",
      "Epoch 7/50\n",
      "50/50 [==============================] - 57s - loss: 0.2248 - acc: 0.9360 - val_loss: 0.2866 - val_acc: 0.9105\n",
      "Epoch 8/50\n",
      "50/50 [==============================] - 56s - loss: 0.2003 - acc: 0.9330 - val_loss: 0.1570 - val_acc: 0.9562\n",
      "Epoch 9/50\n",
      "50/50 [==============================] - 57s - loss: 0.1654 - acc: 0.9520 - val_loss: 0.1916 - val_acc: 0.9553\n",
      "Epoch 10/50\n",
      "50/50 [==============================] - 57s - loss: 0.1338 - acc: 0.9540 - val_loss: 0.1249 - val_acc: 0.9526\n",
      "Epoch 11/50\n",
      "50/50 [==============================] - 56s - loss: 0.1976 - acc: 0.9440 - val_loss: 0.3310 - val_acc: 0.9342\n",
      "Epoch 12/50\n",
      "50/50 [==============================] - 57s - loss: 0.1484 - acc: 0.9510 - val_loss: 0.1530 - val_acc: 0.9763\n",
      "Epoch 13/50\n",
      "50/50 [==============================] - 57s - loss: 0.1311 - acc: 0.9740 - val_loss: 0.2358 - val_acc: 0.9789\n",
      "Epoch 14/50\n",
      "50/50 [==============================] - 56s - loss: 0.1522 - acc: 0.9590 - val_loss: 0.2410 - val_acc: 0.9562\n",
      "Epoch 15/50\n",
      "50/50 [==============================] - 57s - loss: 0.1306 - acc: 0.9630 - val_loss: 0.2143 - val_acc: 0.9789\n",
      "Epoch 16/50\n",
      "50/50 [==============================] - 57s - loss: 0.1338 - acc: 0.9670 - val_loss: 0.3662 - val_acc: 0.8684\n",
      "Epoch 17/50\n",
      "50/50 [==============================] - 56s - loss: 0.0755 - acc: 0.9700 - val_loss: 0.7374 - val_acc: 0.9096\n",
      "Epoch 18/50\n",
      "50/50 [==============================] - 57s - loss: 0.1487 - acc: 0.9580 - val_loss: 0.3538 - val_acc: 0.9553\n",
      "Epoch 19/50\n",
      "50/50 [==============================] - 57s - loss: 0.1281 - acc: 0.9690 - val_loss: 0.6516 - val_acc: 0.8868\n",
      "Epoch 20/50\n",
      "50/50 [==============================] - 56s - loss: 0.1478 - acc: 0.9660 - val_loss: 0.2720 - val_acc: 0.9781\n",
      "Epoch 21/50\n",
      "50/50 [==============================] - 57s - loss: 0.0533 - acc: 0.9910 - val_loss: 0.4473 - val_acc: 0.9553\n",
      "Epoch 22/50\n",
      "50/50 [==============================] - 57s - loss: 0.1270 - acc: 0.9720 - val_loss: 0.2864 - val_acc: 0.9342\n",
      "Epoch 23/50\n",
      "50/50 [==============================] - 56s - loss: 0.0798 - acc: 0.9820 - val_loss: 0.8797 - val_acc: 0.9342\n",
      "Epoch 24/50\n",
      "50/50 [==============================] - 57s - loss: 0.1192 - acc: 0.9750 - val_loss: 0.6282 - val_acc: 0.9105\n",
      "Epoch 25/50\n",
      "50/50 [==============================] - 57s - loss: 0.0951 - acc: 0.9790 - val_loss: 0.6984 - val_acc: 0.9316\n",
      "Epoch 26/50\n",
      "50/50 [==============================] - 56s - loss: 0.1381 - acc: 0.9820 - val_loss: 0.2048 - val_acc: 0.9342\n",
      "Epoch 27/50\n",
      "50/50 [==============================] - 57s - loss: 0.1125 - acc: 0.9780 - val_loss: 0.3539 - val_acc: 0.9526\n",
      "Epoch 28/50\n",
      "50/50 [==============================] - 57s - loss: 0.2293 - acc: 0.9670 - val_loss: 0.5612 - val_acc: 0.9342\n",
      "Epoch 29/50\n",
      "50/50 [==============================] - 56s - loss: 0.1182 - acc: 0.9810 - val_loss: 0.4477 - val_acc: 0.9534\n",
      "Epoch 30/50\n",
      "50/50 [==============================] - 57s - loss: 0.1606 - acc: 0.9770 - val_loss: 0.3127 - val_acc: 0.9316\n",
      "Epoch 31/50\n",
      "50/50 [==============================] - 57s - loss: 0.0783 - acc: 0.9810 - val_loss: 0.3746 - val_acc: 0.9579\n",
      "Epoch 32/50\n",
      "50/50 [==============================] - 56s - loss: 0.0831 - acc: 0.9750 - val_loss: 0.3174 - val_acc: 0.9534\n",
      "Epoch 33/50\n",
      "50/50 [==============================] - 57s - loss: 0.1060 - acc: 0.9850 - val_loss: 1.2854 - val_acc: 0.8737\n",
      "Epoch 34/50\n",
      "50/50 [==============================] - 57s - loss: 0.3528 - acc: 0.9690 - val_loss: 0.4564 - val_acc: 0.9553\n",
      "Epoch 35/50\n",
      "50/50 [==============================] - 56s - loss: 0.0753 - acc: 0.9820 - val_loss: 0.6865 - val_acc: 0.9260\n",
      "Epoch 36/50\n",
      "50/50 [==============================] - 57s - loss: 0.1405 - acc: 0.9790 - val_loss: 0.1265 - val_acc: 0.9789\n",
      "Epoch 37/50\n",
      "50/50 [==============================] - 57s - loss: 0.0383 - acc: 0.9920 - val_loss: 0.4863 - val_acc: 0.9526\n",
      "Epoch 38/50\n",
      "50/50 [==============================] - 56s - loss: 0.2213 - acc: 0.9720 - val_loss: 0.5769 - val_acc: 0.9096\n",
      "Epoch 39/50\n",
      "50/50 [==============================] - 57s - loss: 0.1115 - acc: 0.9850 - val_loss: 0.5735 - val_acc: 0.9316\n",
      "Epoch 40/50\n",
      "50/50 [==============================] - 57s - loss: 0.1773 - acc: 0.9750 - val_loss: 0.4293 - val_acc: 0.9579\n",
      "Epoch 41/50\n",
      "50/50 [==============================] - 56s - loss: 0.1349 - acc: 0.9830 - val_loss: 0.3540 - val_acc: 0.9781\n",
      "Epoch 42/50\n",
      "50/50 [==============================] - 57s - loss: 0.1585 - acc: 0.9800 - val_loss: 0.7600 - val_acc: 0.9526\n",
      "Epoch 43/50\n",
      "50/50 [==============================] - 57s - loss: 0.0911 - acc: 0.9870 - val_loss: 0.3527 - val_acc: 0.9553\n",
      "Epoch 44/50\n",
      "50/50 [==============================] - 56s - loss: 0.2592 - acc: 0.9710 - val_loss: 0.3604 - val_acc: 0.9562\n",
      "Epoch 45/50\n",
      "50/50 [==============================] - 57s - loss: 0.1623 - acc: 0.9790 - val_loss: 0.3501 - val_acc: 0.9553\n",
      "Epoch 46/50\n",
      "50/50 [==============================] - 57s - loss: 0.0908 - acc: 0.9830 - val_loss: 0.4465 - val_acc: 0.9316\n",
      "Epoch 47/50\n",
      "50/50 [==============================] - 56s - loss: 0.1119 - acc: 0.9830 - val_loss: 0.4025 - val_acc: 0.9562\n",
      "Epoch 48/50\n",
      "50/50 [==============================] - 57s - loss: 0.0690 - acc: 0.9880 - val_loss: 0.7132 - val_acc: 0.9553\n",
      "Epoch 49/50\n",
      "50/50 [==============================] - 57s - loss: 0.0749 - acc: 0.9890 - val_loss: 0.3444 - val_acc: 0.9789\n",
      "Epoch 50/50\n",
      "50/50 [==============================] - 56s - loss: 0.1604 - acc: 0.9830 - val_loss: 0.7029 - val_acc: 0.9562\n"
     ]
    }
   ],
   "source": [
    "history = model.fit_generator(train_generator,\n",
    "                    steps_per_epoch=50,\n",
    "                    epochs=50,  \n",
    "                    validation_data=validation_generator,\n",
    "                   validation_steps = 25)"
   ]
  },
  {
   "cell_type": "code",
   "execution_count": 11,
   "metadata": {
    "scrolled": false
   },
   "outputs": [
    {
     "name": "stdout",
     "output_type": "stream",
     "text": [
      "dict_keys(['val_loss', 'val_acc', 'loss', 'acc'])\n"
     ]
    }
   ],
   "source": [
    "history_dict = history.history\n",
    "print(history_dict.keys())\n",
    "\n",
    "model.save('damage_undamaged_conv3_2_vgg.h5')"
   ]
  },
  {
   "cell_type": "code",
   "execution_count": 12,
   "metadata": {},
   "outputs": [
    {
     "data": {
      "image/png": "[encoded data removed]",
      "text/plain": [
       "<matplotlib.figure.Figure at 0x7fd949f91c88>"
      ]
     },
     "metadata": {},
     "output_type": "display_data"
    },
    {
     "data": {
      "image/png": "[encoded data removed]",
      "text/plain": [
       "<matplotlib.figure.Figure at 0x7fd9141477b8>"
      ]
     },
     "metadata": {},
     "output_type": "display_data"
    }
   ],
   "source": [
    "#Displaying curves of loss and accuracy during training \n",
    "\n",
    "import matplotlib.pyplot as plt\n",
    "acc = history.history['acc']\n",
    "val_acc = history.history['val_acc']\n",
    "loss = history.history['loss']\n",
    "val_loss = history.history['val_loss']\n",
    "\n",
    "epochs = range(len(acc))\n",
    "\n",
    "plt.plot(epochs, acc, 'bo')#dots\n",
    "plt.plot(epochs, val_acc, 'b')#line segments\n",
    "plt.title('Training and validation accuracy with VGG19 +fine tuning the conv block 5')\n",
    "plt.figure()\n",
    "\n",
    "plt.plot(epochs, loss, 'bo')\n",
    "plt.plot(epochs, val_loss, 'b')\n",
    "plt.title('Training and validation loss with VGG19 + fine tuning the conv block 5')\n",
    "plt.show()"
   ]
  },
  {
   "cell_type": "code",
   "execution_count": null,
   "metadata": {
    "collapsed": true
   },
   "outputs": [],
   "source": []
  },
  {
   "cell_type": "code",
   "execution_count": null,
   "metadata": {
    "collapsed": true
   },
   "outputs": [],
   "source": []
  },
  {
   "cell_type": "code",
   "execution_count": null,
   "metadata": {
    "collapsed": true
   },
   "outputs": [],
   "source": []
  }
 ],
 "metadata": {
  "kernelspec": {
   "display_name": "Python 3",
   "language": "python",
   "name": "python3"
  },
  "language_info": {
   "codemirror_mode": {
    "name": "ipython",
    "version": 3
   },
   "file_extension": ".py",
   "mimetype": "text/x-python",
   "name": "python",
   "nbconvert_exporter": "python",
   "pygments_lexer": "ipython3",
   "version": "3.6.1"
  }
 },
 "nbformat": 4,
 "nbformat_minor": 2
}
