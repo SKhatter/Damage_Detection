{
 "cells": [
  {
   "cell_type": "code",
   "execution_count": 1,
   "metadata": {
    "collapsed": true
   },
   "outputs": [],
   "source": [
    "import os, shutil"
   ]
  },
  {
   "cell_type": "code",
   "execution_count": 2,
   "metadata": {
    "collapsed": true
   },
   "outputs": [],
   "source": [
    "base_dir = '/home/skhatter/rooftop_damage_data/'\n",
    "train_dir = '/home/skhatter/rooftop_damage_data/train'\n",
    "valid_dir = '/home/skhatter/rooftop_damage_data/val'\n",
    "test_dir = '/home/skhatter/rooftop_damage_data/test'\n",
    "\n",
    "\n",
    "train_dam_dir = '/home/skhatter/rooftop_damage_data/train/damaged'\n",
    "train_undam_dir = '/home/skhatter/rooftop_damage_data/train/undamaged'\n",
    "train_obj_dir = '/home/skhatter/rooftop_damage_data/train/object' \n",
    "train_notroof_dir = '/home/skhatter/rooftop_damage_data/train/notroof'\n",
    "\n",
    "valid_dam_dir = '/home/skhatter/rooftop_damage_data/val/damaged'\n",
    "valid_undam_dir = '/home/skhatter/rooftop_damage_data/val/undamaged'\n",
    "valid_obj_dir = '/home/skhatter/rooftop_damage_data/val/object'\n",
    "valid_notroof_dir = '/home/skhatter/rooftop_damage_data/val/notroof'"
   ]
  },
  {
   "cell_type": "code",
   "execution_count": 3,
   "metadata": {},
   "outputs": [
    {
     "name": "stdout",
     "output_type": "stream",
     "text": [
      "Total training damaged images 27914\n",
      "Total training undamaged images 38020\n",
      "Total training object images 3668\n",
      "Total training not-roof images 34536\n",
      "Total validation damaged images 99\n",
      "Total validation undamaged images 163\n",
      "Total validation object images 9\n",
      "Total validation notroof images 173\n",
      "Total test damaged images 10\n"
     ]
    }
   ],
   "source": [
    "print('Total training damaged images', len(os.listdir(train_dam_dir)))\n",
    "print('Total training undamaged images', len(os.listdir(train_undam_dir)))\n",
    "print('Total training object images', len(os.listdir(train_obj_dir)))\n",
    "print('Total training not-roof images', len(os.listdir(train_notroof_dir)))\n",
    "\n",
    "\n",
    "print('Total validation damaged images', len(os.listdir(valid_dam_dir)))\n",
    "print('Total validation undamaged images', len(os.listdir(valid_undam_dir)))\n",
    "print('Total validation object images', len(os.listdir(valid_obj_dir)))\n",
    "print('Total validation notroof images', len(os.listdir(valid_notroof_dir)))\n",
    "\n",
    "\n",
    "print('Total test damaged images', len(os.listdir(test_dir)))"
   ]
  },
  {
   "cell_type": "code",
   "execution_count": 4,
   "metadata": {},
   "outputs": [
    {
     "name": "stderr",
     "output_type": "stream",
     "text": [
      "Using TensorFlow backend.\n"
     ]
    }
   ],
   "source": [
    "from keras import layers\n",
    "from keras import models\n",
    "from keras.applications import VGG19"
   ]
  },
  {
   "cell_type": "code",
   "execution_count": 5,
   "metadata": {
    "scrolled": false
   },
   "outputs": [
    {
     "name": "stdout",
     "output_type": "stream",
     "text": [
      "_________________________________________________________________\n",
      "Layer (type)                 Output Shape              Param #   \n",
      "=================================================================\n",
      "input_1 (InputLayer)         (None, 512, 512, 3)       0         \n",
      "_________________________________________________________________\n",
      "block1_conv1 (Conv2D)        (None, 512, 512, 64)      1792      \n",
      "_________________________________________________________________\n",
      "block1_conv2 (Conv2D)        (None, 512, 512, 64)      36928     \n",
      "_________________________________________________________________\n",
      "block1_pool (MaxPooling2D)   (None, 256, 256, 64)      0         \n",
      "_________________________________________________________________\n",
      "block2_conv1 (Conv2D)        (None, 256, 256, 128)     73856     \n",
      "_________________________________________________________________\n",
      "block2_conv2 (Conv2D)        (None, 256, 256, 128)     147584    \n",
      "_________________________________________________________________\n",
      "block2_pool (MaxPooling2D)   (None, 128, 128, 128)     0         \n",
      "_________________________________________________________________\n",
      "block3_conv1 (Conv2D)        (None, 128, 128, 256)     295168    \n",
      "_________________________________________________________________\n",
      "block3_conv2 (Conv2D)        (None, 128, 128, 256)     590080    \n",
      "_________________________________________________________________\n",
      "block3_conv3 (Conv2D)        (None, 128, 128, 256)     590080    \n",
      "_________________________________________________________________\n",
      "block3_conv4 (Conv2D)        (None, 128, 128, 256)     590080    \n",
      "_________________________________________________________________\n",
      "block3_pool (MaxPooling2D)   (None, 64, 64, 256)       0         \n",
      "_________________________________________________________________\n",
      "block4_conv1 (Conv2D)        (None, 64, 64, 512)       1180160   \n",
      "_________________________________________________________________\n",
      "block4_conv2 (Conv2D)        (None, 64, 64, 512)       2359808   \n",
      "_________________________________________________________________\n",
      "block4_conv3 (Conv2D)        (None, 64, 64, 512)       2359808   \n",
      "_________________________________________________________________\n",
      "block4_conv4 (Conv2D)        (None, 64, 64, 512)       2359808   \n",
      "_________________________________________________________________\n",
      "block4_pool (MaxPooling2D)   (None, 32, 32, 512)       0         \n",
      "_________________________________________________________________\n",
      "block5_conv1 (Conv2D)        (None, 32, 32, 512)       2359808   \n",
      "_________________________________________________________________\n",
      "block5_conv2 (Conv2D)        (None, 32, 32, 512)       2359808   \n",
      "_________________________________________________________________\n",
      "block5_conv3 (Conv2D)        (None, 32, 32, 512)       2359808   \n",
      "_________________________________________________________________\n",
      "block5_conv4 (Conv2D)        (None, 32, 32, 512)       2359808   \n",
      "_________________________________________________________________\n",
      "block5_pool (MaxPooling2D)   (None, 16, 16, 512)       0         \n",
      "=================================================================\n",
      "Total params: 20,024,384\n",
      "Trainable params: 20,024,384\n",
      "Non-trainable params: 0\n",
      "_________________________________________________________________\n"
     ]
    }
   ],
   "source": [
    "conv_base = VGG19(weights = 'imagenet', include_top = False, input_shape=(512, 512, 3))\n",
    "conv_base.summary()"
   ]
  },
  {
   "cell_type": "code",
   "execution_count": 6,
   "metadata": {
    "collapsed": true
   },
   "outputs": [],
   "source": [
    "from keras import models\n",
    "from keras import layers\n",
    "from keras import optimizers\n",
    "\n",
    "model = models.Sequential()\n",
    "model.add(conv_base)\n",
    "model.add(layers.Flatten())\n",
    "model.add(layers.Dense(256, activation='relu'))\n",
    "model.add(layers.Dropout(0.5))\n",
    "model.add(layers.Dense(4, activation='sigmoid'))"
   ]
  },
  {
   "cell_type": "code",
   "execution_count": 7,
   "metadata": {
    "collapsed": true
   },
   "outputs": [],
   "source": [
    "conv_base.trainable = True\n",
    "set_trainable = False\n",
    "\n",
    "for layer in conv_base.layers:\n",
    "    if layer.name == 'block5_conv1':\n",
    "        set_trainable = True\n",
    "    if set_trainable:\n",
    "        layer.trainable = True\n",
    "    else:\n",
    "        layer.trainable = False"
   ]
  },
  {
   "cell_type": "code",
   "execution_count": 8,
   "metadata": {},
   "outputs": [
    {
     "name": "stdout",
     "output_type": "stream",
     "text": [
      "_________________________________________________________________\n",
      "Layer (type)                 Output Shape              Param #   \n",
      "=================================================================\n",
      "vgg19 (Model)                (None, 16, 16, 512)       20024384  \n",
      "_________________________________________________________________\n",
      "flatten_1 (Flatten)          (None, 131072)            0         \n",
      "_________________________________________________________________\n",
      "dense_1 (Dense)              (None, 256)               33554688  \n",
      "_________________________________________________________________\n",
      "dropout_1 (Dropout)          (None, 256)               0         \n",
      "_________________________________________________________________\n",
      "dense_2 (Dense)              (None, 4)                 1028      \n",
      "=================================================================\n",
      "Total params: 53,580,100\n",
      "Trainable params: 42,994,948\n",
      "Non-trainable params: 10,585,152\n",
      "_________________________________________________________________\n"
     ]
    }
   ],
   "source": [
    "model.compile(optimizer=optimizers.RMSprop(lr=1e-4),\n",
    "             loss='binary_crossentropy',\n",
    "             metrics=['acc'])\n",
    "model.summary()"
   ]
  },
  {
   "cell_type": "code",
   "execution_count": 9,
   "metadata": {},
   "outputs": [
    {
     "name": "stdout",
     "output_type": "stream",
     "text": [
      "Found 104138 images belonging to 4 classes.\n",
      "Found 444 images belonging to 4 classes.\n"
     ]
    }
   ],
   "source": [
    "from keras.preprocessing.image import ImageDataGenerator\n",
    "\n",
    "datagen = ImageDataGenerator(rescale = 1./255)\n",
    "\n",
    "\n",
    "train_generator = datagen.flow_from_directory(train_dir,\n",
    "                                             target_size = (512, 512), \n",
    "                                              batch_size = 20,\n",
    "                                              class_mode = 'categorical')\n",
    "\n",
    "\n",
    "validation_generator = datagen.flow_from_directory(valid_dir,\n",
    "                                             target_size = (512, 512), \n",
    "                                              batch_size = 20,\n",
    "                                              class_mode = 'categorical')\n",
    "                                              "
   ]
  },
  {
   "cell_type": "code",
   "execution_count": 10,
   "metadata": {
    "scrolled": false
   },
   "outputs": [
    {
     "name": "stdout",
     "output_type": "stream",
     "text": [
      "Epoch 1/50\n",
      "50/50 [==============================] - 64s - loss: 0.5053 - acc: 0.7743 - val_loss: 0.3839 - val_acc: 0.8120\n",
      "Epoch 2/50\n",
      "50/50 [==============================] - 61s - loss: 0.3455 - acc: 0.8358 - val_loss: 0.1643 - val_acc: 0.9716\n",
      "Epoch 3/50\n",
      "50/50 [==============================] - 61s - loss: 0.2385 - acc: 0.9018 - val_loss: 0.1805 - val_acc: 0.9225\n",
      "Epoch 4/50\n",
      "50/50 [==============================] - 61s - loss: 0.2147 - acc: 0.9220 - val_loss: 0.0625 - val_acc: 0.9830\n",
      "Epoch 5/50\n",
      "50/50 [==============================] - 61s - loss: 0.1950 - acc: 0.9308 - val_loss: 0.0559 - val_acc: 0.9866\n",
      "Epoch 6/50\n",
      "50/50 [==============================] - 61s - loss: 0.1636 - acc: 0.9420 - val_loss: 0.3366 - val_acc: 0.8724\n",
      "Epoch 7/50\n",
      "50/50 [==============================] - 61s - loss: 0.1628 - acc: 0.9443 - val_loss: 0.0925 - val_acc: 0.9711\n",
      "Epoch 8/50\n",
      "50/50 [==============================] - 61s - loss: 0.1421 - acc: 0.9480 - val_loss: 0.0594 - val_acc: 0.9778\n",
      "Epoch 9/50\n",
      "50/50 [==============================] - 61s - loss: 0.1420 - acc: 0.9558 - val_loss: 0.3931 - val_acc: 0.8858\n",
      "Epoch 10/50\n",
      "50/50 [==============================] - 61s - loss: 0.1262 - acc: 0.9570 - val_loss: 0.0462 - val_acc: 0.9835\n",
      "Epoch 11/50\n",
      "50/50 [==============================] - 61s - loss: 0.1603 - acc: 0.9508 - val_loss: 0.0338 - val_acc: 0.9876\n",
      "Epoch 12/50\n",
      "50/50 [==============================] - 61s - loss: 0.1190 - acc: 0.9658 - val_loss: 0.1382 - val_acc: 0.9458\n",
      "Epoch 13/50\n",
      "50/50 [==============================] - 61s - loss: 0.0976 - acc: 0.9668 - val_loss: 0.0955 - val_acc: 0.9716\n",
      "Epoch 14/50\n",
      "50/50 [==============================] - 61s - loss: 0.1252 - acc: 0.9618 - val_loss: 0.1774 - val_acc: 0.9607\n",
      "Epoch 15/50\n",
      "50/50 [==============================] - 61s - loss: 0.1127 - acc: 0.9615 - val_loss: 0.2614 - val_acc: 0.9241\n",
      "Epoch 16/50\n",
      "50/50 [==============================] - 61s - loss: 0.1024 - acc: 0.9713 - val_loss: 0.3288 - val_acc: 0.9504\n",
      "Epoch 17/50\n",
      "50/50 [==============================] - 61s - loss: 0.1103 - acc: 0.9685 - val_loss: 0.5384 - val_acc: 0.8796\n",
      "Epoch 18/50\n",
      "50/50 [==============================] - 61s - loss: 0.1089 - acc: 0.9665 - val_loss: 0.2013 - val_acc: 0.9654\n",
      "Epoch 19/50\n",
      "50/50 [==============================] - 61s - loss: 0.1135 - acc: 0.9733 - val_loss: 0.2773 - val_acc: 0.9055\n",
      "Epoch 20/50\n",
      "50/50 [==============================] - 60s - loss: 0.1053 - acc: 0.9690 - val_loss: 0.0341 - val_acc: 0.9904\n",
      "Epoch 21/50\n",
      "50/50 [==============================] - 61s - loss: 0.0857 - acc: 0.9730 - val_loss: 0.0230 - val_acc: 0.9928\n",
      "Epoch 22/50\n",
      "50/50 [==============================] - 60s - loss: 0.0925 - acc: 0.9740 - val_loss: 0.2017 - val_acc: 0.9663\n",
      "Epoch 23/50\n",
      "50/50 [==============================] - 61s - loss: 0.1096 - acc: 0.9758 - val_loss: 0.0386 - val_acc: 0.9850\n",
      "Epoch 24/50\n",
      "50/50 [==============================] - 61s - loss: 0.1288 - acc: 0.9748 - val_loss: 0.1118 - val_acc: 0.9762\n",
      "Epoch 25/50\n",
      "50/50 [==============================] - 61s - loss: 0.1002 - acc: 0.9728 - val_loss: 0.1886 - val_acc: 0.9556\n",
      "Epoch 26/50\n",
      "50/50 [==============================] - 61s - loss: 0.1207 - acc: 0.9688 - val_loss: 0.0863 - val_acc: 0.9762\n",
      "Epoch 27/50\n",
      "50/50 [==============================] - 61s - loss: 0.1273 - acc: 0.9740 - val_loss: 0.0328 - val_acc: 0.9871\n",
      "Epoch 28/50\n",
      "50/50 [==============================] - 61s - loss: 0.0830 - acc: 0.9770 - val_loss: 0.1187 - val_acc: 0.9685\n",
      "Epoch 29/50\n",
      "50/50 [==============================] - 61s - loss: 0.0812 - acc: 0.9780 - val_loss: 0.0376 - val_acc: 0.9892\n",
      "Epoch 30/50\n",
      "50/50 [==============================] - 61s - loss: 0.1231 - acc: 0.9730 - val_loss: 0.1055 - val_acc: 0.9835\n",
      "Epoch 31/50\n",
      "50/50 [==============================] - 61s - loss: 0.1029 - acc: 0.9738 - val_loss: 0.0545 - val_acc: 0.9866\n",
      "Epoch 32/50\n",
      "50/50 [==============================] - 61s - loss: 0.1009 - acc: 0.9755 - val_loss: 0.0320 - val_acc: 0.9917\n",
      "Epoch 33/50\n",
      "50/50 [==============================] - 61s - loss: 0.0860 - acc: 0.9720 - val_loss: 0.1335 - val_acc: 0.9685\n",
      "Epoch 34/50\n",
      "50/50 [==============================] - 61s - loss: 0.1217 - acc: 0.9730 - val_loss: 0.0869 - val_acc: 0.9804\n",
      "Epoch 35/50\n",
      "50/50 [==============================] - 61s - loss: 0.0878 - acc: 0.9770 - val_loss: 0.1108 - val_acc: 0.9737\n",
      "Epoch 36/50\n",
      "50/50 [==============================] - 61s - loss: 0.1023 - acc: 0.9715 - val_loss: 0.0369 - val_acc: 0.9897\n",
      "Epoch 37/50\n",
      "50/50 [==============================] - 61s - loss: 0.1299 - acc: 0.9728 - val_loss: 0.0992 - val_acc: 0.9783\n",
      "Epoch 38/50\n",
      "50/50 [==============================] - 61s - loss: 0.0850 - acc: 0.9760 - val_loss: 0.0341 - val_acc: 0.9871\n",
      "Epoch 39/50\n",
      "50/50 [==============================] - 61s - loss: 0.1200 - acc: 0.9695 - val_loss: 0.0548 - val_acc: 0.9850\n",
      "Epoch 40/50\n",
      "50/50 [==============================] - 61s - loss: 0.0846 - acc: 0.9785 - val_loss: 1.3603 - val_acc: 0.8740\n",
      "Epoch 41/50\n",
      "50/50 [==============================] - 61s - loss: 0.0983 - acc: 0.9733 - val_loss: 0.1648 - val_acc: 0.9416\n",
      "Epoch 42/50\n",
      "50/50 [==============================] - 61s - loss: 0.0965 - acc: 0.9780 - val_loss: 0.1915 - val_acc: 0.9520\n",
      "Epoch 43/50\n",
      "50/50 [==============================] - 60s - loss: 0.0659 - acc: 0.9805 - val_loss: 0.0329 - val_acc: 0.9861\n",
      "Epoch 44/50\n",
      "50/50 [==============================] - 61s - loss: 0.1062 - acc: 0.9793 - val_loss: 0.0364 - val_acc: 0.9876\n",
      "Epoch 45/50\n",
      "50/50 [==============================] - 60s - loss: 0.0757 - acc: 0.9793 - val_loss: 0.0627 - val_acc: 0.9829\n",
      "Epoch 46/50\n",
      "50/50 [==============================] - 61s - loss: 0.0854 - acc: 0.9775 - val_loss: 0.0812 - val_acc: 0.9881\n",
      "Epoch 47/50\n",
      "50/50 [==============================] - 61s - loss: 0.1035 - acc: 0.9770 - val_loss: 0.1317 - val_acc: 0.9850\n",
      "Epoch 48/50\n",
      "50/50 [==============================] - 61s - loss: 0.0842 - acc: 0.9800 - val_loss: 0.0086 - val_acc: 0.9979\n",
      "Epoch 49/50\n",
      "50/50 [==============================] - 61s - loss: 0.0692 - acc: 0.9788 - val_loss: 0.0767 - val_acc: 0.9845\n",
      "Epoch 50/50\n",
      "50/50 [==============================] - 61s - loss: 0.0795 - acc: 0.9788 - val_loss: 0.0411 - val_acc: 0.9824\n"
     ]
    }
   ],
   "source": [
    "history = model.fit_generator(train_generator,\n",
    "                    steps_per_epoch=50,\n",
    "                    epochs=50,  \n",
    "                    validation_data=validation_generator,\n",
    "                   validation_steps = 25)"
   ]
  },
  {
   "cell_type": "code",
   "execution_count": 13,
   "metadata": {
    "scrolled": false
   },
   "outputs": [
    {
     "name": "stdout",
     "output_type": "stream",
     "text": [
      "dict_keys(['val_loss', 'val_acc', 'loss', 'acc'])\n"
     ]
    }
   ],
   "source": [
    "history_dict = history.history\n",
    "print(history_dict.keys())\n",
    "\n",
    "model.save('vgg19_1.h5')"
   ]
  },
  {
   "cell_type": "code",
   "execution_count": 14,
   "metadata": {},
   "outputs": [
    {
     "data": {
      "image/png": "[encoded data removed]",
      "text/plain": [
       "<matplotlib.figure.Figure at 0x7f999d4e49e8>"
      ]
     },
     "metadata": {},
     "output_type": "display_data"
    },
    {
     "data": {
      "image/png": "[encoded data removed]",
      "text/plain": [
       "<matplotlib.figure.Figure at 0x7f999d448550>"
      ]
     },
     "metadata": {},
     "output_type": "display_data"
    }
   ],
   "source": [
    "#Displaying curves of loss and accuracy during training \n",
    "\n",
    "import matplotlib.pyplot as plt\n",
    "acc = history.history['acc']\n",
    "val_acc = history.history['val_acc']\n",
    "loss = history.history['loss']\n",
    "val_loss = history.history['val_loss']\n",
    "\n",
    "epochs = range(len(acc))\n",
    "\n",
    "plt.plot(epochs, acc, 'bo')#dots\n",
    "plt.plot(epochs, val_acc, 'b')#line segments\n",
    "plt.title('Training and validation accuracy with VGG19 of 4 classes with fine tuning the conv block 5')\n",
    "plt.figure()\n",
    "\n",
    "plt.plot(epochs, loss, 'bo')\n",
    "plt.plot(epochs, val_loss, 'b')\n",
    "plt.title('Training and validation loss with VGG19 of 4 classes with fine tuning the conv block 5')\n",
    "plt.show()"
   ]
  },
  {
   "cell_type": "code",
   "execution_count": null,
   "metadata": {
    "collapsed": true
   },
   "outputs": [],
   "source": []
  },
  {
   "cell_type": "code",
   "execution_count": null,
   "metadata": {
    "collapsed": true
   },
   "outputs": [],
   "source": []
  }
 ],
 "metadata": {
  "kernelspec": {
   "display_name": "Python 3",
   "language": "python",
   "name": "python3"
  },
  "language_info": {
   "codemirror_mode": {
    "name": "ipython",
    "version": 3
   },
   "file_extension": ".py",
   "mimetype": "text/x-python",
   "name": "python",
   "nbconvert_exporter": "python",
   "pygments_lexer": "ipython3",
   "version": "3.6.1"
  }
 },
 "nbformat": 4,
 "nbformat_minor": 2
}
