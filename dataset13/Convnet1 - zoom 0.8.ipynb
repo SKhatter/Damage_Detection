{
 "cells": [
  {
   "cell_type": "markdown",
   "metadata": {},
   "source": [
    "## Zoom range changed from 0.2 to 0.8 and the accuracy scores decline a little bit"
   ]
  },
  {
   "cell_type": "code",
   "execution_count": 1,
   "metadata": {
    "collapsed": true
   },
   "outputs": [],
   "source": [
    "import os, shutil"
   ]
  },
  {
   "cell_type": "code",
   "execution_count": 2,
   "metadata": {
    "collapsed": true
   },
   "outputs": [],
   "source": [
    "base_dir = '/home/skhatter/dataset13'\n",
    "train_dir = '/home/skhatter/dataset13/train'\n",
    "valid_dir = '/home/skhatter/dataset13/valid'\n",
    "\n",
    "train_dam_dir = '/home/skhatter/dataset13/train/damaged'\n",
    "train_undam_dir = '/home/skhatter/dataset13/train/undamaged'\n",
    "\n",
    "valid_dam_dir = '/home/skhatter/dataset13/valid/damaged'\n",
    "valid_undam_dir = '/home/skhatter/dataset13/valid/undamaged'"
   ]
  },
  {
   "cell_type": "code",
   "execution_count": 3,
   "metadata": {},
   "outputs": [
    {
     "name": "stdout",
     "output_type": "stream",
     "text": [
      "Total training damaged images 160\n",
      "Total training undamaged images 234\n",
      "Total validation damaged images 53\n",
      "Total validation undamaged images 80\n"
     ]
    }
   ],
   "source": [
    "print('Total training damaged images', len(os.listdir(train_dam_dir)))\n",
    "print('Total training undamaged images', len(os.listdir(train_undam_dir)))\n",
    "\n",
    "print('Total validation damaged images', len(os.listdir(valid_dam_dir)))\n",
    "print('Total validation undamaged images', len(os.listdir(valid_undam_dir)))"
   ]
  },
  {
   "cell_type": "code",
   "execution_count": 4,
   "metadata": {},
   "outputs": [
    {
     "name": "stderr",
     "output_type": "stream",
     "text": [
      "Using TensorFlow backend.\n"
     ]
    }
   ],
   "source": [
    "from keras import layers\n",
    "from keras import models"
   ]
  },
  {
   "cell_type": "code",
   "execution_count": 5,
   "metadata": {
    "scrolled": false
   },
   "outputs": [
    {
     "name": "stdout",
     "output_type": "stream",
     "text": [
      "_________________________________________________________________\n",
      "Layer (type)                 Output Shape              Param #   \n",
      "=================================================================\n",
      "conv2d_1 (Conv2D)            (None, 510, 510, 100)     2800      \n",
      "_________________________________________________________________\n",
      "max_pooling2d_1 (MaxPooling2 (None, 255, 255, 100)     0         \n",
      "_________________________________________________________________\n",
      "conv2d_2 (Conv2D)            (None, 253, 253, 200)     180200    \n",
      "_________________________________________________________________\n",
      "max_pooling2d_2 (MaxPooling2 (None, 126, 126, 200)     0         \n",
      "_________________________________________________________________\n",
      "conv2d_3 (Conv2D)            (None, 124, 124, 200)     360200    \n",
      "_________________________________________________________________\n",
      "max_pooling2d_3 (MaxPooling2 (None, 62, 62, 200)       0         \n",
      "_________________________________________________________________\n",
      "conv2d_4 (Conv2D)            (None, 60, 60, 200)       360200    \n",
      "_________________________________________________________________\n",
      "max_pooling2d_4 (MaxPooling2 (None, 30, 30, 200)       0         \n",
      "_________________________________________________________________\n",
      "flatten_1 (Flatten)          (None, 180000)            0         \n",
      "_________________________________________________________________\n",
      "dropout_1 (Dropout)          (None, 180000)            0         \n",
      "_________________________________________________________________\n",
      "dense_1 (Dense)              (None, 512)               92160512  \n",
      "_________________________________________________________________\n",
      "dense_2 (Dense)              (None, 1)                 513       \n",
      "=================================================================\n",
      "Total params: 93,064,425\n",
      "Trainable params: 93,064,425\n",
      "Non-trainable params: 0\n",
      "_________________________________________________________________\n"
     ]
    }
   ],
   "source": [
    "model = models.Sequential()\n",
    "model.add(layers.Conv2D(100, (3,3), activation ='relu', input_shape = (512, 512, 3)))\n",
    "model.add(layers.MaxPooling2D((2,2)))\n",
    "model.add(layers.Conv2D(200, (3,3), activation ='relu'))\n",
    "model.add(layers.MaxPooling2D((2,2)))\n",
    "model.add(layers.Conv2D(200, (3,3), activation='relu'))\n",
    "model.add(layers.MaxPooling2D((2,2)))\n",
    "model.add(layers.Conv2D(200, (3,3), activation='relu'))\n",
    "model.add(layers.MaxPooling2D((2,2)))\n",
    "model.add(layers.Flatten())\n",
    "model.add(layers.Dropout(0.5))\n",
    "model.add(layers.Dense(512, activation = 'relu'))\n",
    "model.add(layers.Dense(1, activation = 'sigmoid'))\n",
    "model.summary()"
   ]
  },
  {
   "cell_type": "code",
   "execution_count": 6,
   "metadata": {
    "collapsed": true
   },
   "outputs": [],
   "source": [
    "from keras import optimizers"
   ]
  },
  {
   "cell_type": "code",
   "execution_count": 7,
   "metadata": {
    "collapsed": true
   },
   "outputs": [],
   "source": [
    "model.compile(loss = 'binary_crossentropy', optimizer = optimizers.RMSprop(lr=1e-4), metrics=['acc'])"
   ]
  },
  {
   "cell_type": "code",
   "execution_count": 8,
   "metadata": {},
   "outputs": [
    {
     "name": "stdout",
     "output_type": "stream",
     "text": [
      "Found 393 images belonging to 2 classes.\n",
      "Found 132 images belonging to 2 classes.\n",
      "train data batch:  (5, 512, 512, 3)\n",
      "train label batch:  (5,)\n",
      "validation data batch:  (5, 512, 512, 3)\n",
      "validation label batch (5,)\n"
     ]
    }
   ],
   "source": [
    "from keras.preprocessing.image import ImageDataGenerator\n",
    "\n",
    "train_datagen = ImageDataGenerator(rescale = 1./255, rotation_range=40,width_shift_range=0.2,\n",
    "                                  height_shift_range=0.2,\n",
    "                                  shear_range=0.2,\n",
    "                                  zoom_range=0.8,\n",
    "                                  horizontal_flip=True)\n",
    "test_datagen= ImageDataGenerator(rescale = 1./255)\n",
    "\n",
    "train_generator = train_datagen.flow_from_directory(train_dir, target_size=(512, 512), batch_size =5,\n",
    "                                                    class_mode='binary')\n",
    "validation_generator = test_datagen.flow_from_directory(valid_dir, target_size = (512, 512),\n",
    "                                                        batch_size = 5, class_mode='binary')\n",
    "\n",
    "\n",
    "#displaying the shapes of batch of data and labels\n",
    "for data_batch, labels_batch in train_generator:\n",
    "    print('train data batch: ', data_batch.shape)\n",
    "    print('train label batch: ', labels_batch.shape)\n",
    "    break\n",
    "    \n",
    "for data_batch, labels_batch in validation_generator:\n",
    "    print('validation data batch: ', data_batch.shape)\n",
    "    print('validation label batch', labels_batch.shape)\n",
    "    break"
   ]
  },
  {
   "cell_type": "code",
   "execution_count": 9,
   "metadata": {
    "scrolled": false
   },
   "outputs": [
    {
     "name": "stdout",
     "output_type": "stream",
     "text": [
      "Epoch 1/30\n",
      "50/50 [==============================] - 15s - loss: 0.7383 - acc: 0.5680 - val_loss: 0.6972 - val_acc: 0.4000\n",
      "Epoch 2/30\n",
      "50/50 [==============================] - 14s - loss: 0.6896 - acc: 0.6079 - val_loss: 0.6839 - val_acc: 0.5410\n",
      "Epoch 3/30\n",
      "50/50 [==============================] - 14s - loss: 0.6882 - acc: 0.5800 - val_loss: 0.6838 - val_acc: 0.5410\n",
      "Epoch 4/30\n",
      "50/50 [==============================] - 13s - loss: 0.6948 - acc: 0.5693 - val_loss: 0.6845 - val_acc: 0.5902\n",
      "Epoch 5/30\n",
      "50/50 [==============================] - 13s - loss: 0.6815 - acc: 0.5427 - val_loss: 0.6885 - val_acc: 0.5984\n",
      "Epoch 6/30\n",
      "50/50 [==============================] - 14s - loss: 0.6856 - acc: 0.6000 - val_loss: 0.6819 - val_acc: 0.5902\n",
      "Epoch 7/30\n",
      "50/50 [==============================] - 14s - loss: 0.6933 - acc: 0.6013 - val_loss: 0.6603 - val_acc: 0.6230\n",
      "Epoch 8/30\n",
      "50/50 [==============================] - 14s - loss: 0.6732 - acc: 0.6187 - val_loss: 0.6688 - val_acc: 0.6066\n",
      "Epoch 9/30\n",
      "50/50 [==============================] - 14s - loss: 0.6654 - acc: 0.6000 - val_loss: 0.7154 - val_acc: 0.6148\n",
      "Epoch 10/30\n",
      "50/50 [==============================] - 14s - loss: 0.6798 - acc: 0.6093 - val_loss: 0.6148 - val_acc: 0.6475\n",
      "Epoch 11/30\n",
      "50/50 [==============================] - 14s - loss: 0.6775 - acc: 0.6000 - val_loss: 0.6733 - val_acc: 0.5760\n",
      "Epoch 12/30\n",
      "50/50 [==============================] - 14s - loss: 0.6876 - acc: 0.6053 - val_loss: 0.6909 - val_acc: 0.6230\n",
      "Epoch 13/30\n",
      "50/50 [==============================] - 14s - loss: 0.6542 - acc: 0.6559 - val_loss: 0.7180 - val_acc: 0.5984\n",
      "Epoch 14/30\n",
      "50/50 [==============================] - 14s - loss: 0.6613 - acc: 0.6440 - val_loss: 0.6762 - val_acc: 0.5492\n",
      "Epoch 15/30\n",
      "50/50 [==============================] - 14s - loss: 0.6823 - acc: 0.5987 - val_loss: 0.7043 - val_acc: 0.5410\n",
      "Epoch 16/30\n",
      "50/50 [==============================] - 14s - loss: 0.6554 - acc: 0.6293 - val_loss: 0.6774 - val_acc: 0.6311\n",
      "Epoch 17/30\n",
      "50/50 [==============================] - 14s - loss: 0.6557 - acc: 0.6400 - val_loss: 0.6928 - val_acc: 0.5656\n",
      "Epoch 18/30\n",
      "50/50 [==============================] - 14s - loss: 0.6579 - acc: 0.6373 - val_loss: 0.6450 - val_acc: 0.6393\n",
      "Epoch 19/30\n",
      "50/50 [==============================] - 14s - loss: 0.6023 - acc: 0.6853 - val_loss: 0.6620 - val_acc: 0.5820\n",
      "Epoch 20/30\n",
      "50/50 [==============================] - 14s - loss: 0.6530 - acc: 0.6480 - val_loss: 0.6325 - val_acc: 0.6148\n",
      "Epoch 21/30\n",
      "50/50 [==============================] - 14s - loss: 0.6712 - acc: 0.6693 - val_loss: 0.6442 - val_acc: 0.6721\n",
      "Epoch 22/30\n",
      "50/50 [==============================] - 14s - loss: 0.6211 - acc: 0.6520 - val_loss: 0.6918 - val_acc: 0.5902\n",
      "Epoch 23/30\n",
      "50/50 [==============================] - 14s - loss: 0.6534 - acc: 0.7040 - val_loss: 0.7538 - val_acc: 0.5574\n",
      "Epoch 24/30\n",
      "50/50 [==============================] - 14s - loss: 0.6414 - acc: 0.6679 - val_loss: 0.6604 - val_acc: 0.6639\n",
      "Epoch 25/30\n",
      "50/50 [==============================] - 14s - loss: 0.6491 - acc: 0.6440 - val_loss: 0.6355 - val_acc: 0.6393\n",
      "Epoch 26/30\n",
      "50/50 [==============================] - 14s - loss: 0.6478 - acc: 0.6281 - val_loss: 0.6626 - val_acc: 0.6066\n",
      "Epoch 27/30\n",
      "50/50 [==============================] - 14s - loss: 0.6313 - acc: 0.6893 - val_loss: 0.8467 - val_acc: 0.5328\n",
      "Epoch 28/30\n",
      "50/50 [==============================] - 14s - loss: 0.6450 - acc: 0.6520 - val_loss: 0.6575 - val_acc: 0.6560\n",
      "Epoch 29/30\n",
      "50/50 [==============================] - 14s - loss: 0.6383 - acc: 0.6759 - val_loss: 0.5825 - val_acc: 0.6803\n",
      "Epoch 30/30\n",
      "50/50 [==============================] - 14s - loss: 0.6496 - acc: 0.6627 - val_loss: 0.6725 - val_acc: 0.5820\n",
      "dict_keys(['val_loss', 'val_acc', 'loss', 'acc'])\n"
     ]
    }
   ],
   "source": [
    "#Fitting the model using a batch generator\n",
    "\n",
    "history = model.fit_generator(train_generator, steps_per_epoch=50, epochs = 30, \n",
    "                              validation_data= validation_generator, validation_steps=25)\n",
    "\n",
    "\n",
    "history_dict = history.history\n",
    "print(history_dict.keys())\n",
    "\n",
    "model.save('convnet1.h5')"
   ]
  },
  {
   "cell_type": "code",
   "execution_count": 10,
   "metadata": {},
   "outputs": [
    {
     "data": {
      "image/png": "[encoded data removed]",
      "text/plain": [
       "<matplotlib.figure.Figure at 0x7fe05b596e48>"
      ]
     },
     "metadata": {},
     "output_type": "display_data"
    },
    {
     "data": {
      "image/png": "[encoded data removed]",
      "text/plain": [
       "<matplotlib.figure.Figure at 0x7fe03800e3c8>"
      ]
     },
     "metadata": {},
     "output_type": "display_data"
    }
   ],
   "source": [
    "#Displaying curves of loss and accuracy during training \n",
    "\n",
    "import matplotlib.pyplot as plt\n",
    "acc = history.history['acc']\n",
    "val_acc = history.history['val_acc']\n",
    "loss = history.history['loss']\n",
    "val_loss = history.history['val_loss']\n",
    "\n",
    "epochs = range(len(acc))\n",
    "\n",
    "plt.plot(epochs, acc, 'bo')#dots\n",
    "plt.plot(epochs, val_acc, 'b')#line segments\n",
    "plt.title('Training and validation accuracy')\n",
    "plt.figure()\n",
    "\n",
    "plt.plot(epochs, loss, 'bo')\n",
    "plt.plot(epochs, val_loss, 'b')\n",
    "plt.title('Training and validation loss')\n",
    "plt.show()"
   ]
  },
  {
   "cell_type": "code",
   "execution_count": 11,
   "metadata": {},
   "outputs": [
    {
     "name": "stdout",
     "output_type": "stream",
     "text": [
      "Epoch 1/30\n",
      "50/50 [==============================] - 14s - loss: 0.6897 - acc: 0.6800 - val_loss: 0.7141 - val_acc: 0.5492\n",
      "Epoch 2/30\n",
      "50/50 [==============================] - 13s - loss: 0.6056 - acc: 0.6533 - val_loss: 0.7080 - val_acc: 0.6967\n",
      "Epoch 3/30\n",
      "50/50 [==============================] - 14s - loss: 0.6416 - acc: 0.6267 - val_loss: 0.6170 - val_acc: 0.6475\n",
      "Epoch 4/30\n",
      "50/50 [==============================] - 15s - loss: 0.6113 - acc: 0.6880 - val_loss: 0.6387 - val_acc: 0.6885\n",
      "Epoch 5/30\n",
      "50/50 [==============================] - 14s - loss: 0.6652 - acc: 0.6279 - val_loss: 0.5519 - val_acc: 0.7295\n",
      "Epoch 6/30\n",
      "50/50 [==============================] - 14s - loss: 0.5614 - acc: 0.7200 - val_loss: 0.6861 - val_acc: 0.6311\n",
      "Epoch 7/30\n",
      "50/50 [==============================] - 14s - loss: 0.6157 - acc: 0.6853 - val_loss: 0.6373 - val_acc: 0.6639\n",
      "Epoch 8/30\n",
      "50/50 [==============================] - 14s - loss: 0.5788 - acc: 0.7480 - val_loss: 0.5365 - val_acc: 0.7280\n",
      "Epoch 9/30\n",
      "50/50 [==============================] - 14s - loss: 0.5913 - acc: 0.7080 - val_loss: 0.9002 - val_acc: 0.6885\n",
      "Epoch 10/30\n",
      "50/50 [==============================] - 14s - loss: 0.6413 - acc: 0.6639 - val_loss: 0.6514 - val_acc: 0.6230\n",
      "Epoch 11/30\n",
      "50/50 [==============================] - 14s - loss: 0.5940 - acc: 0.6933 - val_loss: 0.6075 - val_acc: 0.6557\n",
      "Epoch 12/30\n",
      "50/50 [==============================] - 14s - loss: 0.7100 - acc: 0.7280 - val_loss: 0.6480 - val_acc: 0.6721\n",
      "Epoch 13/30\n",
      "50/50 [==============================] - 14s - loss: 0.5944 - acc: 0.6773 - val_loss: 0.5992 - val_acc: 0.7377\n",
      "Epoch 14/30\n",
      "50/50 [==============================] - 14s - loss: 0.6092 - acc: 0.7240 - val_loss: 0.7603 - val_acc: 0.6230\n",
      "Epoch 15/30\n",
      "50/50 [==============================] - 14s - loss: 0.5809 - acc: 0.7333 - val_loss: 0.7143 - val_acc: 0.6311\n",
      "Epoch 16/30\n",
      "50/50 [==============================] - 14s - loss: 0.5646 - acc: 0.7293 - val_loss: 0.7486 - val_acc: 0.6803\n",
      "Epoch 17/30\n",
      "50/50 [==============================] - 14s - loss: 0.5762 - acc: 0.7400 - val_loss: 0.6238 - val_acc: 0.6639\n",
      "Epoch 18/30\n",
      "50/50 [==============================] - 14s - loss: 0.5539 - acc: 0.7560 - val_loss: 0.7299 - val_acc: 0.6721\n",
      "Epoch 19/30\n",
      "50/50 [==============================] - 14s - loss: 0.6017 - acc: 0.7080 - val_loss: 0.5865 - val_acc: 0.6639\n",
      "Epoch 20/30\n",
      "50/50 [==============================] - 14s - loss: 0.5985 - acc: 0.7200 - val_loss: 0.6565 - val_acc: 0.6230\n",
      "Epoch 21/30\n",
      "50/50 [==============================] - 14s - loss: 0.5786 - acc: 0.7240 - val_loss: 0.5072 - val_acc: 0.7213\n",
      "Epoch 22/30\n",
      "50/50 [==============================] - 14s - loss: 0.5496 - acc: 0.7413 - val_loss: 0.5500 - val_acc: 0.7049\n",
      "Epoch 23/30\n",
      "50/50 [==============================] - 14s - loss: 0.5750 - acc: 0.7480 - val_loss: 0.6161 - val_acc: 0.7295\n",
      "Epoch 24/30\n",
      "50/50 [==============================] - 14s - loss: 0.5013 - acc: 0.7520 - val_loss: 0.5332 - val_acc: 0.7459\n",
      "Epoch 25/30\n",
      "50/50 [==============================] - 14s - loss: 0.5475 - acc: 0.7440 - val_loss: 0.5350 - val_acc: 0.7280\n",
      "Epoch 26/30\n",
      "50/50 [==============================] - 14s - loss: 0.7174 - acc: 0.7400 - val_loss: 0.5871 - val_acc: 0.7295\n",
      "Epoch 27/30\n",
      "50/50 [==============================] - 14s - loss: 0.5742 - acc: 0.7200 - val_loss: 0.6554 - val_acc: 0.7459\n",
      "Epoch 28/30\n",
      "50/50 [==============================] - 14s - loss: 0.5905 - acc: 0.7120 - val_loss: 0.5744 - val_acc: 0.6885\n",
      "Epoch 29/30\n",
      "50/50 [==============================] - 14s - loss: 0.5236 - acc: 0.7560 - val_loss: 0.5620 - val_acc: 0.6803\n",
      "Epoch 30/30\n",
      "50/50 [==============================] - 14s - loss: 0.6089 - acc: 0.7107 - val_loss: 0.5927 - val_acc: 0.7295\n",
      "dict_keys(['val_loss', 'val_acc', 'loss', 'acc'])\n"
     ]
    }
   ],
   "source": [
    "#Fitting the model using a batch generator\n",
    "\n",
    "history = model.fit_generator(train_generator, steps_per_epoch=50, epochs = 30, \n",
    "                              validation_data= validation_generator, validation_steps=25)\n",
    "\n",
    "\n",
    "history_dict = history.history\n",
    "print(history_dict.keys())\n",
    "\n",
    "model.save('damage_undamaged_conv2_2.h5')"
   ]
  },
  {
   "cell_type": "code",
   "execution_count": 12,
   "metadata": {},
   "outputs": [
    {
     "data": {
      "image/png": "[encoded data removed]",
      "text/plain": [
       "<matplotlib.figure.Figure at 0x7fe0280b0160>"
      ]
     },
     "metadata": {},
     "output_type": "display_data"
    },
    {
     "data": {
      "image/png": "[encoded data removed]",
      "text/plain": [
       "<matplotlib.figure.Figure at 0x7fe020766d68>"
      ]
     },
     "metadata": {},
     "output_type": "display_data"
    }
   ],
   "source": [
    "#Displaying curves of loss and accuracy during training \n",
    "\n",
    "import matplotlib.pyplot as plt\n",
    "acc = history.history['acc']\n",
    "val_acc = history.history['val_acc']\n",
    "loss = history.history['loss']\n",
    "val_loss = history.history['val_loss']\n",
    "\n",
    "epochs = range(len(acc))\n",
    "\n",
    "plt.plot(epochs, acc, 'bo')#dots\n",
    "plt.plot(epochs, val_acc, 'b')#line segments\n",
    "plt.title('Training and validation accuracy')\n",
    "plt.figure()\n",
    "\n",
    "plt.plot(epochs, loss, 'bo')\n",
    "plt.plot(epochs, val_loss, 'b')\n",
    "plt.title('Training and validation loss')\n",
    "plt.show()"
   ]
  },
  {
   "cell_type": "code",
   "execution_count": null,
   "metadata": {
    "collapsed": true
   },
   "outputs": [],
   "source": []
  },
  {
   "cell_type": "code",
   "execution_count": null,
   "metadata": {
    "collapsed": true
   },
   "outputs": [],
   "source": []
  },
  {
   "cell_type": "code",
   "execution_count": null,
   "metadata": {
    "collapsed": true
   },
   "outputs": [],
   "source": []
  }
 ],
 "metadata": {
  "kernelspec": {
   "display_name": "Python 3",
   "language": "python",
   "name": "python3"
  },
  "language_info": {
   "codemirror_mode": {
    "name": "ipython",
    "version": 3
   },
   "file_extension": ".py",
   "mimetype": "text/x-python",
   "name": "python",
   "nbconvert_exporter": "python",
   "pygments_lexer": "ipython3",
   "version": "3.6.1"
  }
 },
 "nbformat": 4,
 "nbformat_minor": 2
}
