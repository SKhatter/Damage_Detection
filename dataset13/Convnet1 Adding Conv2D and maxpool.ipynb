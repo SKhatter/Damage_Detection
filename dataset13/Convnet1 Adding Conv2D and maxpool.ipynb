{
 "cells": [
  {
   "cell_type": "markdown",
   "metadata": {},
   "source": [
    "## Added one layer of Conv2D and Maxpooling-  Seems like overfitting is coming into picture. Training accuracy is more than validation accuracy and the gap is increasing."
   ]
  },
  {
   "cell_type": "code",
   "execution_count": 1,
   "metadata": {
    "collapsed": true
   },
   "outputs": [],
   "source": [
    "import os, shutil"
   ]
  },
  {
   "cell_type": "code",
   "execution_count": 2,
   "metadata": {
    "collapsed": true
   },
   "outputs": [],
   "source": [
    "base_dir = '/home/skhatter/dataset13'\n",
    "train_dir = '/home/skhatter/dataset13/train'\n",
    "valid_dir = '/home/skhatter/dataset13/valid'\n",
    "\n",
    "train_dam_dir = '/home/skhatter/dataset13/train/damaged'\n",
    "train_undam_dir = '/home/skhatter/dataset13/train/undamaged'\n",
    "\n",
    "valid_dam_dir = '/home/skhatter/dataset13/valid/damaged'\n",
    "valid_undam_dir = '/home/skhatter/dataset13/valid/undamaged'"
   ]
  },
  {
   "cell_type": "code",
   "execution_count": 3,
   "metadata": {},
   "outputs": [
    {
     "name": "stdout",
     "output_type": "stream",
     "text": [
      "Total training damaged images 160\n",
      "Total training undamaged images 234\n",
      "Total validation damaged images 53\n",
      "Total validation undamaged images 80\n"
     ]
    }
   ],
   "source": [
    "print('Total training damaged images', len(os.listdir(train_dam_dir)))\n",
    "print('Total training undamaged images', len(os.listdir(train_undam_dir)))\n",
    "\n",
    "print('Total validation damaged images', len(os.listdir(valid_dam_dir)))\n",
    "print('Total validation undamaged images', len(os.listdir(valid_undam_dir)))"
   ]
  },
  {
   "cell_type": "code",
   "execution_count": 4,
   "metadata": {},
   "outputs": [
    {
     "name": "stderr",
     "output_type": "stream",
     "text": [
      "Using TensorFlow backend.\n"
     ]
    }
   ],
   "source": [
    "from keras import layers\n",
    "from keras import models"
   ]
  },
  {
   "cell_type": "code",
   "execution_count": 5,
   "metadata": {
    "scrolled": false
   },
   "outputs": [
    {
     "name": "stdout",
     "output_type": "stream",
     "text": [
      "_________________________________________________________________\n",
      "Layer (type)                 Output Shape              Param #   \n",
      "=================================================================\n",
      "conv2d_1 (Conv2D)            (None, 510, 510, 100)     2800      \n",
      "_________________________________________________________________\n",
      "max_pooling2d_1 (MaxPooling2 (None, 255, 255, 100)     0         \n",
      "_________________________________________________________________\n",
      "conv2d_2 (Conv2D)            (None, 253, 253, 200)     180200    \n",
      "_________________________________________________________________\n",
      "max_pooling2d_2 (MaxPooling2 (None, 126, 126, 200)     0         \n",
      "_________________________________________________________________\n",
      "conv2d_3 (Conv2D)            (None, 124, 124, 200)     360200    \n",
      "_________________________________________________________________\n",
      "max_pooling2d_3 (MaxPooling2 (None, 62, 62, 200)       0         \n",
      "_________________________________________________________________\n",
      "conv2d_4 (Conv2D)            (None, 60, 60, 200)       360200    \n",
      "_________________________________________________________________\n",
      "max_pooling2d_4 (MaxPooling2 (None, 30, 30, 200)       0         \n",
      "_________________________________________________________________\n",
      "conv2d_5 (Conv2D)            (None, 28, 28, 200)       360200    \n",
      "_________________________________________________________________\n",
      "max_pooling2d_5 (MaxPooling2 (None, 14, 14, 200)       0         \n",
      "_________________________________________________________________\n",
      "flatten_1 (Flatten)          (None, 39200)             0         \n",
      "_________________________________________________________________\n",
      "dropout_1 (Dropout)          (None, 39200)             0         \n",
      "_________________________________________________________________\n",
      "dense_1 (Dense)              (None, 512)               20070912  \n",
      "_________________________________________________________________\n",
      "dense_2 (Dense)              (None, 1)                 513       \n",
      "=================================================================\n",
      "Total params: 21,335,025\n",
      "Trainable params: 21,335,025\n",
      "Non-trainable params: 0\n",
      "_________________________________________________________________\n"
     ]
    }
   ],
   "source": [
    "model = models.Sequential()\n",
    "model.add(layers.Conv2D(100, (3,3), activation ='relu', input_shape = (512, 512, 3)))\n",
    "model.add(layers.MaxPooling2D((2,2)))\n",
    "model.add(layers.Conv2D(200, (3,3), activation ='relu'))\n",
    "model.add(layers.MaxPooling2D((2,2)))\n",
    "model.add(layers.Conv2D(200, (3,3), activation='relu'))\n",
    "model.add(layers.MaxPooling2D((2,2)))\n",
    "model.add(layers.Conv2D(200, (3,3), activation='relu'))\n",
    "model.add(layers.MaxPooling2D((2,2)))\n",
    "model.add(layers.Conv2D(200, (3,3), activation='relu'))\n",
    "model.add(layers.MaxPooling2D((2,2)))\n",
    "model.add(layers.Flatten())\n",
    "model.add(layers.Dropout(0.5))\n",
    "model.add(layers.Dense(512, activation = 'relu'))\n",
    "model.add(layers.Dense(1, activation = 'sigmoid'))\n",
    "model.summary()"
   ]
  },
  {
   "cell_type": "code",
   "execution_count": 6,
   "metadata": {
    "collapsed": true
   },
   "outputs": [],
   "source": [
    "from keras import optimizers"
   ]
  },
  {
   "cell_type": "code",
   "execution_count": 7,
   "metadata": {
    "collapsed": true
   },
   "outputs": [],
   "source": [
    "model.compile(loss = 'binary_crossentropy', optimizer = optimizers.RMSprop(lr=1e-4), metrics=['acc'])"
   ]
  },
  {
   "cell_type": "code",
   "execution_count": 8,
   "metadata": {},
   "outputs": [
    {
     "name": "stdout",
     "output_type": "stream",
     "text": [
      "Found 393 images belonging to 2 classes.\n",
      "Found 132 images belonging to 2 classes.\n",
      "train data batch:  (5, 512, 512, 3)\n",
      "train label batch:  (5,)\n",
      "validation data batch:  (5, 512, 512, 3)\n",
      "validation label batch (5,)\n"
     ]
    }
   ],
   "source": [
    "from keras.preprocessing.image import ImageDataGenerator\n",
    "\n",
    "train_datagen = ImageDataGenerator(rescale = 1./255, rotation_range=40,width_shift_range=0.2,\n",
    "                                  height_shift_range=0.2,\n",
    "                                  shear_range=0.2,\n",
    "                                  zoom_range=0.2,\n",
    "                                  horizontal_flip=True)\n",
    "test_datagen= ImageDataGenerator(rescale = 1./255)\n",
    "\n",
    "train_generator = train_datagen.flow_from_directory(train_dir, target_size=(512, 512), batch_size =5,\n",
    "                                                    class_mode='binary')\n",
    "validation_generator = test_datagen.flow_from_directory(valid_dir, target_size = (512, 512),\n",
    "                                                        batch_size = 5, class_mode='binary')\n",
    "\n",
    "\n",
    "#displaying the shapes of batch of data and labels\n",
    "for data_batch, labels_batch in train_generator:\n",
    "    print('train data batch: ', data_batch.shape)\n",
    "    print('train label batch: ', labels_batch.shape)\n",
    "    break\n",
    "    \n",
    "for data_batch, labels_batch in validation_generator:\n",
    "    print('validation data batch: ', data_batch.shape)\n",
    "    print('validation label batch', labels_batch.shape)\n",
    "    break"
   ]
  },
  {
   "cell_type": "code",
   "execution_count": 9,
   "metadata": {
    "scrolled": false
   },
   "outputs": [
    {
     "name": "stdout",
     "output_type": "stream",
     "text": [
      "Epoch 1/30\n",
      "50/50 [==============================] - 13s - loss: 0.7779 - acc: 0.5480 - val_loss: 0.6813 - val_acc: 0.6000\n",
      "Epoch 2/30\n",
      "50/50 [==============================] - 13s - loss: 0.6936 - acc: 0.5867 - val_loss: 0.6794 - val_acc: 0.6066\n",
      "Epoch 3/30\n",
      "50/50 [==============================] - 12s - loss: 0.6955 - acc: 0.5520 - val_loss: 0.6918 - val_acc: 0.5492\n",
      "Epoch 4/30\n",
      "50/50 [==============================] - 12s - loss: 0.6931 - acc: 0.5907 - val_loss: 0.6827 - val_acc: 0.5902\n",
      "Epoch 5/30\n",
      "50/50 [==============================] - 12s - loss: 0.6823 - acc: 0.5933 - val_loss: 0.6788 - val_acc: 0.6230\n",
      "Epoch 6/30\n",
      "50/50 [==============================] - 12s - loss: 0.6559 - acc: 0.6400 - val_loss: 0.6686 - val_acc: 0.6393\n",
      "Epoch 7/30\n",
      "50/50 [==============================] - 12s - loss: 0.6906 - acc: 0.5547 - val_loss: 0.6770 - val_acc: 0.6393\n",
      "Epoch 8/30\n",
      "50/50 [==============================] - 12s - loss: 0.6956 - acc: 0.5987 - val_loss: 0.6823 - val_acc: 0.5820\n",
      "Epoch 9/30\n",
      "50/50 [==============================] - 12s - loss: 0.6894 - acc: 0.5920 - val_loss: 0.6756 - val_acc: 0.6393\n",
      "Epoch 10/30\n",
      "50/50 [==============================] - 12s - loss: 0.6927 - acc: 0.5693 - val_loss: 0.6676 - val_acc: 0.6393\n",
      "Epoch 11/30\n",
      "50/50 [==============================] - 12s - loss: 0.6739 - acc: 0.6240 - val_loss: 0.6760 - val_acc: 0.6000\n",
      "Epoch 12/30\n",
      "50/50 [==============================] - 12s - loss: 0.6911 - acc: 0.5653 - val_loss: 0.6786 - val_acc: 0.6230\n",
      "Epoch 13/30\n",
      "50/50 [==============================] - 12s - loss: 0.6683 - acc: 0.6373 - val_loss: 0.6497 - val_acc: 0.6475\n",
      "Epoch 14/30\n",
      "50/50 [==============================] - 12s - loss: 0.6894 - acc: 0.5880 - val_loss: 0.6702 - val_acc: 0.6230\n",
      "Epoch 15/30\n",
      "50/50 [==============================] - 12s - loss: 0.6860 - acc: 0.5707 - val_loss: 0.6848 - val_acc: 0.5902\n",
      "Epoch 16/30\n",
      "50/50 [==============================] - 12s - loss: 0.6806 - acc: 0.6079 - val_loss: 0.6743 - val_acc: 0.5902\n",
      "Epoch 17/30\n",
      "50/50 [==============================] - 12s - loss: 0.6782 - acc: 0.5960 - val_loss: 0.7414 - val_acc: 0.6148\n",
      "Epoch 18/30\n",
      "50/50 [==============================] - 12s - loss: 0.6745 - acc: 0.6093 - val_loss: 0.7869 - val_acc: 0.5984\n",
      "Epoch 19/30\n",
      "50/50 [==============================] - 12s - loss: 0.6841 - acc: 0.5893 - val_loss: 0.6817 - val_acc: 0.5902\n",
      "Epoch 20/30\n",
      "50/50 [==============================] - 12s - loss: 0.6696 - acc: 0.6280 - val_loss: 0.6571 - val_acc: 0.6066\n",
      "Epoch 21/30\n",
      "50/50 [==============================] - 12s - loss: 0.6684 - acc: 0.5733 - val_loss: 0.6834 - val_acc: 0.5164\n",
      "Epoch 22/30\n",
      "50/50 [==============================] - 13s - loss: 0.6852 - acc: 0.5840 - val_loss: 0.6628 - val_acc: 0.6230\n",
      "Epoch 23/30\n",
      "50/50 [==============================] - 12s - loss: 0.6809 - acc: 0.5639 - val_loss: 0.6688 - val_acc: 0.6066\n",
      "Epoch 24/30\n",
      "50/50 [==============================] - 12s - loss: 0.7402 - acc: 0.5599 - val_loss: 0.6700 - val_acc: 0.5738\n",
      "Epoch 25/30\n",
      "50/50 [==============================] - 12s - loss: 0.6728 - acc: 0.6040 - val_loss: 0.6844 - val_acc: 0.5902\n",
      "Epoch 26/30\n",
      "50/50 [==============================] - 12s - loss: 0.6380 - acc: 0.6239 - val_loss: 0.6773 - val_acc: 0.6721\n",
      "Epoch 27/30\n",
      "50/50 [==============================] - 12s - loss: 0.7004 - acc: 0.5667 - val_loss: 0.6556 - val_acc: 0.5656\n",
      "Epoch 28/30\n",
      "50/50 [==============================] - 13s - loss: 0.6519 - acc: 0.6640 - val_loss: 0.6985 - val_acc: 0.5360\n",
      "Epoch 29/30\n",
      "50/50 [==============================] - 12s - loss: 0.6385 - acc: 0.6307 - val_loss: 0.7416 - val_acc: 0.5656\n",
      "Epoch 30/30\n",
      "50/50 [==============================] - 12s - loss: 0.6319 - acc: 0.6893 - val_loss: 0.8118 - val_acc: 0.5574\n",
      "dict_keys(['val_loss', 'val_acc', 'loss', 'acc'])\n"
     ]
    }
   ],
   "source": [
    "#Fitting the model using a batch generator\n",
    "\n",
    "history = model.fit_generator(train_generator, steps_per_epoch=50, epochs = 30, \n",
    "                              validation_data= validation_generator, validation_steps=25)\n",
    "\n",
    "\n",
    "history_dict = history.history\n",
    "print(history_dict.keys())\n",
    "\n",
    "model.save('convnet1.h5')"
   ]
  },
  {
   "cell_type": "code",
   "execution_count": 10,
   "metadata": {},
   "outputs": [
    {
     "data": {
      "image/png": "[encoded data removed]",
      "text/plain": [
       "<matplotlib.figure.Figure at 0x7fa2a87bcd30>"
      ]
     },
     "metadata": {},
     "output_type": "display_data"
    },
    {
     "data": {
      "image/png": "[encoded data removed]",
      "text/plain": [
       "<matplotlib.figure.Figure at 0x7fa21c0c89e8>"
      ]
     },
     "metadata": {},
     "output_type": "display_data"
    }
   ],
   "source": [
    "#Displaying curves of loss and accuracy during training \n",
    "\n",
    "import matplotlib.pyplot as plt\n",
    "acc = history.history['acc']\n",
    "val_acc = history.history['val_acc']\n",
    "loss = history.history['loss']\n",
    "val_loss = history.history['val_loss']\n",
    "\n",
    "epochs = range(len(acc))\n",
    "\n",
    "plt.plot(epochs, acc, 'bo')#dots\n",
    "plt.plot(epochs, val_acc, 'b')#line segments\n",
    "plt.title('Training and validation accuracy')\n",
    "plt.figure()\n",
    "\n",
    "plt.plot(epochs, loss, 'bo')\n",
    "plt.plot(epochs, val_loss, 'b')\n",
    "plt.title('Training and validation loss')\n",
    "plt.show()"
   ]
  },
  {
   "cell_type": "code",
   "execution_count": 11,
   "metadata": {},
   "outputs": [
    {
     "name": "stdout",
     "output_type": "stream",
     "text": [
      "Epoch 1/30\n",
      "50/50 [==============================] - 12s - loss: 0.6230 - acc: 0.6640 - val_loss: 0.8156 - val_acc: 0.5410\n",
      "Epoch 2/30\n",
      "50/50 [==============================] - 12s - loss: 0.6362 - acc: 0.6667 - val_loss: 0.7268 - val_acc: 0.5574\n",
      "Epoch 3/30\n",
      "50/50 [==============================] - 12s - loss: 0.6355 - acc: 0.6693 - val_loss: 0.7334 - val_acc: 0.5656\n",
      "Epoch 4/30\n",
      "50/50 [==============================] - 12s - loss: 0.6106 - acc: 0.7040 - val_loss: 0.6861 - val_acc: 0.5328\n",
      "Epoch 5/30\n",
      "50/50 [==============================] - 12s - loss: 0.6220 - acc: 0.6573 - val_loss: 0.6529 - val_acc: 0.5656\n",
      "Epoch 6/30\n",
      "50/50 [==============================] - 12s - loss: 0.6205 - acc: 0.7200 - val_loss: 0.7089 - val_acc: 0.5738\n",
      "Epoch 7/30\n",
      "50/50 [==============================] - 12s - loss: 0.5356 - acc: 0.7200 - val_loss: 1.0978 - val_acc: 0.5574\n",
      "Epoch 8/30\n",
      "50/50 [==============================] - 12s - loss: 0.6246 - acc: 0.7013 - val_loss: 0.7119 - val_acc: 0.5760\n",
      "Epoch 9/30\n",
      "50/50 [==============================] - 12s - loss: 0.6090 - acc: 0.7000 - val_loss: 0.8198 - val_acc: 0.5902\n",
      "Epoch 10/30\n",
      "50/50 [==============================] - 12s - loss: 0.6394 - acc: 0.6681 - val_loss: 0.5661 - val_acc: 0.7131\n",
      "Epoch 11/30\n",
      "50/50 [==============================] - 12s - loss: 0.5718 - acc: 0.7347 - val_loss: 0.6195 - val_acc: 0.6639\n",
      "Epoch 12/30\n",
      "50/50 [==============================] - 12s - loss: 0.6251 - acc: 0.7360 - val_loss: 0.7484 - val_acc: 0.5902\n",
      "Epoch 13/30\n",
      "50/50 [==============================] - 12s - loss: 0.5858 - acc: 0.7080 - val_loss: 0.7099 - val_acc: 0.5902\n",
      "Epoch 14/30\n",
      "50/50 [==============================] - 12s - loss: 0.5577 - acc: 0.7360 - val_loss: 0.7580 - val_acc: 0.6639\n",
      "Epoch 15/30\n",
      "50/50 [==============================] - 12s - loss: 0.5975 - acc: 0.7280 - val_loss: 0.6065 - val_acc: 0.6721\n",
      "Epoch 16/30\n",
      "50/50 [==============================] - 12s - loss: 0.5280 - acc: 0.7187 - val_loss: 0.5984 - val_acc: 0.6721\n",
      "Epoch 17/30\n",
      "50/50 [==============================] - 12s - loss: 0.5889 - acc: 0.7760 - val_loss: 0.8037 - val_acc: 0.6639\n",
      "Epoch 18/30\n",
      "50/50 [==============================] - 12s - loss: 0.5576 - acc: 0.7293 - val_loss: 0.7174 - val_acc: 0.6803\n",
      "Epoch 19/30\n",
      "50/50 [==============================] - 12s - loss: 0.5389 - acc: 0.7427 - val_loss: 0.8280 - val_acc: 0.5984\n",
      "Epoch 20/30\n",
      "50/50 [==============================] - 13s - loss: 0.5356 - acc: 0.7240 - val_loss: 0.6069 - val_acc: 0.6639\n",
      "Epoch 21/30\n",
      "50/50 [==============================] - 12s - loss: 0.5568 - acc: 0.7293 - val_loss: 0.5118 - val_acc: 0.7541\n",
      "Epoch 22/30\n",
      "50/50 [==============================] - 12s - loss: 0.5286 - acc: 0.7533 - val_loss: 0.7466 - val_acc: 0.6230\n",
      "Epoch 23/30\n",
      "50/50 [==============================] - 13s - loss: 0.5840 - acc: 0.7120 - val_loss: 0.5732 - val_acc: 0.7377\n",
      "Epoch 24/30\n",
      "50/50 [==============================] - 12s - loss: 0.4929 - acc: 0.7974 - val_loss: 0.7318 - val_acc: 0.5902\n",
      "Epoch 25/30\n",
      "50/50 [==============================] - 12s - loss: 0.5128 - acc: 0.7680 - val_loss: 0.6989 - val_acc: 0.5600\n",
      "Epoch 26/30\n",
      "50/50 [==============================] - 12s - loss: 0.5704 - acc: 0.7133 - val_loss: 0.6884 - val_acc: 0.6639\n",
      "Epoch 27/30\n",
      "50/50 [==============================] - 12s - loss: 0.5857 - acc: 0.7053 - val_loss: 0.5149 - val_acc: 0.7951\n",
      "Epoch 28/30\n",
      "50/50 [==============================] - 12s - loss: 0.5020 - acc: 0.7800 - val_loss: 0.5834 - val_acc: 0.7295\n",
      "Epoch 29/30\n",
      "50/50 [==============================] - 12s - loss: 0.4848 - acc: 0.7880 - val_loss: 0.7158 - val_acc: 0.6393\n",
      "Epoch 30/30\n",
      "50/50 [==============================] - 12s - loss: 0.5377 - acc: 0.7613 - val_loss: 0.5300 - val_acc: 0.7787\n",
      "dict_keys(['val_loss', 'val_acc', 'loss', 'acc'])\n"
     ]
    }
   ],
   "source": [
    "#Fitting the model using a batch generator\n",
    "\n",
    "history = model.fit_generator(train_generator, steps_per_epoch=50, epochs = 30, \n",
    "                              validation_data= validation_generator, validation_steps=25)\n",
    "\n",
    "\n",
    "history_dict = history.history\n",
    "print(history_dict.keys())\n",
    "\n",
    "model.save('damage_undamaged_conv2_2.h5')"
   ]
  },
  {
   "cell_type": "code",
   "execution_count": 12,
   "metadata": {},
   "outputs": [
    {
     "data": {
      "image/png": "[encoded data removed]",
      "text/plain": [
       "<matplotlib.figure.Figure at 0x7fa2b0d1df98>"
      ]
     },
     "metadata": {},
     "output_type": "display_data"
    },
    {
     "data": {
      "image/png": "[encoded data removed]",
      "text/plain": [
       "<matplotlib.figure.Figure at 0x7fa20f624cf8>"
      ]
     },
     "metadata": {},
     "output_type": "display_data"
    }
   ],
   "source": [
    "#Displaying curves of loss and accuracy during training \n",
    "\n",
    "import matplotlib.pyplot as plt\n",
    "acc = history.history['acc']\n",
    "val_acc = history.history['val_acc']\n",
    "loss = history.history['loss']\n",
    "val_loss = history.history['val_loss']\n",
    "\n",
    "epochs = range(len(acc))\n",
    "\n",
    "plt.plot(epochs, acc, 'bo')#dots\n",
    "plt.plot(epochs, val_acc, 'b')#line segments\n",
    "plt.title('Training and validation accuracy')\n",
    "plt.figure()\n",
    "\n",
    "plt.plot(epochs, loss, 'bo')\n",
    "plt.plot(epochs, val_loss, 'b')\n",
    "plt.title('Training and validation loss')\n",
    "plt.show()"
   ]
  },
  {
   "cell_type": "code",
   "execution_count": null,
   "metadata": {
    "collapsed": true
   },
   "outputs": [],
   "source": []
  },
  {
   "cell_type": "code",
   "execution_count": null,
   "metadata": {
    "collapsed": true
   },
   "outputs": [],
   "source": []
  },
  {
   "cell_type": "code",
   "execution_count": null,
   "metadata": {
    "collapsed": true
   },
   "outputs": [],
   "source": []
  }
 ],
 "metadata": {
  "kernelspec": {
   "display_name": "Python 3",
   "language": "python",
   "name": "python3"
  },
  "language_info": {
   "codemirror_mode": {
    "name": "ipython",
    "version": 3
   },
   "file_extension": ".py",
   "mimetype": "text/x-python",
   "name": "python",
   "nbconvert_exporter": "python",
   "pygments_lexer": "ipython3",
   "version": "3.6.1"
  }
 },
 "nbformat": 4,
 "nbformat_minor": 2
}
