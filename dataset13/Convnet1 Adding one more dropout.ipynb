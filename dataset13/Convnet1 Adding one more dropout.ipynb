{
 "cells": [
  {
   "cell_type": "markdown",
   "metadata": {},
   "source": [
    "## Validation set and Training Set accuracy and loss is nearly same"
   ]
  },
  {
   "cell_type": "code",
   "execution_count": 1,
   "metadata": {
    "collapsed": true
   },
   "outputs": [],
   "source": [
    "import os, shutil"
   ]
  },
  {
   "cell_type": "code",
   "execution_count": 2,
   "metadata": {
    "collapsed": true
   },
   "outputs": [],
   "source": [
    "base_dir = '/home/skhatter/dataset13'\n",
    "train_dir = '/home/skhatter/dataset13/train'\n",
    "valid_dir = '/home/skhatter/dataset13/valid'\n",
    "\n",
    "train_dam_dir = '/home/skhatter/dataset13/train/damaged'\n",
    "train_undam_dir = '/home/skhatter/dataset13/train/undamaged'\n",
    "\n",
    "valid_dam_dir = '/home/skhatter/dataset13/valid/damaged'\n",
    "valid_undam_dir = '/home/skhatter/dataset13/valid/undamaged'"
   ]
  },
  {
   "cell_type": "code",
   "execution_count": 3,
   "metadata": {},
   "outputs": [
    {
     "name": "stdout",
     "output_type": "stream",
     "text": [
      "Total training damaged images 160\n",
      "Total training undamaged images 234\n",
      "Total validation damaged images 53\n",
      "Total validation undamaged images 80\n"
     ]
    }
   ],
   "source": [
    "print('Total training damaged images', len(os.listdir(train_dam_dir)))\n",
    "print('Total training undamaged images', len(os.listdir(train_undam_dir)))\n",
    "\n",
    "print('Total validation damaged images', len(os.listdir(valid_dam_dir)))\n",
    "print('Total validation undamaged images', len(os.listdir(valid_undam_dir)))"
   ]
  },
  {
   "cell_type": "code",
   "execution_count": 4,
   "metadata": {},
   "outputs": [
    {
     "name": "stderr",
     "output_type": "stream",
     "text": [
      "Using TensorFlow backend.\n"
     ]
    }
   ],
   "source": [
    "from keras import layers\n",
    "from keras import models"
   ]
  },
  {
   "cell_type": "code",
   "execution_count": 5,
   "metadata": {
    "scrolled": false
   },
   "outputs": [
    {
     "name": "stdout",
     "output_type": "stream",
     "text": [
      "_________________________________________________________________\n",
      "Layer (type)                 Output Shape              Param #   \n",
      "=================================================================\n",
      "conv2d_1 (Conv2D)            (None, 510, 510, 100)     2800      \n",
      "_________________________________________________________________\n",
      "max_pooling2d_1 (MaxPooling2 (None, 255, 255, 100)     0         \n",
      "_________________________________________________________________\n",
      "conv2d_2 (Conv2D)            (None, 253, 253, 200)     180200    \n",
      "_________________________________________________________________\n",
      "max_pooling2d_2 (MaxPooling2 (None, 126, 126, 200)     0         \n",
      "_________________________________________________________________\n",
      "conv2d_3 (Conv2D)            (None, 124, 124, 200)     360200    \n",
      "_________________________________________________________________\n",
      "max_pooling2d_3 (MaxPooling2 (None, 62, 62, 200)       0         \n",
      "_________________________________________________________________\n",
      "conv2d_4 (Conv2D)            (None, 60, 60, 200)       360200    \n",
      "_________________________________________________________________\n",
      "max_pooling2d_4 (MaxPooling2 (None, 30, 30, 200)       0         \n",
      "_________________________________________________________________\n",
      "flatten_1 (Flatten)          (None, 180000)            0         \n",
      "_________________________________________________________________\n",
      "dropout_1 (Dropout)          (None, 180000)            0         \n",
      "_________________________________________________________________\n",
      "dense_1 (Dense)              (None, 256)               46080256  \n",
      "_________________________________________________________________\n",
      "dense_2 (Dense)              (None, 1)                 257       \n",
      "=================================================================\n",
      "Total params: 46,983,913\n",
      "Trainable params: 46,983,913\n",
      "Non-trainable params: 0\n",
      "_________________________________________________________________\n"
     ]
    }
   ],
   "source": [
    "model = models.Sequential()\n",
    "model.add(layers.Conv2D(100, (3,3), activation ='relu', input_shape = (512, 512, 3)))\n",
    "model.add(layers.MaxPooling2D((2,2)))\n",
    "model.add(layers.Conv2D(200, (3,3), activation ='relu'))\n",
    "model.add(layers.MaxPooling2D((2,2)))\n",
    "model.add(layers.Conv2D(200, (3,3), activation='relu'))\n",
    "model.add(layers.MaxPooling2D((2,2)))\n",
    "model.add(layers.Conv2D(200, (3,3), activation='relu'))\n",
    "model.add(layers.MaxPooling2D((2,2)))\n",
    "model.add(layers.Flatten())\n",
    "model.add(layers.Dropout(0.5))\n",
    "model.add(layers.Dense(256, activation = 'relu'))\n",
    "model.add(layers.Dense(1, activation = 'sigmoid'))\n",
    "model.summary()"
   ]
  },
  {
   "cell_type": "code",
   "execution_count": 6,
   "metadata": {
    "collapsed": true
   },
   "outputs": [],
   "source": [
    "from keras import optimizers"
   ]
  },
  {
   "cell_type": "code",
   "execution_count": 7,
   "metadata": {
    "collapsed": true
   },
   "outputs": [],
   "source": [
    "model.compile(loss = 'binary_crossentropy', optimizer = optimizers.RMSprop(lr=1e-4), metrics=['acc'])"
   ]
  },
  {
   "cell_type": "code",
   "execution_count": 8,
   "metadata": {},
   "outputs": [
    {
     "name": "stdout",
     "output_type": "stream",
     "text": [
      "Found 393 images belonging to 2 classes.\n",
      "Found 132 images belonging to 2 classes.\n",
      "train data batch:  (5, 512, 512, 3)\n",
      "train label batch:  (5,)\n",
      "validation data batch:  (5, 512, 512, 3)\n",
      "validation label batch (5,)\n"
     ]
    }
   ],
   "source": [
    "from keras.preprocessing.image import ImageDataGenerator\n",
    "\n",
    "train_datagen = ImageDataGenerator(rescale = 1./255, rotation_range=40,width_shift_range=0.2,\n",
    "                                  height_shift_range=0.2,\n",
    "                                  shear_range=0.2,\n",
    "                                  zoom_range=0.2,\n",
    "                                  horizontal_flip=True)\n",
    "test_datagen= ImageDataGenerator(rescale = 1./255)\n",
    "\n",
    "train_generator = train_datagen.flow_from_directory(train_dir, target_size=(512, 512), batch_size =5,\n",
    "                                                    class_mode='binary')\n",
    "validation_generator = test_datagen.flow_from_directory(valid_dir, target_size = (512, 512),\n",
    "                                                        batch_size = 5, class_mode='binary')\n",
    "\n",
    "\n",
    "#displaying the shapes of batch of data and labels\n",
    "for data_batch, labels_batch in train_generator:\n",
    "    print('train data batch: ', data_batch.shape)\n",
    "    print('train label batch: ', labels_batch.shape)\n",
    "    break\n",
    "    \n",
    "for data_batch, labels_batch in validation_generator:\n",
    "    print('validation data batch: ', data_batch.shape)\n",
    "    print('validation label batch', labels_batch.shape)\n",
    "    break"
   ]
  },
  {
   "cell_type": "code",
   "execution_count": 9,
   "metadata": {
    "scrolled": false
   },
   "outputs": [
    {
     "name": "stdout",
     "output_type": "stream",
     "text": [
      "Epoch 1/30\n",
      "50/50 [==============================] - 14s - loss: 0.7158 - acc: 0.5560 - val_loss: 0.6799 - val_acc: 0.6080\n",
      "Epoch 2/30\n",
      "50/50 [==============================] - 13s - loss: 0.6780 - acc: 0.6213 - val_loss: 0.6842 - val_acc: 0.6230\n",
      "Epoch 3/30\n",
      "50/50 [==============================] - 12s - loss: 0.6842 - acc: 0.5640 - val_loss: 0.6876 - val_acc: 0.6311\n",
      "Epoch 4/30\n",
      "50/50 [==============================] - 12s - loss: 0.6794 - acc: 0.6133 - val_loss: 0.6769 - val_acc: 0.6066\n",
      "Epoch 5/30\n",
      "50/50 [==============================] - 12s - loss: 0.6932 - acc: 0.5707 - val_loss: 0.6788 - val_acc: 0.5984\n",
      "Epoch 6/30\n",
      "50/50 [==============================] - 12s - loss: 0.6844 - acc: 0.5600 - val_loss: 0.7152 - val_acc: 0.5656\n",
      "Epoch 7/30\n",
      "50/50 [==============================] - 13s - loss: 0.6787 - acc: 0.5999 - val_loss: 0.6675 - val_acc: 0.6066\n",
      "Epoch 8/30\n",
      "50/50 [==============================] - 13s - loss: 0.6658 - acc: 0.6319 - val_loss: 0.8286 - val_acc: 0.6148\n",
      "Epoch 9/30\n",
      "50/50 [==============================] - 13s - loss: 0.6926 - acc: 0.5640 - val_loss: 0.6886 - val_acc: 0.6230\n",
      "Epoch 10/30\n",
      "50/50 [==============================] - 13s - loss: 0.6847 - acc: 0.6067 - val_loss: 0.6734 - val_acc: 0.5902\n",
      "Epoch 11/30\n",
      "50/50 [==============================] - 13s - loss: 0.6924 - acc: 0.5680 - val_loss: 0.6673 - val_acc: 0.6000\n",
      "Epoch 12/30\n",
      "50/50 [==============================] - 13s - loss: 0.6842 - acc: 0.5933 - val_loss: 0.6732 - val_acc: 0.5410\n",
      "Epoch 13/30\n",
      "50/50 [==============================] - 13s - loss: 0.6606 - acc: 0.5973 - val_loss: 0.7389 - val_acc: 0.5492\n",
      "Epoch 14/30\n",
      "50/50 [==============================] - 13s - loss: 0.6679 - acc: 0.6040 - val_loss: 0.6906 - val_acc: 0.5246\n",
      "Epoch 15/30\n",
      "50/50 [==============================] - 13s - loss: 0.6489 - acc: 0.6813 - val_loss: 0.6734 - val_acc: 0.5574\n",
      "Epoch 16/30\n",
      "50/50 [==============================] - 13s - loss: 0.6272 - acc: 0.6773 - val_loss: 1.1121 - val_acc: 0.5492\n",
      "Epoch 17/30\n",
      "50/50 [==============================] - 13s - loss: 0.6883 - acc: 0.6280 - val_loss: 0.7163 - val_acc: 0.5082\n",
      "Epoch 18/30\n",
      "50/50 [==============================] - 13s - loss: 0.6511 - acc: 0.6373 - val_loss: 0.7034 - val_acc: 0.5656\n",
      "Epoch 19/30\n",
      "50/50 [==============================] - 13s - loss: 0.6500 - acc: 0.6453 - val_loss: 0.6900 - val_acc: 0.5656\n",
      "Epoch 20/30\n",
      "50/50 [==============================] - 13s - loss: 0.6467 - acc: 0.6440 - val_loss: 0.6831 - val_acc: 0.5902\n",
      "Epoch 21/30\n",
      "50/50 [==============================] - 13s - loss: 0.6168 - acc: 0.6733 - val_loss: 0.6500 - val_acc: 0.6230\n",
      "Epoch 22/30\n",
      "50/50 [==============================] - 13s - loss: 0.6222 - acc: 0.6680 - val_loss: 0.7277 - val_acc: 0.5246\n",
      "Epoch 23/30\n",
      "50/50 [==============================] - 13s - loss: 0.6110 - acc: 0.6853 - val_loss: 0.7470 - val_acc: 0.5656\n",
      "Epoch 24/30\n",
      "50/50 [==============================] - 13s - loss: 0.6098 - acc: 0.6973 - val_loss: 0.8654 - val_acc: 0.5656\n",
      "Epoch 25/30\n",
      "50/50 [==============================] - 13s - loss: 0.5913 - acc: 0.7040 - val_loss: 0.9463 - val_acc: 0.5656\n",
      "Epoch 26/30\n",
      "50/50 [==============================] - 13s - loss: 0.6695 - acc: 0.6533 - val_loss: 0.6345 - val_acc: 0.6230\n",
      "Epoch 27/30\n",
      "50/50 [==============================] - 13s - loss: 0.6290 - acc: 0.6813 - val_loss: 0.6466 - val_acc: 0.5738\n",
      "Epoch 28/30\n",
      "50/50 [==============================] - 13s - loss: 0.6133 - acc: 0.6800 - val_loss: 0.7825 - val_acc: 0.6560\n",
      "Epoch 29/30\n",
      "50/50 [==============================] - 13s - loss: 0.6371 - acc: 0.6667 - val_loss: 0.6328 - val_acc: 0.6230\n",
      "Epoch 30/30\n",
      "50/50 [==============================] - 13s - loss: 0.6016 - acc: 0.7053 - val_loss: 0.6285 - val_acc: 0.6803\n",
      "dict_keys(['val_loss', 'val_acc', 'loss', 'acc'])\n"
     ]
    }
   ],
   "source": [
    "#Fitting the model using a batch generator\n",
    "\n",
    "history = model.fit_generator(train_generator, steps_per_epoch=50, epochs = 30, \n",
    "                              validation_data= validation_generator, validation_steps=25)\n",
    "\n",
    "\n",
    "history_dict = history.history\n",
    "print(history_dict.keys())\n",
    "\n",
    "model.save('convnet1.h5')"
   ]
  },
  {
   "cell_type": "code",
   "execution_count": 10,
   "metadata": {},
   "outputs": [
    {
     "data": {
      "image/png": "[encoded data removed]",
      "text/plain": [
       "<matplotlib.figure.Figure at 0x7ff6e7859e80>"
      ]
     },
     "metadata": {},
     "output_type": "display_data"
    },
    {
     "data": {
      "image/png": "[encoded data removed]",
      "text/plain": [
       "<matplotlib.figure.Figure at 0x7ff6b01ce400>"
      ]
     },
     "metadata": {},
     "output_type": "display_data"
    }
   ],
   "source": [
    "#Displaying curves of loss and accuracy during training \n",
    "\n",
    "import matplotlib.pyplot as plt\n",
    "acc = history.history['acc']\n",
    "val_acc = history.history['val_acc']\n",
    "loss = history.history['loss']\n",
    "val_loss = history.history['val_loss']\n",
    "\n",
    "epochs = range(len(acc))\n",
    "\n",
    "plt.plot(epochs, acc, 'bo')#dots\n",
    "plt.plot(epochs, val_acc, 'b')#line segments\n",
    "plt.title('Training and validation accuracy')\n",
    "plt.figure()\n",
    "\n",
    "plt.plot(epochs, loss, 'bo')\n",
    "plt.plot(epochs, val_loss, 'b')\n",
    "plt.title('Training and validation loss')\n",
    "plt.show()"
   ]
  },
  {
   "cell_type": "code",
   "execution_count": 11,
   "metadata": {},
   "outputs": [
    {
     "name": "stdout",
     "output_type": "stream",
     "text": [
      "Epoch 1/30\n",
      "50/50 [==============================] - 13s - loss: 0.5754 - acc: 0.6880 - val_loss: 0.9611 - val_acc: 0.5492\n",
      "Epoch 2/30\n",
      "50/50 [==============================] - 12s - loss: 0.5775 - acc: 0.7133 - val_loss: 0.8991 - val_acc: 0.6066\n",
      "Epoch 3/30\n",
      "50/50 [==============================] - 13s - loss: 0.6286 - acc: 0.6853 - val_loss: 0.6835 - val_acc: 0.5492\n",
      "Epoch 4/30\n",
      "50/50 [==============================] - 14s - loss: 0.6144 - acc: 0.7200 - val_loss: 0.6055 - val_acc: 0.6393\n",
      "Epoch 5/30\n",
      "50/50 [==============================] - 13s - loss: 0.6221 - acc: 0.6813 - val_loss: 0.7411 - val_acc: 0.5902\n",
      "Epoch 6/30\n",
      "50/50 [==============================] - 13s - loss: 0.6167 - acc: 0.6680 - val_loss: 0.5809 - val_acc: 0.6639\n",
      "Epoch 7/30\n",
      "50/50 [==============================] - 13s - loss: 0.6163 - acc: 0.6827 - val_loss: 0.5825 - val_acc: 0.6803\n",
      "Epoch 8/30\n",
      "50/50 [==============================] - 13s - loss: 0.6325 - acc: 0.6827 - val_loss: 0.6724 - val_acc: 0.6640\n",
      "Epoch 9/30\n",
      "50/50 [==============================] - 13s - loss: 0.6369 - acc: 0.6520 - val_loss: 0.6981 - val_acc: 0.6639\n",
      "Epoch 10/30\n",
      "50/50 [==============================] - 13s - loss: 0.6016 - acc: 0.7053 - val_loss: 0.8228 - val_acc: 0.6311\n",
      "Epoch 11/30\n",
      "50/50 [==============================] - 13s - loss: 0.5748 - acc: 0.7333 - val_loss: 1.4311 - val_acc: 0.5984\n",
      "Epoch 12/30\n",
      "50/50 [==============================] - 13s - loss: 0.6005 - acc: 0.7280 - val_loss: 0.5478 - val_acc: 0.7049\n",
      "Epoch 13/30\n",
      "50/50 [==============================] - 13s - loss: 0.5987 - acc: 0.7013 - val_loss: 0.6835 - val_acc: 0.7295\n",
      "Epoch 14/30\n",
      "50/50 [==============================] - 13s - loss: 0.5850 - acc: 0.7200 - val_loss: 0.8168 - val_acc: 0.6230\n",
      "Epoch 15/30\n",
      "50/50 [==============================] - 13s - loss: 0.5355 - acc: 0.7653 - val_loss: 0.7237 - val_acc: 0.6311\n",
      "Epoch 16/30\n",
      "50/50 [==============================] - 13s - loss: 0.5849 - acc: 0.7120 - val_loss: 0.8121 - val_acc: 0.6885\n",
      "Epoch 17/30\n",
      "50/50 [==============================] - 13s - loss: 0.5819 - acc: 0.7200 - val_loss: 0.4604 - val_acc: 0.8033\n",
      "Epoch 18/30\n",
      "50/50 [==============================] - 13s - loss: 0.5804 - acc: 0.7493 - val_loss: 0.6179 - val_acc: 0.6721\n",
      "Epoch 19/30\n",
      "50/50 [==============================] - 13s - loss: 0.5698 - acc: 0.7253 - val_loss: 0.5980 - val_acc: 0.6393\n",
      "Epoch 20/30\n",
      "50/50 [==============================] - 13s - loss: 0.5213 - acc: 0.7440 - val_loss: 0.9244 - val_acc: 0.7213\n",
      "Epoch 21/30\n",
      "50/50 [==============================] - 13s - loss: 0.5479 - acc: 0.7573 - val_loss: 0.6099 - val_acc: 0.6885\n",
      "Epoch 22/30\n",
      "50/50 [==============================] - 13s - loss: 0.5434 - acc: 0.7573 - val_loss: 0.5057 - val_acc: 0.7869\n",
      "Epoch 23/30\n",
      "50/50 [==============================] - 13s - loss: 0.5940 - acc: 0.7240 - val_loss: 0.6229 - val_acc: 0.6967\n",
      "Epoch 24/30\n",
      "50/50 [==============================] - 13s - loss: 0.5071 - acc: 0.7641 - val_loss: 0.8248 - val_acc: 0.5656\n",
      "Epoch 25/30\n",
      "50/50 [==============================] - 13s - loss: 0.5529 - acc: 0.7160 - val_loss: 0.6134 - val_acc: 0.6720\n",
      "Epoch 26/30\n",
      "50/50 [==============================] - 13s - loss: 0.5164 - acc: 0.7533 - val_loss: 0.5593 - val_acc: 0.7295\n",
      "Epoch 27/30\n",
      "50/50 [==============================] - 13s - loss: 0.5759 - acc: 0.7360 - val_loss: 0.6005 - val_acc: 0.7377\n",
      "Epoch 28/30\n",
      "50/50 [==============================] - 13s - loss: 0.5379 - acc: 0.7360 - val_loss: 0.5199 - val_acc: 0.7541\n",
      "Epoch 29/30\n",
      "50/50 [==============================] - 13s - loss: 0.5391 - acc: 0.7440 - val_loss: 0.5359 - val_acc: 0.7705\n",
      "Epoch 30/30\n",
      "50/50 [==============================] - 13s - loss: 0.4721 - acc: 0.7974 - val_loss: 0.6757 - val_acc: 0.7213\n",
      "dict_keys(['val_loss', 'val_acc', 'loss', 'acc'])\n"
     ]
    }
   ],
   "source": [
    "#Fitting the model using a batch generator\n",
    "\n",
    "history = model.fit_generator(train_generator, steps_per_epoch=50, epochs = 30, \n",
    "                              validation_data= validation_generator, validation_steps=25)\n",
    "\n",
    "\n",
    "history_dict = history.history\n",
    "print(history_dict.keys())\n",
    "\n",
    "model.save('damage_undamaged_conv2_2.h5')"
   ]
  },
  {
   "cell_type": "code",
   "execution_count": 12,
   "metadata": {},
   "outputs": [
    {
     "data": {
      "image/png": "[encoded data removed]",
      "text/plain": [
       "<matplotlib.figure.Figure at 0x7ff6b06b16a0>"
      ]
     },
     "metadata": {},
     "output_type": "display_data"
    },
    {
     "data": {
      "image/png": "[encoded data removed]",
      "text/plain": [
       "<matplotlib.figure.Figure at 0x7ff6b006cd30>"
      ]
     },
     "metadata": {},
     "output_type": "display_data"
    }
   ],
   "source": [
    "#Displaying curves of loss and accuracy during training \n",
    "\n",
    "import matplotlib.pyplot as plt\n",
    "acc = history.history['acc']\n",
    "val_acc = history.history['val_acc']\n",
    "loss = history.history['loss']\n",
    "val_loss = history.history['val_loss']\n",
    "\n",
    "epochs = range(len(acc))\n",
    "\n",
    "plt.plot(epochs, acc, 'bo')#dots\n",
    "plt.plot(epochs, val_acc, 'b')#line segments\n",
    "plt.title('Training and validation accuracy')\n",
    "plt.figure()\n",
    "\n",
    "plt.plot(epochs, loss, 'bo')\n",
    "plt.plot(epochs, val_loss, 'b')\n",
    "plt.title('Training and validation loss')\n",
    "plt.show()"
   ]
  },
  {
   "cell_type": "code",
   "execution_count": null,
   "metadata": {
    "collapsed": true
   },
   "outputs": [],
   "source": []
  }
 ],
 "metadata": {
  "kernelspec": {
   "display_name": "Python 3",
   "language": "python",
   "name": "python3"
  },
  "language_info": {
   "codemirror_mode": {
    "name": "ipython",
    "version": 3
   },
   "file_extension": ".py",
   "mimetype": "text/x-python",
   "name": "python",
   "nbconvert_exporter": "python",
   "pygments_lexer": "ipython3",
   "version": "3.6.1"
  }
 },
 "nbformat": 4,
 "nbformat_minor": 2
}
