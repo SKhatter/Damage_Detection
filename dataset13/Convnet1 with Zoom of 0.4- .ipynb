{
 "cells": [
  {
   "cell_type": "markdown",
   "metadata": {},
   "source": [
    "## Not much difference between the convnet1 and this one."
   ]
  },
  {
   "cell_type": "code",
   "execution_count": 1,
   "metadata": {
    "collapsed": true
   },
   "outputs": [],
   "source": [
    "import os, shutil"
   ]
  },
  {
   "cell_type": "code",
   "execution_count": 2,
   "metadata": {
    "collapsed": true
   },
   "outputs": [],
   "source": [
    "base_dir = '/home/skhatter/dataset13'\n",
    "train_dir = '/home/skhatter/dataset13/train'\n",
    "valid_dir = '/home/skhatter/dataset13/valid'\n",
    "\n",
    "train_dam_dir = '/home/skhatter/dataset13/train/damaged'\n",
    "train_undam_dir = '/home/skhatter/dataset13/train/undamaged'\n",
    "\n",
    "valid_dam_dir = '/home/skhatter/dataset13/valid/damaged'\n",
    "valid_undam_dir = '/home/skhatter/dataset13/valid/undamaged'"
   ]
  },
  {
   "cell_type": "code",
   "execution_count": 3,
   "metadata": {},
   "outputs": [
    {
     "name": "stdout",
     "output_type": "stream",
     "text": [
      "Total training damaged images 160\n",
      "Total training undamaged images 234\n",
      "Total validation damaged images 53\n",
      "Total validation undamaged images 80\n"
     ]
    }
   ],
   "source": [
    "print('Total training damaged images', len(os.listdir(train_dam_dir)))\n",
    "print('Total training undamaged images', len(os.listdir(train_undam_dir)))\n",
    "\n",
    "print('Total validation damaged images', len(os.listdir(valid_dam_dir)))\n",
    "print('Total validation undamaged images', len(os.listdir(valid_undam_dir)))"
   ]
  },
  {
   "cell_type": "code",
   "execution_count": 4,
   "metadata": {},
   "outputs": [
    {
     "name": "stderr",
     "output_type": "stream",
     "text": [
      "Using TensorFlow backend.\n"
     ]
    }
   ],
   "source": [
    "from keras import layers\n",
    "from keras import models"
   ]
  },
  {
   "cell_type": "code",
   "execution_count": 5,
   "metadata": {
    "scrolled": false
   },
   "outputs": [
    {
     "name": "stdout",
     "output_type": "stream",
     "text": [
      "_________________________________________________________________\n",
      "Layer (type)                 Output Shape              Param #   \n",
      "=================================================================\n",
      "conv2d_1 (Conv2D)            (None, 510, 510, 100)     2800      \n",
      "_________________________________________________________________\n",
      "max_pooling2d_1 (MaxPooling2 (None, 255, 255, 100)     0         \n",
      "_________________________________________________________________\n",
      "conv2d_2 (Conv2D)            (None, 253, 253, 200)     180200    \n",
      "_________________________________________________________________\n",
      "max_pooling2d_2 (MaxPooling2 (None, 126, 126, 200)     0         \n",
      "_________________________________________________________________\n",
      "conv2d_3 (Conv2D)            (None, 124, 124, 200)     360200    \n",
      "_________________________________________________________________\n",
      "max_pooling2d_3 (MaxPooling2 (None, 62, 62, 200)       0         \n",
      "_________________________________________________________________\n",
      "conv2d_4 (Conv2D)            (None, 60, 60, 200)       360200    \n",
      "_________________________________________________________________\n",
      "max_pooling2d_4 (MaxPooling2 (None, 30, 30, 200)       0         \n",
      "_________________________________________________________________\n",
      "flatten_1 (Flatten)          (None, 180000)            0         \n",
      "_________________________________________________________________\n",
      "dropout_1 (Dropout)          (None, 180000)            0         \n",
      "_________________________________________________________________\n",
      "dense_1 (Dense)              (None, 512)               92160512  \n",
      "_________________________________________________________________\n",
      "dense_2 (Dense)              (None, 1)                 513       \n",
      "=================================================================\n",
      "Total params: 93,064,425\n",
      "Trainable params: 93,064,425\n",
      "Non-trainable params: 0\n",
      "_________________________________________________________________\n"
     ]
    }
   ],
   "source": [
    "model = models.Sequential()\n",
    "model.add(layers.Conv2D(100, (3,3), activation ='relu', input_shape = (512, 512, 3)))\n",
    "model.add(layers.MaxPooling2D((2,2)))\n",
    "model.add(layers.Conv2D(200, (3,3), activation ='relu'))\n",
    "model.add(layers.MaxPooling2D((2,2)))\n",
    "model.add(layers.Conv2D(200, (3,3), activation='relu'))\n",
    "model.add(layers.MaxPooling2D((2,2)))\n",
    "model.add(layers.Conv2D(200, (3,3), activation='relu'))\n",
    "model.add(layers.MaxPooling2D((2,2)))\n",
    "model.add(layers.Flatten())\n",
    "model.add(layers.Dropout(0.5))\n",
    "model.add(layers.Dense(512, activation = 'relu'))\n",
    "model.add(layers.Dense(1, activation = 'sigmoid'))\n",
    "model.summary()"
   ]
  },
  {
   "cell_type": "code",
   "execution_count": 6,
   "metadata": {
    "collapsed": true
   },
   "outputs": [],
   "source": [
    "from keras import optimizers"
   ]
  },
  {
   "cell_type": "code",
   "execution_count": 7,
   "metadata": {
    "collapsed": true
   },
   "outputs": [],
   "source": [
    "model.compile(loss = 'binary_crossentropy', optimizer = optimizers.RMSprop(lr=1e-4), metrics=['acc'])"
   ]
  },
  {
   "cell_type": "code",
   "execution_count": 8,
   "metadata": {},
   "outputs": [
    {
     "name": "stdout",
     "output_type": "stream",
     "text": [
      "Found 393 images belonging to 2 classes.\n",
      "Found 132 images belonging to 2 classes.\n",
      "train data batch:  (5, 512, 512, 3)\n",
      "train label batch:  (5,)\n",
      "validation data batch:  (5, 512, 512, 3)\n",
      "validation label batch (5,)\n"
     ]
    }
   ],
   "source": [
    "from keras.preprocessing.image import ImageDataGenerator\n",
    "\n",
    "train_datagen = ImageDataGenerator(rescale = 1./255, rotation_range=40,width_shift_range=0.2,\n",
    "                                  height_shift_range=0.2,\n",
    "                                  shear_range=0.2,\n",
    "                                  zoom_range=0.4,\n",
    "                                  horizontal_flip=True)\n",
    "test_datagen= ImageDataGenerator(rescale = 1./255)\n",
    "\n",
    "train_generator = train_datagen.flow_from_directory(train_dir, target_size=(512, 512), batch_size =5,\n",
    "                                                    class_mode='binary')\n",
    "validation_generator = test_datagen.flow_from_directory(valid_dir, target_size = (512, 512),\n",
    "                                                        batch_size = 5, class_mode='binary')\n",
    "\n",
    "\n",
    "#displaying the shapes of batch of data and labels\n",
    "for data_batch, labels_batch in train_generator:\n",
    "    print('train data batch: ', data_batch.shape)\n",
    "    print('train label batch: ', labels_batch.shape)\n",
    "    break\n",
    "    \n",
    "for data_batch, labels_batch in validation_generator:\n",
    "    print('validation data batch: ', data_batch.shape)\n",
    "    print('validation label batch', labels_batch.shape)\n",
    "    break"
   ]
  },
  {
   "cell_type": "code",
   "execution_count": 9,
   "metadata": {
    "scrolled": false
   },
   "outputs": [
    {
     "name": "stdout",
     "output_type": "stream",
     "text": [
      "Epoch 1/30\n",
      "50/50 [==============================] - 15s - loss: 0.7212 - acc: 0.5920 - val_loss: 0.6822 - val_acc: 0.6000\n",
      "Epoch 2/30\n",
      "50/50 [==============================] - 14s - loss: 0.6931 - acc: 0.5973 - val_loss: 0.6670 - val_acc: 0.6311\n",
      "Epoch 3/30\n",
      "50/50 [==============================] - 14s - loss: 0.6861 - acc: 0.5840 - val_loss: 0.6967 - val_acc: 0.5902\n",
      "Epoch 4/30\n",
      "50/50 [==============================] - 13s - loss: 0.6917 - acc: 0.5467 - val_loss: 0.6531 - val_acc: 0.6475\n",
      "Epoch 5/30\n",
      "50/50 [==============================] - 13s - loss: 0.6775 - acc: 0.6199 - val_loss: 0.6728 - val_acc: 0.5984\n",
      "Epoch 6/30\n",
      "50/50 [==============================] - 14s - loss: 0.6819 - acc: 0.5760 - val_loss: 0.6720 - val_acc: 0.6230\n",
      "Epoch 7/30\n",
      "50/50 [==============================] - 14s - loss: 0.6828 - acc: 0.5759 - val_loss: 0.6797 - val_acc: 0.5984\n",
      "Epoch 8/30\n",
      "50/50 [==============================] - 14s - loss: 0.6695 - acc: 0.5787 - val_loss: 0.6876 - val_acc: 0.5164\n",
      "Epoch 9/30\n",
      "50/50 [==============================] - 14s - loss: 0.6647 - acc: 0.6360 - val_loss: 0.7082 - val_acc: 0.5656\n",
      "Epoch 10/30\n",
      "50/50 [==============================] - 14s - loss: 0.6838 - acc: 0.5533 - val_loss: 0.7141 - val_acc: 0.4836\n",
      "Epoch 11/30\n",
      "50/50 [==============================] - 14s - loss: 0.6604 - acc: 0.6520 - val_loss: 0.7431 - val_acc: 0.5440\n",
      "Epoch 12/30\n",
      "50/50 [==============================] - 14s - loss: 0.6471 - acc: 0.6333 - val_loss: 0.7207 - val_acc: 0.5984\n",
      "Epoch 13/30\n",
      "50/50 [==============================] - 14s - loss: 0.6457 - acc: 0.6759 - val_loss: 0.6998 - val_acc: 0.5574\n",
      "Epoch 14/30\n",
      "50/50 [==============================] - 14s - loss: 0.6686 - acc: 0.6400 - val_loss: 0.7036 - val_acc: 0.5656\n",
      "Epoch 15/30\n",
      "50/50 [==============================] - 14s - loss: 0.6399 - acc: 0.6799 - val_loss: 0.8345 - val_acc: 0.5328\n",
      "Epoch 16/30\n",
      "50/50 [==============================] - 14s - loss: 0.6130 - acc: 0.6840 - val_loss: 0.7939 - val_acc: 0.5656\n",
      "Epoch 17/30\n",
      "50/50 [==============================] - 14s - loss: 0.6585 - acc: 0.6520 - val_loss: 0.7558 - val_acc: 0.5738\n",
      "Epoch 18/30\n",
      "50/50 [==============================] - 14s - loss: 0.6374 - acc: 0.6413 - val_loss: 0.6982 - val_acc: 0.6393\n",
      "Epoch 19/30\n",
      "50/50 [==============================] - 14s - loss: 0.6575 - acc: 0.6507 - val_loss: 0.6265 - val_acc: 0.6803\n",
      "Epoch 20/30\n",
      "50/50 [==============================] - 14s - loss: 0.6190 - acc: 0.6560 - val_loss: 0.7721 - val_acc: 0.6066\n",
      "Epoch 21/30\n",
      "50/50 [==============================] - 14s - loss: 0.6201 - acc: 0.6319 - val_loss: 0.6115 - val_acc: 0.7049\n",
      "Epoch 22/30\n",
      "50/50 [==============================] - 14s - loss: 0.6793 - acc: 0.6120 - val_loss: 0.7029 - val_acc: 0.4180\n",
      "Epoch 23/30\n",
      "50/50 [==============================] - 14s - loss: 0.6505 - acc: 0.6253 - val_loss: 0.5616 - val_acc: 0.7623\n",
      "Epoch 24/30\n",
      "50/50 [==============================] - 14s - loss: 0.5682 - acc: 0.7253 - val_loss: 0.5819 - val_acc: 0.6721\n",
      "Epoch 25/30\n",
      "50/50 [==============================] - 14s - loss: 0.6505 - acc: 0.6520 - val_loss: 0.6093 - val_acc: 0.6721\n",
      "Epoch 26/30\n",
      "50/50 [==============================] - 14s - loss: 0.6123 - acc: 0.6667 - val_loss: 0.7381 - val_acc: 0.5738\n",
      "Epoch 27/30\n",
      "50/50 [==============================] - 14s - loss: 0.6256 - acc: 0.6987 - val_loss: 0.5913 - val_acc: 0.7131\n",
      "Epoch 28/30\n",
      "50/50 [==============================] - 14s - loss: 0.5610 - acc: 0.7280 - val_loss: 0.5909 - val_acc: 0.6800\n",
      "Epoch 29/30\n",
      "50/50 [==============================] - 14s - loss: 0.6160 - acc: 0.6639 - val_loss: 0.5621 - val_acc: 0.6721\n",
      "Epoch 30/30\n",
      "50/50 [==============================] - 14s - loss: 0.5966 - acc: 0.6920 - val_loss: 0.6258 - val_acc: 0.6639\n",
      "dict_keys(['val_loss', 'val_acc', 'loss', 'acc'])\n"
     ]
    }
   ],
   "source": [
    "#Fitting the model using a batch generator\n",
    "\n",
    "history = model.fit_generator(train_generator, steps_per_epoch=50, epochs = 30, \n",
    "                              validation_data= validation_generator, validation_steps=25)\n",
    "\n",
    "\n",
    "history_dict = history.history\n",
    "print(history_dict.keys())\n",
    "\n",
    "model.save('convnet1.h5')"
   ]
  },
  {
   "cell_type": "code",
   "execution_count": 10,
   "metadata": {},
   "outputs": [
    {
     "data": {
      "image/png": "[encoded data removed]",
      "text/plain": [
       "<matplotlib.figure.Figure at 0x7fc4f1c58e48>"
      ]
     },
     "metadata": {},
     "output_type": "display_data"
    },
    {
     "data": {
      "image/png": "[encoded data removed]",
      "text/plain": [
       "<matplotlib.figure.Figure at 0x7fc4e06c9438>"
      ]
     },
     "metadata": {},
     "output_type": "display_data"
    }
   ],
   "source": [
    "#Displaying curves of loss and accuracy during training \n",
    "\n",
    "import matplotlib.pyplot as plt\n",
    "acc = history.history['acc']\n",
    "val_acc = history.history['val_acc']\n",
    "loss = history.history['loss']\n",
    "val_loss = history.history['val_loss']\n",
    "\n",
    "epochs = range(len(acc))\n",
    "\n",
    "plt.plot(epochs, acc, 'bo')#dots\n",
    "plt.plot(epochs, val_acc, 'b')#line segments\n",
    "plt.title('Training and validation accuracy')\n",
    "plt.figure()\n",
    "\n",
    "plt.plot(epochs, loss, 'bo')\n",
    "plt.plot(epochs, val_loss, 'b')\n",
    "plt.title('Training and validation loss')\n",
    "plt.show()"
   ]
  },
  {
   "cell_type": "code",
   "execution_count": 11,
   "metadata": {},
   "outputs": [
    {
     "name": "stdout",
     "output_type": "stream",
     "text": [
      "Epoch 1/30\n",
      "50/50 [==============================] - 14s - loss: 0.5698 - acc: 0.7640 - val_loss: 0.5484 - val_acc: 0.7131\n",
      "Epoch 2/30\n",
      "50/50 [==============================] - 13s - loss: 0.6242 - acc: 0.6599 - val_loss: 0.6737 - val_acc: 0.6803\n",
      "Epoch 3/30\n",
      "50/50 [==============================] - 13s - loss: 0.6019 - acc: 0.6799 - val_loss: 0.9484 - val_acc: 0.5656\n",
      "Epoch 4/30\n",
      "50/50 [==============================] - 14s - loss: 0.6020 - acc: 0.7120 - val_loss: 0.8417 - val_acc: 0.5820\n",
      "Epoch 5/30\n",
      "50/50 [==============================] - 13s - loss: 0.5457 - acc: 0.7133 - val_loss: 0.6178 - val_acc: 0.7049\n",
      "Epoch 6/30\n",
      "50/50 [==============================] - 14s - loss: 0.5796 - acc: 0.7440 - val_loss: 0.6249 - val_acc: 0.6475\n",
      "Epoch 7/30\n",
      "50/50 [==============================] - 14s - loss: 0.5385 - acc: 0.7413 - val_loss: 0.7059 - val_acc: 0.7131\n",
      "Epoch 8/30\n",
      "50/50 [==============================] - 14s - loss: 0.5635 - acc: 0.7427 - val_loss: 0.5380 - val_acc: 0.7120\n",
      "Epoch 9/30\n",
      "50/50 [==============================] - 14s - loss: 0.5606 - acc: 0.7160 - val_loss: 0.6923 - val_acc: 0.6393\n",
      "Epoch 10/30\n",
      "50/50 [==============================] - 14s - loss: 0.5501 - acc: 0.7480 - val_loss: 0.5072 - val_acc: 0.7869\n",
      "Epoch 11/30\n",
      "50/50 [==============================] - 14s - loss: 0.5357 - acc: 0.7440 - val_loss: 0.8317 - val_acc: 0.6148\n",
      "Epoch 12/30\n",
      "50/50 [==============================] - 14s - loss: 0.5487 - acc: 0.7200 - val_loss: 0.5782 - val_acc: 0.7623\n",
      "Epoch 13/30\n",
      "50/50 [==============================] - 14s - loss: 0.4979 - acc: 0.7680 - val_loss: 0.6019 - val_acc: 0.7787\n",
      "Epoch 14/30\n",
      "50/50 [==============================] - 14s - loss: 0.5523 - acc: 0.7320 - val_loss: 0.5194 - val_acc: 0.7623\n",
      "Epoch 15/30\n",
      "50/50 [==============================] - 14s - loss: 0.5211 - acc: 0.7760 - val_loss: 0.7086 - val_acc: 0.6557\n",
      "Epoch 16/30\n",
      "50/50 [==============================] - 14s - loss: 0.5467 - acc: 0.7493 - val_loss: 0.6511 - val_acc: 0.6721\n",
      "Epoch 17/30\n",
      "50/50 [==============================] - 14s - loss: 0.5281 - acc: 0.7560 - val_loss: 0.5989 - val_acc: 0.6803\n",
      "Epoch 18/30\n",
      "50/50 [==============================] - 14s - loss: 0.5751 - acc: 0.7133 - val_loss: 0.5806 - val_acc: 0.7459\n",
      "Epoch 19/30\n",
      "50/50 [==============================] - 14s - loss: 0.5377 - acc: 0.7707 - val_loss: 0.5196 - val_acc: 0.7295\n",
      "Epoch 20/30\n",
      "50/50 [==============================] - 14s - loss: 0.5374 - acc: 0.7560 - val_loss: 0.5650 - val_acc: 0.7541\n",
      "Epoch 21/30\n",
      "50/50 [==============================] - 14s - loss: 0.5288 - acc: 0.8000 - val_loss: 0.5497 - val_acc: 0.7541\n",
      "Epoch 22/30\n",
      "50/50 [==============================] - 14s - loss: 0.5023 - acc: 0.7880 - val_loss: 0.5798 - val_acc: 0.7459\n",
      "Epoch 23/30\n",
      "50/50 [==============================] - 14s - loss: 0.5261 - acc: 0.7640 - val_loss: 0.5021 - val_acc: 0.7787\n",
      "Epoch 24/30\n",
      "50/50 [==============================] - 14s - loss: 0.5229 - acc: 0.7680 - val_loss: 0.6306 - val_acc: 0.7131\n",
      "Epoch 25/30\n",
      "50/50 [==============================] - 14s - loss: 0.4771 - acc: 0.8080 - val_loss: 0.7250 - val_acc: 0.7120\n",
      "Epoch 26/30\n",
      "50/50 [==============================] - 14s - loss: 0.4987 - acc: 0.7814 - val_loss: 0.9162 - val_acc: 0.7377\n",
      "Epoch 27/30\n",
      "50/50 [==============================] - 14s - loss: 0.5216 - acc: 0.7613 - val_loss: 1.5255 - val_acc: 0.6721\n",
      "Epoch 28/30\n",
      "50/50 [==============================] - 14s - loss: 0.5209 - acc: 0.7520 - val_loss: 0.5594 - val_acc: 0.7049\n",
      "Epoch 29/30\n",
      "50/50 [==============================] - 14s - loss: 0.4933 - acc: 0.7760 - val_loss: 0.6104 - val_acc: 0.7459\n",
      "Epoch 30/30\n",
      "50/50 [==============================] - 14s - loss: 0.5498 - acc: 0.7560 - val_loss: 0.4905 - val_acc: 0.7459\n",
      "dict_keys(['val_loss', 'val_acc', 'loss', 'acc'])\n"
     ]
    }
   ],
   "source": [
    "#Fitting the model using a batch generator\n",
    "\n",
    "history = model.fit_generator(train_generator, steps_per_epoch=50, epochs = 30, \n",
    "                              validation_data= validation_generator, validation_steps=25)\n",
    "\n",
    "\n",
    "history_dict = history.history\n",
    "print(history_dict.keys())\n",
    "\n",
    "model.save('damage_undamaged_conv2_2.h5')"
   ]
  },
  {
   "cell_type": "code",
   "execution_count": 12,
   "metadata": {},
   "outputs": [
    {
     "data": {
      "image/png": "[encoded data removed]",
      "text/plain": [
       "<matplotlib.figure.Figure at 0x7fc4e01d07b8>"
      ]
     },
     "metadata": {},
     "output_type": "display_data"
    },
    {
     "data": {
      "image/png": "[encoded data removed]",
      "text/plain": [
       "<matplotlib.figure.Figure at 0x7fc4e012ef28>"
      ]
     },
     "metadata": {},
     "output_type": "display_data"
    }
   ],
   "source": [
    "#Displaying curves of loss and accuracy during training \n",
    "\n",
    "import matplotlib.pyplot as plt\n",
    "acc = history.history['acc']\n",
    "val_acc = history.history['val_acc']\n",
    "loss = history.history['loss']\n",
    "val_loss = history.history['val_loss']\n",
    "\n",
    "epochs = range(len(acc))\n",
    "\n",
    "plt.plot(epochs, acc, 'bo')#dots\n",
    "plt.plot(epochs, val_acc, 'b')#line segments\n",
    "plt.title('Training and validation accuracy')\n",
    "plt.figure()\n",
    "\n",
    "plt.plot(epochs, loss, 'bo')\n",
    "plt.plot(epochs, val_loss, 'b')\n",
    "plt.title('Training and validation loss')\n",
    "plt.show()"
   ]
  },
  {
   "cell_type": "code",
   "execution_count": null,
   "metadata": {
    "collapsed": true
   },
   "outputs": [],
   "source": []
  },
  {
   "cell_type": "code",
   "execution_count": null,
   "metadata": {
    "collapsed": true
   },
   "outputs": [],
   "source": []
  },
  {
   "cell_type": "code",
   "execution_count": null,
   "metadata": {
    "collapsed": true
   },
   "outputs": [],
   "source": []
  }
 ],
 "metadata": {
  "kernelspec": {
   "display_name": "Python 3",
   "language": "python",
   "name": "python3"
  },
  "language_info": {
   "codemirror_mode": {
    "name": "ipython",
    "version": 3
   },
   "file_extension": ".py",
   "mimetype": "text/x-python",
   "name": "python",
   "nbconvert_exporter": "python",
   "pygments_lexer": "ipython3",
   "version": "3.6.1"
  }
 },
 "nbformat": 4,
 "nbformat_minor": 2
}
