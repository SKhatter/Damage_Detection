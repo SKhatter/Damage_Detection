{
 "cells": [
  {
   "cell_type": "markdown",
   "metadata": {},
   "source": [
    "## Adding more layers of Conv2D -  Decreases the accuracy of validation set."
   ]
  },
  {
   "cell_type": "code",
   "execution_count": 1,
   "metadata": {
    "collapsed": true
   },
   "outputs": [],
   "source": [
    "import os, shutil"
   ]
  },
  {
   "cell_type": "code",
   "execution_count": 2,
   "metadata": {
    "collapsed": true
   },
   "outputs": [],
   "source": [
    "base_dir = '/home/skhatter/dataset13'\n",
    "train_dir = '/home/skhatter/dataset13/train'\n",
    "valid_dir = '/home/skhatter/dataset13/valid'\n",
    "\n",
    "train_dam_dir = '/home/skhatter/dataset13/train/damaged'\n",
    "train_undam_dir = '/home/skhatter/dataset13/train/undamaged'\n",
    "\n",
    "valid_dam_dir = '/home/skhatter/dataset13/valid/damaged'\n",
    "valid_undam_dir = '/home/skhatter/dataset13/valid/undamaged'"
   ]
  },
  {
   "cell_type": "code",
   "execution_count": 3,
   "metadata": {},
   "outputs": [
    {
     "name": "stdout",
     "output_type": "stream",
     "text": [
      "Total training damaged images 160\n",
      "Total training undamaged images 234\n",
      "Total validation damaged images 53\n",
      "Total validation undamaged images 80\n"
     ]
    }
   ],
   "source": [
    "print('Total training damaged images', len(os.listdir(train_dam_dir)))\n",
    "print('Total training undamaged images', len(os.listdir(train_undam_dir)))\n",
    "\n",
    "print('Total validation damaged images', len(os.listdir(valid_dam_dir)))\n",
    "print('Total validation undamaged images', len(os.listdir(valid_undam_dir)))"
   ]
  },
  {
   "cell_type": "code",
   "execution_count": 4,
   "metadata": {},
   "outputs": [
    {
     "name": "stderr",
     "output_type": "stream",
     "text": [
      "Using TensorFlow backend.\n"
     ]
    }
   ],
   "source": [
    "from keras import layers\n",
    "from keras import models"
   ]
  },
  {
   "cell_type": "code",
   "execution_count": 5,
   "metadata": {
    "scrolled": false
   },
   "outputs": [
    {
     "name": "stdout",
     "output_type": "stream",
     "text": [
      "_________________________________________________________________\n",
      "Layer (type)                 Output Shape              Param #   \n",
      "=================================================================\n",
      "conv2d_1 (Conv2D)            (None, 510, 510, 100)     2800      \n",
      "_________________________________________________________________\n",
      "max_pooling2d_1 (MaxPooling2 (None, 255, 255, 100)     0         \n",
      "_________________________________________________________________\n",
      "conv2d_2 (Conv2D)            (None, 253, 253, 200)     180200    \n",
      "_________________________________________________________________\n",
      "max_pooling2d_2 (MaxPooling2 (None, 126, 126, 200)     0         \n",
      "_________________________________________________________________\n",
      "conv2d_3 (Conv2D)            (None, 124, 124, 200)     360200    \n",
      "_________________________________________________________________\n",
      "max_pooling2d_3 (MaxPooling2 (None, 62, 62, 200)       0         \n",
      "_________________________________________________________________\n",
      "dropout_1 (Dropout)          (None, 62, 62, 200)       0         \n",
      "_________________________________________________________________\n",
      "conv2d_4 (Conv2D)            (None, 60, 60, 200)       360200    \n",
      "_________________________________________________________________\n",
      "max_pooling2d_4 (MaxPooling2 (None, 30, 30, 200)       0         \n",
      "_________________________________________________________________\n",
      "dropout_2 (Dropout)          (None, 30, 30, 200)       0         \n",
      "_________________________________________________________________\n",
      "conv2d_5 (Conv2D)            (None, 28, 28, 200)       360200    \n",
      "_________________________________________________________________\n",
      "max_pooling2d_5 (MaxPooling2 (None, 14, 14, 200)       0         \n",
      "_________________________________________________________________\n",
      "conv2d_6 (Conv2D)            (None, 12, 12, 200)       360200    \n",
      "_________________________________________________________________\n",
      "max_pooling2d_6 (MaxPooling2 (None, 6, 6, 200)         0         \n",
      "_________________________________________________________________\n",
      "dropout_3 (Dropout)          (None, 6, 6, 200)         0         \n",
      "_________________________________________________________________\n",
      "conv2d_7 (Conv2D)            (None, 4, 4, 200)         360200    \n",
      "_________________________________________________________________\n",
      "max_pooling2d_7 (MaxPooling2 (None, 2, 2, 200)         0         \n",
      "_________________________________________________________________\n",
      "flatten_1 (Flatten)          (None, 800)               0         \n",
      "_________________________________________________________________\n",
      "dropout_4 (Dropout)          (None, 800)               0         \n",
      "_________________________________________________________________\n",
      "dense_1 (Dense)              (None, 512)               410112    \n",
      "_________________________________________________________________\n",
      "dense_2 (Dense)              (None, 1)                 513       \n",
      "=================================================================\n",
      "Total params: 2,394,625\n",
      "Trainable params: 2,394,625\n",
      "Non-trainable params: 0\n",
      "_________________________________________________________________\n"
     ]
    }
   ],
   "source": [
    "model = models.Sequential()\n",
    "model.add(layers.Conv2D(100, (3,3), activation ='relu', input_shape = (512, 512, 3)))\n",
    "model.add(layers.MaxPooling2D((2,2)))\n",
    "model.add(layers.Conv2D(200, (3,3), activation ='relu'))\n",
    "model.add(layers.MaxPooling2D((2,2)))\n",
    "model.add(layers.Conv2D(200, (3,3), activation='relu'))\n",
    "model.add(layers.MaxPooling2D((2,2)))\n",
    "model.add(layers.Dropout(0.5))\n",
    "model.add(layers.Conv2D(200, (3,3), activation='relu'))\n",
    "model.add(layers.MaxPooling2D((2,2)))\n",
    "model.add(layers.Dropout(0.5))\n",
    "model.add(layers.Conv2D(200, (3,3), activation='relu'))\n",
    "model.add(layers.MaxPooling2D((2,2)))\n",
    "model.add(layers.Conv2D(200, (3,3), activation='relu'))\n",
    "model.add(layers.MaxPooling2D((2,2)))\n",
    "model.add(layers.Dropout(0.5))\n",
    "model.add(layers.Conv2D(200, (3,3), activation='relu'))\n",
    "model.add(layers.MaxPooling2D((2,2)))\n",
    "model.add(layers.Flatten())\n",
    "model.add(layers.Dropout(0.5))\n",
    "model.add(layers.Dense(512, activation = 'relu'))\n",
    "model.add(layers.Dense(1, activation = 'sigmoid'))\n",
    "model.summary()"
   ]
  },
  {
   "cell_type": "code",
   "execution_count": 6,
   "metadata": {
    "collapsed": true
   },
   "outputs": [],
   "source": [
    "from keras import optimizers"
   ]
  },
  {
   "cell_type": "code",
   "execution_count": 7,
   "metadata": {
    "collapsed": true
   },
   "outputs": [],
   "source": [
    "model.compile(loss = 'binary_crossentropy', optimizer = optimizers.RMSprop(lr=1e-4), metrics=['acc'])"
   ]
  },
  {
   "cell_type": "code",
   "execution_count": 8,
   "metadata": {},
   "outputs": [
    {
     "name": "stdout",
     "output_type": "stream",
     "text": [
      "Found 393 images belonging to 2 classes.\n",
      "Found 132 images belonging to 2 classes.\n",
      "train data batch:  (5, 512, 512, 3)\n",
      "train label batch:  (5,)\n",
      "validation data batch:  (5, 512, 512, 3)\n",
      "validation label batch (5,)\n"
     ]
    }
   ],
   "source": [
    "from keras.preprocessing.image import ImageDataGenerator\n",
    "\n",
    "train_datagen = ImageDataGenerator(rescale = 1./255, rotation_range=40,width_shift_range=0.2,\n",
    "                                  height_shift_range=0.2,\n",
    "                                  shear_range=0.2,\n",
    "                                  zoom_range=0.2,\n",
    "                                  horizontal_flip=True)\n",
    "test_datagen= ImageDataGenerator(rescale = 1./255)\n",
    "\n",
    "train_generator = train_datagen.flow_from_directory(train_dir, target_size=(512, 512), batch_size =5,\n",
    "                                                    class_mode='binary')\n",
    "validation_generator = test_datagen.flow_from_directory(valid_dir, target_size = (512, 512),\n",
    "                                                        batch_size = 5, class_mode='binary')\n",
    "\n",
    "\n",
    "#displaying the shapes of batch of data and labels\n",
    "for data_batch, labels_batch in train_generator:\n",
    "    print('train data batch: ', data_batch.shape)\n",
    "    print('train label batch: ', labels_batch.shape)\n",
    "    break\n",
    "    \n",
    "for data_batch, labels_batch in validation_generator:\n",
    "    print('validation data batch: ', data_batch.shape)\n",
    "    print('validation label batch', labels_batch.shape)\n",
    "    break"
   ]
  },
  {
   "cell_type": "code",
   "execution_count": 9,
   "metadata": {
    "scrolled": false
   },
   "outputs": [
    {
     "name": "stdout",
     "output_type": "stream",
     "text": [
      "Epoch 1/30\n",
      "50/50 [==============================] - 13s - loss: 0.6969 - acc: 0.5560 - val_loss: 0.6895 - val_acc: 0.6000\n",
      "Epoch 2/30\n",
      "50/50 [==============================] - 12s - loss: 0.6823 - acc: 0.5787 - val_loss: 0.6887 - val_acc: 0.5984\n",
      "Epoch 3/30\n",
      "50/50 [==============================] - 11s - loss: 0.6859 - acc: 0.5880 - val_loss: 0.6901 - val_acc: 0.5902\n",
      "Epoch 4/30\n",
      "50/50 [==============================] - 11s - loss: 0.6783 - acc: 0.6039 - val_loss: 0.6909 - val_acc: 0.6311\n",
      "Epoch 5/30\n",
      "50/50 [==============================] - 11s - loss: 0.6894 - acc: 0.5853 - val_loss: 0.6924 - val_acc: 0.5410\n",
      "Epoch 6/30\n",
      "50/50 [==============================] - 11s - loss: 0.6769 - acc: 0.6080 - val_loss: 0.6871 - val_acc: 0.6721\n",
      "Epoch 7/30\n",
      "50/50 [==============================] - 11s - loss: 0.6742 - acc: 0.6159 - val_loss: 0.6905 - val_acc: 0.6148\n",
      "Epoch 8/30\n",
      "50/50 [==============================] - 12s - loss: 0.6851 - acc: 0.5853 - val_loss: 0.6873 - val_acc: 0.6230\n",
      "Epoch 9/30\n",
      "50/50 [==============================] - 12s - loss: 0.6824 - acc: 0.5920 - val_loss: 0.6876 - val_acc: 0.6148\n",
      "Epoch 10/30\n",
      "50/50 [==============================] - 12s - loss: 0.6895 - acc: 0.5839 - val_loss: 0.6905 - val_acc: 0.5902\n",
      "Epoch 11/30\n",
      "50/50 [==============================] - 12s - loss: 0.6766 - acc: 0.6080 - val_loss: 0.6860 - val_acc: 0.6080\n",
      "Epoch 12/30\n",
      "50/50 [==============================] - 12s - loss: 0.6789 - acc: 0.6079 - val_loss: 0.6881 - val_acc: 0.6148\n",
      "Epoch 13/30\n",
      "50/50 [==============================] - 12s - loss: 0.6927 - acc: 0.5519 - val_loss: 0.6920 - val_acc: 0.5984\n",
      "Epoch 14/30\n",
      "50/50 [==============================] - 12s - loss: 0.6672 - acc: 0.6200 - val_loss: 0.6888 - val_acc: 0.6066\n",
      "Epoch 15/30\n",
      "50/50 [==============================] - 12s - loss: 0.6771 - acc: 0.5867 - val_loss: 0.6903 - val_acc: 0.5902\n",
      "Epoch 16/30\n",
      "50/50 [==============================] - 12s - loss: 0.6782 - acc: 0.6107 - val_loss: 0.6894 - val_acc: 0.5984\n",
      "Epoch 17/30\n",
      "50/50 [==============================] - 12s - loss: 0.6802 - acc: 0.5840 - val_loss: 0.6890 - val_acc: 0.6066\n",
      "Epoch 18/30\n",
      "50/50 [==============================] - 12s - loss: 0.6760 - acc: 0.6067 - val_loss: 0.6884 - val_acc: 0.5984\n",
      "Epoch 19/30\n",
      "50/50 [==============================] - 12s - loss: 0.6771 - acc: 0.5973 - val_loss: 0.6883 - val_acc: 0.6066\n",
      "Epoch 20/30\n",
      "50/50 [==============================] - 12s - loss: 0.6658 - acc: 0.6120 - val_loss: 0.6903 - val_acc: 0.6148\n",
      "Epoch 21/30\n",
      "50/50 [==============================] - 12s - loss: 0.6828 - acc: 0.5893 - val_loss: 0.6900 - val_acc: 0.5902\n",
      "Epoch 22/30\n",
      "50/50 [==============================] - 12s - loss: 0.6849 - acc: 0.5880 - val_loss: 0.6867 - val_acc: 0.6311\n",
      "Epoch 23/30\n",
      "50/50 [==============================] - 12s - loss: 0.6829 - acc: 0.5827 - val_loss: 0.6892 - val_acc: 0.6230\n",
      "Epoch 24/30\n",
      "50/50 [==============================] - 12s - loss: 0.6900 - acc: 0.5761 - val_loss: 0.6892 - val_acc: 0.6148\n",
      "Epoch 25/30\n",
      "50/50 [==============================] - 12s - loss: 0.6801 - acc: 0.5800 - val_loss: 0.6890 - val_acc: 0.6148\n",
      "Epoch 26/30\n",
      "50/50 [==============================] - 12s - loss: 0.6598 - acc: 0.6359 - val_loss: 0.6849 - val_acc: 0.6230\n",
      "Epoch 27/30\n",
      "50/50 [==============================] - 12s - loss: 0.6651 - acc: 0.6093 - val_loss: 0.6778 - val_acc: 0.6393\n",
      "Epoch 28/30\n",
      "50/50 [==============================] - 12s - loss: 0.6811 - acc: 0.5840 - val_loss: 0.6884 - val_acc: 0.6080\n",
      "Epoch 29/30\n",
      "50/50 [==============================] - 12s - loss: 0.6809 - acc: 0.5947 - val_loss: 0.6825 - val_acc: 0.6311\n",
      "Epoch 30/30\n",
      "50/50 [==============================] - 12s - loss: 0.6852 - acc: 0.5933 - val_loss: 0.6801 - val_acc: 0.7131\n",
      "dict_keys(['val_loss', 'val_acc', 'loss', 'acc'])\n"
     ]
    }
   ],
   "source": [
    "#Fitting the model using a batch generator\n",
    "\n",
    "history = model.fit_generator(train_generator, steps_per_epoch=50, epochs = 30, \n",
    "                              validation_data= validation_generator, validation_steps=25)\n",
    "\n",
    "\n",
    "history_dict = history.history\n",
    "print(history_dict.keys())\n",
    "\n",
    "model.save('convnet1.h5')"
   ]
  },
  {
   "cell_type": "code",
   "execution_count": 10,
   "metadata": {},
   "outputs": [
    {
     "data": {
      "image/png": "[encoded data removed]",
      "text/plain": [
       "<matplotlib.figure.Figure at 0x7f53274de6a0>"
      ]
     },
     "metadata": {},
     "output_type": "display_data"
    },
    {
     "data": {
      "image/png": "[encoded data removed]",
      "text/plain": [
       "<matplotlib.figure.Figure at 0x7f52ec697240>"
      ]
     },
     "metadata": {},
     "output_type": "display_data"
    }
   ],
   "source": [
    "#Displaying curves of loss and accuracy during training \n",
    "\n",
    "import matplotlib.pyplot as plt\n",
    "acc = history.history['acc']\n",
    "val_acc = history.history['val_acc']\n",
    "loss = history.history['loss']\n",
    "val_loss = history.history['val_loss']\n",
    "\n",
    "epochs = range(len(acc))\n",
    "\n",
    "plt.plot(epochs, acc, 'bo')#dots\n",
    "plt.plot(epochs, val_acc, 'b')#line segments\n",
    "plt.title('Training and validation accuracy')\n",
    "plt.figure()\n",
    "\n",
    "plt.plot(epochs, loss, 'bo')\n",
    "plt.plot(epochs, val_loss, 'b')\n",
    "plt.title('Training and validation loss')\n",
    "plt.show()"
   ]
  },
  {
   "cell_type": "code",
   "execution_count": 11,
   "metadata": {},
   "outputs": [
    {
     "name": "stdout",
     "output_type": "stream",
     "text": [
      "Epoch 1/30\n",
      "50/50 [==============================] - 12s - loss: 0.6842 - acc: 0.5840 - val_loss: 0.6818 - val_acc: 0.6148\n",
      "Epoch 2/30\n",
      "50/50 [==============================] - 11s - loss: 0.6719 - acc: 0.6213 - val_loss: 0.6798 - val_acc: 0.5984\n",
      "Epoch 3/30\n",
      "50/50 [==============================] - 11s - loss: 0.6968 - acc: 0.5653 - val_loss: 0.6858 - val_acc: 0.6148\n",
      "Epoch 4/30\n",
      "50/50 [==============================] - 11s - loss: 0.6864 - acc: 0.5520 - val_loss: 0.6909 - val_acc: 0.5410\n",
      "Epoch 5/30\n",
      "50/50 [==============================] - 11s - loss: 0.6577 - acc: 0.6213 - val_loss: 0.6786 - val_acc: 0.6148\n",
      "Epoch 6/30\n",
      "50/50 [==============================] - 11s - loss: 0.6606 - acc: 0.6240 - val_loss: 0.6853 - val_acc: 0.6475\n",
      "Epoch 7/30\n",
      "50/50 [==============================] - 11s - loss: 0.6697 - acc: 0.5747 - val_loss: 0.6760 - val_acc: 0.5492\n",
      "Epoch 8/30\n",
      "50/50 [==============================] - 12s - loss: 0.6593 - acc: 0.6413 - val_loss: 0.6658 - val_acc: 0.6160\n",
      "Epoch 9/30\n",
      "50/50 [==============================] - 12s - loss: 0.6961 - acc: 0.5480 - val_loss: 0.6784 - val_acc: 0.6066\n",
      "Epoch 10/30\n",
      "50/50 [==============================] - 12s - loss: 0.6894 - acc: 0.5801 - val_loss: 0.6787 - val_acc: 0.6066\n",
      "Epoch 11/30\n",
      "50/50 [==============================] - 12s - loss: 0.6598 - acc: 0.6079 - val_loss: 0.6768 - val_acc: 0.6066\n",
      "Epoch 12/30\n",
      "50/50 [==============================] - 12s - loss: 0.6715 - acc: 0.6080 - val_loss: 0.6720 - val_acc: 0.6066\n",
      "Epoch 13/30\n",
      "50/50 [==============================] - 12s - loss: 0.6590 - acc: 0.5933 - val_loss: 0.6604 - val_acc: 0.5820\n",
      "Epoch 14/30\n",
      "50/50 [==============================] - 12s - loss: 0.6801 - acc: 0.5880 - val_loss: 0.6691 - val_acc: 0.6475\n",
      "Epoch 15/30\n",
      "50/50 [==============================] - 12s - loss: 0.6809 - acc: 0.5919 - val_loss: 0.6688 - val_acc: 0.6230\n",
      "Epoch 16/30\n",
      "50/50 [==============================] - 12s - loss: 0.6506 - acc: 0.6427 - val_loss: 0.6724 - val_acc: 0.5656\n",
      "Epoch 17/30\n",
      "50/50 [==============================] - 12s - loss: 0.6693 - acc: 0.5800 - val_loss: 0.6725 - val_acc: 0.6230\n",
      "Epoch 18/30\n",
      "50/50 [==============================] - 12s - loss: 0.6697 - acc: 0.6053 - val_loss: 0.6768 - val_acc: 0.6148\n",
      "Epoch 19/30\n",
      "50/50 [==============================] - 12s - loss: 0.6700 - acc: 0.5613 - val_loss: 0.6835 - val_acc: 0.5984\n",
      "Epoch 20/30\n",
      "50/50 [==============================] - 12s - loss: 0.6724 - acc: 0.6080 - val_loss: 0.6725 - val_acc: 0.6148\n",
      "Epoch 21/30\n",
      "50/50 [==============================] - 12s - loss: 0.6689 - acc: 0.6053 - val_loss: 0.6597 - val_acc: 0.6148\n",
      "Epoch 22/30\n",
      "50/50 [==============================] - 12s - loss: 0.6722 - acc: 0.5813 - val_loss: 0.6739 - val_acc: 0.5902\n",
      "Epoch 23/30\n",
      "50/50 [==============================] - 12s - loss: 0.6667 - acc: 0.6000 - val_loss: 0.6704 - val_acc: 0.5984\n",
      "Epoch 24/30\n",
      "50/50 [==============================] - 12s - loss: 0.6699 - acc: 0.6013 - val_loss: 0.6671 - val_acc: 0.6311\n",
      "Epoch 25/30\n",
      "50/50 [==============================] - 12s - loss: 0.6676 - acc: 0.5760 - val_loss: 0.6925 - val_acc: 0.5440\n",
      "Epoch 26/30\n",
      "50/50 [==============================] - 12s - loss: 0.7714 - acc: 0.5959 - val_loss: 0.7059 - val_acc: 0.5328\n",
      "Epoch 27/30\n",
      "50/50 [==============================] - 12s - loss: 0.6614 - acc: 0.6107 - val_loss: 0.6648 - val_acc: 0.5328\n",
      "Epoch 28/30\n",
      "50/50 [==============================] - 12s - loss: 0.6729 - acc: 0.5880 - val_loss: 0.6721 - val_acc: 0.5000\n",
      "Epoch 29/30\n",
      "50/50 [==============================] - 12s - loss: 0.7599 - acc: 0.5973 - val_loss: 0.7303 - val_acc: 0.3607\n",
      "Epoch 30/30\n",
      "50/50 [==============================] - 12s - loss: 0.6703 - acc: 0.5853 - val_loss: 0.6719 - val_acc: 0.4344\n",
      "dict_keys(['val_loss', 'val_acc', 'loss', 'acc'])\n"
     ]
    }
   ],
   "source": [
    "#Fitting the model using a batch generator\n",
    "\n",
    "history = model.fit_generator(train_generator, steps_per_epoch=50, epochs = 30, \n",
    "                              validation_data= validation_generator, validation_steps=25)\n",
    "\n",
    "\n",
    "history_dict = history.history\n",
    "print(history_dict.keys())\n",
    "\n",
    "model.save('damage_undamaged_conv2_2.h5')"
   ]
  },
  {
   "cell_type": "code",
   "execution_count": 12,
   "metadata": {},
   "outputs": [
    {
     "data": {
      "image/png": "[encoded data removed]",
      "text/plain": [
       "<matplotlib.figure.Figure at 0x7f52c1ae32e8>"
      ]
     },
     "metadata": {},
     "output_type": "display_data"
    },
    {
     "data": {
      "image/png": "[encoded data removed]",
      "text/plain": [
       "<matplotlib.figure.Figure at 0x7f52c005a160>"
      ]
     },
     "metadata": {},
     "output_type": "display_data"
    }
   ],
   "source": [
    "#Displaying curves of loss and accuracy during training \n",
    "\n",
    "import matplotlib.pyplot as plt\n",
    "acc = history.history['acc']\n",
    "val_acc = history.history['val_acc']\n",
    "loss = history.history['loss']\n",
    "val_loss = history.history['val_loss']\n",
    "\n",
    "epochs = range(len(acc))\n",
    "\n",
    "plt.plot(epochs, acc, 'bo')#dots\n",
    "plt.plot(epochs, val_acc, 'b')#line segments\n",
    "plt.title('Training and validation accuracy')\n",
    "plt.figure()\n",
    "\n",
    "plt.plot(epochs, loss, 'bo')\n",
    "plt.plot(epochs, val_loss, 'b')\n",
    "plt.title('Training and validation loss')\n",
    "plt.show()"
   ]
  },
  {
   "cell_type": "code",
   "execution_count": null,
   "metadata": {
    "collapsed": true
   },
   "outputs": [],
   "source": []
  }
 ],
 "metadata": {
  "kernelspec": {
   "display_name": "Python 3",
   "language": "python",
   "name": "python3"
  },
  "language_info": {
   "codemirror_mode": {
    "name": "ipython",
    "version": 3
   },
   "file_extension": ".py",
   "mimetype": "text/x-python",
   "name": "python",
   "nbconvert_exporter": "python",
   "pygments_lexer": "ipython3",
   "version": "3.6.1"
  }
 },
 "nbformat": 4,
 "nbformat_minor": 2
}
