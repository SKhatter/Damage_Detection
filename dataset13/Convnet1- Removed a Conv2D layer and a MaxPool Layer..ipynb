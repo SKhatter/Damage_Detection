{
 "cells": [
  {
   "cell_type": "markdown",
   "metadata": {},
   "source": [
    "## Removed a Conv2D layer and a maxpooling layer-- scores decrease."
   ]
  },
  {
   "cell_type": "code",
   "execution_count": 1,
   "metadata": {
    "collapsed": true
   },
   "outputs": [],
   "source": [
    "import os, shutil"
   ]
  },
  {
   "cell_type": "code",
   "execution_count": 2,
   "metadata": {
    "collapsed": true
   },
   "outputs": [],
   "source": [
    "base_dir = '/home/skhatter/dataset13'\n",
    "train_dir = '/home/skhatter/dataset13/train'\n",
    "valid_dir = '/home/skhatter/dataset13/valid'\n",
    "\n",
    "train_dam_dir = '/home/skhatter/dataset13/train/damaged'\n",
    "train_undam_dir = '/home/skhatter/dataset13/train/undamaged'\n",
    "\n",
    "valid_dam_dir = '/home/skhatter/dataset13/valid/damaged'\n",
    "valid_undam_dir = '/home/skhatter/dataset13/valid/undamaged'"
   ]
  },
  {
   "cell_type": "code",
   "execution_count": 3,
   "metadata": {},
   "outputs": [
    {
     "name": "stdout",
     "output_type": "stream",
     "text": [
      "Total training damaged images 160\n",
      "Total training undamaged images 234\n",
      "Total validation damaged images 53\n",
      "Total validation undamaged images 80\n"
     ]
    }
   ],
   "source": [
    "print('Total training damaged images', len(os.listdir(train_dam_dir)))\n",
    "print('Total training undamaged images', len(os.listdir(train_undam_dir)))\n",
    "\n",
    "print('Total validation damaged images', len(os.listdir(valid_dam_dir)))\n",
    "print('Total validation undamaged images', len(os.listdir(valid_undam_dir)))"
   ]
  },
  {
   "cell_type": "code",
   "execution_count": 4,
   "metadata": {},
   "outputs": [
    {
     "name": "stderr",
     "output_type": "stream",
     "text": [
      "Using TensorFlow backend.\n"
     ]
    }
   ],
   "source": [
    "from keras import layers\n",
    "from keras import models"
   ]
  },
  {
   "cell_type": "code",
   "execution_count": 13,
   "metadata": {
    "scrolled": false
   },
   "outputs": [
    {
     "name": "stdout",
     "output_type": "stream",
     "text": [
      "_________________________________________________________________\n",
      "Layer (type)                 Output Shape              Param #   \n",
      "=================================================================\n",
      "conv2d_4 (Conv2D)            (None, 510, 510, 100)     2800      \n",
      "_________________________________________________________________\n",
      "max_pooling2d_4 (MaxPooling2 (None, 255, 255, 100)     0         \n",
      "_________________________________________________________________\n",
      "conv2d_5 (Conv2D)            (None, 253, 253, 200)     180200    \n",
      "_________________________________________________________________\n",
      "max_pooling2d_5 (MaxPooling2 (None, 126, 126, 200)     0         \n",
      "_________________________________________________________________\n",
      "conv2d_6 (Conv2D)            (None, 124, 124, 200)     360200    \n",
      "_________________________________________________________________\n",
      "max_pooling2d_6 (MaxPooling2 (None, 62, 62, 200)       0         \n",
      "_________________________________________________________________\n",
      "flatten_1 (Flatten)          (None, 768800)            0         \n",
      "_________________________________________________________________\n",
      "dropout_2 (Dropout)          (None, 768800)            0         \n",
      "_________________________________________________________________\n",
      "dense_3 (Dense)              (None, 512)               393626112 \n",
      "_________________________________________________________________\n",
      "dense_4 (Dense)              (None, 1)                 513       \n",
      "=================================================================\n",
      "Total params: 394,169,825\n",
      "Trainable params: 394,169,825\n",
      "Non-trainable params: 0\n",
      "_________________________________________________________________\n"
     ]
    }
   ],
   "source": [
    "model = models.Sequential()\n",
    "model.add(layers.Conv2D(100, (3,3), activation ='relu', input_shape = (512, 512, 3)))\n",
    "model.add(layers.MaxPooling2D((2,2)))\n",
    "model.add(layers.Conv2D(200, (3,3), activation ='relu'))\n",
    "model.add(layers.MaxPooling2D((2,2)))\n",
    "model.add(layers.Conv2D(200, (3,3), activation='relu'))\n",
    "model.add(layers.MaxPooling2D((2,2)))\n",
    "model.add(layers.Flatten())\n",
    "model.add(layers.Dropout(0.5))\n",
    "model.add(layers.Dense(512, activation = 'relu'))\n",
    "model.add(layers.Dense(1, activation = 'sigmoid'))\n",
    "model.summary()"
   ]
  },
  {
   "cell_type": "code",
   "execution_count": 14,
   "metadata": {
    "collapsed": true
   },
   "outputs": [],
   "source": [
    "from keras import optimizers"
   ]
  },
  {
   "cell_type": "code",
   "execution_count": 15,
   "metadata": {
    "collapsed": true
   },
   "outputs": [],
   "source": [
    "model.compile(loss = 'binary_crossentropy', optimizer = optimizers.RMSprop(lr=1e-4), metrics=['acc'])"
   ]
  },
  {
   "cell_type": "code",
   "execution_count": 16,
   "metadata": {},
   "outputs": [
    {
     "name": "stdout",
     "output_type": "stream",
     "text": [
      "Found 393 images belonging to 2 classes.\n",
      "Found 132 images belonging to 2 classes.\n",
      "train data batch:  (4, 512, 512, 3)\n",
      "train label batch:  (4,)\n",
      "validation data batch:  (4, 512, 512, 3)\n",
      "validation label batch (4,)\n"
     ]
    }
   ],
   "source": [
    "from keras.preprocessing.image import ImageDataGenerator\n",
    "\n",
    "train_datagen = ImageDataGenerator(rescale = 1./255, rotation_range=40,width_shift_range=0.2,\n",
    "                                  height_shift_range=0.2,\n",
    "                                  shear_range=0.2,\n",
    "                                  zoom_range=0.2,\n",
    "                                  horizontal_flip=True)\n",
    "test_datagen= ImageDataGenerator(rescale = 1./255)\n",
    "\n",
    "train_generator = train_datagen.flow_from_directory(train_dir, target_size=(512, 512), batch_size =4,\n",
    "                                                    class_mode='binary')\n",
    "validation_generator = test_datagen.flow_from_directory(valid_dir, target_size = (512, 512),\n",
    "                                                        batch_size = 4, class_mode='binary')\n",
    "\n",
    "\n",
    "#displaying the shapes of batch of data and labels\n",
    "for data_batch, labels_batch in train_generator:\n",
    "    print('train data batch: ', data_batch.shape)\n",
    "    print('train label batch: ', labels_batch.shape)\n",
    "    break\n",
    "    \n",
    "for data_batch, labels_batch in validation_generator:\n",
    "    print('validation data batch: ', data_batch.shape)\n",
    "    print('validation label batch', labels_batch.shape)\n",
    "    break"
   ]
  },
  {
   "cell_type": "code",
   "execution_count": 17,
   "metadata": {
    "scrolled": false
   },
   "outputs": [
    {
     "name": "stdout",
     "output_type": "stream",
     "text": [
      "Epoch 1/30\n",
      "50/50 [==============================] - 22s - loss: 5.4471 - acc: 0.6350 - val_loss: 0.7398 - val_acc: 0.3800\n",
      "Epoch 2/30\n",
      "50/50 [==============================] - 20s - loss: 0.7207 - acc: 0.5399 - val_loss: 0.6872 - val_acc: 0.5900\n",
      "Epoch 3/30\n",
      "50/50 [==============================] - 19s - loss: 0.7027 - acc: 0.5750 - val_loss: 0.7867 - val_acc: 0.6300\n",
      "Epoch 4/30\n",
      "50/50 [==============================] - 19s - loss: 0.7075 - acc: 0.5349 - val_loss: 0.6781 - val_acc: 0.6000\n",
      "Epoch 5/30\n",
      "50/50 [==============================] - 19s - loss: 0.7018 - acc: 0.5500 - val_loss: 0.6942 - val_acc: 0.5800\n",
      "Epoch 6/30\n",
      "50/50 [==============================] - 19s - loss: 0.6855 - acc: 0.6349 - val_loss: 0.7009 - val_acc: 0.6000\n",
      "Epoch 7/30\n",
      "50/50 [==============================] - 19s - loss: 0.6829 - acc: 0.5650 - val_loss: 0.6874 - val_acc: 0.5800\n",
      "Epoch 8/30\n",
      "50/50 [==============================] - 19s - loss: 0.7297 - acc: 0.5899 - val_loss: 0.6858 - val_acc: 0.5900\n",
      "Epoch 9/30\n",
      "50/50 [==============================] - 19s - loss: 0.6779 - acc: 0.5850 - val_loss: 0.7398 - val_acc: 0.3600\n",
      "Epoch 10/30\n",
      "50/50 [==============================] - 19s - loss: 0.6618 - acc: 0.6149 - val_loss: 0.9684 - val_acc: 0.5000\n",
      "Epoch 11/30\n",
      "50/50 [==============================] - 19s - loss: 0.6877 - acc: 0.5950 - val_loss: 0.6614 - val_acc: 0.7000\n",
      "Epoch 12/30\n",
      "50/50 [==============================] - 19s - loss: 0.6945 - acc: 0.5202 - val_loss: 0.6878 - val_acc: 0.5600\n",
      "Epoch 13/30\n",
      "50/50 [==============================] - 19s - loss: 0.6755 - acc: 0.6200 - val_loss: 0.6916 - val_acc: 0.5700\n",
      "Epoch 14/30\n",
      "50/50 [==============================] - 19s - loss: 0.6842 - acc: 0.5899 - val_loss: 0.6835 - val_acc: 0.5800\n",
      "Epoch 15/30\n",
      "50/50 [==============================] - 19s - loss: 0.6884 - acc: 0.5750 - val_loss: 0.6818 - val_acc: 0.6100\n",
      "Epoch 16/30\n",
      "50/50 [==============================] - 19s - loss: 0.6726 - acc: 0.6149 - val_loss: 0.6578 - val_acc: 0.6300\n",
      "Epoch 17/30\n",
      "50/50 [==============================] - 19s - loss: 0.6681 - acc: 0.6200 - val_loss: 0.6740 - val_acc: 0.6100\n",
      "Epoch 18/30\n",
      "50/50 [==============================] - 19s - loss: 0.6960 - acc: 0.5852 - val_loss: 0.6983 - val_acc: 0.5600\n",
      "Epoch 19/30\n",
      "50/50 [==============================] - 19s - loss: 0.6952 - acc: 0.5850 - val_loss: 0.6667 - val_acc: 0.6400\n",
      "Epoch 20/30\n",
      "50/50 [==============================] - 19s - loss: 0.6997 - acc: 0.5649 - val_loss: 0.6834 - val_acc: 0.4100\n",
      "Epoch 21/30\n",
      "50/50 [==============================] - 19s - loss: 0.6719 - acc: 0.6350 - val_loss: 0.6999 - val_acc: 0.5900\n",
      "Epoch 22/30\n",
      "50/50 [==============================] - 19s - loss: 0.6720 - acc: 0.5949 - val_loss: 0.6974 - val_acc: 0.6400\n",
      "Epoch 23/30\n",
      "50/50 [==============================] - 19s - loss: 0.6803 - acc: 0.5700 - val_loss: 0.6644 - val_acc: 0.6100\n",
      "Epoch 24/30\n",
      "50/50 [==============================] - 19s - loss: 0.6754 - acc: 0.6399 - val_loss: 0.6924 - val_acc: 0.6300\n",
      "Epoch 25/30\n",
      "50/50 [==============================] - 19s - loss: 0.6622 - acc: 0.6100 - val_loss: 0.6739 - val_acc: 0.5900\n",
      "Epoch 26/30\n",
      "50/50 [==============================] - 19s - loss: 0.6868 - acc: 0.5999 - val_loss: 0.6735 - val_acc: 0.5700\n",
      "Epoch 27/30\n",
      "50/50 [==============================] - 19s - loss: 0.6746 - acc: 0.6450 - val_loss: 0.7991 - val_acc: 0.5300\n",
      "Epoch 28/30\n",
      "50/50 [==============================] - 19s - loss: 0.6552 - acc: 0.6449 - val_loss: 0.6845 - val_acc: 0.5500\n",
      "Epoch 29/30\n",
      "50/50 [==============================] - 19s - loss: 0.6741 - acc: 0.6300 - val_loss: 0.6762 - val_acc: 0.6100\n",
      "Epoch 30/30\n",
      "50/50 [==============================] - 19s - loss: 0.6582 - acc: 0.6602 - val_loss: 0.7060 - val_acc: 0.5700\n",
      "dict_keys(['val_loss', 'val_acc', 'loss', 'acc'])\n"
     ]
    }
   ],
   "source": [
    "#Fitting the model using a batch generator\n",
    "\n",
    "history = model.fit_generator(train_generator, steps_per_epoch=50, epochs = 30, \n",
    "                              validation_data= validation_generator, validation_steps=25)\n",
    "\n",
    "\n",
    "history_dict = history.history\n",
    "print(history_dict.keys())\n",
    "\n",
    "model.save('convnet1.h5')"
   ]
  },
  {
   "cell_type": "code",
   "execution_count": 18,
   "metadata": {},
   "outputs": [
    {
     "data": {
      "image/png": "[encoded data removed]",
      "text/plain": [
       "<matplotlib.figure.Figure at 0x7f12adc07f28>"
      ]
     },
     "metadata": {},
     "output_type": "display_data"
    },
    {
     "data": {
      "image/png": "[encoded data removed]",
      "text/plain": [
       "<matplotlib.figure.Figure at 0x7f129c7b0eb8>"
      ]
     },
     "metadata": {},
     "output_type": "display_data"
    }
   ],
   "source": [
    "#Displaying curves of loss and accuracy during training \n",
    "\n",
    "import matplotlib.pyplot as plt\n",
    "acc = history.history['acc']\n",
    "val_acc = history.history['val_acc']\n",
    "loss = history.history['loss']\n",
    "val_loss = history.history['val_loss']\n",
    "\n",
    "epochs = range(len(acc))\n",
    "\n",
    "plt.plot(epochs, acc, 'bo')#dots\n",
    "plt.plot(epochs, val_acc, 'b')#line segments\n",
    "plt.title('Training and validation accuracy')\n",
    "plt.figure()\n",
    "\n",
    "plt.plot(epochs, loss, 'bo')\n",
    "plt.plot(epochs, val_loss, 'b')\n",
    "plt.title('Training and validation loss')\n",
    "plt.show()"
   ]
  },
  {
   "cell_type": "code",
   "execution_count": 19,
   "metadata": {},
   "outputs": [
    {
     "name": "stdout",
     "output_type": "stream",
     "text": [
      "Epoch 1/30\n",
      "50/50 [==============================] - 19s - loss: 0.6628 - acc: 0.5550 - val_loss: 0.6495 - val_acc: 0.6100\n",
      "Epoch 2/30\n",
      "50/50 [==============================] - 19s - loss: 0.6386 - acc: 0.6599 - val_loss: 0.7595 - val_acc: 0.5200\n",
      "Epoch 3/30\n",
      "50/50 [==============================] - 19s - loss: 0.6522 - acc: 0.6750 - val_loss: 0.7589 - val_acc: 0.5600\n",
      "Epoch 4/30\n",
      "50/50 [==============================] - 19s - loss: 0.6268 - acc: 0.6349 - val_loss: 0.7730 - val_acc: 0.5400\n",
      "Epoch 5/30\n",
      "50/50 [==============================] - 19s - loss: 0.6392 - acc: 0.6350 - val_loss: 0.6374 - val_acc: 0.5900\n",
      "Epoch 6/30\n",
      "50/50 [==============================] - 19s - loss: 0.6613 - acc: 0.6599 - val_loss: 0.8342 - val_acc: 0.5800\n",
      "Epoch 7/30\n",
      "50/50 [==============================] - 19s - loss: 0.6002 - acc: 0.6950 - val_loss: 0.7803 - val_acc: 0.5700\n",
      "Epoch 8/30\n",
      "50/50 [==============================] - 19s - loss: 0.6847 - acc: 0.5949 - val_loss: 0.6496 - val_acc: 0.5400\n",
      "Epoch 9/30\n",
      "50/50 [==============================] - 19s - loss: 0.6381 - acc: 0.7150 - val_loss: 0.7377 - val_acc: 0.5400\n",
      "Epoch 10/30\n",
      "50/50 [==============================] - 19s - loss: 0.6533 - acc: 0.6252 - val_loss: 0.6974 - val_acc: 0.6200\n",
      "Epoch 11/30\n",
      "50/50 [==============================] - 19s - loss: 0.6513 - acc: 0.6600 - val_loss: 0.8310 - val_acc: 0.5800\n",
      "Epoch 12/30\n",
      "50/50 [==============================] - 19s - loss: 0.6205 - acc: 0.6652 - val_loss: 0.5946 - val_acc: 0.6900\n",
      "Epoch 13/30\n",
      "50/50 [==============================] - 19s - loss: 0.6379 - acc: 0.6300 - val_loss: 0.6778 - val_acc: 0.6000\n",
      "Epoch 14/30\n",
      "50/50 [==============================] - 19s - loss: 0.5896 - acc: 0.7049 - val_loss: 1.0065 - val_acc: 0.6000\n",
      "Epoch 15/30\n",
      "50/50 [==============================] - 19s - loss: 0.6451 - acc: 0.6750 - val_loss: 0.6711 - val_acc: 0.6500\n",
      "Epoch 16/30\n",
      "50/50 [==============================] - 19s - loss: 0.6664 - acc: 0.6652 - val_loss: 0.6592 - val_acc: 0.5900\n",
      "Epoch 17/30\n",
      "50/50 [==============================] - 19s - loss: 0.6093 - acc: 0.6800 - val_loss: 0.6960 - val_acc: 0.4900\n",
      "Epoch 18/30\n",
      "50/50 [==============================] - 19s - loss: 0.6160 - acc: 0.6452 - val_loss: 0.7263 - val_acc: 0.6000\n",
      "Epoch 19/30\n",
      "50/50 [==============================] - 19s - loss: 0.6439 - acc: 0.6300 - val_loss: 0.6824 - val_acc: 0.6500\n",
      "Epoch 20/30\n",
      "50/50 [==============================] - 19s - loss: 0.5664 - acc: 0.7449 - val_loss: 0.8491 - val_acc: 0.6300\n",
      "Epoch 21/30\n",
      "50/50 [==============================] - 19s - loss: 0.6171 - acc: 0.6950 - val_loss: 0.6849 - val_acc: 0.6000\n",
      "Epoch 22/30\n",
      "50/50 [==============================] - 19s - loss: 0.6655 - acc: 0.7249 - val_loss: 0.6417 - val_acc: 0.6200\n",
      "Epoch 23/30\n",
      "50/50 [==============================] - 19s - loss: 0.6135 - acc: 0.7000 - val_loss: 0.9089 - val_acc: 0.5600\n",
      "Epoch 24/30\n",
      "50/50 [==============================] - 19s - loss: 0.5967 - acc: 0.6749 - val_loss: 0.6196 - val_acc: 0.5600\n",
      "Epoch 25/30\n",
      "50/50 [==============================] - 19s - loss: 0.6651 - acc: 0.6750 - val_loss: 0.6676 - val_acc: 0.7000\n",
      "Epoch 26/30\n",
      "50/50 [==============================] - 19s - loss: 0.5710 - acc: 0.7249 - val_loss: 0.7160 - val_acc: 0.6000\n",
      "Epoch 27/30\n",
      "50/50 [==============================] - 19s - loss: 0.6734 - acc: 0.6750 - val_loss: 0.6621 - val_acc: 0.5900\n",
      "Epoch 28/30\n",
      "50/50 [==============================] - 19s - loss: 0.6094 - acc: 0.6449 - val_loss: 0.5855 - val_acc: 0.6700\n",
      "Epoch 29/30\n",
      "50/50 [==============================] - 19s - loss: 0.6386 - acc: 0.6600 - val_loss: 0.6608 - val_acc: 0.7000\n",
      "Epoch 30/30\n",
      "50/50 [==============================] - 19s - loss: 0.6304 - acc: 0.6902 - val_loss: 0.6950 - val_acc: 0.5400\n",
      "dict_keys(['val_loss', 'val_acc', 'loss', 'acc'])\n"
     ]
    }
   ],
   "source": [
    "#Fitting the model using a batch generator\n",
    "\n",
    "history = model.fit_generator(train_generator, steps_per_epoch=50, epochs = 30, \n",
    "                              validation_data= validation_generator, validation_steps=25)\n",
    "\n",
    "\n",
    "history_dict = history.history\n",
    "print(history_dict.keys())\n",
    "\n",
    "model.save('damage_undamaged_conv2_2.h5')"
   ]
  },
  {
   "cell_type": "code",
   "execution_count": 20,
   "metadata": {},
   "outputs": [
    {
     "data": {
      "image/png": "[encoded data removed]",
      "text/plain": [
       "<matplotlib.figure.Figure at 0x7f12ac04f550>"
      ]
     },
     "metadata": {},
     "output_type": "display_data"
    },
    {
     "data": {
      "image/png": "[encoded data removed]",
      "text/plain": [
       "<matplotlib.figure.Figure at 0x7f129c1939e8>"
      ]
     },
     "metadata": {},
     "output_type": "display_data"
    }
   ],
   "source": [
    "#Displaying curves of loss and accuracy during training \n",
    "\n",
    "import matplotlib.pyplot as plt\n",
    "acc = history.history['acc']\n",
    "val_acc = history.history['val_acc']\n",
    "loss = history.history['loss']\n",
    "val_loss = history.history['val_loss']\n",
    "\n",
    "epochs = range(len(acc))\n",
    "\n",
    "plt.plot(epochs, acc, 'bo')#dots\n",
    "plt.plot(epochs, val_acc, 'b')#line segments\n",
    "plt.title('Training and validation accuracy')\n",
    "plt.figure()\n",
    "\n",
    "plt.plot(epochs, loss, 'bo')\n",
    "plt.plot(epochs, val_loss, 'b')\n",
    "plt.title('Training and validation loss')\n",
    "plt.show()"
   ]
  },
  {
   "cell_type": "code",
   "execution_count": null,
   "metadata": {
    "collapsed": true
   },
   "outputs": [],
   "source": []
  },
  {
   "cell_type": "code",
   "execution_count": null,
   "metadata": {
    "collapsed": true
   },
   "outputs": [],
   "source": []
  },
  {
   "cell_type": "code",
   "execution_count": null,
   "metadata": {
    "collapsed": true
   },
   "outputs": [],
   "source": []
  }
 ],
 "metadata": {
  "kernelspec": {
   "display_name": "Python 3",
   "language": "python",
   "name": "python3"
  },
  "language_info": {
   "codemirror_mode": {
    "name": "ipython",
    "version": 3
   },
   "file_extension": ".py",
   "mimetype": "text/x-python",
   "name": "python",
   "nbconvert_exporter": "python",
   "pygments_lexer": "ipython3",
   "version": "3.6.1"
  }
 },
 "nbformat": 4,
 "nbformat_minor": 2
}
