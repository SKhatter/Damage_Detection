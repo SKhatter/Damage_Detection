{
 "cells": [
  {
   "cell_type": "markdown",
   "metadata": {},
   "source": [
    "## zca whitening reduces the accuracy scores. "
   ]
  },
  {
   "cell_type": "code",
   "execution_count": 1,
   "metadata": {
    "collapsed": true
   },
   "outputs": [],
   "source": [
    "import os, shutil"
   ]
  },
  {
   "cell_type": "code",
   "execution_count": 2,
   "metadata": {
    "collapsed": true
   },
   "outputs": [],
   "source": [
    "base_dir = '/home/skhatter/dataset13'\n",
    "train_dir = '/home/skhatter/dataset13/train'\n",
    "valid_dir = '/home/skhatter/dataset13/valid'\n",
    "\n",
    "train_dam_dir = '/home/skhatter/dataset13/train/damaged'\n",
    "train_undam_dir = '/home/skhatter/dataset13/train/undamaged'\n",
    "\n",
    "valid_dam_dir = '/home/skhatter/dataset13/valid/damaged'\n",
    "valid_undam_dir = '/home/skhatter/dataset13/valid/undamaged'"
   ]
  },
  {
   "cell_type": "code",
   "execution_count": 3,
   "metadata": {},
   "outputs": [
    {
     "name": "stdout",
     "output_type": "stream",
     "text": [
      "Total training damaged images 160\n",
      "Total training undamaged images 234\n",
      "Total validation damaged images 53\n",
      "Total validation undamaged images 80\n"
     ]
    }
   ],
   "source": [
    "print('Total training damaged images', len(os.listdir(train_dam_dir)))\n",
    "print('Total training undamaged images', len(os.listdir(train_undam_dir)))\n",
    "\n",
    "print('Total validation damaged images', len(os.listdir(valid_dam_dir)))\n",
    "print('Total validation undamaged images', len(os.listdir(valid_undam_dir)))"
   ]
  },
  {
   "cell_type": "code",
   "execution_count": 4,
   "metadata": {},
   "outputs": [
    {
     "name": "stderr",
     "output_type": "stream",
     "text": [
      "Using TensorFlow backend.\n"
     ]
    }
   ],
   "source": [
    "from keras import layers\n",
    "from keras import models"
   ]
  },
  {
   "cell_type": "code",
   "execution_count": 5,
   "metadata": {
    "scrolled": false
   },
   "outputs": [
    {
     "name": "stdout",
     "output_type": "stream",
     "text": [
      "_________________________________________________________________\n",
      "Layer (type)                 Output Shape              Param #   \n",
      "=================================================================\n",
      "conv2d_1 (Conv2D)            (None, 510, 510, 100)     2800      \n",
      "_________________________________________________________________\n",
      "max_pooling2d_1 (MaxPooling2 (None, 255, 255, 100)     0         \n",
      "_________________________________________________________________\n",
      "conv2d_2 (Conv2D)            (None, 253, 253, 200)     180200    \n",
      "_________________________________________________________________\n",
      "max_pooling2d_2 (MaxPooling2 (None, 126, 126, 200)     0         \n",
      "_________________________________________________________________\n",
      "conv2d_3 (Conv2D)            (None, 124, 124, 200)     360200    \n",
      "_________________________________________________________________\n",
      "max_pooling2d_3 (MaxPooling2 (None, 62, 62, 200)       0         \n",
      "_________________________________________________________________\n",
      "conv2d_4 (Conv2D)            (None, 60, 60, 200)       360200    \n",
      "_________________________________________________________________\n",
      "max_pooling2d_4 (MaxPooling2 (None, 30, 30, 200)       0         \n",
      "_________________________________________________________________\n",
      "flatten_1 (Flatten)          (None, 180000)            0         \n",
      "_________________________________________________________________\n",
      "dropout_1 (Dropout)          (None, 180000)            0         \n",
      "_________________________________________________________________\n",
      "dense_1 (Dense)              (None, 512)               92160512  \n",
      "_________________________________________________________________\n",
      "dense_2 (Dense)              (None, 1)                 513       \n",
      "=================================================================\n",
      "Total params: 93,064,425\n",
      "Trainable params: 93,064,425\n",
      "Non-trainable params: 0\n",
      "_________________________________________________________________\n"
     ]
    }
   ],
   "source": [
    "model = models.Sequential()\n",
    "model.add(layers.Conv2D(100, (3,3), activation ='relu', input_shape = (512, 512, 3)))\n",
    "model.add(layers.MaxPooling2D((2,2)))\n",
    "model.add(layers.Conv2D(200, (3,3), activation ='relu'))\n",
    "model.add(layers.MaxPooling2D((2,2)))\n",
    "model.add(layers.Conv2D(200, (3,3), activation='relu'))\n",
    "model.add(layers.MaxPooling2D((2,2)))\n",
    "model.add(layers.Conv2D(200, (3,3), activation='relu'))\n",
    "model.add(layers.MaxPooling2D((2,2)))\n",
    "model.add(layers.Flatten())\n",
    "model.add(layers.Dropout(0.5))\n",
    "model.add(layers.Dense(512, activation = 'relu'))\n",
    "model.add(layers.Dense(1, activation = 'sigmoid'))\n",
    "model.summary()"
   ]
  },
  {
   "cell_type": "code",
   "execution_count": 6,
   "metadata": {
    "collapsed": true
   },
   "outputs": [],
   "source": [
    "from keras import optimizers"
   ]
  },
  {
   "cell_type": "code",
   "execution_count": 7,
   "metadata": {
    "collapsed": true
   },
   "outputs": [],
   "source": [
    "model.compile(loss = 'binary_crossentropy', optimizer = optimizers.RMSprop(lr=1e-4), metrics=['acc'])"
   ]
  },
  {
   "cell_type": "code",
   "execution_count": 8,
   "metadata": {},
   "outputs": [
    {
     "name": "stdout",
     "output_type": "stream",
     "text": [
      "Found 393 images belonging to 2 classes.\n",
      "Found 132 images belonging to 2 classes.\n",
      "train data batch:  (5, 512, 512, 3)\n",
      "train label batch:  (5,)\n",
      "validation data batch:  (5, 512, 512, 3)\n",
      "validation label batch (5,)\n"
     ]
    },
    {
     "name": "stderr",
     "output_type": "stream",
     "text": [
      "/home/ishivvers/anaconda3/lib/python3.6/site-packages/Keras-2.0.6-py3.6.egg/keras/preprocessing/image.py:524: UserWarning: This ImageDataGenerator specifies `zca_whitening`, but it hasn'tbeen fit on any training data. Fit it first by calling `.fit(numpy_data)`.\n"
     ]
    }
   ],
   "source": [
    "from keras.preprocessing.image import ImageDataGenerator\n",
    "\n",
    "train_datagen = ImageDataGenerator(rescale = 1./255, rotation_range=40,width_shift_range=0.2,\n",
    "                                  height_shift_range=0.2,\n",
    "                                  shear_range=0.2,\n",
    "                                  zoom_range=0.2,\n",
    "                                  horizontal_flip=True, \n",
    "                                  zca_whitening=True)\n",
    "test_datagen= ImageDataGenerator(rescale = 1./255)\n",
    "\n",
    "train_generator = train_datagen.flow_from_directory(train_dir, target_size=(512, 512), batch_size =5,\n",
    "                                                    class_mode='binary')\n",
    "validation_generator = test_datagen.flow_from_directory(valid_dir, target_size = (512, 512),\n",
    "                                                        batch_size = 5, class_mode='binary')\n",
    "\n",
    "\n",
    "#displaying the shapes of batch of data and labels\n",
    "for data_batch, labels_batch in train_generator:\n",
    "    print('train data batch: ', data_batch.shape)\n",
    "    print('train label batch: ', labels_batch.shape)\n",
    "    break\n",
    "    \n",
    "for data_batch, labels_batch in validation_generator:\n",
    "    print('validation data batch: ', data_batch.shape)\n",
    "    print('validation label batch', labels_batch.shape)\n",
    "    break"
   ]
  },
  {
   "cell_type": "code",
   "execution_count": 9,
   "metadata": {
    "scrolled": false
   },
   "outputs": [
    {
     "name": "stdout",
     "output_type": "stream",
     "text": [
      "Epoch 1/30\n"
     ]
    },
    {
     "name": "stderr",
     "output_type": "stream",
     "text": [
      "/home/ishivvers/anaconda3/lib/python3.6/site-packages/Keras-2.0.6-py3.6.egg/keras/preprocessing/image.py:524: UserWarning: This ImageDataGenerator specifies `zca_whitening`, but it hasn'tbeen fit on any training data. Fit it first by calling `.fit(numpy_data)`.\n"
     ]
    },
    {
     "name": "stdout",
     "output_type": "stream",
     "text": [
      "50/50 [==============================] - 15s - loss: 0.7318 - acc: 0.5560 - val_loss: 0.6747 - val_acc: 0.6080\n",
      "Epoch 2/30\n",
      "50/50 [==============================] - 14s - loss: 0.6808 - acc: 0.5761 - val_loss: 0.6901 - val_acc: 0.5574\n",
      "Epoch 3/30\n",
      "50/50 [==============================] - 13s - loss: 0.6842 - acc: 0.6080 - val_loss: 0.6837 - val_acc: 0.5738\n",
      "Epoch 4/30\n",
      "50/50 [==============================] - 13s - loss: 0.6936 - acc: 0.5799 - val_loss: 0.6746 - val_acc: 0.6066\n",
      "Epoch 5/30\n",
      "50/50 [==============================] - 13s - loss: 0.6878 - acc: 0.5919 - val_loss: 0.7424 - val_acc: 0.5738\n",
      "Epoch 6/30\n",
      "50/50 [==============================] - 14s - loss: 0.6845 - acc: 0.5960 - val_loss: 0.6623 - val_acc: 0.6393\n",
      "Epoch 7/30\n",
      "50/50 [==============================] - 14s - loss: 0.6622 - acc: 0.6239 - val_loss: 0.6828 - val_acc: 0.5656\n",
      "Epoch 8/30\n",
      "50/50 [==============================] - 14s - loss: 0.6901 - acc: 0.5973 - val_loss: 0.8247 - val_acc: 0.5902\n",
      "Epoch 9/30\n",
      "50/50 [==============================] - 14s - loss: 0.6961 - acc: 0.6040 - val_loss: 0.6382 - val_acc: 0.7049\n",
      "Epoch 10/30\n",
      "50/50 [==============================] - 14s - loss: 0.6799 - acc: 0.6359 - val_loss: 0.7061 - val_acc: 0.4836\n",
      "Epoch 11/30\n",
      "50/50 [==============================] - 14s - loss: 0.6752 - acc: 0.5920 - val_loss: 0.6681 - val_acc: 0.5680\n",
      "Epoch 12/30\n",
      "50/50 [==============================] - 14s - loss: 0.6869 - acc: 0.5667 - val_loss: 0.6521 - val_acc: 0.6311\n",
      "Epoch 13/30\n",
      "50/50 [==============================] - 14s - loss: 0.6601 - acc: 0.6347 - val_loss: 0.6305 - val_acc: 0.6885\n",
      "Epoch 14/30\n",
      "50/50 [==============================] - 14s - loss: 0.6452 - acc: 0.6720 - val_loss: 0.7989 - val_acc: 0.5164\n",
      "Epoch 15/30\n",
      "50/50 [==============================] - 14s - loss: 0.6530 - acc: 0.6227 - val_loss: 0.7709 - val_acc: 0.5410\n",
      "Epoch 16/30\n",
      "50/50 [==============================] - 14s - loss: 0.6264 - acc: 0.6813 - val_loss: 0.6775 - val_acc: 0.5902\n",
      "Epoch 17/30\n",
      "50/50 [==============================] - 14s - loss: 0.6023 - acc: 0.6960 - val_loss: 0.6292 - val_acc: 0.6311\n",
      "Epoch 18/30\n",
      "50/50 [==============================] - 14s - loss: 0.6277 - acc: 0.6239 - val_loss: 0.6403 - val_acc: 0.6639\n",
      "Epoch 19/30\n",
      "50/50 [==============================] - 14s - loss: 0.6570 - acc: 0.6359 - val_loss: 0.6349 - val_acc: 0.6230\n",
      "Epoch 20/30\n",
      "50/50 [==============================] - 14s - loss: 0.6472 - acc: 0.6760 - val_loss: 0.6549 - val_acc: 0.5902\n",
      "Epoch 21/30\n",
      "50/50 [==============================] - 14s - loss: 0.6011 - acc: 0.6827 - val_loss: 0.7764 - val_acc: 0.5902\n",
      "Epoch 22/30\n",
      "50/50 [==============================] - 14s - loss: 0.6565 - acc: 0.6960 - val_loss: 0.5694 - val_acc: 0.6885\n",
      "Epoch 23/30\n",
      "50/50 [==============================] - 14s - loss: 0.5470 - acc: 0.7400 - val_loss: 0.8907 - val_acc: 0.5000\n",
      "Epoch 24/30\n",
      "50/50 [==============================] - 14s - loss: 0.6878 - acc: 0.5947 - val_loss: 0.6531 - val_acc: 0.6311\n",
      "Epoch 25/30\n",
      "50/50 [==============================] - 14s - loss: 0.6018 - acc: 0.7160 - val_loss: 0.5780 - val_acc: 0.6885\n",
      "Epoch 26/30\n",
      "50/50 [==============================] - 14s - loss: 0.6243 - acc: 0.6867 - val_loss: 0.6962 - val_acc: 0.5738\n",
      "Epoch 27/30\n",
      "50/50 [==============================] - 14s - loss: 0.5756 - acc: 0.7493 - val_loss: 0.7146 - val_acc: 0.6475\n",
      "Epoch 28/30\n",
      "50/50 [==============================] - 14s - loss: 0.6473 - acc: 0.6680 - val_loss: 0.6576 - val_acc: 0.6160\n",
      "Epoch 29/30\n",
      "50/50 [==============================] - 14s - loss: 0.5776 - acc: 0.7253 - val_loss: 0.7974 - val_acc: 0.5410\n",
      "Epoch 30/30\n",
      "50/50 [==============================] - 14s - loss: 0.6199 - acc: 0.7013 - val_loss: 0.6121 - val_acc: 0.7213\n",
      "dict_keys(['val_loss', 'val_acc', 'loss', 'acc'])\n"
     ]
    }
   ],
   "source": [
    "#Fitting the model using a batch generator\n",
    "\n",
    "history = model.fit_generator(train_generator, steps_per_epoch=50, epochs = 30, \n",
    "                              validation_data= validation_generator, validation_steps=25)\n",
    "\n",
    "\n",
    "history_dict = history.history\n",
    "print(history_dict.keys())\n",
    "\n",
    "model.save('convnet1.h5')"
   ]
  },
  {
   "cell_type": "code",
   "execution_count": 10,
   "metadata": {},
   "outputs": [
    {
     "data": {
      "image/png": "[encoded data removed]",
      "text/plain": [
       "<matplotlib.figure.Figure at 0x7fd0a4116dd8>"
      ]
     },
     "metadata": {},
     "output_type": "display_data"
    },
    {
     "data": {
      "image/png": "[encoded data removed]",
      "text/plain": [
       "<matplotlib.figure.Figure at 0x7fd06c70a2e8>"
      ]
     },
     "metadata": {},
     "output_type": "display_data"
    }
   ],
   "source": [
    "#Displaying curves of loss and accuracy during training \n",
    "\n",
    "import matplotlib.pyplot as plt\n",
    "acc = history.history['acc']\n",
    "val_acc = history.history['val_acc']\n",
    "loss = history.history['loss']\n",
    "val_loss = history.history['val_loss']\n",
    "\n",
    "epochs = range(len(acc))\n",
    "\n",
    "plt.plot(epochs, acc, 'bo')#dots\n",
    "plt.plot(epochs, val_acc, 'b')#line segments\n",
    "plt.title('Training and validation accuracy')\n",
    "plt.figure()\n",
    "\n",
    "plt.plot(epochs, loss, 'bo')\n",
    "plt.plot(epochs, val_loss, 'b')\n",
    "plt.title('Training and validation loss')\n",
    "plt.show()"
   ]
  },
  {
   "cell_type": "code",
   "execution_count": 11,
   "metadata": {},
   "outputs": [
    {
     "name": "stdout",
     "output_type": "stream",
     "text": [
      "Epoch 1/30\n"
     ]
    },
    {
     "name": "stderr",
     "output_type": "stream",
     "text": [
      "/home/ishivvers/anaconda3/lib/python3.6/site-packages/Keras-2.0.6-py3.6.egg/keras/preprocessing/image.py:524: UserWarning: This ImageDataGenerator specifies `zca_whitening`, but it hasn'tbeen fit on any training data. Fit it first by calling `.fit(numpy_data)`.\n"
     ]
    },
    {
     "name": "stdout",
     "output_type": "stream",
     "text": [
      "50/50 [==============================] - 14s - loss: 0.5775 - acc: 0.7120 - val_loss: 0.7376 - val_acc: 0.6148\n",
      "Epoch 2/30\n",
      "50/50 [==============================] - 13s - loss: 0.5521 - acc: 0.7387 - val_loss: 0.8310 - val_acc: 0.5492\n",
      "Epoch 3/30\n",
      "50/50 [==============================] - 13s - loss: 0.5599 - acc: 0.7373 - val_loss: 0.5537 - val_acc: 0.7377\n",
      "Epoch 4/30\n",
      "50/50 [==============================] - 14s - loss: 0.5789 - acc: 0.7160 - val_loss: 0.5148 - val_acc: 0.7951\n",
      "Epoch 5/30\n",
      "50/50 [==============================] - 14s - loss: 0.5520 - acc: 0.7453 - val_loss: 0.6710 - val_acc: 0.6721\n",
      "Epoch 6/30\n",
      "50/50 [==============================] - 14s - loss: 0.5523 - acc: 0.7160 - val_loss: 0.7294 - val_acc: 0.6721\n",
      "Epoch 7/30\n",
      "50/50 [==============================] - 14s - loss: 0.5702 - acc: 0.7520 - val_loss: 0.5723 - val_acc: 0.7213\n",
      "Epoch 8/30\n",
      "50/50 [==============================] - 14s - loss: 0.5383 - acc: 0.7640 - val_loss: 0.7404 - val_acc: 0.6320\n",
      "Epoch 9/30\n",
      "50/50 [==============================] - 14s - loss: 0.5667 - acc: 0.7200 - val_loss: 0.6612 - val_acc: 0.6475\n",
      "Epoch 10/30\n",
      "50/50 [==============================] - 14s - loss: 0.5562 - acc: 0.7587 - val_loss: 0.5290 - val_acc: 0.7623\n",
      "Epoch 11/30\n",
      "50/50 [==============================] - 14s - loss: 0.5562 - acc: 0.7413 - val_loss: 0.5466 - val_acc: 0.7459\n",
      "Epoch 12/30\n",
      "50/50 [==============================] - 14s - loss: 0.5381 - acc: 0.7160 - val_loss: 0.5820 - val_acc: 0.7131\n",
      "Epoch 13/30\n",
      "50/50 [==============================] - 14s - loss: 0.5108 - acc: 0.7640 - val_loss: 0.7286 - val_acc: 0.7459\n",
      "Epoch 14/30\n",
      "50/50 [==============================] - 14s - loss: 0.4833 - acc: 0.7720 - val_loss: 0.8844 - val_acc: 0.6885\n",
      "Epoch 15/30\n",
      "50/50 [==============================] - 14s - loss: 0.5283 - acc: 0.7480 - val_loss: 0.5334 - val_acc: 0.7459\n",
      "Epoch 16/30\n",
      "50/50 [==============================] - 14s - loss: 0.4897 - acc: 0.7680 - val_loss: 0.6775 - val_acc: 0.6967\n",
      "Epoch 17/30\n",
      "50/50 [==============================] - 14s - loss: 0.5430 - acc: 0.7400 - val_loss: 0.6195 - val_acc: 0.7131\n",
      "Epoch 18/30\n",
      "50/50 [==============================] - 14s - loss: 0.5060 - acc: 0.7480 - val_loss: 0.8315 - val_acc: 0.6803\n",
      "Epoch 19/30\n",
      "50/50 [==============================] - 14s - loss: 0.4904 - acc: 0.7693 - val_loss: 0.6269 - val_acc: 0.7213\n",
      "Epoch 20/30\n",
      "50/50 [==============================] - 14s - loss: 0.4986 - acc: 0.7680 - val_loss: 0.6441 - val_acc: 0.6639\n",
      "Epoch 21/30\n",
      "50/50 [==============================] - 14s - loss: 0.5464 - acc: 0.7520 - val_loss: 0.6298 - val_acc: 0.7541\n",
      "Epoch 22/30\n",
      "50/50 [==============================] - 14s - loss: 0.4670 - acc: 0.7680 - val_loss: 1.0372 - val_acc: 0.6311\n",
      "Epoch 23/30\n",
      "50/50 [==============================] - 14s - loss: 0.5224 - acc: 0.7640 - val_loss: 0.5345 - val_acc: 0.7377\n",
      "Epoch 24/30\n",
      "50/50 [==============================] - 14s - loss: 0.4410 - acc: 0.8040 - val_loss: 0.5867 - val_acc: 0.7213\n",
      "Epoch 25/30\n",
      "50/50 [==============================] - 14s - loss: 0.5433 - acc: 0.7400 - val_loss: 0.5108 - val_acc: 0.7520\n",
      "Epoch 26/30\n",
      "50/50 [==============================] - 14s - loss: 0.5192 - acc: 0.7440 - val_loss: 0.7592 - val_acc: 0.5984\n",
      "Epoch 27/30\n",
      "50/50 [==============================] - 14s - loss: 0.4855 - acc: 0.7854 - val_loss: 0.6553 - val_acc: 0.6967\n",
      "Epoch 28/30\n",
      "50/50 [==============================] - 14s - loss: 0.4623 - acc: 0.8080 - val_loss: 0.8678 - val_acc: 0.7049\n",
      "Epoch 29/30\n",
      "50/50 [==============================] - 14s - loss: 0.5557 - acc: 0.7627 - val_loss: 0.4828 - val_acc: 0.7869\n",
      "Epoch 30/30\n",
      "50/50 [==============================] - 14s - loss: 0.4890 - acc: 0.7894 - val_loss: 1.2751 - val_acc: 0.6885\n",
      "dict_keys(['val_loss', 'val_acc', 'loss', 'acc'])\n"
     ]
    }
   ],
   "source": [
    "#Fitting the model using a batch generator\n",
    "\n",
    "history = model.fit_generator(train_generator, steps_per_epoch=50, epochs = 30, \n",
    "                              validation_data= validation_generator, validation_steps=25)\n",
    "\n",
    "\n",
    "history_dict = history.history\n",
    "print(history_dict.keys())\n",
    "\n",
    "model.save('damage_undamaged_conv2_2.h5')"
   ]
  },
  {
   "cell_type": "code",
   "execution_count": 12,
   "metadata": {},
   "outputs": [
    {
     "data": {
      "image/png": "[encoded data removed]",
      "text/plain": [
       "<matplotlib.figure.Figure at 0x7fd06c64bdd8>"
      ]
     },
     "metadata": {},
     "output_type": "display_data"
    },
    {
     "data": {
      "image/png": "[encoded data removed]",
      "text/plain": [
       "<matplotlib.figure.Figure at 0x7fd06c1746d8>"
      ]
     },
     "metadata": {},
     "output_type": "display_data"
    }
   ],
   "source": [
    "#Displaying curves of loss and accuracy during training \n",
    "\n",
    "import matplotlib.pyplot as plt\n",
    "acc = history.history['acc']\n",
    "val_acc = history.history['val_acc']\n",
    "loss = history.history['loss']\n",
    "val_loss = history.history['val_loss']\n",
    "\n",
    "epochs = range(len(acc))\n",
    "\n",
    "plt.plot(epochs, acc, 'bo')#dots\n",
    "plt.plot(epochs, val_acc, 'b')#line segments\n",
    "plt.title('Training and validation accuracy')\n",
    "plt.figure()\n",
    "\n",
    "plt.plot(epochs, loss, 'bo')\n",
    "plt.plot(epochs, val_loss, 'b')\n",
    "plt.title('Training and validation loss')\n",
    "plt.show()"
   ]
  },
  {
   "cell_type": "code",
   "execution_count": null,
   "metadata": {
    "collapsed": true
   },
   "outputs": [],
   "source": []
  },
  {
   "cell_type": "code",
   "execution_count": null,
   "metadata": {
    "collapsed": true
   },
   "outputs": [],
   "source": []
  },
  {
   "cell_type": "code",
   "execution_count": null,
   "metadata": {
    "collapsed": true
   },
   "outputs": [],
   "source": []
  }
 ],
 "metadata": {
  "kernelspec": {
   "display_name": "Python 3",
   "language": "python",
   "name": "python3"
  },
  "language_info": {
   "codemirror_mode": {
    "name": "ipython",
    "version": 3
   },
   "file_extension": ".py",
   "mimetype": "text/x-python",
   "name": "python",
   "nbconvert_exporter": "python",
   "pygments_lexer": "ipython3",
   "version": "3.6.1"
  }
 },
 "nbformat": 4,
 "nbformat_minor": 2
}
